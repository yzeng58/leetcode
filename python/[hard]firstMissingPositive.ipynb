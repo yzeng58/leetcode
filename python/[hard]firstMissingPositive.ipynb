{
 "cells": [
  {
   "cell_type": "code",
   "execution_count": 11,
   "metadata": {},
   "outputs": [],
   "source": [
    "from modules import *"
   ]
  },
  {
   "cell_type": "code",
   "execution_count": 20,
   "metadata": {},
   "outputs": [],
   "source": [
    "# my solution\n",
    "# Runtime: 28 ms, faster than 95.35% of Python3 online submissions for First Missing Positive.\n",
    "# Memory Usage: 14.3 MB, less than 28.59% of Python3 online submissions for First Missing Positive.\n",
    "\n",
    "class Solution:\n",
    "    def firstMissingPositive(self, nums: List[int]) -> int:\n",
    "        nums = sorted(list(set(nums)))\n",
    "        current = 1\n",
    "        for num in nums:\n",
    "            if num > 0:\n",
    "                if num != current:\n",
    "                    return current\n",
    "                else:\n",
    "                    current += 1\n",
    "        return current"
   ]
  },
  {
   "cell_type": "code",
   "execution_count": 21,
   "metadata": {},
   "outputs": [
    {
     "name": "stdout",
     "output_type": "stream",
     "text": [
      "[1, 2, 0] : 3\n",
      "[3, 4, -1, 1] : 2\n",
      "[7, 8, 9, 11, 12] : 1\n",
      "[0, 2, 2, 1, 1] : 3\n"
     ]
    }
   ],
   "source": [
    "inputs = [[[1,2,0]], [[3,4,-1,1]], [[7,8,9,11,12]], [[0,2,2,1,1]]]\n",
    "test(inputs, Solution().firstMissingPositive)"
   ]
  },
  {
   "cell_type": "code",
   "execution_count": null,
   "metadata": {},
   "outputs": [],
   "source": [
    "# Solution\n",
    "# Runtime: 32 ms, faster than 83.80% of Python3 online submissions for First Missing Positive.\n",
    "# Memory Usage: 14.4 MB, less than 8.79% of Python3 online submissions for First Missing Positive.\n",
    "\n",
    "class Solution:\n",
    "    def firstMissingPositive(self, nums):\n",
    "        \"\"\"\n",
    "        :type nums: List[int]\n",
    "        :rtype: int\n",
    "        \"\"\"\n",
    "        n = len(nums)\n",
    "        \n",
    "        # Base case.\n",
    "        if 1 not in nums:\n",
    "            return 1\n",
    "        \n",
    "        # nums = [1]\n",
    "        if n == 1:\n",
    "            return 2\n",
    "        \n",
    "        # Replace negative numbers, zeros,\n",
    "        # and numbers larger than n by 1s.\n",
    "        # After this convertion nums will contain \n",
    "        # only positive numbers.\n",
    "        for i in range(n):\n",
    "            if nums[i] <= 0 or nums[i] > n:\n",
    "                nums[i] = 1\n",
    "        \n",
    "        # Use index as a hash key and number sign as a presence detector.\n",
    "        # For example, if nums[1] is negative that means that number `1`\n",
    "        # is present in the array. \n",
    "        # If nums[2] is positive - number 2 is missing.\n",
    "        for i in range(n): \n",
    "            a = abs(nums[i])\n",
    "            # If you meet number a in the array - change the sign of a-th element.\n",
    "            # Be careful with duplicates : do it only once.\n",
    "            if a == n:\n",
    "                nums[0] = - abs(nums[0])\n",
    "            else:\n",
    "                nums[a] = - abs(nums[a])\n",
    "            \n",
    "        # Now the index of the first positive number \n",
    "        # is equal to first missing positive.\n",
    "        for i in range(1, n):\n",
    "            if nums[i] > 0:\n",
    "                return i\n",
    "        \n",
    "        if nums[0] > 0:\n",
    "            return n\n",
    "            \n",
    "        return n + 1"
   ]
  }
 ],
 "metadata": {
  "kernelspec": {
   "display_name": "Python 3",
   "language": "python",
   "name": "python3"
  },
  "language_info": {
   "codemirror_mode": {
    "name": "ipython",
    "version": 3
   },
   "file_extension": ".py",
   "mimetype": "text/x-python",
   "name": "python",
   "nbconvert_exporter": "python",
   "pygments_lexer": "ipython3",
   "version": "3.7.4"
  }
 },
 "nbformat": 4,
 "nbformat_minor": 2
}
