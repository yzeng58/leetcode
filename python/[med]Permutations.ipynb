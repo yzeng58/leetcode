{
 "cells": [
  {
   "cell_type": "code",
   "execution_count": 1,
   "metadata": {},
   "outputs": [],
   "source": [
    "from modules import *"
   ]
  },
  {
   "cell_type": "code",
   "execution_count": 2,
   "metadata": {},
   "outputs": [],
   "source": [
    "# my solution\n",
    "# Runtime: 36 ms, faster than 86.99% of Python3 online submissions for Permutations.\n",
    "# Memory Usage: 14.2 MB, less than 74.55% of Python3 online submissions for Permutations.\n",
    "\n",
    "class Solution:\n",
    "    def permute(self, nums: List[int]) -> List[List[int]]:\n",
    "        if len(nums) <= 1:\n",
    "            return [nums]\n",
    "        \n",
    "        permutations = []\n",
    "        \n",
    "        for i in range(len(nums)):\n",
    "            if i == 0:\n",
    "                subnums = nums[1:]\n",
    "            elif i == len(nums) - 1:\n",
    "                subnums = nums[:-1]\n",
    "            else:\n",
    "                subnums = nums[:i] + nums[i+1:]\n",
    "                \n",
    "            sub_permutations = self.permute(subnums)\n",
    "            for sub_permutation in sub_permutations:\n",
    "                permutations.append([nums[i]] + sub_permutation)\n",
    "        return permutations"
   ]
  },
  {
   "cell_type": "code",
   "execution_count": 3,
   "metadata": {},
   "outputs": [
    {
     "name": "stdout",
     "output_type": "stream",
     "text": [
      "[1, 2, 3] : [[1, 2, 3], [1, 3, 2], [2, 1, 3], [2, 3, 1], [3, 1, 2], [3, 2, 1]]\n",
      "[0, 1] : [[0, 1], [1, 0]]\n",
      "[1] : [[1]]\n",
      "Time elapsed: 0.00023 seconds\n"
     ]
    }
   ],
   "source": [
    "inputs = [[[1,2,3]], [[0,1]], [[1]]]\n",
    "test(inputs, Solution().permute)"
   ]
  },
  {
   "cell_type": "code",
   "execution_count": null,
   "metadata": {},
   "outputs": [],
   "source": []
  }
 ],
 "metadata": {
  "kernelspec": {
   "display_name": "Python 3",
   "language": "python",
   "name": "python3"
  },
  "language_info": {
   "codemirror_mode": {
    "name": "ipython",
    "version": 3
   },
   "file_extension": ".py",
   "mimetype": "text/x-python",
   "name": "python",
   "nbconvert_exporter": "python",
   "pygments_lexer": "ipython3",
   "version": "3.7.4"
  }
 },
 "nbformat": 4,
 "nbformat_minor": 2
}
