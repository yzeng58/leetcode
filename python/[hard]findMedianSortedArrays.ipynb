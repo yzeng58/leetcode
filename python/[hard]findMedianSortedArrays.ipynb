{
 "cells": [
  {
   "cell_type": "code",
   "execution_count": 26,
   "metadata": {},
   "outputs": [],
   "source": [
    "class Solution(object):\n",
    "    def median(self, nums):\n",
    "        if len(nums) % 2 == 0:\n",
    "            return (nums[len(nums)//2] + nums[len(nums)//2 - 1])/2\n",
    "        else:\n",
    "            return nums[len(nums)//2]\n",
    "    \n",
    "    def findMedianSortedArrays(self, nums1, nums2):\n",
    "        \"\"\"\n",
    "        :type nums1: List[int]\n",
    "        :type nums2: List[int]\n",
    "        :rtype: float\n",
    "        \"\"\"\n",
    "        leftPos, rightPos = 0, 0\n",
    "        sortedArray = []\n",
    "        while leftPos < len(nums1) or rightPos < len(nums2):   \n",
    "            if leftPos == len(nums1):\n",
    "                sortedArray.append(nums2[rightPos])\n",
    "                rightPos += 1\n",
    "            elif rightPos == len(nums2) or nums1[leftPos] < nums2[rightPos]:\n",
    "                sortedArray.append(nums1[leftPos])\n",
    "                leftPos += 1\n",
    "            else:\n",
    "                sortedArray.append(nums2[rightPos])\n",
    "                rightPos += 1\n",
    "                \n",
    "        return self.median(sortedArray)"
   ]
  },
  {
   "cell_type": "code",
   "execution_count": 27,
   "metadata": {},
   "outputs": [
    {
     "data": {
      "text/plain": [
       "2.5"
      ]
     },
     "execution_count": 27,
     "metadata": {},
     "output_type": "execute_result"
    }
   ],
   "source": [
    "sol = Solution()\n",
    "sol.findMedianSortedArrays([1,2], [3,4])"
   ]
  },
  {
   "cell_type": "code",
   "execution_count": null,
   "metadata": {},
   "outputs": [],
   "source": []
  }
 ],
 "metadata": {
  "kernelspec": {
   "display_name": "Python 3",
   "language": "python",
   "name": "python3"
  },
  "language_info": {
   "codemirror_mode": {
    "name": "ipython",
    "version": 3
   },
   "file_extension": ".py",
   "mimetype": "text/x-python",
   "name": "python",
   "nbconvert_exporter": "python",
   "pygments_lexer": "ipython3",
   "version": "3.7.4"
  }
 },
 "nbformat": 4,
 "nbformat_minor": 2
}
