{
 "cells": [
  {
   "cell_type": "code",
   "execution_count": 32,
   "metadata": {},
   "outputs": [],
   "source": [
    "from typing import List\n",
    "from modules import test\n",
    "from copy import deepcopy"
   ]
  },
  {
   "cell_type": "code",
   "execution_count": 61,
   "metadata": {},
   "outputs": [],
   "source": [
    "# my solution: \n",
    "# Runtime: 224 ms, faster than 10.10% of Python3 online submissions for Combination Sum.\n",
    "# Memory Usage: 14.4 MB, less than 14.35% of Python3 online submissions for Combination Sum.\n",
    "\n",
    "class Solution:\n",
    "    def combinationSum(self, candidates: List[int], target: int) -> List[List[int]]:\n",
    "        candidates = list(filter(lambda x: x <= target, candidates))\n",
    "        candidates.sort()\n",
    "        combinations = []\n",
    "        \n",
    "        if len(candidates) == 0 or target < candidates[0]:\n",
    "            return []\n",
    "        else:\n",
    "            for num in candidates:\n",
    "                next_candidates = deepcopy(candidates)[candidates.index(num):]\n",
    "                if target == num:\n",
    "                    combinations.append([num])\n",
    "                rest = self.combinationSum(next_candidates, target-num)\n",
    "                if rest != []:\n",
    "                    for subcomb in rest:\n",
    "                        combinations.append([num] + subcomb)\n",
    "        return combinations"
   ]
  },
  {
   "cell_type": "code",
   "execution_count": 63,
   "metadata": {},
   "outputs": [
    {
     "name": "stdout",
     "output_type": "stream",
     "text": [
      "[2, 3, 6, 7] 7 : [[2, 2, 3], [7]]\n",
      "[2, 3, 5] 8 : [[2, 2, 2, 2], [2, 3, 3], [3, 5]]\n",
      "[2] 1 : []\n",
      "[1] 1 : [[1]]\n",
      "[1] 2 : [[1, 1]]\n",
      "[2] 1 : []\n",
      "[1, 2] 3 : [[1, 1, 1], [1, 2]]\n"
     ]
    }
   ],
   "source": [
    "inputs = [[[2,3,6,7], 7], [[2,3,5], 8], [[2], 1], [[1], 1], [[1], 2], [[2], 1], [[1,2], 3]]\n",
    "test(inputs, Solution().combinationSum)"
   ]
  },
  {
   "cell_type": "code",
   "execution_count": null,
   "metadata": {},
   "outputs": [],
   "source": [
    "# Solution\n",
    "# Runtime: 80 ms, faster than 63.52% of Python3 online submissions for Combination Sum.\n",
    "# Memory Usage: 14.4 MB, less than 14.35% of Python3 online submissions for Combination Sum.\n",
    "    \n",
    "class Solution:\n",
    "    def combinationSum(self, candidates: List[int], target: int) -> List[List[int]]:\n",
    "\n",
    "        results = []\n",
    "\n",
    "        def backtrack(remain, comb, start):\n",
    "            if remain == 0:\n",
    "                # make a deep copy of the current combination\n",
    "                results.append(list(comb))\n",
    "                return\n",
    "            elif remain < 0:\n",
    "                # exceed the scope, stop exploration.\n",
    "                return\n",
    "\n",
    "            for i in range(start, len(candidates)):\n",
    "                # add the number into the combination\n",
    "                comb.append(candidates[i])\n",
    "                # give the current number another chance, rather than moving on\n",
    "                backtrack(remain - candidates[i], comb, i)\n",
    "                # backtrack, remove the number from the combination\n",
    "                comb.pop()\n",
    "\n",
    "        backtrack(target, [], 0)\n",
    "\n",
    "        return results"
   ]
  }
 ],
 "metadata": {
  "kernelspec": {
   "display_name": "Python 3",
   "language": "python",
   "name": "python3"
  },
  "language_info": {
   "codemirror_mode": {
    "name": "ipython",
    "version": 3
   },
   "file_extension": ".py",
   "mimetype": "text/x-python",
   "name": "python",
   "nbconvert_exporter": "python",
   "pygments_lexer": "ipython3",
   "version": "3.7.4"
  }
 },
 "nbformat": 4,
 "nbformat_minor": 2
}
