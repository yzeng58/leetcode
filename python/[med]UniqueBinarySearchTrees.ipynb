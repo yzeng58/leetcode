{
 "cells": [
  {
   "cell_type": "markdown",
   "metadata": {},
   "source": [
    "https://leetcode.com/problems/unique-binary-search-trees/\n",
    "\n",
    "Given n, how many structurally unique BST's (binary search trees) that store values 1 ... n?"
   ]
  },
  {
   "cell_type": "code",
   "execution_count": 1,
   "metadata": {},
   "outputs": [],
   "source": [
    "from modules import *"
   ]
  },
  {
   "cell_type": "code",
   "execution_count": 2,
   "metadata": {},
   "outputs": [],
   "source": [
    "# my solution\n",
    "# Runtime: 32 ms, faster than 47.27% of Python3 online submissions for Unique Binary Search Trees.\n",
    "# Memory Usage: 14.1 MB, less than 58.51% of Python3 online submissions for Unique Binary Search Trees.\n",
    "\n",
    "class Solution:\n",
    "    def numTrees(self, n: int) -> int:\n",
    "        if n == 3:\n",
    "            return 5\n",
    "        elif n in [0,1,2]:\n",
    "            return n\n",
    "        \n",
    "        d = [0,1,2,5]\n",
    "        \n",
    "        for i in range(4, n+1):\n",
    "            d.append(0)\n",
    "            for j in range(1,i+1):\n",
    "                d[i] += max(d[j-1],1)*max(d[i-j],1)\n",
    "                \n",
    "        return d[-1]"
   ]
  },
  {
   "cell_type": "code",
   "execution_count": 3,
   "metadata": {},
   "outputs": [
    {
     "name": "stdout",
     "output_type": "stream",
     "text": [
      "3 : 5\n",
      "4 : 14\n",
      "5 : 42\n",
      "8 : 1430\n",
      "19 : 1767263190\n",
      "Time elapsed: 0.00032 seconds\n"
     ]
    }
   ],
   "source": [
    "inputs = [[3], [4], [5], [8], [19]]\n",
    "test(inputs, Solution().numTrees)"
   ]
  }
 ],
 "metadata": {
  "kernelspec": {
   "display_name": "Python 3",
   "language": "python",
   "name": "python3"
  },
  "language_info": {
   "codemirror_mode": {
    "name": "ipython",
    "version": 3
   },
   "file_extension": ".py",
   "mimetype": "text/x-python",
   "name": "python",
   "nbconvert_exporter": "python",
   "pygments_lexer": "ipython3",
   "version": "3.7.4"
  }
 },
 "nbformat": 4,
 "nbformat_minor": 2
}
