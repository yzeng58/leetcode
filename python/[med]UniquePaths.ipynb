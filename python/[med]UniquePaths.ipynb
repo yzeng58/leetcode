{
 "cells": [
  {
   "cell_type": "markdown",
   "metadata": {},
   "source": [
    "https://leetcode.com/problems/unique-paths/"
   ]
  },
  {
   "cell_type": "code",
   "execution_count": 1,
   "metadata": {},
   "outputs": [],
   "source": [
    "from modules import *"
   ]
  },
  {
   "cell_type": "code",
   "execution_count": 2,
   "metadata": {},
   "outputs": [],
   "source": [
    "# my solution 1\n",
    "# Time limit exceeded\n",
    "\n",
    "class Solution:\n",
    "    def uniquePaths(self, m: int, n: int) -> int:\n",
    "        if m == 1:\n",
    "            return 1\n",
    "        if n == 1:\n",
    "            return 1\n",
    "        return self.uniquePaths(m-1, n) + self.uniquePaths(m, n-1)"
   ]
  },
  {
   "cell_type": "code",
   "execution_count": 3,
   "metadata": {},
   "outputs": [],
   "source": [
    "# my solution 2\n",
    "# Runtime: 228 ms, faster than 5.18% of Python3 online submissions for Unique Paths.\n",
    "# Memory Usage: 14.3 MB, less than 41.45% of Python3 online submissions for Unique Paths.\n",
    "\n",
    "class Solution:\n",
    "    def uniquePaths(self, m: int, n: int) -> int:\n",
    "        if m == 1:\n",
    "            return 1\n",
    "        if n == 1:\n",
    "            return 1\n",
    "        paths = 0\n",
    "        if m > n:\n",
    "            for i in range(1,n+1):\n",
    "                paths += self.uniquePaths(m//2, i) * self.uniquePaths(m-m//2, n-i+1)\n",
    "        else:\n",
    "            for i in range(1,m+1):\n",
    "                paths += self.uniquePaths(i, n//2) * self.uniquePaths(m-i+1, n-n//2)\n",
    "        return paths"
   ]
  },
  {
   "cell_type": "code",
   "execution_count": 4,
   "metadata": {},
   "outputs": [
    {
     "name": "stdout",
     "output_type": "stream",
     "text": [
      "3 7 : 28\n",
      "3 2 : 3\n",
      "23 12 : 193536720\n",
      "Time elapsed: 0.03288 seconds\n"
     ]
    }
   ],
   "source": [
    "inputs = [[3,7], [3,2], [23,12]]\n",
    "test(inputs, Solution().uniquePaths)"
   ]
  },
  {
   "cell_type": "code",
   "execution_count": 5,
   "metadata": {},
   "outputs": [],
   "source": [
    "# officiala solution: dynamic programming\n",
    "# Runtime: 32 ms, faster than 58.33% of Python3 online submissions for Unique Paths.\n",
    "# Memory Usage: 14.4 MB, less than 9.55% of Python3 online submissions for Unique Paths.\n",
    "    \n",
    "class Solution:\n",
    "    def uniquePaths(self, m: int, n: int) -> int:\n",
    "        d = [[1] * n for _ in range(m)]\n",
    "\n",
    "        for col in range(1, m):\n",
    "            for row in range(1, n):\n",
    "                d[col][row] = d[col - 1][row] + d[col][row - 1]\n",
    "\n",
    "        return d[m - 1][n - 1]"
   ]
  }
 ],
 "metadata": {
  "kernelspec": {
   "display_name": "Python 3",
   "language": "python",
   "name": "python3"
  },
  "language_info": {
   "codemirror_mode": {
    "name": "ipython",
    "version": 3
   },
   "file_extension": ".py",
   "mimetype": "text/x-python",
   "name": "python",
   "nbconvert_exporter": "python",
   "pygments_lexer": "ipython3",
   "version": "3.7.4"
  }
 },
 "nbformat": 4,
 "nbformat_minor": 2
}
