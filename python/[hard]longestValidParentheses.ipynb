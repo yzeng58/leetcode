{
 "cells": [
  {
   "cell_type": "code",
   "execution_count": 8,
   "metadata": {},
   "outputs": [],
   "source": [
    "# time limit exceed\n",
    "class Solution:\n",
    "    def isValid(self, s: str) -> bool:\n",
    "        parentheses = []\n",
    "        par_dict = {\")\": \"(\", \"}\": \"{\", \"]\": \"[\"}\n",
    "        current = None\n",
    "        \n",
    "        for char in s:\n",
    "            if char in par_dict.keys():\n",
    "                if current != par_dict[char]:\n",
    "                    return False\n",
    "                else:\n",
    "                    parentheses.pop()\n",
    "                    current = parentheses[-1] if len(parentheses) > 0 else None\n",
    "                    \n",
    "            elif char in par_dict.values():\n",
    "                parentheses.append(char)\n",
    "                current = char\n",
    "                \n",
    "        if current != None:\n",
    "            return False\n",
    "        \n",
    "        return True    \n",
    "    \n",
    "    def findHelper(self, s):\n",
    "        if len(s) <= 1:\n",
    "            return 0\n",
    "        if self.isValid(s):\n",
    "            return len(s)\n",
    "        else:\n",
    "            return max(self.findHelper(s[1:]), self.findHelper(s[:-1]))\n",
    "    \n",
    "    def longestValidParentheses(self, s: str) -> int:\n",
    "        return self.findHelper(s)"
   ]
  },
  {
   "cell_type": "code",
   "execution_count": 55,
   "metadata": {},
   "outputs": [],
   "source": [
    "# pass: runtime: 5.11%, memory: 21.09%\n",
    "class Solution:\n",
    "    def longestValidParentheses(self, s: str) -> int:\n",
    "        left_pos = []\n",
    "        good_left = []\n",
    "        max_length = 0\n",
    "        \n",
    "        for i in range(len(s)):\n",
    "            if s[i] == \")\":\n",
    "                if len(left_pos) > 0:\n",
    "                    good_left.append(left_pos.pop())\n",
    "                    good_left.sort()\n",
    "                    if len(left_pos) > 0:\n",
    "                        sort_index = sorted(good_left + [left_pos[-1]])\n",
    "                        start = sort_index[sort_index.index(left_pos[-1]) + 1]\n",
    "                    else:\n",
    "                        start = good_left[0]\n",
    "                    length = i - start + 1\n",
    "                    if length > max_length:\n",
    "                        max_length = length\n",
    "                else:\n",
    "                    good_left = []\n",
    "            else:\n",
    "                left_pos.append(i)\n",
    "\n",
    "        return max_length"
   ]
  },
  {
   "cell_type": "code",
   "execution_count": 68,
   "metadata": {},
   "outputs": [],
   "source": [
    "# best runtime: 46.07%, 80.52%\n",
    "\n",
    "class Solution:\n",
    "    def longestValidParentheses(self, s: str) -> int:\n",
    "        left, right, maxlength = 0,0,0\n",
    "        for i in range(len(s)):\n",
    "            if s[i] == \"(\":\n",
    "                left += 1\n",
    "            else:\n",
    "                right += 1\n",
    "            if left == right:\n",
    "                maxlength = max(maxlength, 2*right)\n",
    "            elif right > left:\n",
    "                left, right = 0, 0\n",
    "                \n",
    "        left, right = 0, 0\n",
    "        for i in range(len(s))[::-1]:\n",
    "            if s[i] == \"(\":\n",
    "                left += 1\n",
    "            else:\n",
    "                right += 1\n",
    "            if left == right:\n",
    "                maxlength = max(maxlength, 2*right)\n",
    "            elif right < left:\n",
    "                left, right = 0, 0\n",
    "                \n",
    "        return maxlength"
   ]
  },
  {
   "cell_type": "code",
   "execution_count": 69,
   "metadata": {},
   "outputs": [
    {
     "name": "stdout",
     "output_type": "stream",
     "text": [
      "(()(): 4\n",
      "((): 2\n",
      "()((): 2\n",
      "(()()): 6\n"
     ]
    }
   ],
   "source": [
    "sol = Solution()\n",
    "for s in [\"(()()\", \"(()\", \"()(()\",\"(()())\"]:\n",
    "    print(\"%s: %d\" % (s, sol.longestValidParentheses(s)))"
   ]
  }
 ],
 "metadata": {
  "kernelspec": {
   "display_name": "Python 3",
   "language": "python",
   "name": "python3"
  },
  "language_info": {
   "codemirror_mode": {
    "name": "ipython",
    "version": 3
   },
   "file_extension": ".py",
   "mimetype": "text/x-python",
   "name": "python",
   "nbconvert_exporter": "python",
   "pygments_lexer": "ipython3",
   "version": "3.7.4"
  }
 },
 "nbformat": 4,
 "nbformat_minor": 2
}
