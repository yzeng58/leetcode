{
 "cells": [
  {
   "cell_type": "code",
   "execution_count": 40,
   "metadata": {},
   "outputs": [],
   "source": [
    "class Solution:\n",
    "    def __init__(self):\n",
    "        self.roman_num = {\"I\": 1, \"V\":5, \"X\": 10, \"L\": 50, \"C\": 100, \"D\": 500, \"M\": 1000}\n",
    "        self.roman_list = list(self.roman_num.keys())\n",
    "        self.num_list = list(self.roman_num.values())\n",
    "        \n",
    "    def before(self, unit):\n",
    "        return [\"I\", \"X\", \"C\"][(self.roman_list.index(unit)-1) // 2]\n",
    "        \n",
    "    def carry(self, unit: str, num: int) -> str:\n",
    "        if num == 4:\n",
    "            return self.before(unit) + self.roman_list[roman_list.index(unit) + 1]\n",
    "        else:\n",
    "            return unit * num\n",
    "        \n",
    "    def intToRoman(self, num: int) -> str:\n",
    "        \"\"\"\n",
    "        I             1\n",
    "        V             5\n",
    "        X             10\n",
    "        L             50\n",
    "        C             100\n",
    "        D             500\n",
    "        M             1000\n",
    "        \"\"\"\n",
    "        return_str = \"M\" * (num // 1000)\n",
    "        num = num % 1000\n",
    "        \n",
    "        for i in range(len(self.num_list))[::-1]:\n",
    "            digit = num // self.num_list[i]\n",
    "            rest = num % self.num_list[i]\n",
    "            \n",
    "            if rest >= self.num_list[i+1] - self.roman_num[self.roman_list[i]]:\n",
    "                return_str += \n",
    "        \n",
    "        M = num // 1000\n",
    "        rest_M = num % 1000\n",
    "        M2str = self.carry(\"M\", M)\n",
    "        \n",
    "        D = rest_M // 500\n",
    "        rest_D = rest_M % 500\n",
    "        D2str = self.carry(\"D\", D)\n",
    "        \n",
    "        C = rest_D // 100\n",
    "        rest_C = rest_D % 100\n",
    "        C2str = self.carry(\"C\", C)\n",
    "        \n",
    "        L = rest_C // 50\n",
    "        rest_L = rest_C % 50\n",
    "        L2str = self.carry(\"L\", L)\n",
    "        \n",
    "        X = rest_L // 10\n",
    "        rest_X = rest_L % 10\n",
    "        X2str = self.carry(\"X\", X)\n",
    "        \n",
    "        V = rest_X // 5\n",
    "        V2str = self.carry(\"V\", V)\n",
    "        \n",
    "        I = rest_X % 5\n",
    "        I2str = self.carry(\"I\", I)\n",
    "        \n",
    "        return M2str + D2str + C2str + L2str + X2str + V2str + I2str"
   ]
  },
  {
   "cell_type": "code",
   "execution_count": 41,
   "metadata": {},
   "outputs": [],
   "source": [
    "sol = Solution()\n",
    "# sol.intToRoman(1994)"
   ]
  },
  {
   "cell_type": "code",
   "execution_count": 50,
   "metadata": {},
   "outputs": [
    {
     "data": {
      "text/plain": [
       "[9, 8, 7, 6, 5, 4, 3, 2, 1]"
      ]
     },
     "execution_count": 50,
     "metadata": {},
     "output_type": "execute_result"
    }
   ],
   "source": [
    "list(range(1,10)[::-1])"
   ]
  },
  {
   "cell_type": "code",
   "execution_count": null,
   "metadata": {},
   "outputs": [],
   "source": []
  }
 ],
 "metadata": {
  "kernelspec": {
   "display_name": "Python 3",
   "language": "python",
   "name": "python3"
  },
  "language_info": {
   "codemirror_mode": {
    "name": "ipython",
    "version": 3
   },
   "file_extension": ".py",
   "mimetype": "text/x-python",
   "name": "python",
   "nbconvert_exporter": "python",
   "pygments_lexer": "ipython3",
   "version": "3.7.4"
  }
 },
 "nbformat": 4,
 "nbformat_minor": 2
}
