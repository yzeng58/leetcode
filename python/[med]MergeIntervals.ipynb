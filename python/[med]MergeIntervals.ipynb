{
 "cells": [
  {
   "cell_type": "code",
   "execution_count": 1,
   "metadata": {},
   "outputs": [],
   "source": [
    "from modules import *"
   ]
  },
  {
   "cell_type": "code",
   "execution_count": 2,
   "metadata": {},
   "outputs": [],
   "source": [
    "# my solution\n",
    "# Runtime: 112 ms, faster than 6.48% of Python3 online submissions for Merge Intervals.\n",
    "# Memory Usage: 16.2 MB, less than 5.68% of Python3 online submissions for Merge Intervals.\n",
    "\n",
    "class Solution:\n",
    "    def overlap(self, interval1, interval2):\n",
    "        if interval1[1] < interval2[0] or interval1[0] > interval2[1]:\n",
    "            return False\n",
    "        return True\n",
    "    def merge(self, intervals: List[List[int]]) -> List[List[int]]:\n",
    "        i = 0\n",
    "        while i < len(intervals):\n",
    "            add = True\n",
    "            for j in range(i+1, len(intervals)):\n",
    "                if self.overlap(intervals[i], intervals[j]):\n",
    "                    intervals[i][0] = min(intervals[i][0], intervals[j][0])\n",
    "                    intervals[i][1] = max(intervals[i][1], intervals[j][1])\n",
    "                    intervals.pop(j)\n",
    "                    add = False\n",
    "                    break\n",
    "            if add:\n",
    "                i += 1\n",
    "        return intervals"
   ]
  },
  {
   "cell_type": "code",
   "execution_count": 3,
   "metadata": {},
   "outputs": [
    {
     "name": "stdout",
     "output_type": "stream",
     "text": [
      "[[1, 3], [2, 6], [8, 10], [15, 18]] : [[1, 6], [8, 10], [15, 18]]\n",
      "[[1, 4], [4, 5]] : [[1, 5]]\n",
      "Time elapsed: 0.00063 seconds\n"
     ]
    }
   ],
   "source": [
    "inputs = [[[[1,3],[2,6],[8,10],[15,18]]], [[[1,4],[4,5]]]]\n",
    "test(inputs, Solution().merge)"
   ]
  },
  {
   "cell_type": "code",
   "execution_count": 4,
   "metadata": {},
   "outputs": [],
   "source": [
    "# official solution\n",
    "# Runtime: 84 ms, faster than 70.54% of Python3 online submissions for Merge Intervals.\n",
    "# Memory Usage: 16.2 MB, less than 5.68% of Python3 online submissions for Merge Intervals.\n",
    "\n",
    "\n",
    "class Solution:\n",
    "    def merge(self, intervals: List[List[int]]) -> List[List[int]]:\n",
    "\n",
    "        intervals.sort(key=lambda x: x[0])\n",
    "\n",
    "        merged = []\n",
    "        for interval in intervals:\n",
    "            # if the list of merged intervals is empty or if the current\n",
    "            # interval does not overlap with the previous, simply append it.\n",
    "            if not merged or merged[-1][1] < interval[0]:\n",
    "                merged.append(interval)\n",
    "            else:\n",
    "            # otherwise, there is overlap, so we merge the current and previous\n",
    "            # intervals.\n",
    "                merged[-1][1] = max(merged[-1][1], interval[1])\n",
    "\n",
    "        return merged"
   ]
  }
 ],
 "metadata": {
  "kernelspec": {
   "display_name": "Python 3",
   "language": "python",
   "name": "python3"
  },
  "language_info": {
   "codemirror_mode": {
    "name": "ipython",
    "version": 3
   },
   "file_extension": ".py",
   "mimetype": "text/x-python",
   "name": "python",
   "nbconvert_exporter": "python",
   "pygments_lexer": "ipython3",
   "version": "3.7.4"
  }
 },
 "nbformat": 4,
 "nbformat_minor": 2
}
