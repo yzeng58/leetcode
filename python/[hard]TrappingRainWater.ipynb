{
 "cells": [
  {
   "cell_type": "code",
   "execution_count": 1,
   "metadata": {},
   "outputs": [],
   "source": [
    "from modules import *"
   ]
  },
  {
   "cell_type": "code",
   "execution_count": 2,
   "metadata": {},
   "outputs": [],
   "source": [
    "# my solution\n",
    "# Runtime: 48 ms, faster than 91.01% of Python3 online submissions for Trapping Rain Water.\n",
    "# Memory Usage: 14.8 MB, less than 50.72% of Python3 online submissions for Trapping Rain Water.\n",
    "\n",
    "class Solution:\n",
    "    def trap(self, height: List[int]) -> int:\n",
    "        if len(height) <= 2:\n",
    "            return 0\n",
    "        height = [0] + height\n",
    "\n",
    "        left, volumn = 0, 0\n",
    "        box_volumn = 0\n",
    "        for i in range(1, len(height)):\n",
    "            if height[i] >= height[left]:\n",
    "                volumn += height[left] * (i-left+1) - 2*height[left] - box_volumn\n",
    "                left = i\n",
    "                box_volumn = 0\n",
    "            else:\n",
    "                box_volumn += height[i]\n",
    "    \n",
    "        if left == i:\n",
    "            return volumn\n",
    "        \n",
    "        box_volumn = 0\n",
    "        height = height + [0]\n",
    "        right = len(height)-1\n",
    "        for i in range(left, len(height))[::-1]:\n",
    "            if height[i] >= height[right]:\n",
    "                volumn += height[right] * (right-i+1) - 2*height[right] - box_volumn\n",
    "                right = i\n",
    "                box_volumn = 0\n",
    "            else:\n",
    "                box_volumn += height[i]\n",
    "        return volumn"
   ]
  },
  {
   "cell_type": "code",
   "execution_count": 3,
   "metadata": {},
   "outputs": [
    {
     "name": "stdout",
     "output_type": "stream",
     "text": [
      "[0, 1, 0, 2, 1, 0, 1, 3, 2, 1, 2, 1] : 6\n",
      "[4, 2, 0, 3, 2, 5] : 9\n",
      "[4, 2, 3] : 1\n",
      "[4, 2, 3, 2, 0, 2] : 3\n"
     ]
    }
   ],
   "source": [
    "inputs = [[[0,1,0,2,1,0,1,3,2,1,2,1]], [[4,2,0,3,2,5]], [[4,2,3]], [[4,2,3,2,0,2]]]\n",
    "test(inputs, Solution().trap)"
   ]
  },
  {
   "cell_type": "code",
   "execution_count": 4,
   "metadata": {},
   "outputs": [],
   "source": [
    "# solution\n",
    "\n",
    "# Runtime: 44 ms, faster than 97.27% of Python3 online submissions for Trapping Rain Water.\n",
    "# Memory Usage: 14.9 MB, less than 27.97% of Python3 online submissions for Trapping Rain Water.\n",
    "\n",
    "class Solution:\n",
    "    def trap(self, height: List[int]) -> int:\n",
    "        left, ans, left_max, right_max, right = 0,0,0,0,len(height)-1\n",
    "        while left < right:\n",
    "            if height[left] < height[right]:\n",
    "                if height[left] >= left_max: \n",
    "                    left_max = height[left]\n",
    "                else: \n",
    "                    ans += (left_max - height[left])\n",
    "                left += 1\n",
    "            else:\n",
    "                if height[right] >= right_max:\n",
    "                    right_max = height[right]\n",
    "                else: \n",
    "                    ans += (right_max - height[right])\n",
    "                right -= 1\n",
    "        return ans"
   ]
  },
  {
   "cell_type": "code",
   "execution_count": null,
   "metadata": {},
   "outputs": [],
   "source": []
  }
 ],
 "metadata": {
  "kernelspec": {
   "display_name": "Python 3",
   "language": "python",
   "name": "python3"
  },
  "language_info": {
   "codemirror_mode": {
    "name": "ipython",
    "version": 3
   },
   "file_extension": ".py",
   "mimetype": "text/x-python",
   "name": "python",
   "nbconvert_exporter": "python",
   "pygments_lexer": "ipython3",
   "version": "3.7.4"
  }
 },
 "nbformat": 4,
 "nbformat_minor": 2
}
