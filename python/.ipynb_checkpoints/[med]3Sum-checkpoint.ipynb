{
 "cells": [
  {
   "cell_type": "code",
   "execution_count": 26,
   "metadata": {},
   "outputs": [],
   "source": [
    "from typing import List"
   ]
  },
  {
   "cell_type": "code",
   "execution_count": 69,
   "metadata": {},
   "outputs": [],
   "source": [
    "class Solution:\n",
    "    def threeSum(self, nums: List[int]) -> List[List[int]]:\n",
    "        positive_nums = list(filter(lambda x: x>0, nums))\n",
    "        negative_nums = list(filter(lambda x: x<0, nums))\n",
    "\n",
    "        pos_neg = [positive_nums, negative_nums]\n",
    "        zero_nums = list(filter(lambda x: x==0, nums))\n",
    "        \n",
    "        combinations = []\n",
    "        \n",
    "        for x in range(2):\n",
    "            if len(pos_neg[x]) > 1:\n",
    "                considered_comb = {}\n",
    "                for i in range(len(pos_neg[x])-1):\n",
    "                    num1 = pos_neg[x][i]\n",
    "                    if num1 in considered_comb:\n",
    "                        continue\n",
    "                    considered_comb[num1] = []\n",
    "                    \n",
    "                    for j in range(i+1, len(pos_neg[x])):\n",
    "                        num2 = pos_neg[x][j]\n",
    "                        if num2 in considered_comb[num1] or (num2 in considered_comb and num1 in considered_comb[num2]):\n",
    "                            continue\n",
    "                        considered_comb[num1].append(num2)\n",
    "                        \n",
    "                        subsum = num1 + num2\n",
    "                        if -subsum in pos_neg[1-x]:\n",
    "                            combinations.append([num1, num2, -subsum])\n",
    "                        elif -subsum in zero_nums:\n",
    "                            combinations.append([num1, num2, 0])\n",
    "                            \n",
    "        if len(zero_nums) > 0:\n",
    "            neg_abs = set(map(abs, set(negative_nums)))\n",
    "            pos_abs = set(positive_nums)\n",
    "            intersection = list(neg_abs.intersection(pos_abs))\n",
    "            for num in intersection:\n",
    "                combinations.append([num, -num, 0])\n",
    "                            \n",
    "        if len(zero_nums) >= 3:\n",
    "            combinations.append([0,0,0])\n",
    "        return combinations"
   ]
  },
  {
   "cell_type": "code",
   "execution_count": 70,
   "metadata": {},
   "outputs": [
    {
     "data": {
      "text/plain": [
       "43"
      ]
     },
     "execution_count": 70,
     "metadata": {},
     "output_type": "execute_result"
    }
   ],
   "source": [
    "sol = Solution()\n",
    "num = [34,55,79,28,46,33,2,48,31,-3,84,71,52,-3,93,15,21,-43,57,-6,86,56,94,74,83,-14,28,-66,46,-49,62,-11,43,65,77,12,47,61,26,1,13,29,55,-82,76,26,15,-29,36,-29,10,-70,69,17,49]\n",
    "len(sorted(sol.threeSum(num)))"
   ]
  },
  {
   "cell_type": "code",
   "execution_count": null,
   "metadata": {},
   "outputs": [],
   "source": [
    "# solution\n",
    "\n",
    "class Solution:\n",
    "    def threeSum(self, nums: List[int]) -> List[List[int]]:\n",
    "        res = []\n",
    "        nums.sort()\n",
    "        for i in range(len(nums)):\n",
    "            if nums[i] > 0:\n",
    "                break\n",
    "            if i == 0 or nums[i - 1] != nums[i]:\n",
    "                self.twoSumII(nums, i, res)\n",
    "        return res\n",
    "\n",
    "    def twoSumII(self, nums: List[int], i: int, res: List[List[int]]):\n",
    "        lo, hi = i + 1, len(nums) - 1\n",
    "        while (lo < hi):\n",
    "            sum = nums[i] + nums[lo] + nums[hi]\n",
    "            if sum < 0:\n",
    "                lo += 1\n",
    "            elif sum > 0:\n",
    "                hi -= 1\n",
    "            else:\n",
    "                res.append([nums[i], nums[lo], nums[hi]])\n",
    "                lo += 1\n",
    "                hi -= 1\n",
    "                while lo < hi and nums[lo] == nums[lo - 1]:\n",
    "                    lo += 1"
   ]
  }
 ],
 "metadata": {
  "kernelspec": {
   "display_name": "Python 3",
   "language": "python",
   "name": "python3"
  },
  "language_info": {
   "codemirror_mode": {
    "name": "ipython",
    "version": 3
   },
   "file_extension": ".py",
   "mimetype": "text/x-python",
   "name": "python",
   "nbconvert_exporter": "python",
   "pygments_lexer": "ipython3",
   "version": "3.7.4"
  }
 },
 "nbformat": 4,
 "nbformat_minor": 2
}
