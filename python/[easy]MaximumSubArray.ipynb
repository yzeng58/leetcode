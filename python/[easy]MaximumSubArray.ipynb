{
 "cells": [
  {
   "cell_type": "code",
   "execution_count": 1,
   "metadata": {},
   "outputs": [],
   "source": [
    "from modules import *"
   ]
  },
  {
   "cell_type": "code",
   "execution_count": 2,
   "metadata": {},
   "outputs": [],
   "source": [
    "# mySolution\n",
    "# Runtime: 72 ms, faster than 19.08% of Python3 online submissions for Maximum Subarray.\n",
    "# Memory Usage: 15 MB, less than 22.38% of Python3 online submissions for Maximum Subarray.\n",
    "\n",
    "class Solution:\n",
    "    def forwardTrack(self, nums: List[int]) -> int:\n",
    "        max_sum, max_current_sum, current_sum = [nums[0], 0, 1], [nums[0], 0], nums[0]\n",
    "        \n",
    "        for i in range(1, len(nums)):\n",
    "            current_sum += nums[i]\n",
    "            \n",
    "            if max_current_sum[0] < 0:\n",
    "                if nums[i] > max_current_sum[0]:\n",
    "                    max_current_sum = [nums[i], i]\n",
    "                    current_sum = nums[i]\n",
    "                \n",
    "            if current_sum >= max_current_sum[0]:\n",
    "                max_current_sum = [current_sum, i]\n",
    "                \n",
    "            if current_sum < min(max_current_sum[0], 0) or i == len(nums) - 1:\n",
    "                if max_current_sum[0] >= max_sum[0]:\n",
    "                    max_sum = max_current_sum + [i]\n",
    "                if i < len(nums) - 1: max_current_sum = [nums[i+1], i+1]\n",
    "                current_sum = 0\n",
    "                \n",
    "        return max_sum[0]\n",
    "    \n",
    "    def maxSubArray(self, nums: List[int]) -> int:\n",
    "        return max(self.forwardTrack(nums), self.forwardTrack(nums[::-1]))"
   ]
  },
  {
   "cell_type": "code",
   "execution_count": 3,
   "metadata": {},
   "outputs": [
    {
     "name": "stdout",
     "output_type": "stream",
     "text": [
      "[-2, 1, -3, 4, -1, 2, 1, -5, 4] : 6\n",
      "[1] : 1\n",
      "[0] : 0\n",
      "[-1] : -1\n",
      "[-2, 1] : 1\n",
      "[1, 2] : 3\n",
      "[-1, 0, -2] : 0\n",
      "[-2, -1, -2] : -1\n",
      "Time elapsed: 0.00042 seconds\n"
     ]
    }
   ],
   "source": [
    "inputs = [[[-2,1,-3,4,-1,2,1,-5,4]], [[1]], [[0]], [[-1]], [[-2,1]], [[1,2]], [[-1,0,-2]], [[-2,-1,-2]]]\n",
    "test(inputs, Solution().maxSubArray)"
   ]
  },
  {
   "cell_type": "code",
   "execution_count": 4,
   "metadata": {},
   "outputs": [],
   "source": [
    "# official solution\n",
    "# Runtime: 156 ms, faster than 5.00% of Python3 online submissions for Maximum Subarray.\n",
    "# Memory Usage: 14.8 MB, less than 70.97% of Python3 online submissions for Maximum Subarray.\n",
    "\n",
    "class Solution:\n",
    "    def cross_sum(self, nums, left, right, p): \n",
    "            if left == right:\n",
    "                return nums[left]\n",
    "\n",
    "            left_subsum = float('-inf')\n",
    "            curr_sum = 0\n",
    "            for i in range(p, left - 1, -1):\n",
    "                curr_sum += nums[i]\n",
    "                left_subsum = max(left_subsum, curr_sum)\n",
    "\n",
    "            right_subsum = float('-inf')\n",
    "            curr_sum = 0\n",
    "            for i in range(p + 1, right + 1):\n",
    "                curr_sum += nums[i]\n",
    "                right_subsum = max(right_subsum, curr_sum)\n",
    "\n",
    "            return left_subsum + right_subsum   \n",
    "    \n",
    "    def helper(self, nums, left, right): \n",
    "        if left == right:\n",
    "            return nums[left]\n",
    "        \n",
    "        p = (left + right) // 2\n",
    "            \n",
    "        left_sum = self.helper(nums, left, p)\n",
    "        right_sum = self.helper(nums, p + 1, right)\n",
    "        cross_sum = self.cross_sum(nums, left, right, p)\n",
    "        \n",
    "        return max(left_sum, right_sum, cross_sum)\n",
    "        \n",
    "    def maxSubArray(self, nums: 'List[int]') -> 'int':\n",
    "        return self.helper(nums, 0, len(nums) - 1)"
   ]
  }
 ],
 "metadata": {
  "kernelspec": {
   "display_name": "Python 3",
   "language": "python",
   "name": "python3"
  },
  "language_info": {
   "codemirror_mode": {
    "name": "ipython",
    "version": 3
   },
   "file_extension": ".py",
   "mimetype": "text/x-python",
   "name": "python",
   "nbconvert_exporter": "python",
   "pygments_lexer": "ipython3",
   "version": "3.7.4"
  }
 },
 "nbformat": 4,
 "nbformat_minor": 2
}
