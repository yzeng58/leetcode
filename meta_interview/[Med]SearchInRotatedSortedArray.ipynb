{
 "cells": [
  {
   "cell_type": "markdown",
   "id": "628c1400",
   "metadata": {},
   "source": [
    "https://leetcode.com/problems/search-in-rotated-sorted-array/"
   ]
  },
  {
   "cell_type": "markdown",
   "id": "3f4b1ae3",
   "metadata": {},
   "source": [
    "There is an integer array nums sorted in ascending order (with distinct values).\n",
    "\n",
    "Prior to being passed to your function, nums is possibly rotated at an unknown pivot index k (1 <= k < nums.length) such that the resulting array is [nums[k], nums[k+1], ..., nums[n-1], nums[0], nums[1], ..., nums[k-1]] (0-indexed). For example, [0,1,2,4,5,6,7] might be rotated at pivot index 3 and become [4,5,6,7,0,1,2].\n",
    "\n",
    "Given the array nums after the possible rotation and an integer target, return the index of target if it is in nums, or -1 if it is not in nums.\n",
    "\n",
    "You must write an algorithm with O(log n) runtime complexity."
   ]
  },
  {
   "cell_type": "code",
   "execution_count": 7,
   "id": "c9f43022",
   "metadata": {},
   "outputs": [],
   "source": [
    "import os\n",
    "os.chdir('../useful_modules')\n",
    "from modules import *"
   ]
  },
  {
   "cell_type": "code",
   "execution_count": 40,
   "id": "c7831a58",
   "metadata": {},
   "outputs": [],
   "source": [
    "# Runtime 95.42%\n",
    "# Memory: 51.52%\n",
    "\n",
    "class Solution:\n",
    "    def search(self, nums, target):\n",
    "        n = len(nums)\n",
    "        if n == 0:\n",
    "            return -1\n",
    "        elif n == 1:\n",
    "            if nums[0] == target:\n",
    "                return 0\n",
    "            else:\n",
    "                return -1\n",
    "        else:\n",
    "            if nums[0] < nums[n-1]:\n",
    "                return self.searchInSortedArray(nums, target)\n",
    "            else:\n",
    "                mid = n//2\n",
    "                res1, res2 = self.search(nums[:mid], target), self.search(nums[mid:], target)\n",
    "                if res1 == -1:\n",
    "                    if res2 == -1:\n",
    "                        return -1\n",
    "                    else:\n",
    "                        return mid + res2\n",
    "                else:\n",
    "                    return res1\n",
    "                \n",
    "                \n",
    "    def searchInSortedArray(self, nums, target):\n",
    "        n = len(nums)\n",
    "        a, b = 0, n-1\n",
    "        if (target < nums[0]) or (target > nums[n-1]):\n",
    "            return -1 \n",
    "        while b-a>1:\n",
    "            pivot_idx = (a+b)//2\n",
    "            if target == nums[pivot_idx]:\n",
    "                return pivot_idx\n",
    "            if target > nums[pivot_idx]:\n",
    "                a = pivot_idx\n",
    "            if target < nums[pivot_idx]:\n",
    "                b = pivot_idx\n",
    "        if target == nums[a]:\n",
    "            return a\n",
    "        elif target == nums[b]:\n",
    "            return b\n",
    "        else:\n",
    "            return -1 "
   ]
  },
  {
   "cell_type": "code",
   "execution_count": 34,
   "id": "b73ca6f6",
   "metadata": {},
   "outputs": [],
   "source": [
    "# Runtime 78.76%\n",
    "# Memory 88.26%\n",
    "\n",
    "class Solution:\n",
    "    def search(self, nums, target):\n",
    "        if target in nums:\n",
    "            return nums.index(target)\n",
    "        else:\n",
    "            return -1"
   ]
  },
  {
   "cell_type": "code",
   "execution_count": 41,
   "id": "c374b410",
   "metadata": {},
   "outputs": [],
   "source": [
    "inputs = [\n",
    "    [[4,5,6,7,0,1,2], 0],\n",
    "    [[4,5,6,7,0,1,2], 3],\n",
    "    [[1], 0],\n",
    "    [[1,3], 2],\n",
    "]"
   ]
  },
  {
   "cell_type": "code",
   "execution_count": 42,
   "id": "48e476f0",
   "metadata": {},
   "outputs": [
    {
     "name": "stdout",
     "output_type": "stream",
     "text": [
      "[4, 5, 6, 7, 0, 1, 2] 0 : 4\n",
      "[4, 5, 6, 7, 0, 1, 2] 3 : -1\n",
      "[1] 0 : -1\n",
      "[1, 3] 2 : -1\n",
      "Time elapsed: 0.00019 seconds\n"
     ]
    }
   ],
   "source": [
    "test(inputs, Solution().search)"
   ]
  },
  {
   "cell_type": "code",
   "execution_count": null,
   "id": "ea2cc3a8",
   "metadata": {},
   "outputs": [],
   "source": []
  },
  {
   "cell_type": "code",
   "execution_count": null,
   "id": "a41a36d8",
   "metadata": {},
   "outputs": [],
   "source": []
  }
 ],
 "metadata": {
  "kernelspec": {
   "display_name": "Python 3",
   "language": "python",
   "name": "python3"
  },
  "language_info": {
   "codemirror_mode": {
    "name": "ipython",
    "version": 3
   },
   "file_extension": ".py",
   "mimetype": "text/x-python",
   "name": "python",
   "nbconvert_exporter": "python",
   "pygments_lexer": "ipython3",
   "version": "3.8.8"
  }
 },
 "nbformat": 4,
 "nbformat_minor": 5
}
