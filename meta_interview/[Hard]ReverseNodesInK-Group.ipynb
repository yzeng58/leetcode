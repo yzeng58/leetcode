{
 "cells": [
  {
   "cell_type": "markdown",
   "id": "de935fdf",
   "metadata": {},
   "source": [
    "https://leetcode.com/problems/reverse-nodes-in-k-group/"
   ]
  },
  {
   "cell_type": "markdown",
   "id": "ac129d0d",
   "metadata": {},
   "source": [
    "Given the head of a linked list, reverse the nodes of the list k at a time, and return the modified list.\n",
    "\n",
    "k is a positive integer and is less than or equal to the length of the linked list. If the number of nodes is not a multiple of k then left-out nodes, in the end, should remain as it is.\n",
    "\n",
    "You may not alter the values in the list's nodes, only nodes themselves may be changed."
   ]
  },
  {
   "cell_type": "code",
   "execution_count": 1,
   "id": "45e998e9",
   "metadata": {},
   "outputs": [],
   "source": [
    "import os\n",
    "os.chdir('../useful_modules')\n",
    "from modules import *"
   ]
  },
  {
   "cell_type": "code",
   "execution_count": 6,
   "id": "28fcfc1d",
   "metadata": {},
   "outputs": [],
   "source": [
    "# Runtimr 61.1%\n",
    "# Memory: 82.36%\n",
    "\n",
    "# Definition for singly-linked list.\n",
    "# class ListNode:\n",
    "#     def __init__(self, val=0, next=None):\n",
    "#         self.val = val\n",
    "#         self.next = next\n",
    "class Solution:\n",
    "    def reverseKGroup(self, head, k):\n",
    "        head, current = self.reversek(head, k)\n",
    "        while current.next:\n",
    "            head_, current_ = self.reversek(current.next, k)\n",
    "            current.next = head_\n",
    "            current = current_\n",
    "        return head\n",
    "    \n",
    "    def reversek(self, head, k):\n",
    "        old = None\n",
    "        mid = None\n",
    "        new = head\n",
    "        i = 0\n",
    "        flag = False\n",
    "        while new:\n",
    "            i += 1\n",
    "            old = mid\n",
    "            mid = new\n",
    "            new = new.next\n",
    "            mid.next = old\n",
    "            if i == k:\n",
    "                flag = True\n",
    "                head.next = new\n",
    "                break\n",
    "                \n",
    "        if not flag:\n",
    "            return self.reversek(mid, i)\n",
    "            \n",
    "        # head: mid, tail: head\n",
    "        return  mid, head"
   ]
  },
  {
   "cell_type": "code",
   "execution_count": 7,
   "id": "c62b9f6f",
   "metadata": {},
   "outputs": [],
   "source": [
    "inputs = [\n",
    "    [linkedList([1,2,3,4,5]), 2],\n",
    "    [linkedList([1,2,3,4,5]), 3],\n",
    "]"
   ]
  },
  {
   "cell_type": "code",
   "execution_count": 8,
   "id": "69f0113a",
   "metadata": {},
   "outputs": [
    {
     "name": "stdout",
     "output_type": "stream",
     "text": [
      "[1,2,3,4,5] 2 : [2,1,4,3,5]\n",
      "[1,2,3,4,5] 3 : [3,2,1,4,5]\n",
      "Time elapsed: 0.00049 seconds\n"
     ]
    }
   ],
   "source": [
    "test(inputs, Solution().reverseKGroup)"
   ]
  }
 ],
 "metadata": {
  "kernelspec": {
   "display_name": "Python 3",
   "language": "python",
   "name": "python3"
  },
  "language_info": {
   "codemirror_mode": {
    "name": "ipython",
    "version": 3
   },
   "file_extension": ".py",
   "mimetype": "text/x-python",
   "name": "python",
   "nbconvert_exporter": "python",
   "pygments_lexer": "ipython3",
   "version": "3.8.8"
  }
 },
 "nbformat": 4,
 "nbformat_minor": 5
}
