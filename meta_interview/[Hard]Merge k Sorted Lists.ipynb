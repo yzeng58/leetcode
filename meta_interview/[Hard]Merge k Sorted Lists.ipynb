{
 "cells": [
  {
   "cell_type": "markdown",
   "id": "d420c801",
   "metadata": {},
   "source": [
    "https://leetcode.com/problems/merge-k-sorted-lists/"
   ]
  },
  {
   "cell_type": "markdown",
   "id": "26619fcd",
   "metadata": {},
   "source": [
    "You are given an array of k linked-lists lists, each linked-list is sorted in ascending order.\n",
    "\n",
    "Merge all the linked-lists into one sorted linked-list and return it."
   ]
  },
  {
   "cell_type": "code",
   "execution_count": 4,
   "id": "b1abc64e",
   "metadata": {},
   "outputs": [],
   "source": [
    "import os\n",
    "os.chdir('../useful_modules')\n",
    "from modules import *"
   ]
  },
  {
   "cell_type": "code",
   "execution_count": 23,
   "id": "22f0a3ee",
   "metadata": {},
   "outputs": [],
   "source": [
    "# Runtime 57.13%\n",
    "# Memory 49.35%\n",
    "\n",
    "# Definition for singly-linked list.\n",
    "# class ListNode:\n",
    "#     def __init__(self, val=0, next=None):\n",
    "#         self.val = val\n",
    "#         self.next = next\n",
    "class Solution:\n",
    "    def mergeKLists(self, lists):\n",
    "        k = len(lists)\n",
    "        if k == 0:\n",
    "            return None\n",
    "        elif k == 1:\n",
    "            return lists[0]\n",
    "        elif k == 2:\n",
    "            return self.mergeTwoLists(lists[0], lists[1])\n",
    "        else:\n",
    "            mid = k // 2\n",
    "            set1, set2 = lists[:mid], lists[mid:]\n",
    "            return self.mergeTwoLists(self.mergeKLists(set1), self.mergeKLists(set2))\n",
    "        \n",
    "    def mergeTwoLists(self, list1, list2):\n",
    "        current1 = list1\n",
    "        current2 = list2\n",
    "        \n",
    "        queue = []\n",
    "        while current1 and current2:\n",
    "            if current1.val < current2.val:\n",
    "                queue.append(current1)\n",
    "                current1 = current1.next\n",
    "            else:\n",
    "                queue.append(current2)\n",
    "                current2 = current2.next\n",
    "                \n",
    "        if current1:\n",
    "            queue.append(current1)\n",
    "            \n",
    "        if current2:\n",
    "            queue.append(current2)\n",
    "                \n",
    "        for i, node in enumerate(queue):\n",
    "            if i < len(queue) - 1:\n",
    "                queue[i].next = queue[i+1]\n",
    "        \n",
    "        if len(queue) > 0:\n",
    "            return queue[0]\n",
    "        else:\n",
    "            return None"
   ]
  },
  {
   "cell_type": "code",
   "execution_count": 24,
   "id": "21be8e68",
   "metadata": {},
   "outputs": [],
   "source": [
    "inputs = [\n",
    "    [[linkedList([1,4,5]), linkedList([1,3,4]), linkedList([2,6])]],\n",
    "    [[]],\n",
    "    [[None]],\n",
    "]"
   ]
  },
  {
   "cell_type": "code",
   "execution_count": 25,
   "id": "407d7236",
   "metadata": {},
   "outputs": [
    {
     "name": "stdout",
     "output_type": "stream",
     "text": [
      "[[1,4,5], [1,3,4], [2,6]] : [1,1,2,3,4,4,5,6]\n",
      "[] : None\n",
      "[None] : None\n",
      "Time elapsed: 0.00016 seconds\n"
     ]
    }
   ],
   "source": [
    "test(inputs, Solution().mergeKLists)"
   ]
  },
  {
   "cell_type": "code",
   "execution_count": null,
   "id": "52cb3f08",
   "metadata": {},
   "outputs": [],
   "source": []
  }
 ],
 "metadata": {
  "kernelspec": {
   "display_name": "Python 3",
   "language": "python",
   "name": "python3"
  },
  "language_info": {
   "codemirror_mode": {
    "name": "ipython",
    "version": 3
   },
   "file_extension": ".py",
   "mimetype": "text/x-python",
   "name": "python",
   "nbconvert_exporter": "python",
   "pygments_lexer": "ipython3",
   "version": "3.8.8"
  }
 },
 "nbformat": 4,
 "nbformat_minor": 5
}
