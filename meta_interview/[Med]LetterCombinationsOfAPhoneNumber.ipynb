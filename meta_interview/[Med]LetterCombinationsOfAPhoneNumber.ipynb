{
 "cells": [
  {
   "cell_type": "markdown",
   "id": "7d8e0a60",
   "metadata": {},
   "source": [
    "https://leetcode.com/problems/letter-combinations-of-a-phone-number/"
   ]
  },
  {
   "cell_type": "markdown",
   "id": "79a5bb41",
   "metadata": {},
   "source": [
    "Given a string containing digits from 2-9 inclusive, return all possible letter combinations that the number could represent. Return the answer in any order.\n",
    "\n",
    "A mapping of digits to letters (just like on the telephone buttons) is given below. Note that 1 does not map to any letters."
   ]
  },
  {
   "cell_type": "code",
   "execution_count": 1,
   "id": "021cf4cd",
   "metadata": {},
   "outputs": [],
   "source": [
    "import os\n",
    "os.chdir('../useful_modules')\n",
    "from modules import *"
   ]
  },
  {
   "cell_type": "code",
   "execution_count": 2,
   "id": "6696cf0e",
   "metadata": {},
   "outputs": [],
   "source": [
    "# Runtime 96.17%\n",
    "# Memory 74.26%\n",
    "class Solution:\n",
    "    def letterCombinations(self, digits: str):\n",
    "        queue = []\n",
    "        d = {\n",
    "            '2': ['a', 'b', 'c'],\n",
    "            '3': ['d', 'e', 'f'],\n",
    "            '4': ['g', 'h', 'i'],\n",
    "            '5': ['j', 'k', 'l'],\n",
    "            '6': ['m', 'n', 'o'],\n",
    "            '7': ['p', 'q', 'r', 's'],\n",
    "            '8': ['t', 'u', 'v'],\n",
    "            '9': ['w', 'x', 'y', 'z'],\n",
    "        }\n",
    "        for i, digit in enumerate(digits):\n",
    "            if queue:\n",
    "                while len(queue[0]) < i+1:\n",
    "                    pre = queue.pop(0)\n",
    "                    for item in d[digit]:\n",
    "                        queue.append(pre + item)\n",
    "            else:\n",
    "                for item in d[digit]:\n",
    "                    queue.append(item)\n",
    "        return queue"
   ]
  },
  {
   "cell_type": "code",
   "execution_count": 3,
   "id": "0dee5976",
   "metadata": {},
   "outputs": [],
   "source": [
    "inputs = [\n",
    "    [\"23\"],\n",
    "    [\"\"],\n",
    "    [\"2\"],\n",
    "    ['333'],\n",
    "]"
   ]
  },
  {
   "cell_type": "code",
   "execution_count": 4,
   "id": "1288af81",
   "metadata": {},
   "outputs": [
    {
     "name": "stdout",
     "output_type": "stream",
     "text": [
      "23 : ['ad', 'ae', 'af', 'bd', 'be', 'bf', 'cd', 'ce', 'cf']\n",
      " : []\n",
      "2 : ['a', 'b', 'c']\n",
      "333 : ['ddd', 'dde', 'ddf', 'ded', 'dee', 'def', 'dfd', 'dfe', 'dff', 'edd', 'ede', 'edf', 'eed', 'eee', 'eef', 'efd', 'efe', 'eff', 'fdd', 'fde', 'fdf', 'fed', 'fee', 'fef', 'ffd', 'ffe', 'fff']\n",
      "Time elapsed: 0.00022 seconds\n"
     ]
    }
   ],
   "source": [
    "test(inputs, Solution().letterCombinations)"
   ]
  },
  {
   "cell_type": "code",
   "execution_count": null,
   "id": "c7a071d1",
   "metadata": {},
   "outputs": [],
   "source": []
  }
 ],
 "metadata": {
  "kernelspec": {
   "display_name": "Python 3",
   "language": "python",
   "name": "python3"
  },
  "language_info": {
   "codemirror_mode": {
    "name": "ipython",
    "version": 3
   },
   "file_extension": ".py",
   "mimetype": "text/x-python",
   "name": "python",
   "nbconvert_exporter": "python",
   "pygments_lexer": "ipython3",
   "version": "3.8.8"
  }
 },
 "nbformat": 4,
 "nbformat_minor": 5
}
