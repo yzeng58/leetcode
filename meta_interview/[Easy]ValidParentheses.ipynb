{
 "cells": [
  {
   "cell_type": "markdown",
   "id": "309cd009",
   "metadata": {},
   "source": [
    "https://leetcode.com/problems/valid-parentheses/"
   ]
  },
  {
   "cell_type": "markdown",
   "id": "7590e8f8",
   "metadata": {},
   "source": [
    "Given a string s containing just the characters '(', ')', '{', '}', '[' and ']', determine if the input string is valid.\n",
    "\n",
    "An input string is valid if:\n",
    "\n",
    "    Open brackets must be closed by the same type of brackets.\n",
    "    Open brackets must be closed in the correct order.\n",
    "    Every close bracket has a corresponding open bracket of the same type.\n"
   ]
  },
  {
   "cell_type": "code",
   "execution_count": 2,
   "id": "b8f49d96",
   "metadata": {},
   "outputs": [],
   "source": [
    "import os\n",
    "os.chdir('../useful_modules')\n",
    "from modules import *"
   ]
  },
  {
   "cell_type": "code",
   "execution_count": 3,
   "id": "14152d04",
   "metadata": {},
   "outputs": [],
   "source": [
    "# Memory 97.85%\n",
    "# Runtime 77.66%\n",
    "\n",
    "class Solution:\n",
    "    def isValid(self, s: str) -> bool:\n",
    "        d = {\n",
    "            '(': ')',\n",
    "            '{': '}',\n",
    "            '[': ']',\n",
    "        }\n",
    "        stack = []\n",
    "        for i in s:\n",
    "            if i in d:\n",
    "                stack.append(i)\n",
    "            else:\n",
    "                if len(stack) > 0 and (i == d[stack[-1]]):\n",
    "                    stack.pop()\n",
    "                else:\n",
    "                    return False\n",
    "        if len(stack) > 0:\n",
    "            return False\n",
    "        else:\n",
    "            return True"
   ]
  },
  {
   "cell_type": "code",
   "execution_count": 8,
   "id": "c1f5a4a0",
   "metadata": {},
   "outputs": [],
   "source": [
    "inputs = [\n",
    "    [\"()\"],\n",
    "    [\"()[]{}\"],\n",
    "    [\"(]\"],\n",
    "    [''],\n",
    "    ['({})']\n",
    "]"
   ]
  },
  {
   "cell_type": "code",
   "execution_count": 9,
   "id": "feb8ec9b",
   "metadata": {},
   "outputs": [
    {
     "name": "stdout",
     "output_type": "stream",
     "text": [
      "() : True\n",
      "()[]{} : True\n",
      "(] : False\n",
      " : True\n",
      "({}) : True\n",
      "Time elapsed: 0.00021 seconds\n"
     ]
    }
   ],
   "source": [
    "test(inputs, Solution().isValid)"
   ]
  }
 ],
 "metadata": {
  "kernelspec": {
   "display_name": "Python 3",
   "language": "python",
   "name": "python3"
  },
  "language_info": {
   "codemirror_mode": {
    "name": "ipython",
    "version": 3
   },
   "file_extension": ".py",
   "mimetype": "text/x-python",
   "name": "python",
   "nbconvert_exporter": "python",
   "pygments_lexer": "ipython3",
   "version": "3.8.8"
  }
 },
 "nbformat": 4,
 "nbformat_minor": 5
}
