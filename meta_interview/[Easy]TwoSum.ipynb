{
 "cells": [
  {
   "cell_type": "markdown",
   "id": "448a8adb",
   "metadata": {},
   "source": [
    "https://leetcode.com/problems/two-sum/"
   ]
  },
  {
   "cell_type": "markdown",
   "id": "7b153f03",
   "metadata": {},
   "source": [
    "Given an array of integers nums and an integer target, return indices of the two numbers such that they add up to target.\n",
    "\n",
    "You may assume that each input would have exactly one solution, and you may not use the same element twice.\n",
    "\n",
    "You can return the answer in any order."
   ]
  },
  {
   "cell_type": "code",
   "execution_count": 1,
   "id": "2f3cd96f",
   "metadata": {},
   "outputs": [],
   "source": [
    "import os\n",
    "os.chdir('../useful_modules')\n",
    "from modules import *"
   ]
  },
  {
   "cell_type": "code",
   "execution_count": 2,
   "id": "82751c73",
   "metadata": {},
   "outputs": [],
   "source": [
    "import numpy as np"
   ]
  },
  {
   "cell_type": "code",
   "execution_count": 11,
   "id": "6b2f39be",
   "metadata": {},
   "outputs": [],
   "source": [
    "class Solution:\n",
    "    def twoSum(self, nums: List[int], target: int) -> List[int]:\n",
    "        nums = np.array(nums)\n",
    "        for i in range(len(nums))[::-1]:\n",
    "            sub_nums = nums[:i]\n",
    "            sums = sub_nums + nums[i]\n",
    "            check_idx = (sums == target)\n",
    "            if check_idx.sum() > 0:\n",
    "                return [np.arange(i)[check_idx][0],i]"
   ]
  },
  {
   "cell_type": "code",
   "execution_count": 12,
   "id": "a468bb80",
   "metadata": {},
   "outputs": [],
   "source": [
    "inputs = [\n",
    "    [[2,7,11,15], 9],\n",
    "    [[3,2,4], 6],\n",
    "    [[3,3], 6],\n",
    "]"
   ]
  },
  {
   "cell_type": "code",
   "execution_count": 13,
   "id": "64bf9de9",
   "metadata": {},
   "outputs": [
    {
     "name": "stdout",
     "output_type": "stream",
     "text": [
      "[2, 7, 11, 15] 9 : [0, 1]\n",
      "[3, 2, 4] 6 : [1, 2]\n",
      "[3, 3] 6 : [0, 1]\n",
      "Time elapsed: 0.00151 seconds\n"
     ]
    }
   ],
   "source": [
    "test(inputs, Solution().twoSum)"
   ]
  }
 ],
 "metadata": {
  "kernelspec": {
   "display_name": "Python 3",
   "language": "python",
   "name": "python3"
  },
  "language_info": {
   "codemirror_mode": {
    "name": "ipython",
    "version": 3
   },
   "file_extension": ".py",
   "mimetype": "text/x-python",
   "name": "python",
   "nbconvert_exporter": "python",
   "pygments_lexer": "ipython3",
   "version": "3.8.8"
  }
 },
 "nbformat": 4,
 "nbformat_minor": 5
}
