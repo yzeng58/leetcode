{
 "cells": [
  {
   "cell_type": "markdown",
   "id": "baabf9c5",
   "metadata": {},
   "source": [
    "https://leetcode.com/problems/count-and-say/"
   ]
  },
  {
   "cell_type": "markdown",
   "id": "cdb1b398",
   "metadata": {},
   "source": [
    "The count-and-say sequence is a sequence of digit strings defined by the recursive formula:\n",
    "\n",
    "    countAndSay(1) = \"1\"\n",
    "    countAndSay(n) is the way you would \"say\" the digit string from countAndSay(n-1), which is then converted into a different digit string.\n",
    "\n",
    "To determine how you \"say\" a digit string, split it into the minimal number of substrings such that each substring contains exactly one unique digit. Then for each substring, say the number of digits, then say the digit. Finally, concatenate every said digit.\n",
    "    \n",
    "Given a positive integer n, return the nth term of the count-and-say sequence."
   ]
  },
  {
   "cell_type": "code",
   "execution_count": 2,
   "id": "0c815043",
   "metadata": {},
   "outputs": [],
   "source": [
    "import os\n",
    "os.chdir('../useful_modules')\n",
    "from modules import *"
   ]
  },
  {
   "cell_type": "code",
   "execution_count": 21,
   "id": "a342ac82",
   "metadata": {},
   "outputs": [],
   "source": [
    "# Runtime 81.85%\n",
    "# Memory 52.71%\n",
    "\n",
    "class Solution:\n",
    "    def countAndSay(self, n: int) -> str:\n",
    "        if n == 1:\n",
    "            return '1'\n",
    "        else:\n",
    "            return self.proceedStr(self.countAndSay(n-1))\n",
    "        \n",
    "    def proceedStr(self, s):\n",
    "        l = len(s)\n",
    "        queue = []\n",
    "        res = ''\n",
    "        for i in range(l):\n",
    "            if queue:\n",
    "                if s[i] == queue[0]:\n",
    "                    queue.append(s[i])\n",
    "                else:\n",
    "                    res += f'{len(queue)}{queue[0]}'\n",
    "                    queue = [s[i]]\n",
    "            else:\n",
    "                queue.append(s[i])\n",
    "        if queue:\n",
    "            res += f'{len(queue)}{queue[0]}'\n",
    "        return res\n",
    "                    "
   ]
  },
  {
   "cell_type": "code",
   "execution_count": 22,
   "id": "cc665a49",
   "metadata": {},
   "outputs": [],
   "source": [
    "inputs = [[1], [2], [3], [4]]"
   ]
  },
  {
   "cell_type": "code",
   "execution_count": 23,
   "id": "9300a59d",
   "metadata": {},
   "outputs": [
    {
     "name": "stdout",
     "output_type": "stream",
     "text": [
      "1 : 1\n",
      "2 : 11\n",
      "3 : 21\n",
      "4 : 1211\n",
      "Time elapsed: 0.00017 seconds\n"
     ]
    }
   ],
   "source": [
    "test(inputs, Solution().countAndSay)"
   ]
  },
  {
   "cell_type": "code",
   "execution_count": null,
   "id": "c328bae2",
   "metadata": {},
   "outputs": [],
   "source": []
  }
 ],
 "metadata": {
  "kernelspec": {
   "display_name": "Python 3",
   "language": "python",
   "name": "python3"
  },
  "language_info": {
   "codemirror_mode": {
    "name": "ipython",
    "version": 3
   },
   "file_extension": ".py",
   "mimetype": "text/x-python",
   "name": "python",
   "nbconvert_exporter": "python",
   "pygments_lexer": "ipython3",
   "version": "3.8.8"
  }
 },
 "nbformat": 4,
 "nbformat_minor": 5
}
