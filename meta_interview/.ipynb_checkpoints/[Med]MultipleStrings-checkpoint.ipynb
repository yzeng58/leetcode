{
 "cells": [
  {
   "cell_type": "markdown",
   "id": "1973fc32",
   "metadata": {},
   "source": [
    "https://leetcode.com/problems/multiply-strings/"
   ]
  },
  {
   "cell_type": "markdown",
   "id": "6fcd8f58",
   "metadata": {},
   "source": [
    "Given two non-negative integers num1 and num2 represented as strings, return the product of num1 and num2, also represented as a string.\n",
    "\n",
    "Note: You must not use any built-in BigInteger library or convert the inputs to integer directly."
   ]
  },
  {
   "cell_type": "code",
   "execution_count": 1,
   "id": "0e59b996",
   "metadata": {},
   "outputs": [],
   "source": [
    "import os\n",
    "os.chdir('../useful_modules')\n",
    "from modules import *"
   ]
  },
  {
   "cell_type": "code",
   "execution_count": 2,
   "id": "7f605495",
   "metadata": {},
   "outputs": [],
   "source": [
    "# Runtime 93.21%\n",
    "# Memory: 97.78% \n",
    "\n",
    "class Solution:\n",
    "    def __init__(self):\n",
    "        self.d = {\n",
    "            '0':0, '1':1, '2':2, '3':3, '4':4,\n",
    "            '5':5, '6':6, '7':7, '8':8, '9':9,\n",
    "        }\n",
    "        \n",
    "    def str2int(self, s):\n",
    "        reverse_s = s[::-1]\n",
    "        unit = 1\n",
    "        n = 0\n",
    "        for digit in reverse_s:\n",
    "            n += self.d[digit] * unit\n",
    "            unit = unit * 10\n",
    "        return n\n",
    "        \n",
    "    def multiply(self, num1: str, num2: str) -> str:\n",
    "        num = self.str2int(num1) * self.str2int(num2)\n",
    "        return str(num)"
   ]
  },
  {
   "cell_type": "code",
   "execution_count": 3,
   "id": "d40603a1",
   "metadata": {},
   "outputs": [],
   "source": [
    "inputs = [\n",
    "    ['2', '3'],\n",
    "    ['123', '456'],\n",
    "]"
   ]
  },
  {
   "cell_type": "code",
   "execution_count": 4,
   "id": "e75264a7",
   "metadata": {},
   "outputs": [
    {
     "name": "stdout",
     "output_type": "stream",
     "text": [
      "2 3 : 6\n",
      "123 456 : 56088\n",
      "Time elapsed: 0.00052 seconds\n"
     ]
    }
   ],
   "source": [
    "test(inputs, Solution().multiply)"
   ]
  },
  {
   "cell_type": "code",
   "execution_count": null,
   "id": "e50853f4",
   "metadata": {},
   "outputs": [],
   "source": []
  }
 ],
 "metadata": {
  "kernelspec": {
   "display_name": "Python 3",
   "language": "python",
   "name": "python3"
  },
  "language_info": {
   "codemirror_mode": {
    "name": "ipython",
    "version": 3
   },
   "file_extension": ".py",
   "mimetype": "text/x-python",
   "name": "python",
   "nbconvert_exporter": "python",
   "pygments_lexer": "ipython3",
   "version": "3.8.8"
  }
 },
 "nbformat": 4,
 "nbformat_minor": 5
}
