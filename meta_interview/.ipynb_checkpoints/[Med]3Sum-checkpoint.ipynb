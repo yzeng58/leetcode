{
 "cells": [
  {
   "cell_type": "markdown",
   "id": "3e74bcdb",
   "metadata": {},
   "source": [
    "https://leetcode.com/problems/3sum/"
   ]
  },
  {
   "cell_type": "markdown",
   "id": "f40291d8",
   "metadata": {},
   "source": [
    "Given an integer array nums, return all the triplets [nums[i], nums[j], nums[k]] such that i != j, i != k, and j != k, and nums[i] + nums[j] + nums[k] == 0.\n",
    "\n",
    "Notice that the solution set must not contain duplicate triplets."
   ]
  },
  {
   "cell_type": "code",
   "execution_count": 1,
   "id": "c24f7e36",
   "metadata": {},
   "outputs": [],
   "source": [
    "import os\n",
    "os.chdir('../useful_modules')\n",
    "from modules import *"
   ]
  },
  {
   "cell_type": "code",
   "execution_count": 29,
   "id": "31379830",
   "metadata": {},
   "outputs": [],
   "source": [
    "# Fail\n",
    "class Solution:\n",
    "    def twoSum(self, num_set, num_dup, target):        \n",
    "        # duplicates:\n",
    "        if abs(target) % 2 == 0:\n",
    "            if target // 2 in num_dup:\n",
    "                self.group.append([-target, target//2, target//2])\n",
    "                    \n",
    "        for i, num in enumerate(num_set):\n",
    "            subnums = num_set[i+1:]\n",
    "            if (target - num) in subnums:\n",
    "                self.group.append([-target, num, target - num])\n",
    "\n",
    "    def threeSum(self, nums: List[int]) -> List[List[int]]:\n",
    "        self.group = []\n",
    "\n",
    "        zero_list = []\n",
    "        pos_set, neg_set = [], []\n",
    "        pos_dup, neg_dup = [], []\n",
    "        for num in nums:\n",
    "            if num > 0:\n",
    "                if not (num in pos_set):\n",
    "                    pos_set.append(num)\n",
    "                else:\n",
    "                    if not (num in pos_dup): pos_dup.append(num)\n",
    "            elif num < 0:\n",
    "                if not (num in neg_set):\n",
    "                    neg_set.append(num)\n",
    "                else:\n",
    "                    if not (num in neg_dup): neg_dup.append(num)\n",
    "            else:\n",
    "                zero_list.append(0)\n",
    "                \n",
    "        # zero, zero, zero\n",
    "        if len(zero_list) >=3:\n",
    "            self.group.append([0,0,0])\n",
    "            \n",
    "        # zero, pos, neg\n",
    "        if len(zero_list) > 0:\n",
    "            for num in pos_set:\n",
    "                if -num in neg_set:\n",
    "                    self.group.append([0, num, -num])\n",
    "                    \n",
    "        # pos, pos, neg\n",
    "        for num in neg_set:\n",
    "            self.twoSum(pos_set, pos_dup, -num)\n",
    "        \n",
    "        # neg, neg, pos\n",
    "        for num in pos_set:\n",
    "            self.twoSum(neg_set, neg_dup, -num)\n",
    "        \n",
    "        return self.group"
   ]
  },
  {
   "cell_type": "code",
   "execution_count": 32,
   "id": "5f5c6a51",
   "metadata": {},
   "outputs": [],
   "source": [
    "# Memory: 24.81%\n",
    "# Runtime: 65.51%\n",
    "class Solution:\n",
    "    def threeSum(self, nums: List[int]) -> List[List[int]]:\n",
    "        res = []\n",
    "        nums.sort()\n",
    "        for i in range(len(nums)):\n",
    "            if nums[i] > 0:\n",
    "                break\n",
    "            if i == 0 or nums[i - 1] != nums[i]:\n",
    "                self.twoSumII(nums, i, res)\n",
    "        return res\n",
    "\n",
    "    def twoSumII(self, nums: List[int], i: int, res: List[List[int]]):\n",
    "        lo, hi = i + 1, len(nums) - 1\n",
    "        while (lo < hi):\n",
    "            sum = nums[i] + nums[lo] + nums[hi]\n",
    "            if sum < 0:\n",
    "                lo += 1\n",
    "            elif sum > 0:\n",
    "                hi -= 1\n",
    "            else:\n",
    "                res.append([nums[i], nums[lo], nums[hi]])\n",
    "                lo += 1\n",
    "                hi -= 1\n",
    "                while lo < hi and nums[lo] == nums[lo - 1]:\n",
    "                    lo += 1"
   ]
  },
  {
   "cell_type": "code",
   "execution_count": 33,
   "id": "b8250191",
   "metadata": {},
   "outputs": [],
   "source": [
    "inputs = [\n",
    "    [[-1,0,1,2,-1,-4]],\n",
    "    [[0,1,1]],\n",
    "    [[0,0,0]],\n",
    "    [[-1,0,1,2,-1,-4,-2,-3,3,0,4]],\n",
    "]"
   ]
  },
  {
   "cell_type": "code",
   "execution_count": 34,
   "id": "5e99efed",
   "metadata": {},
   "outputs": [
    {
     "name": "stdout",
     "output_type": "stream",
     "text": [
      "[-1, 0, 1, 2, -1, -4] : [[-1, -1, 2], [-1, 0, 1]]\n",
      "[0, 1, 1] : []\n",
      "[0, 0, 0] : [[0, 0, 0]]\n",
      "[-1, 0, 1, 2, -1, -4, -2, -3, 3, 0, 4] : [[-4, 0, 4], [-4, 1, 3], [-3, -1, 4], [-3, 0, 3], [-3, 1, 2], [-2, -1, 3], [-2, 0, 2], [-1, -1, 2], [-1, 0, 1]]\n",
      "Time elapsed: 0.00200 seconds\n"
     ]
    }
   ],
   "source": [
    "test(inputs, Solution().threeSum)"
   ]
  },
  {
   "cell_type": "code",
   "execution_count": null,
   "id": "a33f8bac",
   "metadata": {},
   "outputs": [],
   "source": []
  }
 ],
 "metadata": {
  "kernelspec": {
   "display_name": "Python 3",
   "language": "python",
   "name": "python3"
  },
  "language_info": {
   "codemirror_mode": {
    "name": "ipython",
    "version": 3
   },
   "file_extension": ".py",
   "mimetype": "text/x-python",
   "name": "python",
   "nbconvert_exporter": "python",
   "pygments_lexer": "ipython3",
   "version": "3.8.8"
  }
 },
 "nbformat": 4,
 "nbformat_minor": 5
}
