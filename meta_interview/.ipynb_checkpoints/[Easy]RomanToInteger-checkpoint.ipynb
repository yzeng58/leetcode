{
 "cells": [
  {
   "cell_type": "markdown",
   "id": "6547dcfd",
   "metadata": {},
   "source": [
    "https://leetcode.com/problems/roman-to-integer/"
   ]
  },
  {
   "cell_type": "markdown",
   "id": "03dc12f1",
   "metadata": {},
   "source": [
    "Roman numerals are represented by seven different symbols: I, V, X, L, C, D and M.\n",
    "\n",
    "Symbol       Value\n",
    "I             1\n",
    "V             5\n",
    "X             10\n",
    "L             50\n",
    "C             100\n",
    "D             500\n",
    "M             1000\n",
    "\n",
    "For example, 2 is written as II in Roman numeral, just two ones added together. 12 is written as XII, which is simply X + II. The number 27 is written as XXVII, which is XX + V + II.\n",
    "\n",
    "Roman numerals are usually written largest to smallest from left to right. However, the numeral for four is not IIII. Instead, the number four is written as IV. Because the one is before the five we subtract it making four. The same principle applies to the number nine, which is written as IX. There are six instances where subtraction is used:\n",
    "\n",
    "    I can be placed before V (5) and X (10) to make 4 and 9. \n",
    "    X can be placed before L (50) and C (100) to make 40 and 90. \n",
    "    C can be placed before D (500) and M (1000) to make 400 and 900.\n",
    "\n",
    "Given a roman numeral, convert it to an integer."
   ]
  },
  {
   "cell_type": "code",
   "execution_count": 1,
   "id": "b7b911c3",
   "metadata": {},
   "outputs": [],
   "source": [
    "import os\n",
    "os.chdir('../useful_modules')\n",
    "from modules import *"
   ]
  },
  {
   "cell_type": "code",
   "execution_count": 2,
   "id": "4c30e8b0",
   "metadata": {},
   "outputs": [],
   "source": [
    "# Runtime: Beat 89.62%\n",
    "# Memory: Beat 72.11%\n",
    "class Solution:\n",
    "    def romanToInt(self, s: str) -> int:\n",
    "        d1 = {\n",
    "            'I':1,\n",
    "            'V':5,\n",
    "            'X':10,\n",
    "            'L':50,\n",
    "            'C':100,\n",
    "            'D':500,\n",
    "            'M':1000,\n",
    "        }\n",
    "        d2 = {\n",
    "            'IV': 4,\n",
    "            'IX': 9,\n",
    "            'XL': 40,\n",
    "            'XC': 90,\n",
    "            'CD': 400,\n",
    "            'CM': 900,\n",
    "        }\n",
    "        num = 0\n",
    "        i = len(s)-1\n",
    "        while i >= 0:\n",
    "            if (i-1 >= 0) and (s[i-1:i+1] in d2):\n",
    "                num += d2[s[i-1:i+1]]\n",
    "                i = i - 2\n",
    "            else:\n",
    "                num += d1[s[i]]\n",
    "                i = i - 1\n",
    "        return num\n",
    "                "
   ]
  },
  {
   "cell_type": "code",
   "execution_count": 3,
   "id": "64a4d138",
   "metadata": {},
   "outputs": [],
   "source": [
    "inputs = [\n",
    "    [\"III\"],\n",
    "    [\"LVIII\"],\n",
    "    [\"MCMXCIV\"],\n",
    "]"
   ]
  },
  {
   "cell_type": "code",
   "execution_count": 4,
   "id": "8c3df9dd",
   "metadata": {},
   "outputs": [
    {
     "name": "stdout",
     "output_type": "stream",
     "text": [
      "III : 3\n",
      "LVIII : 58\n",
      "MCMXCIV : 1994\n",
      "Time elapsed: 0.00058 seconds\n"
     ]
    }
   ],
   "source": [
    "test(inputs, Solution().romanToInt)"
   ]
  },
  {
   "cell_type": "code",
   "execution_count": null,
   "id": "395a7a73",
   "metadata": {},
   "outputs": [],
   "source": []
  }
 ],
 "metadata": {
  "kernelspec": {
   "display_name": "Python 3",
   "language": "python",
   "name": "python3"
  },
  "language_info": {
   "codemirror_mode": {
    "name": "ipython",
    "version": 3
   },
   "file_extension": ".py",
   "mimetype": "text/x-python",
   "name": "python",
   "nbconvert_exporter": "python",
   "pygments_lexer": "ipython3",
   "version": "3.8.8"
  }
 },
 "nbformat": 4,
 "nbformat_minor": 5
}
