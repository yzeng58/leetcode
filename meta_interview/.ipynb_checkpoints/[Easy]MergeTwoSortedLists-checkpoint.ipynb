{
 "cells": [
  {
   "cell_type": "markdown",
   "id": "5212c08e",
   "metadata": {},
   "source": [
    "https://leetcode.com/problems/merge-two-sorted-lists/"
   ]
  },
  {
   "cell_type": "markdown",
   "id": "2f0f9cef",
   "metadata": {},
   "source": [
    "You are given the heads of two sorted linked lists list1 and list2.\n",
    "\n",
    "Merge the two lists in a one sorted list. The list should be made by splicing together the nodes of the first two lists.\n",
    "\n",
    "Return the head of the merged linked list."
   ]
  },
  {
   "cell_type": "code",
   "execution_count": 1,
   "id": "8a0059bd",
   "metadata": {},
   "outputs": [],
   "source": [
    "import os\n",
    "os.chdir('../useful_modules')\n",
    "from modules import *"
   ]
  },
  {
   "cell_type": "code",
   "execution_count": 18,
   "id": "c87b3c17",
   "metadata": {},
   "outputs": [],
   "source": [
    "# Runtime 80.93%\n",
    "# Memory 74.37%\n",
    "\n",
    "\n",
    "# Definition for singly-linked list.\n",
    "# class ListNode:\n",
    "#     def __init__(self, val=0, next=None):\n",
    "#         self.val = val\n",
    "#         self.next = next\n",
    "class Solution:\n",
    "    def mergeTwoLists(self, list1, list2):\n",
    "        current1 = list1\n",
    "        current2 = list2\n",
    "        \n",
    "        queue = []\n",
    "        while current1 and current2:\n",
    "            if current1.val < current2.val:\n",
    "                queue.append(current1)\n",
    "                current1 = current1.next\n",
    "            else:\n",
    "                queue.append(current2)\n",
    "                current2 = current2.next\n",
    "                \n",
    "        if current1:\n",
    "            queue.append(current1)\n",
    "            \n",
    "        if current2:\n",
    "            queue.append(current2)\n",
    "                \n",
    "        for i, node in enumerate(queue):\n",
    "            if i < len(queue) - 1:\n",
    "                queue[i].next = queue[i+1]\n",
    "        \n",
    "        if len(queue) > 0:\n",
    "            return queue[0]\n",
    "        else:\n",
    "            return None"
   ]
  },
  {
   "cell_type": "code",
   "execution_count": 19,
   "id": "889c7f50",
   "metadata": {},
   "outputs": [],
   "source": [
    "inputs = [\n",
    "    [linkedList([1,2,4]), linkedList([1,3,4])],\n",
    "    [linkedList([]), linkedList([])],\n",
    "    [linkedList([]), linkedList([0])],\n",
    "]"
   ]
  },
  {
   "cell_type": "code",
   "execution_count": 20,
   "id": "2529a826",
   "metadata": {},
   "outputs": [
    {
     "name": "stdout",
     "output_type": "stream",
     "text": [
      "[1,2,4] [1,3,4] : [1,1,2,3,4,4]\n",
      "None None : None\n",
      "None [0] : [0]\n",
      "Time elapsed: 0.00018 seconds\n"
     ]
    }
   ],
   "source": [
    "test(inputs, Solution().mergeTwoLists)"
   ]
  },
  {
   "cell_type": "code",
   "execution_count": null,
   "id": "d9fb6973",
   "metadata": {},
   "outputs": [],
   "source": []
  }
 ],
 "metadata": {
  "kernelspec": {
   "display_name": "Python 3",
   "language": "python",
   "name": "python3"
  },
  "language_info": {
   "codemirror_mode": {
    "name": "ipython",
    "version": 3
   },
   "file_extension": ".py",
   "mimetype": "text/x-python",
   "name": "python",
   "nbconvert_exporter": "python",
   "pygments_lexer": "ipython3",
   "version": "3.8.8"
  }
 },
 "nbformat": 4,
 "nbformat_minor": 5
}
