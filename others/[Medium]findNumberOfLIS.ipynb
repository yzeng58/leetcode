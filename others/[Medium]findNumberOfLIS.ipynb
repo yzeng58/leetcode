{
 "cells": [
  {
   "cell_type": "markdown",
   "metadata": {},
   "source": [
    "https://leetcode.com/problems/number-of-longest-increasing-subsequence/\n",
    "\n",
    "673. Number of Longest Increasing Subsequence\n",
    "\n",
    "Given an integer array nums, return the number of longest increasing subsequences.\n",
    "\n",
    "Notice that the sequence has to be strictly increasing.\n",
    "\n",
    " \n",
    "\n",
    "Example 1:\n",
    "\n",
    "Input: nums = [1,3,5,4,7]\n",
    "\n",
    "Output: 2\n",
    "\n",
    "Explanation: The two longest increasing subsequences are [1, 3, 4, 7] and [1, 3, 5, 7].\n",
    "\n",
    "Example 2:\n",
    "\n",
    "Input: nums = [2,2,2,2,2]\n",
    "\n",
    "Output: 5\n",
    "\n",
    "Explanation: The length of the longest increasing subsequence is 1, and there are 5 increasing subsequences of length 1, so output 5."
   ]
  },
  {
   "cell_type": "code",
   "execution_count": 1,
   "metadata": {},
   "outputs": [],
   "source": [
    "import os, sys\n",
    "root_dir = os.path.dirname(os.getcwd())\n",
    "sys.path.append(root_dir)\n",
    "\n",
    "from useful_modules.testFunc import test\n",
    "from typing import List\n",
    "from copy import deepcopy"
   ]
  },
  {
   "cell_type": "code",
   "execution_count": 15,
   "metadata": {},
   "outputs": [],
   "source": [
    "class Solution:\n",
    "    def findNumberOfLIS(self, nums: List[int]) -> int:\n",
    "        if len(nums) == 0:\n",
    "            return 0\n",
    "        elif len(nums) == 1:\n",
    "            return 1\n",
    "        \n",
    "        increase_subseqs = [[nums[0]]]\n",
    "        for i in range(1, len(nums)):\n",
    "            new_subseqs = []\n",
    "            \n",
    "            addable_list, larger_length = [], 0\n",
    "            for subseq in increase_subseqs:\n",
    "                if nums[i] > subseq[-1]:\n",
    "                    new_subseqs.append(subseq)\n",
    "                    if addable_list:\n",
    "                        if len(subseq) >= len(addable_list[0]):\n",
    "                            addable_list = [subseq+[nums[i]]]\n",
    "                            larger_length = len(subseq) + 1\n",
    "                        elif (len(subseq)+1) == len(addable_list[0]):\n",
    "                            addable_list.append(subseq+[nums[i]])\n",
    "                    else:\n",
    "                        addable_list = [subseq+[nums[i]]]\n",
    "                        larger_length = len(subseq) + 1\n",
    "                elif len(subseq) >= larger_length:\n",
    "                    new_subseqs.append(subseq)\n",
    "                \n",
    "            if addable_list: new_subseqs.extend(addable_list)\n",
    "            if larger_length == 0: new_subseqs.append([nums[i]])\n",
    "            increase_subseqs = deepcopy(new_subseqs)\n",
    "            \n",
    "        larger_length, final_list = 0, []\n",
    "        for subseq in increase_subseqs:\n",
    "            if len(subseq) > larger_length:\n",
    "                larger_length = len(subseq)\n",
    "                final_list = [subseq]\n",
    "            elif len(subseq) == larger_length:\n",
    "                final_list.append(subseq)\n",
    "        return len(final_list)\n",
    "    "
   ]
  },
  {
   "cell_type": "code",
   "execution_count": 16,
   "metadata": {},
   "outputs": [
    {
     "name": "stdout",
     "output_type": "stream",
     "text": [
      "[1, 3, 5, 4, 7] : 2\n",
      "[2, 2, 2, 2, 2] : 5\n",
      "Time elapsed: 0.00145 seconds\n"
     ]
    }
   ],
   "source": [
    "inputs = [\n",
    "    [[1,3,5,4,7]],\n",
    "    [[2,2,2,2,2]],\n",
    "]\n",
    "test(inputs, Solution().findNumberOfLIS)"
   ]
  },
  {
   "cell_type": "code",
   "execution_count": 17,
   "metadata": {},
   "outputs": [],
   "source": [
    "class Solution:\n",
    "    def findNumberOfLIS(self, nums: List[int]) -> int:\n",
    "        n = len(nums)\n",
    "        if n <= 1:\n",
    "            return n\n",
    "\n",
    "        lengths = [1] * n\n",
    "        counts = [1] * n\n",
    "\n",
    "        for i in range(1, n):\n",
    "            for j in range(i):\n",
    "                if nums[i] > nums[j]:\n",
    "                    if lengths[j] + 1 > lengths[i]:\n",
    "                        lengths[i] = lengths[j] + 1\n",
    "                        counts[i] = counts[j]\n",
    "                    elif lengths[j] + 1 == lengths[i]:\n",
    "                        counts[i] += counts[j]\n",
    "\n",
    "        max_length = max(lengths)\n",
    "        return sum(count for length, count in zip(lengths, counts) if length == max_length)"
   ]
  },
  {
   "cell_type": "code",
   "execution_count": 18,
   "metadata": {},
   "outputs": [
    {
     "name": "stdout",
     "output_type": "stream",
     "text": [
      "[1, 3, 5, 4, 7] : 2\n",
      "[2, 2, 2, 2, 2] : 5\n",
      "Time elapsed: 0.00128 seconds\n"
     ]
    }
   ],
   "source": [
    "inputs = [\n",
    "    [[1,3,5,4,7]],\n",
    "    [[2,2,2,2,2]],\n",
    "]\n",
    "test(inputs, Solution().findNumberOfLIS)"
   ]
  },
  {
   "cell_type": "code",
   "execution_count": null,
   "metadata": {},
   "outputs": [],
   "source": []
  }
 ],
 "metadata": {
  "kernelspec": {
   "display_name": "Python 3",
   "language": "python",
   "name": "python3"
  },
  "language_info": {
   "codemirror_mode": {
    "name": "ipython",
    "version": 3
   },
   "file_extension": ".py",
   "mimetype": "text/x-python",
   "name": "python",
   "nbconvert_exporter": "python",
   "pygments_lexer": "ipython3",
   "version": "3.9.6"
  }
 },
 "nbformat": 4,
 "nbformat_minor": 2
}
