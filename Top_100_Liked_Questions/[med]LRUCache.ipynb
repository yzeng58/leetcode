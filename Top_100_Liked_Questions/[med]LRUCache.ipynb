{
 "cells": [
  {
   "cell_type": "markdown",
   "metadata": {},
   "source": [
    "https://leetcode.com/problems/lru-cache/\n",
    "\n",
    "Design a data structure that follows the constraints of a Least Recently Used (LRU) cache.\n",
    "\n",
    "Implement the LRUCache class:\n",
    "\n",
    "* LRUCache(int capacity) Initialize the LRU cache with positive size capacity.\n",
    "* int get(int key) Return the value of the key if the key exists, otherwise return -1.\n",
    "* void put(int key, int value) Update the value of the key if the key exists. Otherwise, add the key-value pair to the cache. If the number of keys exceeds the capacity from this operation, evict the least recently used key.\n",
    "\n",
    "Follow up:\n",
    "Could you do get and put in O(1) time complexity?"
   ]
  },
  {
   "cell_type": "code",
   "execution_count": 1,
   "metadata": {},
   "outputs": [],
   "source": [
    "from modules import *"
   ]
  },
  {
   "cell_type": "code",
   "execution_count": 2,
   "metadata": {},
   "outputs": [],
   "source": [
    "# my solution\n",
    "# Runtime: 404 ms, faster than 13.34% of Python3 online submissions for LRU Cache.\n",
    "# Memory Usage: 23.5 MB, less than 62.36% of Python3 online submissions for LRU Cache.\n",
    "\n",
    "class LRUCache:\n",
    "\n",
    "    def __init__(self, capacity: int):\n",
    "        self.capacity = capacity\n",
    "        self.history = []\n",
    "        self.cache = {}\n",
    "    \n",
    "    def get(self, key: int) -> int:\n",
    "        if key in self.cache:\n",
    "            self.history.remove(key)\n",
    "            self.history.append(key)\n",
    "            return self.cache[key]\n",
    "        else:\n",
    "            return -1\n",
    "\n",
    "    def put(self, key: int, value: int) -> None:\n",
    "        if key in self.cache:\n",
    "            self.history.remove(key)\n",
    "        elif len(self.cache) == self.capacity:\n",
    "            del self.cache[self.history.pop(0)]\n",
    "        self.history.append(key)\n",
    "        self.cache[key] = value\n",
    "\n",
    "# Your LRUCache object will be instantiated and called as such:\n",
    "# obj = LRUCache(capacity)\n",
    "# param_1 = obj.get(key)\n",
    "# obj.put(key,value)"
   ]
  },
  {
   "cell_type": "code",
   "execution_count": 3,
   "metadata": {},
   "outputs": [
    {
     "name": "stdout",
     "output_type": "stream",
     "text": [
      "['LRUCache', 'put', 'put', 'get', 'put', 'get', 'put', 'get', 'get', 'get'] [[2], [1, 1], [2, 2], [1], [3, 3], [2], [4, 4], [1], [3], [4]] : [None, None, None, 1, None, -1, None, -1, 3, 4]\n",
      "['LRUCache', 'put', 'put', 'put', 'put', 'put', 'get', 'put', 'get', 'get', 'put', 'get', 'put', 'put', 'put', 'get', 'put', 'get', 'get', 'get', 'get', 'put', 'put', 'get', 'get', 'get', 'put', 'put', 'get', 'put', 'get', 'put', 'get', 'get', 'get', 'put', 'put', 'put', 'get', 'put', 'get', 'get', 'put', 'put', 'get', 'put', 'put', 'put', 'put', 'get', 'put', 'put', 'get', 'put', 'put', 'get', 'put', 'put', 'put', 'put', 'put', 'get', 'put', 'put', 'get', 'put', 'get', 'get', 'get', 'put', 'get', 'get', 'put', 'put', 'put', 'put', 'get', 'put', 'put', 'put', 'put', 'get', 'get', 'get', 'put', 'put', 'put', 'get', 'put', 'put', 'put', 'get', 'put', 'put', 'put', 'get', 'get', 'get', 'put', 'put', 'put', 'put', 'get', 'put', 'put', 'put', 'put', 'put', 'put', 'put'] [[10], [10, 13], [3, 17], [6, 11], [10, 5], [9, 10], [13], [2, 19], [2], [3], [5, 25], [8], [9, 22], [5, 5], [1, 30], [11], [9, 12], [7], [5], [8], [9], [4, 30], [9, 3], [9], [10], [10], [6, 14], [3, 1], [3], [10, 11], [8], [2, 14], [1], [5], [4], [11, 4], [12, 24], [5, 18], [13], [7, 23], [8], [12], [3, 27], [2, 12], [5], [2, 9], [13, 4], [8, 18], [1, 7], [6], [9, 29], [8, 21], [5], [6, 30], [1, 12], [10], [4, 15], [7, 22], [11, 26], [8, 17], [9, 29], [5], [3, 4], [11, 30], [12], [4, 29], [3], [9], [6], [3, 4], [1], [10], [3, 29], [10, 28], [1, 20], [11, 13], [3], [3, 12], [3, 8], [10, 9], [3, 26], [8], [7], [5], [13, 17], [2, 27], [11, 15], [12], [9, 19], [2, 15], [3, 16], [1], [12, 17], [9, 1], [6, 19], [4], [5], [5], [8, 1], [11, 7], [5, 2], [9, 28], [1], [2, 2], [7, 4], [4, 22], [7, 24], [9, 26], [13, 28], [11, 26]] : [None, None, None, None, None, None, -1, None, 19, 17, None, -1, None, None, None, -1, None, -1, 5, -1, 12, None, None, 3, 5, 5, None, None, 1, None, -1, None, 30, 5, 30, None, None, None, -1, None, -1, 24, None, None, 18, None, None, None, None, -1, None, None, 18, None, None, -1, None, None, None, None, None, 18, None, None, -1, None, 4, 29, 30, None, 12, -1, None, None, None, None, 29, None, None, None, None, 17, 22, 18, None, None, None, -1, None, None, None, 20, None, None, None, -1, 18, 18, None, None, None, None, 20, None, None, None, None, None, None, None]\n",
      "Time elapsed: 0.00089 seconds\n"
     ]
    }
   ],
   "source": [
    "def test_LRUCache(command, args):\n",
    "    output = [None]\n",
    "    obj = LRUCache(*args[0])\n",
    "    for i in range(1, len(command)):\n",
    "        if command[i] == \"get\":\n",
    "            output.append(obj.get(*args[i]))\n",
    "        else:\n",
    "            output.append(obj.put(*args[i]))\n",
    "    return output\n",
    "\n",
    "inputs = [\n",
    "    [[\"LRUCache\", \"put\", \"put\", \"get\", \"put\", \"get\", \"put\", \"get\", \"get\", \"get\"], \n",
    "     [[2], [1, 1], [2, 2], [1], [3, 3], [2], [4, 4], [1], [3], [4]]],\n",
    "    [[\"LRUCache\",\"put\",\"put\",\"put\",\"put\",\"put\",\"get\",\"put\",\"get\",\"get\",\"put\",\"get\",\"put\",\"put\",\"put\",\"get\",\"put\",\"get\",\"get\",\"get\",\"get\",\"put\",\"put\",\"get\",\"get\",\"get\",\"put\",\"put\",\"get\",\"put\",\"get\",\"put\",\"get\",\"get\",\"get\",\"put\",\"put\",\"put\",\"get\",\"put\",\"get\",\"get\",\"put\",\"put\",\"get\",\"put\",\"put\",\"put\",\"put\",\"get\",\"put\",\"put\",\"get\",\"put\",\"put\",\"get\",\"put\",\"put\",\"put\",\"put\",\"put\",\"get\",\"put\",\"put\",\"get\",\"put\",\"get\",\"get\",\"get\",\"put\",\"get\",\"get\",\"put\",\"put\",\"put\",\"put\",\"get\",\"put\",\"put\",\"put\",\"put\",\"get\",\"get\",\"get\",\"put\",\"put\",\"put\",\"get\",\"put\",\"put\",\"put\",\"get\",\"put\",\"put\",\"put\",\"get\",\"get\",\"get\",\"put\",\"put\",\"put\",\"put\",\"get\",\"put\",\"put\",\"put\",\"put\",\"put\",\"put\",\"put\"],\n",
    "[[10],[10,13],[3,17],[6,11],[10,5],[9,10],[13],[2,19],[2],[3],[5,25],[8],[9,22],[5,5],[1,30],[11],[9,12],[7],[5],[8],[9],[4,30],[9,3],[9],[10],[10],[6,14],[3,1],[3],[10,11],[8],[2,14],[1],[5],[4],[11,4],[12,24],[5,18],[13],[7,23],[8],[12],[3,27],[2,12],[5],[2,9],[13,4],[8,18],[1,7],[6],[9,29],[8,21],[5],[6,30],[1,12],[10],[4,15],[7,22],[11,26],[8,17],[9,29],[5],[3,4],[11,30],[12],[4,29],[3],[9],[6],[3,4],[1],[10],[3,29],[10,28],[1,20],[11,13],[3],[3,12],[3,8],[10,9],[3,26],[8],[7],[5],[13,17],[2,27],[11,15],[12],[9,19],[2,15],[3,16],[1],[12,17],[9,1],[6,19],[4],[5],[5],[8,1],[11,7],[5,2],[9,28],[1],[2,2],[7,4],[4,22],[7,24],[9,26],[13,28],[11,26]]]\n",
    "]\n",
    "\n",
    "test(inputs, test_LRUCache)"
   ]
  }
 ],
 "metadata": {
  "kernelspec": {
   "display_name": "Python 3",
   "language": "python",
   "name": "python3"
  },
  "language_info": {
   "codemirror_mode": {
    "name": "ipython",
    "version": 3
   },
   "file_extension": ".py",
   "mimetype": "text/x-python",
   "name": "python",
   "nbconvert_exporter": "python",
   "pygments_lexer": "ipython3",
   "version": "3.7.4"
  }
 },
 "nbformat": 4,
 "nbformat_minor": 2
}
