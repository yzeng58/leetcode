{
 "cells": [
  {
   "cell_type": "markdown",
   "metadata": {},
   "source": [
    "https://leetcode.com/problems/palindrome-linked-list/\n",
    "\n",
    "Given a singly linked list, determine if it is a palindrome."
   ]
  },
  {
   "cell_type": "code",
   "execution_count": 1,
   "metadata": {},
   "outputs": [],
   "source": [
    "from modules import *"
   ]
  },
  {
   "cell_type": "code",
   "execution_count": 2,
   "metadata": {},
   "outputs": [],
   "source": [
    "# my solution\n",
    "# Runtime: 68 ms, faster than 74.48% of Python3 online submissions for Palindrome Linked List.\n",
    "# Memory Usage: 24.5 MB, less than 17.43% of Python3 online submissions for Palindrome Linked List.\n",
    "\n",
    "class Solution:\n",
    "    def isPalindrome(self, head: ListNode) -> bool:\n",
    "        val_list = []\n",
    "        current = head\n",
    "        \n",
    "        while current != None:\n",
    "            val_list.append(current.val)\n",
    "            current = current.next\n",
    "            \n",
    "        return val_list == val_list[::-1]"
   ]
  },
  {
   "cell_type": "code",
   "execution_count": 3,
   "metadata": {},
   "outputs": [
    {
     "name": "stdout",
     "output_type": "stream",
     "text": [
      "[1,2] : False\n",
      "[1,2,2,1] : True\n",
      "Time elapsed: 0.00375 seconds\n"
     ]
    }
   ],
   "source": [
    "inputs = list(map(lambda x: [linkedList(x)], [\n",
    "    [1,2],\n",
    "    [1,2,2,1]\n",
    "]))\n",
    "test(inputs, Solution().isPalindrome)"
   ]
  }
 ],
 "metadata": {
  "kernelspec": {
   "display_name": "Python 3",
   "language": "python",
   "name": "python3"
  },
  "language_info": {
   "codemirror_mode": {
    "name": "ipython",
    "version": 3
   },
   "file_extension": ".py",
   "mimetype": "text/x-python",
   "name": "python",
   "nbconvert_exporter": "python",
   "pygments_lexer": "ipython3",
   "version": "3.7.4"
  }
 },
 "nbformat": 4,
 "nbformat_minor": 2
}
