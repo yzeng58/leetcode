{
 "cells": [
  {
   "cell_type": "markdown",
   "metadata": {},
   "source": [
    "https://leetcode.com/problems/implement-trie-prefix-tree/\n",
    "    \n",
    "Implement a trie with insert, search, and startsWith methods."
   ]
  },
  {
   "cell_type": "code",
   "execution_count": 1,
   "metadata": {},
   "outputs": [],
   "source": [
    "from modules import *"
   ]
  },
  {
   "cell_type": "code",
   "execution_count": 2,
   "metadata": {},
   "outputs": [],
   "source": [
    "# my solution\n",
    "# Runtime: 120 ms, faster than 97.66% of Python3 online submissions for Implement Trie (Prefix Tree).\n",
    "# Memory Usage: 27.7 MB, less than 85.31% of Python3 online submissions for Implement Trie (Prefix Tree).\n",
    "\n",
    "class Trie:\n",
    "\n",
    "    def __init__(self):\n",
    "        \"\"\"\n",
    "        Initialize your data structure here.\n",
    "        \"\"\"\n",
    "        self.root = {}\n",
    "\n",
    "    def insert(self, word: str) -> None:\n",
    "        \"\"\"\n",
    "        Inserts a word into the trie.\n",
    "        \"\"\"\n",
    "        \n",
    "        current = self.root    \n",
    "        for c in word:\n",
    "            if not c in current:\n",
    "                current[c] = {}\n",
    "            current = current[c]\n",
    "        current[None] = None\n",
    "\n",
    "    def search(self, word: str) -> bool:\n",
    "        \"\"\"\n",
    "        Returns if the word is in the trie.\n",
    "        \"\"\"\n",
    "        current = self.root \n",
    "        for c in word:\n",
    "            if not c in current:\n",
    "                return False\n",
    "            current = current[c]\n",
    "        if not None in current:\n",
    "            return False\n",
    "        return True\n",
    "        \n",
    "    def startsWith(self, prefix: str) -> bool:\n",
    "        \"\"\"\n",
    "        Returns if there is any word in the trie that starts with the given prefix.\n",
    "        \"\"\"\n",
    "        current = self.root \n",
    "        for c in prefix:\n",
    "            if not c in current:\n",
    "                return False\n",
    "            current = current[c]\n",
    "        return True"
   ]
  }
 ],
 "metadata": {
  "kernelspec": {
   "display_name": "Python 3",
   "language": "python",
   "name": "python3"
  },
  "language_info": {
   "codemirror_mode": {
    "name": "ipython",
    "version": 3
   },
   "file_extension": ".py",
   "mimetype": "text/x-python",
   "name": "python",
   "nbconvert_exporter": "python",
   "pygments_lexer": "ipython3",
   "version": "3.7.4"
  }
 },
 "nbformat": 4,
 "nbformat_minor": 2
}
