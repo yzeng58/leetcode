{
 "cells": [
  {
   "cell_type": "markdown",
   "metadata": {},
   "source": [
    "https://leetcode.com/problems/burst-balloons/\n",
    "\n",
    "You are given n balloons, indexed from 0 to n - 1. Each balloon is painted with a number on it represented by an array nums. You are asked to burst all the balloons.\n",
    "\n",
    "If you burst the ith balloon, you will get nums[left] * nums[i] * nums[right] coins. Here left and right are adjacent indices of i. After the burst, the left and right then becomes adjacent.\n",
    "\n",
    "Return the maximum coins you can collect by bursting the balloons wisely."
   ]
  },
  {
   "cell_type": "code",
   "execution_count": 1,
   "metadata": {},
   "outputs": [],
   "source": [
    "from modules import *"
   ]
  },
  {
   "cell_type": "code",
   "execution_count": 2,
   "metadata": {},
   "outputs": [],
   "source": [
    "# time limit exceeded\n",
    "\n",
    "class Solution:\n",
    "    def maxCoins3Ballons(self, nums):\n",
    "        return max([nums[0]*nums[1]*nums[2] + nums[0]*nums[2] + max(nums[0], nums[2]), \n",
    "                   nums[0]*nums[1] + nums[1]*nums[2] + max(nums[1], nums[2]),\n",
    "                   nums[2]*nums[1] + nums[1]*nums[0] + max(nums[1], nums[0])])\n",
    "    \n",
    "    def maxCoins(self, nums: List[int]) -> int:\n",
    "        if len(nums) == 1:\n",
    "            return nums[0]\n",
    "        elif not nums:\n",
    "            return 0\n",
    "        elif len(nums) == 2:\n",
    "            return nums[0] * nums[1] + max(nums[0], nums[1])\n",
    "        elif len(nums) == 3:\n",
    "            return self.maxCoins3Ballons(nums)\n",
    "        \n",
    "        def coins(i):\n",
    "            if i == 0:\n",
    "                return nums[0] * nums[1] + self.maxCoins(nums[1:])\n",
    "            elif i == len(nums) - 1:\n",
    "                return nums[-1] * nums[-2] + self.maxCoins(nums[:-1])\n",
    "            else:\n",
    "                return nums[i] * nums[i-1] * nums[i+1] + self.maxCoins(nums[:i] + nums[i+1:])\n",
    "        \n",
    "        return max(list(map(coins, range(len(nums)))))"
   ]
  },
  {
   "cell_type": "code",
   "execution_count": 3,
   "metadata": {},
   "outputs": [],
   "source": [
    "# time limit exceeded\n",
    "\n",
    "class Solution:\n",
    "    def __init__(self):\n",
    "        self.dict = {}\n",
    "        \n",
    "    \n",
    "    def maxCoins(self, nums: List[int]) -> int:\n",
    "        if len(nums) == 1:\n",
    "            return nums[0]\n",
    "        elif not nums:\n",
    "            return 0\n",
    "        elif len(nums) == 2:\n",
    "            return nums[0] * nums[1] + max(nums[0], nums[1])\n",
    "        elif len(nums) == 3:\n",
    "            return max([nums[0]*nums[1]*nums[2] + nums[0]*nums[2] + max(nums[0], nums[2]), \n",
    "                   nums[0]*nums[1] + nums[1]*nums[2] + max(nums[1], nums[2]),\n",
    "                   nums[2]*nums[1] + nums[1]*nums[0] + max(nums[1], nums[0])])\n",
    "        \n",
    "        if tuple(nums) in self.dict:\n",
    "            return self.dict[tuple(nums)]\n",
    "        \n",
    "        def coins(i):\n",
    "            if i == 0:\n",
    "                return nums[i] * nums[i+1] + self.maxCoins(nums[1:])\n",
    "            elif i == len(nums) - 1:\n",
    "                return nums[i] * nums[i-1] + self.maxCoins(nums[:-1])\n",
    "            else:\n",
    "                return nums[i] * nums[i-1] * nums[i+1] + self.maxCoins(nums[:i] + nums[i+1:])\n",
    "        \n",
    "        self.dict[tuple(nums)] = max(list(map(coins, range(len(nums)))))\n",
    "\n",
    "        return self.dict[tuple(nums)]"
   ]
  },
  {
   "cell_type": "code",
   "execution_count": 4,
   "metadata": {},
   "outputs": [],
   "source": [
    "from functools import lru_cache\n",
    "\n",
    "class Solution:   \n",
    "    \n",
    "    @lru_cache(None)\n",
    "    def maxCoinsHelper(self, nums) -> int:\n",
    "        if len(nums) == 1:\n",
    "            return nums[0]\n",
    "        elif not nums:\n",
    "            return 0\n",
    "        elif len(nums) == 2:\n",
    "            return nums[0] * nums[1] + max(nums[0], nums[1])\n",
    "        elif len(nums) == 3:\n",
    "            return max([nums[0]*nums[1]*nums[2] + nums[0]*nums[2] + max(nums[0], nums[2]), \n",
    "                   nums[0]*nums[1] + nums[1]*nums[2] + max(nums[1], nums[2]),\n",
    "                   nums[2]*nums[1] + nums[1]*nums[0] + max(nums[1], nums[0])])\n",
    "        \n",
    "        def coins(i):\n",
    "            if i == 0:\n",
    "                return nums[i] * nums[i+1] + self.maxCoinsHelper(nums[1:])\n",
    "            elif i == len(nums) - 1:\n",
    "                return nums[i] * nums[i-1] + self.maxCoinsHelper(nums[:-1])\n",
    "            else:\n",
    "                return nums[i] * nums[i-1] * nums[i+1] + self.maxCoinsHelper(nums[:i] + nums[i+1:])\n",
    "        \n",
    "        return max(list(map(coins, range(len(nums)))))\n",
    "        \n",
    "    def maxCoins(self, nums: List[int]) -> int:\n",
    "        return self.maxCoinsHelper(tuple(nums))"
   ]
  },
  {
   "cell_type": "code",
   "execution_count": 6,
   "metadata": {},
   "outputs": [
    {
     "name": "stdout",
     "output_type": "stream",
     "text": [
      "[3, 1, 5, 8] : 167\n",
      "[1, 5] : 10\n",
      "[9] : 9\n",
      "[9, 76, 64, 21, 97, 60] : 1086136\n",
      "[7, 9, 8, 0, 7, 1, 3, 5, 5, 2, 3] : 1654\n",
      "[35, 16, 83, 87, 84, 59, 48, 41] : 1583373\n",
      "[35, 16, 83, 87, 84, 59, 48, 41, 20] : 1611332\n",
      "[1, 6, 8, 3, 4, 6, 4, 7, 9, 8, 6, 2, 8] : 3376\n",
      "[8, 3, 4, 3, 5, 0, 5, 6, 6, 2, 8, 5, 6, 2, 3, 8, 3, 5, 1, 0, 2] : 3394\n",
      "Time elapsed: 0.00193 seconds\n"
     ]
    }
   ],
   "source": [
    "# 167, 10, 9, 1086136, 1654, 1583373, 1611332, 3376\n",
    "inputs = [\n",
    "    [[3,1,5,8]],\n",
    "    [[1,5]],\n",
    "    [[9]],\n",
    "    [[9,76,64,21,97,60]],\n",
    "    [[7,9,8,0,7,1,3,5,5,2,3]],\n",
    "    [[35,16,83,87,84,59,48,41]],\n",
    "    [[35,16,83,87,84,59,48,41,20]],\n",
    "    [[1,6,8,3,4,6,4,7,9,8,6,2,8]],\n",
    "    [[8,3,4,3,5,0,5,6,6,2,8,5,6,2,3,8,3,5,1,0,2]]\n",
    "]\n",
    "\n",
    "test(inputs, Solution().maxCoins)"
   ]
  },
  {
   "cell_type": "code",
   "execution_count": 5,
   "metadata": {},
   "outputs": [],
   "source": [
    "# officical solution: dynamic programming\n",
    "\n",
    "from functools import lru_cache\n",
    "\n",
    "class Solution:\n",
    "    def maxCoins(self, nums: List[int]) -> int:\n",
    "\n",
    "        # reframe the problem\n",
    "        nums = [1] + nums + [1]\n",
    "\n",
    "        # cache this\n",
    "        @lru_cache(None)\n",
    "        def dp(left, right):\n",
    "\n",
    "            # no more balloons can be added\n",
    "            if left + 1 == right: return 0\n",
    "\n",
    "            # add each balloon on the interval and return the maximum score\n",
    "            return max(nums[left] * nums[i] * nums[right] + dp(left, i) + dp(i, right) for i in range(left+1, right))\n",
    "\n",
    "        # find the maximum number of coins obtained from adding all balloons from (0, len(nums) - 1)\n",
    "        return dp(0, len(nums)-1)"
   ]
  }
 ],
 "metadata": {
  "kernelspec": {
   "display_name": "Python 3",
   "language": "python",
   "name": "python3"
  },
  "language_info": {
   "codemirror_mode": {
    "name": "ipython",
    "version": 3
   },
   "file_extension": ".py",
   "mimetype": "text/x-python",
   "name": "python",
   "nbconvert_exporter": "python",
   "pygments_lexer": "ipython3",
   "version": "3.7.4"
  }
 },
 "nbformat": 4,
 "nbformat_minor": 2
}
