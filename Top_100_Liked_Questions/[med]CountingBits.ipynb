{
 "cells": [
  {
   "cell_type": "markdown",
   "metadata": {},
   "source": [
    "https://leetcode.com/problems/counting-bits/\n",
    "\n",
    "Given a non negative integer number num. For every numbers i in the range 0 ≤ i ≤ num calculate the number of 1's in their binary representation and return them as an array.\n",
    "\n",
    "* It is very easy to come up with a solution with run time O(n*sizeof(integer)). But can you do it in linear time O(n) /possibly in a single pass?\n",
    "* Space complexity should be O(n).\n",
    "* Can you do it like a boss? Do it without using any builtin function like __builtin_popcount in c++ or in any other language."
   ]
  },
  {
   "cell_type": "code",
   "execution_count": 1,
   "metadata": {},
   "outputs": [],
   "source": [
    "from modules import * "
   ]
  },
  {
   "cell_type": "code",
   "execution_count": 2,
   "metadata": {},
   "outputs": [],
   "source": [
    "# my solution\n",
    "# Runtime: 112 ms, faster than 27.21% of Python3 online submissions for Counting Bits.\n",
    "# Memory Usage: 20.9 MB, less than 38.77% of Python3 online submissions for Counting Bits.\n",
    "\n",
    "class Solution:\n",
    "    def countBits(self, num: int) -> List[int]:\n",
    "        last = [[0], 1] # idx of 0, capacity\n",
    "        output = [0]\n",
    "        \n",
    "        for i in range(1, num+1):\n",
    "            if last[0]:\n",
    "                last[0].extend(list(range(last[0].pop())[::-1]))\n",
    "            else:\n",
    "                last = [list(range(last[1])[::-1]), last[1]+1]\n",
    "            output.append(last[1] - len(last[0]))\n",
    "        return output"
   ]
  },
  {
   "cell_type": "code",
   "execution_count": 3,
   "metadata": {},
   "outputs": [
    {
     "name": "stdout",
     "output_type": "stream",
     "text": [
      "0 : [0]\n",
      "1 : [0, 1]\n",
      "2 : [0, 1, 1]\n",
      "5 : [0, 1, 1, 2, 1, 2]\n",
      "Time elapsed: 0.00011 seconds\n"
     ]
    }
   ],
   "source": [
    "inputs = [[0],[1],[2],[5]]\n",
    "test(inputs, Solution().countBits)"
   ]
  }
 ],
 "metadata": {
  "kernelspec": {
   "display_name": "Python 3",
   "language": "python",
   "name": "python3"
  },
  "language_info": {
   "codemirror_mode": {
    "name": "ipython",
    "version": 3
   },
   "file_extension": ".py",
   "mimetype": "text/x-python",
   "name": "python",
   "nbconvert_exporter": "python",
   "pygments_lexer": "ipython3",
   "version": "3.7.4"
  }
 },
 "nbformat": 4,
 "nbformat_minor": 2
}
