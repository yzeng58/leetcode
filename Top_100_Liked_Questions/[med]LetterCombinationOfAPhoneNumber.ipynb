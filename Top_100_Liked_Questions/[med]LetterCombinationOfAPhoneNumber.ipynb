{
 "cells": [
  {
   "cell_type": "code",
   "execution_count": 8,
   "metadata": {},
   "outputs": [],
   "source": [
    "from typing import List"
   ]
  },
  {
   "cell_type": "code",
   "execution_count": 15,
   "metadata": {},
   "outputs": [],
   "source": [
    "class Solution:\n",
    "    def __init__(self):\n",
    "        self.num2char = {2: 'abc', 3: 'def', 4: 'ghi', 5: 'jkl', 6: 'mno', 7: 'pqrs', 8: 'tuv', 9: 'wxyz'}\n",
    "        \n",
    "        \n",
    "    def letterCombinations(self, digits: str) -> List[str]:\n",
    "        combinations = []\n",
    "        \n",
    "        if len(digits) == 0:\n",
    "            return []\n",
    "        \n",
    "        if len(digits) == 1:\n",
    "            return list(self.num2char[int(digits[0])])\n",
    "        \n",
    "        for comb in self.letterCombinations(digits[1:]):\n",
    "            for char in list(self.num2char[int(digits[0])]):\n",
    "                combinations.append(char + comb)\n",
    "                \n",
    "        return combinations"
   ]
  },
  {
   "cell_type": "code",
   "execution_count": 16,
   "metadata": {},
   "outputs": [
    {
     "data": {
      "text/plain": [
       "['ad', 'bd', 'cd', 'ae', 'be', 'ce', 'af', 'bf', 'cf']"
      ]
     },
     "execution_count": 16,
     "metadata": {},
     "output_type": "execute_result"
    }
   ],
   "source": [
    "sol = Solution()\n",
    "sol.letterCombinations(\"23\")"
   ]
  },
  {
   "cell_type": "code",
   "execution_count": null,
   "metadata": {},
   "outputs": [],
   "source": []
  }
 ],
 "metadata": {
  "kernelspec": {
   "display_name": "Python 3",
   "language": "python",
   "name": "python3"
  },
  "language_info": {
   "codemirror_mode": {
    "name": "ipython",
    "version": 3
   },
   "file_extension": ".py",
   "mimetype": "text/x-python",
   "name": "python",
   "nbconvert_exporter": "python",
   "pygments_lexer": "ipython3",
   "version": "3.7.4"
  }
 },
 "nbformat": 4,
 "nbformat_minor": 2
}
