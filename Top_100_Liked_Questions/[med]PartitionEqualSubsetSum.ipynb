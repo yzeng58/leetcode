{
 "cells": [
  {
   "cell_type": "markdown",
   "metadata": {},
   "source": [
    "https://leetcode.com/problems/partition-equal-subset-sum/\n",
    "\n",
    "Given a non-empty array nums containing only positive integers, find if the array can be partitioned into two subsets such that the sum of elements in both subsets is equal."
   ]
  },
  {
   "cell_type": "code",
   "execution_count": 1,
   "metadata": {},
   "outputs": [],
   "source": [
    "from modules import *"
   ]
  },
  {
   "cell_type": "code",
   "execution_count": 2,
   "metadata": {},
   "outputs": [],
   "source": [
    "# time limit exceeded\n",
    "\n",
    "from functools import lru_cache\n",
    "\n",
    "class Solution:\n",
    "    @lru_cache(None)\n",
    "    def combinationSum(self, nums, target):\n",
    "        set_nums = set(nums)\n",
    "        nums = list(nums)\n",
    "        for num in set_nums:\n",
    "            nums.remove(num)\n",
    "            if target == num:\n",
    "                return True\n",
    "            elif target < num:\n",
    "                continue\n",
    "            elif self.combinationSum(tuple(nums), target - num):\n",
    "                nums.append(num)\n",
    "                return True\n",
    "        return False\n",
    "        \n",
    "    def canPartition(self, nums: List[int]) -> bool:\n",
    "        overall_sum = sum(nums)\n",
    "        if overall_sum % 2 == 1:\n",
    "            return False\n",
    "        \n",
    "        target = overall_sum // 2\n",
    "        return self.combinationSum(tuple(nums), target)"
   ]
  },
  {
   "cell_type": "code",
   "execution_count": 3,
   "metadata": {},
   "outputs": [],
   "source": [
    "# time limit exceeded\n",
    "\n",
    "class Solution:\n",
    "    def canPartition(self, nums: List[int]) -> bool:\n",
    "        overall_sum = sum(nums)\n",
    "        if overall_sum % 2 == 1:\n",
    "            return False\n",
    "        \n",
    "        target = overall_sum // 2\n",
    "        \n",
    "        nums.sort()\n",
    "        possible_sum = [0]\n",
    "        for num in nums:\n",
    "            i = 0\n",
    "            new_sum = []\n",
    "            while i < len(possible_sum):\n",
    "                current_sum = possible_sum[i] + num\n",
    "                if current_sum == target:\n",
    "                    return True\n",
    "                elif current_sum < target:\n",
    "                    if (not current_sum in possible_sum) and (not current_sum in new_sum):\n",
    "                        new_sum.append(current_sum)\n",
    "                    i += 1\n",
    "                else:\n",
    "                    possible_sum.pop(i)\n",
    "            possible_sum.extend(new_sum)\n",
    "                    \n",
    "        return False"
   ]
  },
  {
   "cell_type": "code",
   "execution_count": 4,
   "metadata": {},
   "outputs": [
    {
     "name": "stdout",
     "output_type": "stream",
     "text": [
      "[1, 5, 11, 5] : True\n",
      "[1, 2, 3, 5] : False\n",
      "[1, 2, 5] : False\n",
      "[4, 4, 4, 4, 4, 4, 4, 4, 8, 8, 8, 8, 8, 8, 8, 8, 12, 12, 12, 12, 12, 12, 12, 12, 16, 16, 16, 16, 16, 16, 16, 16, 20, 20, 20, 20, 20, 20, 20, 20, 24, 24, 24, 24, 24, 24, 24, 24, 28, 28, 28, 28, 28, 28, 28, 28, 32, 32, 32, 32, 32, 32, 32, 32, 36, 36, 36, 36, 36, 36, 36, 36, 40, 40, 40, 40, 40, 40, 40, 40, 44, 44, 44, 44, 44, 44, 44, 44, 48, 48, 48, 48, 48, 48, 48, 48, 52, 52, 52, 52, 52, 52, 52, 52, 56, 56, 56, 56, 56, 56, 56, 56, 60, 60, 60, 60, 60, 60, 60, 60, 64, 64, 64, 64, 64, 64, 64, 64, 68, 68, 68, 68, 68, 68, 68, 68, 72, 72, 72, 72, 72, 72, 72, 72, 76, 76, 76, 76, 76, 76, 76, 76, 80, 80, 80, 80, 80, 80, 80, 80, 84, 84, 84, 84, 84, 84, 84, 84, 88, 88, 88, 88, 88, 88, 88, 88, 92, 92, 92, 92, 92, 92, 92, 92, 96, 96, 96, 96, 96, 96, 96, 96, 97, 99] : False\n",
      "[1, 1] : True\n",
      "[3, 3, 3, 4, 5] : True\n",
      "[51, 54, 10, 76, 88, 53, 32, 37, 61, 43, 10, 26, 52, 26, 21, 65, 70, 94, 87, 14, 48, 10, 18, 6, 63, 57, 69, 98, 45, 36, 58, 39, 90, 80, 58, 16, 54, 5, 88, 54, 19, 38, 68, 33, 38, 42, 83, 28, 2, 97, 7, 49, 11, 67, 93, 20, 90, 10, 60, 19, 99, 22, 61, 98, 78, 21, 46, 73, 17, 77, 65, 81, 46, 16, 12, 70, 13, 19, 2, 88, 83, 42, 70, 73, 95, 49, 61, 31, 66, 50, 14, 66, 73, 69, 7, 18, 69, 57, 12, 83] : True\n",
      "Time elapsed: 1.31535 seconds\n"
     ]
    }
   ],
   "source": [
    "inputs = [\n",
    "    [[1,5,11,5]],\n",
    "    [[1,2,3,5]],\n",
    "    [[1,2,5]],\n",
    "    [[4,4,4,4,4,4,4,4,8,8,8,8,8,8,8,8,12,12,12,12,12,12,12,12,16,16,16,16,16,16,16,16,20,20,20,20,20,20,20,20,24,24,24,24,24,24,24,24,28,28,28,28,28,28,28,28,32,32,32,32,32,32,32,32,36,36,36,36,36,36,36,36,40,40,40,40,40,40,40,40,44,44,44,44,44,44,44,44,48,48,48,48,48,48,48,48,52,52,52,52,52,52,52,52,56,56,56,56,56,56,56,56,60,60,60,60,60,60,60,60,64,64,64,64,64,64,64,64,68,68,68,68,68,68,68,68,72,72,72,72,72,72,72,72,76,76,76,76,76,76,76,76,80,80,80,80,80,80,80,80,84,84,84,84,84,84,84,84,88,88,88,88,88,88,88,88,92,92,92,92,92,92,92,92,96,96,96,96,96,96,96,96,97,99]],\n",
    "    [[1,1]],\n",
    "    [[3,3,3,4,5]],\n",
    "    [[51,54,10,76,88,53,32,37,61,43,10,26,52,26,21,65,70,94,87,14,48,10,18,6,63,57,69,98,45,36,58,39,90,80,58,16,54,5,88,54,19,38,68,33,38,42,83,28,2,97,7,49,11,67,93,20,90,10,60,19,99,22,61,98,78,21,46,73,17,77,65,81,46,16,12,70,13,19,2,88,83,42,70,73,95,49,61,31,66,50,14,66,73,69,7,18,69,57,12,83]]\n",
    "]\n",
    "test(inputs, Solution().canPartition)"
   ]
  },
  {
   "cell_type": "code",
   "execution_count": 5,
   "metadata": {},
   "outputs": [],
   "source": [
    "# official solution: dynamic programming\n",
    "class Solution:\n",
    "    def canPartition(self, nums: List[int]) -> bool:\n",
    "        overall_sum = sum(nums)\n",
    "        if overall_sum % 2 == 1:\n",
    "            return False\n",
    "        \n",
    "        target = overall_sum // 2\n",
    "        \n",
    "        dp = [[False] * (target+1)]\n",
    "        dp[0][0] = True\n",
    "        for i in range(1, len(nums)+1):\n",
    "            curr = nums[i-1]\n",
    "            dp.append([])\n",
    "            for j in range(target+1):\n",
    "                if j < curr:\n",
    "                    dp[i].append(dp[i-1][j])\n",
    "                else:\n",
    "                    dp[i].append(dp[i-1][j] or dp[i-1][j-curr])\n",
    "        return dp[len(nums)-1][target]"
   ]
  }
 ],
 "metadata": {
  "kernelspec": {
   "display_name": "Python 3",
   "language": "python",
   "name": "python3"
  },
  "language_info": {
   "codemirror_mode": {
    "name": "ipython",
    "version": 3
   },
   "file_extension": ".py",
   "mimetype": "text/x-python",
   "name": "python",
   "nbconvert_exporter": "python",
   "pygments_lexer": "ipython3",
   "version": "3.7.4"
  }
 },
 "nbformat": 4,
 "nbformat_minor": 2
}
