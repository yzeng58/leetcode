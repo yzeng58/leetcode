{
 "cells": [
  {
   "cell_type": "markdown",
   "metadata": {},
   "source": [
    "https://leetcode.com/problems/find-the-duplicate-number/\n",
    "\n",
    "Given an array of integers nums containing n + 1 integers where each integer is in the range [1, n] inclusive.\n",
    "\n",
    "There is only one duplicate number in nums, return this duplicate number.\n",
    "\n",
    "Follow-ups:\n",
    "\n",
    "* How can we prove that at least one duplicate number must exist in nums? \n",
    "* Can you solve the problem without modifying the array nums?\n",
    "* Can you solve the problem using only constant, O(1) extra space?\n",
    "* Can you solve the problem with runtime complexity less than O(n2)?"
   ]
  },
  {
   "cell_type": "code",
   "execution_count": 1,
   "metadata": {},
   "outputs": [],
   "source": [
    "from modules import *"
   ]
  },
  {
   "cell_type": "code",
   "execution_count": 2,
   "metadata": {},
   "outputs": [],
   "source": [
    "# my solution\n",
    "# Runtime: 56 ms, faster than 96.64% of Python3 online submissions for Find the Duplicate Number.\n",
    "# Memory Usage: 16.6 MB, less than 59.35% of Python3 online submissions for Find the Duplicate Number.\n",
    "    \n",
    "class Solution:\n",
    "    def findDuplicate(self, nums: List[int]) -> int:\n",
    "        sorted_nums = sorted(nums)\n",
    "        for i in range(len(nums)-1):\n",
    "            if sorted_nums[i] == sorted_nums[i+1]:\n",
    "                return sorted_nums[i]"
   ]
  },
  {
   "cell_type": "code",
   "execution_count": 3,
   "metadata": {},
   "outputs": [
    {
     "name": "stdout",
     "output_type": "stream",
     "text": [
      "[1, 3, 4, 2, 2] : 2\n",
      "[3, 1, 3, 4, 2] : 3\n",
      "[1, 1] : 1\n",
      "[1, 1, 2] : 1\n",
      "Time elapsed: 0.00022 seconds\n"
     ]
    }
   ],
   "source": [
    "inputs = [\n",
    "    [[1,3,4,2,2]],\n",
    "    [[3,1,3,4,2]],\n",
    "    [[1,1]],\n",
    "    [[1,1,2]]\n",
    "]\n",
    "test(inputs, Solution().findDuplicate)"
   ]
  },
  {
   "cell_type": "code",
   "execution_count": 4,
   "metadata": {},
   "outputs": [],
   "source": [
    "# official solution: Floyd's Tortoise and Hare (Cycle Detection)\n",
    "# Runtime: 56 ms, faster than 96.64% of Python3 online submissions for Find the Duplicate Number.\n",
    "# Memory Usage: 16.4 MB, less than 72.56% of Python3 online submissions for Find the Duplicate Number.\n",
    "\n",
    "class Solution:\n",
    "    def findDuplicate(self, nums):\n",
    "        # Find the intersection point of the two runners.\n",
    "        tortoise = hare = nums[0]\n",
    "        while True:\n",
    "            tortoise = nums[tortoise]\n",
    "            hare = nums[nums[hare]]\n",
    "            if tortoise == hare:\n",
    "                break\n",
    "        \n",
    "        # Find the \"entrance\" to the cycle.\n",
    "        tortoise = nums[0]\n",
    "        while tortoise != hare:\n",
    "            tortoise = nums[tortoise]\n",
    "            hare = nums[hare]\n",
    "        \n",
    "        return hare"
   ]
  }
 ],
 "metadata": {
  "kernelspec": {
   "display_name": "Python 3",
   "language": "python",
   "name": "python3"
  },
  "language_info": {
   "codemirror_mode": {
    "name": "ipython",
    "version": 3
   },
   "file_extension": ".py",
   "mimetype": "text/x-python",
   "name": "python",
   "nbconvert_exporter": "python",
   "pygments_lexer": "ipython3",
   "version": "3.7.4"
  }
 },
 "nbformat": 4,
 "nbformat_minor": 2
}
