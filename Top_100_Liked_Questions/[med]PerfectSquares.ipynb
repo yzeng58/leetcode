{
 "cells": [
  {
   "cell_type": "markdown",
   "metadata": {},
   "source": [
    "https://leetcode.com/problems/perfect-squares/\n",
    "\n",
    "Given a positive integer n, find the least number of perfect square numbers (for example, 1, 4, 9, 16, ...) which sum to n."
   ]
  },
  {
   "cell_type": "code",
   "execution_count": 1,
   "metadata": {},
   "outputs": [],
   "source": [
    "from modules import *"
   ]
  },
  {
   "cell_type": "code",
   "execution_count": 2,
   "metadata": {},
   "outputs": [],
   "source": [
    "# my solution\n",
    "# Runtime: 268 ms, faster than 79.16% of Python3 online submissions for Perfect Squares.\n",
    "# Memory Usage: 21.1 MB, less than 14.83% of Python3 online submissions for Perfect Squares.\n",
    "\n",
    "least_num_squares = {}\n",
    "\n",
    "class Solution:        \n",
    "    def numSquares(self, n: int) -> int:\n",
    "        global least_num_squares\n",
    "        \n",
    "        if n in least_num_squares:\n",
    "            return least_num_squares[n]\n",
    "        \n",
    "        sqrt = int(n ** .5)\n",
    "        if sqrt ** 2 == n:\n",
    "            return 1\n",
    "        \n",
    "        prob_num = []\n",
    "        for i in range(1,sqrt+1):\n",
    "            prob_num.append(self.numSquares(n-i**2))\n",
    "        least_num_squares[n] = min(prob_num) + 1\n",
    "        return least_num_squares[n]"
   ]
  },
  {
   "cell_type": "code",
   "execution_count": 3,
   "metadata": {},
   "outputs": [
    {
     "name": "stdout",
     "output_type": "stream",
     "text": [
      "12 : 3\n",
      "13 : 2\n",
      "52 : 2\n",
      "Time elapsed: 0.00041 seconds\n"
     ]
    }
   ],
   "source": [
    "inputs = [[12], [13], [52]]\n",
    "test(inputs, Solution().numSquares)"
   ]
  },
  {
   "cell_type": "code",
   "execution_count": 4,
   "metadata": {},
   "outputs": [],
   "source": [
    "# official solution: dynamic programming\n",
    "# Runtime: 4324 ms, faster than 39.38% of Python3 online submissions for Perfect Squares.\n",
    "# Memory Usage: 14.3 MB, less than 67.34% of Python3 online submissions for Perfect Squares.\n",
    "\n",
    "import math \n",
    "\n",
    "class Solution(object):\n",
    "    def numSquares(self, n):\n",
    "        \"\"\"\n",
    "        :type n: int\n",
    "        :rtype: int\n",
    "        \"\"\"\n",
    "        square_nums = [i**2 for i in range(0, int(math.sqrt(n))+1)]\n",
    "        \n",
    "        dp = [float('inf')] * (n+1)\n",
    "        # bottom case\n",
    "        dp[0] = 0\n",
    "        \n",
    "        for i in range(1, n+1):\n",
    "            for square in square_nums:\n",
    "                if i < square:\n",
    "                    break\n",
    "                dp[i] = min(dp[i], dp[i-square] + 1)\n",
    "        \n",
    "        return dp[-1]"
   ]
  }
 ],
 "metadata": {
  "kernelspec": {
   "display_name": "Python 3",
   "language": "python",
   "name": "python3"
  },
  "language_info": {
   "codemirror_mode": {
    "name": "ipython",
    "version": 3
   },
   "file_extension": ".py",
   "mimetype": "text/x-python",
   "name": "python",
   "nbconvert_exporter": "python",
   "pygments_lexer": "ipython3",
   "version": "3.7.4"
  }
 },
 "nbformat": 4,
 "nbformat_minor": 2
}
