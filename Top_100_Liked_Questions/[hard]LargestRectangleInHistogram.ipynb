{
 "cells": [
  {
   "cell_type": "markdown",
   "metadata": {},
   "source": [
    "https://leetcode.com/problems/largest-rectangle-in-histogram/\n",
    "\n",
    "Given n non-negative integers representing the histogram's bar height where the width of each bar is 1, find the area of largest rectangle in the histogram."
   ]
  },
  {
   "cell_type": "code",
   "execution_count": 1,
   "metadata": {},
   "outputs": [],
   "source": [
    "from modules import *"
   ]
  },
  {
   "cell_type": "code",
   "execution_count": 2,
   "metadata": {},
   "outputs": [],
   "source": [
    "# time limit exceeded\n",
    "\n",
    "from copy import deepcopy\n",
    "\n",
    "class Solution:\n",
    "    def largestRectangleArea(self, heights: List[int]) -> int:\n",
    "        if len(heights) <= 1:\n",
    "            return sum(heights)\n",
    "        \n",
    "        # area, left, right, height\n",
    "        d = [[heights[0], 0, 1, heights[0]] for _ in range(len(heights))] \n",
    "        \n",
    "        for i in range(1, len(heights)):\n",
    "            alternative = deepcopy(d[i-1])\n",
    "            if d[i-1][2] == i and min(d[i-1][3], heights[i]) * (i+1 - d[i-1][1]) >= d[i-1][0]:\n",
    "                alternative[2], alternative[3] = i + 1, min(d[i-1][3], heights[i])\n",
    "                alternative[0] = alternative[3] * (i+1 - d[i-1][1])\n",
    "                \n",
    "            most_left = min(heights.index(heights[i]), d[i-1][1])\n",
    "            \n",
    "            for left in range(most_left, i+1):\n",
    "                if min(heights[left:i+1]) * (i+1-left) > alternative[0]:\n",
    "                    alternative[1], alternative[2], alternative[3] = left, i + 1, min(heights[left:i+1])\n",
    "                    alternative[0] = alternative[3] * (i+1 - left)\n",
    "            d[i] = alternative\n",
    "        return d[-1][0]"
   ]
  },
  {
   "cell_type": "code",
   "execution_count": 3,
   "metadata": {},
   "outputs": [],
   "source": [
    "# time limit exceeded\n",
    "\n",
    "class Solution:\n",
    "    def largestRectangleArea(self, heights: List[int]) -> int:\n",
    "        nums = sorted(set(heights))\n",
    "        max_area = 0\n",
    "        for num in nums:\n",
    "            combinations = ''.join(list(map(lambda i: str(int(heights[i] >= num)), range(len(heights))))).split('0')\n",
    "            num_area = len(sorted(combinations, key = len)[-1]) * num\n",
    "            if num_area > max_area:\n",
    "                max_area = num_area\n",
    "        return max_area"
   ]
  },
  {
   "cell_type": "code",
   "execution_count": 7,
   "metadata": {},
   "outputs": [
    {
     "name": "stdout",
     "output_type": "stream",
     "text": [
      "[2, 1, 5, 6, 2, 3] : 10\n",
      "[4, 4, 4, 4] : 16\n",
      "[4, 2, 6, 6] : 12\n",
      "[] : 0\n",
      "[0, 1, 0, 2, 1, 0, 1, 3, 2, 1, 2, 1] : 6\n",
      "range(0, 20000) : 100000000\n",
      "[1, 2, 3, 4, 5] : 9\n",
      "[5, 4, 3, 2, 1] : 9\n",
      "Time elapsed: 0.02483 seconds\n"
     ]
    }
   ],
   "source": [
    "inputs = [\n",
    "    [[2,1,5,6,2,3]], \n",
    "    [[4,4,4,4]],\n",
    "    [[4,2,6,6]], [[]], \n",
    "    [[0,1,0,2,1,0,1,3,2,1,2,1]],\n",
    "    [range(20000)],\n",
    "    [[1,2,3,4,5]],\n",
    "    [[5,4,3,2,1]]\n",
    "]\n",
    "test(inputs, Solution().largestRectangleArea)"
   ]
  },
  {
   "cell_type": "code",
   "execution_count": 4,
   "metadata": {},
   "outputs": [],
   "source": [
    "# official solution: brute force\n",
    "# time limit exceeded\n",
    "\n",
    "class Solution:\n",
    "    def largestRectangleArea(self, heights: List[int]) -> int:\n",
    "        max_area = 0\n",
    "        for i in range(len(heights)):\n",
    "            min_height = float('inf')\n",
    "            for j in range(i, len(heights)):\n",
    "                min_height = min(min_height, heights[j])\n",
    "                max_area = max(max_area, min_height * (j-i+1))\n",
    "        return max_area"
   ]
  },
  {
   "cell_type": "code",
   "execution_count": 5,
   "metadata": {},
   "outputs": [],
   "source": [
    "# official solution: divde and conquer \n",
    "# recursion error\n",
    "\n",
    "class Solution:\n",
    "    def calculateArea(self, heights, start, end):\n",
    "        if start > end:\n",
    "            return 0\n",
    "        min_idx = start\n",
    "        for i in range(start, end+1):\n",
    "            if heights[min_idx] > heights[i]:\n",
    "                min_idx = i\n",
    "        return max(heights[min_idx]*(end-start+1), self.calculateArea(heights, start, min_idx-1), \n",
    "                                                          self.calculateArea(heights, min_idx+1, end))\n",
    "    def largestRectangleArea(self, heights: List[int]) -> int:\n",
    "        return self.calculateArea(heights, 0, len(heights)-1)"
   ]
  },
  {
   "cell_type": "code",
   "execution_count": 6,
   "metadata": {},
   "outputs": [],
   "source": [
    "# official solution: Stack\n",
    "# Runtime: 172 ms, faster than 5.17% of Python3 online submissions for Largest Rectangle in Histogram.\n",
    "# Memory Usage: 16.4 MB, less than 47.64% of Python3 online submissions for Largest Rectangle in Histogram.\n",
    "\n",
    "class Solution:\n",
    "    def largestRectangleArea(self, heights: List[int]) -> int:\n",
    "        stack = []\n",
    "        stack.append(-1)\n",
    "        max_area = 0\n",
    "        for i in range(len(heights)):\n",
    "            while stack[-1] != -1 and heights[stack[-1]] >= heights[i]:\n",
    "                max_area = max(max_area, heights[stack.pop()] * (i-stack[-1]-1))\n",
    "            stack.append(i)\n",
    "            \n",
    "        while stack[-1] != -1:\n",
    "            max_area = max(max_area, heights[stack.pop()] * (len(heights) - stack[-1] -1))\n",
    "        return max_area"
   ]
  },
  {
   "cell_type": "code",
   "execution_count": null,
   "metadata": {},
   "outputs": [],
   "source": []
  }
 ],
 "metadata": {
  "kernelspec": {
   "display_name": "Python 3",
   "language": "python",
   "name": "python3"
  },
  "language_info": {
   "codemirror_mode": {
    "name": "ipython",
    "version": 3
   },
   "file_extension": ".py",
   "mimetype": "text/x-python",
   "name": "python",
   "nbconvert_exporter": "python",
   "pygments_lexer": "ipython3",
   "version": "3.7.4"
  }
 },
 "nbformat": 4,
 "nbformat_minor": 2
}
