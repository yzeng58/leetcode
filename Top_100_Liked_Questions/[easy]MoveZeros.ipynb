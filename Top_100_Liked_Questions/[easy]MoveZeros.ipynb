{
 "cells": [
  {
   "cell_type": "markdown",
   "metadata": {},
   "source": [
    "https://leetcode.com/problems/move-zeroes/\n",
    "\n",
    "Given an array nums, write a function to move all 0's to the end of it while maintaining the relative order of the non-zero elements."
   ]
  },
  {
   "cell_type": "code",
   "execution_count": 1,
   "metadata": {},
   "outputs": [],
   "source": [
    "from modules import *"
   ]
  },
  {
   "cell_type": "code",
   "execution_count": 2,
   "metadata": {},
   "outputs": [],
   "source": [
    "# my solution\n",
    "# Runtime: 52 ms, faster than 47.44% of Python3 online submissions for Move Zeroes.\n",
    "# Memory Usage: 15.2 MB, less than 62.28% of Python3 online submissions for Move Zeroes.\n",
    "\n",
    "class Solution:\n",
    "    def moveZeroes(self, nums: List[int]) -> None:\n",
    "        \"\"\"\n",
    "        Do not return anything, modify nums in-place instead.\n",
    "        \"\"\"\n",
    "        i = 0\n",
    "        poped = 0\n",
    "        \n",
    "        while i + poped < len(nums):\n",
    "            if nums[i] == 0:\n",
    "                nums.pop(i)\n",
    "                poped += 1\n",
    "                nums.append(0)\n",
    "                i -= 1\n",
    "            i += 1\n",
    "            \n",
    "        return nums"
   ]
  },
  {
   "cell_type": "code",
   "execution_count": 3,
   "metadata": {},
   "outputs": [
    {
     "name": "stdout",
     "output_type": "stream",
     "text": [
      "[0, 1, 0, 3, 12] : [1, 3, 12, 0, 0]\n",
      "Time elapsed: 0.00020 seconds\n"
     ]
    }
   ],
   "source": [
    "inputs = [\n",
    "    [[0,1,0,3,12]]\n",
    "]\n",
    "test(inputs, Solution().moveZeroes)"
   ]
  }
 ],
 "metadata": {
  "kernelspec": {
   "display_name": "Python 3",
   "language": "python",
   "name": "python3"
  },
  "language_info": {
   "codemirror_mode": {
    "name": "ipython",
    "version": 3
   },
   "file_extension": ".py",
   "mimetype": "text/x-python",
   "name": "python",
   "nbconvert_exporter": "python",
   "pygments_lexer": "ipython3",
   "version": "3.7.4"
  }
 },
 "nbformat": 4,
 "nbformat_minor": 2
}
