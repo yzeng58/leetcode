{
 "cells": [
  {
   "cell_type": "markdown",
   "metadata": {},
   "source": [
    "https://leetcode.com/problems/find-all-anagrams-in-a-string/\n",
    "\n",
    "Given a string s and a non-empty string p, find all the start indices of p's anagrams in s.\n",
    "\n",
    "Strings consists of lowercase English letters only and the length of both strings s and p will not be larger than 20,100.\n",
    "\n",
    "The order of output does not matter."
   ]
  },
  {
   "cell_type": "code",
   "execution_count": 1,
   "metadata": {},
   "outputs": [],
   "source": [
    "from modules import *"
   ]
  },
  {
   "cell_type": "code",
   "execution_count": 2,
   "metadata": {},
   "outputs": [],
   "source": [
    "# my solution\n",
    "# Runtime: 7380 ms, faster than 8.38% of Python3 online submissions for Find All Anagrams in a String.\n",
    "# Memory Usage: 15.2 MB, less than 26.80% of Python3 online submissions for Find All Anagrams in a String.\n",
    "\n",
    "class Solution:\n",
    "    def findAnagrams(self, s: str, p: str) -> List[int]:\n",
    "        p = sorted(p)\n",
    "        idx = []\n",
    "        for i in range(len(s)-len(p)+1):\n",
    "            if sorted(s[i:i+len(p)]) == p:\n",
    "                idx.append(i)\n",
    "        return idx"
   ]
  },
  {
   "cell_type": "code",
   "execution_count": 3,
   "metadata": {},
   "outputs": [
    {
     "name": "stdout",
     "output_type": "stream",
     "text": [
      "cbaebabacd abc : [0, 6]\n",
      "abab ab : [0, 1, 2]\n",
      "Time elapsed: 0.00304 seconds\n"
     ]
    }
   ],
   "source": [
    "inputs = [\n",
    "    [\"cbaebabacd\", \"abc\"],\n",
    "    [\"abab\", \"ab\"]\n",
    "]\n",
    "test(inputs, Solution().findAnagrams)"
   ]
  },
  {
   "cell_type": "code",
   "execution_count": 4,
   "metadata": {},
   "outputs": [],
   "source": [
    "# official solution\n",
    "# Runtime: 148 ms, faster than 45.33% of Python3 online submissions for Find All Anagrams in a String.\n",
    "# Memory Usage: 15.2 MB, less than 26.80% of Python3 online submissions for Find All Anagrams in a String.\n",
    "\n",
    "class Solution:\n",
    "    def findAnagrams(self, s: str, p: str) -> List[int]:\n",
    "        ns, np = len(s), len(p)\n",
    "        if ns < np:\n",
    "            return []\n",
    "\n",
    "        p_count = Counter(p)\n",
    "        s_count = Counter()\n",
    "        \n",
    "        output = []\n",
    "        # sliding window on the string s\n",
    "        for i in range(ns):\n",
    "            # add one more letter \n",
    "            # on the right side of the window\n",
    "            s_count[s[i]] += 1\n",
    "            # remove one letter \n",
    "            # from the left side of the window\n",
    "            if i >= np:\n",
    "                if s_count[s[i - np]] == 1:\n",
    "                    del s_count[s[i - np]]\n",
    "                else:\n",
    "                    s_count[s[i - np]] -= 1\n",
    "            # compare array in the sliding window\n",
    "            # with the reference array\n",
    "            if p_count == s_count:\n",
    "                output.append(i - np + 1)\n",
    "        \n",
    "        return output"
   ]
  }
 ],
 "metadata": {
  "kernelspec": {
   "display_name": "Python 3",
   "language": "python",
   "name": "python3"
  },
  "language_info": {
   "codemirror_mode": {
    "name": "ipython",
    "version": 3
   },
   "file_extension": ".py",
   "mimetype": "text/x-python",
   "name": "python",
   "nbconvert_exporter": "python",
   "pygments_lexer": "ipython3",
   "version": "3.7.4"
  }
 },
 "nbformat": 4,
 "nbformat_minor": 2
}
