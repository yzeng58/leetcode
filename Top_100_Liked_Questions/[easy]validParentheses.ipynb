{
 "cells": [
  {
   "cell_type": "code",
   "execution_count": 1,
   "metadata": {},
   "outputs": [],
   "source": [
    "class Solution:\n",
    "    def isValid(self, s: str) -> bool:\n",
    "        parentheses = []\n",
    "        par_dict = {\")\": \"(\", \"}\": \"{\", \"]\": \"[\"}\n",
    "        current = None\n",
    "        \n",
    "        for char in s:\n",
    "            if char in par_dict.keys():\n",
    "                if current != par_dict[char]:\n",
    "                    return False\n",
    "                else:\n",
    "                    parentheses.pop()\n",
    "                    current = parentheses[-1] if len(parentheses) > 0 else None\n",
    "                    \n",
    "            elif char in par_dict.values():\n",
    "                parentheses.append(char)\n",
    "                current = char\n",
    "                \n",
    "        if current != None:\n",
    "            return False\n",
    "        \n",
    "        return True            "
   ]
  },
  {
   "cell_type": "code",
   "execution_count": 3,
   "metadata": {},
   "outputs": [
    {
     "data": {
      "text/plain": [
       "False"
      ]
     },
     "execution_count": 3,
     "metadata": {},
     "output_type": "execute_result"
    }
   ],
   "source": [
    "sol = Solution()\n",
    "sol.isValid(\"(}\")"
   ]
  },
  {
   "cell_type": "code",
   "execution_count": null,
   "metadata": {},
   "outputs": [],
   "source": []
  }
 ],
 "metadata": {
  "kernelspec": {
   "display_name": "Python 3",
   "language": "python",
   "name": "python3"
  },
  "language_info": {
   "codemirror_mode": {
    "name": "ipython",
    "version": 3
   },
   "file_extension": ".py",
   "mimetype": "text/x-python",
   "name": "python",
   "nbconvert_exporter": "python",
   "pygments_lexer": "ipython3",
   "version": "3.7.4"
  }
 },
 "nbformat": 4,
 "nbformat_minor": 2
}
