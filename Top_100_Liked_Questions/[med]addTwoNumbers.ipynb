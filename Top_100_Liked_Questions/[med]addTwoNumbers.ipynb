{
 "cells": [
  {
   "cell_type": "code",
   "execution_count": null,
   "metadata": {},
   "outputs": [],
   "source": [
    "# Definition for singly-linked list.\n",
    "class ListNode(object):\n",
    "    def __init__(self, val=0, next=None):\n",
    "        self.val = val\n",
    "        self.next = next\n",
    "        \n",
    "class Solution(object):\n",
    "    def addTwoNumbers(self, l1, l2):\n",
    "        \"\"\"\n",
    "        :type l1: ListNode\n",
    "        :type l2: ListNode\n",
    "        :rtype: ListNode\n",
    "        \"\"\"\n",
    "        currentNode1 = l1\n",
    "        currentNode2 = l2\n",
    "        newList = [] \n",
    "        addOne = 0\n",
    "        \n",
    "        while currentNode1 != None or currentNode2 != None or addOne == 1:\n",
    "            if currentNode1 == None and currentNode2 == None and addOne == 1:\n",
    "                currentSum = 1\n",
    "            elif currentNode1 == None:\n",
    "                currentSum = currentNode2.val + addOne\n",
    "                currentNode2 = currentNode2.next\n",
    "            elif currentNode2 == None:\n",
    "                currentSum = currentNode1.val + addOne\n",
    "                currentNode1 = currentNode1.next\n",
    "            else:\n",
    "                currentSum = currentNode1.val + currentNode2.val + addOne\n",
    "                currentNode1 = currentNode1.next\n",
    "                currentNode2 = currentNode2.next\n",
    "            if currentSum >= 10:\n",
    "                newList.append(ListNode(currentSum-10))\n",
    "                addOne = 1\n",
    "            else:\n",
    "                newList.append(ListNode(currentSum))\n",
    "                addOne = 0\n",
    "            \n",
    "        for i in range(len(newList)-1):\n",
    "            newList[i].next = newList[i+1]\n",
    "        return newList[0]"
   ]
  }
 ],
 "metadata": {
  "kernelspec": {
   "display_name": "Python 3",
   "language": "python",
   "name": "python3"
  },
  "language_info": {
   "codemirror_mode": {
    "name": "ipython",
    "version": 3
   },
   "file_extension": ".py",
   "mimetype": "text/x-python",
   "name": "python",
   "nbconvert_exporter": "python",
   "pygments_lexer": "ipython3",
   "version": "3.7.4"
  }
 },
 "nbformat": 4,
 "nbformat_minor": 2
}
