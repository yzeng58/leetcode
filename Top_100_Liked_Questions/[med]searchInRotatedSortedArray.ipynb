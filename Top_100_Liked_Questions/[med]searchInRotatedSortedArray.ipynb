{
 "cells": [
  {
   "cell_type": "code",
   "execution_count": 1,
   "metadata": {},
   "outputs": [],
   "source": [
    "from typing import List"
   ]
  },
  {
   "cell_type": "code",
   "execution_count": 6,
   "metadata": {},
   "outputs": [],
   "source": [
    "# built-in function: runtime 35.06%, memory: 12.58%\n",
    "class Solution:\n",
    "    def search(self, nums: List[int], target: int) -> int:\n",
    "        try:\n",
    "            return nums.index(target)\n",
    "        except ValueError:\n",
    "            return -1"
   ]
  },
  {
   "cell_type": "code",
   "execution_count": 41,
   "metadata": {},
   "outputs": [],
   "source": [
    "# my solution2: runtime 68.17%, memory: 12.58%\n",
    "class Solution:\n",
    "    def binarySearchHelper(self, nums, start, end, sort = False):\n",
    "        if start > end or (start == end and self.target != nums[start]):\n",
    "            return -1\n",
    "        \n",
    "        mid = (start + end)//2\n",
    "        if self.target == nums[mid]:\n",
    "            return mid\n",
    "        if sort:\n",
    "            if self.target < nums[mid]:\n",
    "                return self.binarySearchHelper(nums, start, mid, True)\n",
    "            else:\n",
    "                return self.binarySearchHelper(nums, mid+1, end, True)\n",
    "            \n",
    "        if nums[mid] < nums[end]:\n",
    "            if nums[mid] < self.target <= nums[end]:\n",
    "                return self.binarySearchHelper(nums, mid+1, end, True)\n",
    "            else:\n",
    "                return self.binarySearchHelper(nums, start, mid)\n",
    "        else:\n",
    "            if nums[start] <= self.target < nums[mid]:\n",
    "                return self.binarySearchHelper(nums, start, mid, True)\n",
    "            else:\n",
    "                return self.binarySearchHelper(nums, mid+1, end)\n",
    "            \n",
    "    def search(self, nums: List[int], target: int) -> int:\n",
    "        self.target = target\n",
    "        return self.binarySearchHelper(nums, 0, len(nums)-1)"
   ]
  },
  {
   "cell_type": "code",
   "execution_count": 42,
   "metadata": {},
   "outputs": [
    {
     "name": "stdout",
     "output_type": "stream",
     "text": [
      "[1, 3], 2: -1\n",
      "[3, 5, 1], 3: 0\n"
     ]
    }
   ],
   "source": [
    "sol = Solution()\n",
    "inputs = [[[1, 3], 2], [[3,5,1], 3]]\n",
    "for nums, target in inputs:\n",
    "    print(str(nums) + \", \" + str(target) + \": \" + str(sol.search(nums, target)))"
   ]
  },
  {
   "cell_type": "code",
   "execution_count": null,
   "metadata": {},
   "outputs": [],
   "source": [
    "# solution: runtime 88.73%, memory 48.46%\n",
    "class Solution:\n",
    "    def search(self, nums: List[int], target: int) -> int:\n",
    "        start, end = 0, len(nums) - 1\n",
    "        while start <= end:\n",
    "            mid = start + (end - start) // 2\n",
    "            if nums[mid] == target:\n",
    "                return mid\n",
    "            elif nums[mid] >= nums[start]:\n",
    "                if target >= nums[start] and target < nums[mid]:\n",
    "                    end = mid - 1\n",
    "                else:\n",
    "                    start = mid + 1\n",
    "            else:\n",
    "                if target <= nums[end] and target > nums[mid]:\n",
    "                    start = mid + 1\n",
    "                else:\n",
    "                    end = mid - 1\n",
    "        return -1"
   ]
  },
  {
   "cell_type": "code",
   "execution_count": null,
   "metadata": {},
   "outputs": [],
   "source": []
  }
 ],
 "metadata": {
  "kernelspec": {
   "display_name": "Python 3",
   "language": "python",
   "name": "python3"
  },
  "language_info": {
   "codemirror_mode": {
    "name": "ipython",
    "version": 3
   },
   "file_extension": ".py",
   "mimetype": "text/x-python",
   "name": "python",
   "nbconvert_exporter": "python",
   "pygments_lexer": "ipython3",
   "version": "3.7.4"
  }
 },
 "nbformat": 4,
 "nbformat_minor": 2
}
