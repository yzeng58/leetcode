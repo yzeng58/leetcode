{
 "cells": [
  {
   "cell_type": "markdown",
   "metadata": {},
   "source": [
    "https://leetcode.com/problems/best-time-to-buy-and-sell-stock-with-cooldown/\n",
    "\n",
    "Say you have an array for which the ith element is the price of a given stock on day i.\n",
    "\n",
    "Design an algorithm to find the maximum profit. You may complete as many transactions as you like (ie, buy one and sell one share of the stock multiple times) with the following restrictions:\n",
    "\n",
    "* You may not engage in multiple transactions at the same time (ie, you must sell the stock before you buy again).\n",
    "* After you sell your stock, you cannot buy stock on next day. (ie, cooldown 1 day)"
   ]
  },
  {
   "cell_type": "code",
   "execution_count": 1,
   "metadata": {},
   "outputs": [],
   "source": [
    "from modules import *"
   ]
  },
  {
   "cell_type": "code",
   "execution_count": 2,
   "metadata": {},
   "outputs": [],
   "source": [
    "# time limit exceeded\n",
    "\n",
    "class Solution:\n",
    "    def maxProfitHelper(self, prices, moves, start_price = 0):\n",
    "        if len(prices) == 1:\n",
    "            if \"sell\" in moves:\n",
    "                return prices[0] - start_price\n",
    "            else:\n",
    "                return 0\n",
    "            \n",
    "        if \"buy\" in moves:\n",
    "            return max(self.maxProfitHelper(prices[1:], [\"sell\", \"cooldown\"], prices[0]), \n",
    "                      self.maxProfitHelper(prices[1:], [\"buy\", \"cooldown\"]))\n",
    "        elif \"sell\" in moves:\n",
    "            return max(self.maxProfitHelper(prices[1:], [\"cooldown\"]) + prices[0] - start_price, \n",
    "                      self.maxProfitHelper(prices[1:], [\"sell\", \"cooldown\"], start_price))\n",
    "        else:\n",
    "            return self.maxProfitHelper(prices[1:], [\"buy\", \"cooldown\"])\n",
    "        \n",
    "    def maxProfit(self, prices: List[int]) -> int:\n",
    "        if not prices:\n",
    "            return 0\n",
    "        return self.maxProfitHelper(prices, [\"buy\", \"cooldown\"])"
   ]
  },
  {
   "cell_type": "code",
   "execution_count": 4,
   "metadata": {},
   "outputs": [
    {
     "name": "stdout",
     "output_type": "stream",
     "text": [
      "[1, 2, 3, 0, 2] : 3\n",
      "[] : 0\n",
      "[48, 12, 60, 93, 97, 42, 25, 64, 17, 56, 85, 93, 9, 48, 52, 42, 58, 85, 81, 84, 69, 36, 1, 54, 23, 15, 72, 15, 11, 94] : 428\n",
      "[6, 1, 3, 2, 4, 7] : 6\n",
      "[1, 4, 2] : 3\n",
      "[2, 1, 4, 5, 2, 9, 7] : 10\n",
      "[2, 6, 8, 7, 8, 7, 9, 4, 1, 2, 4, 5, 8] : 15\n",
      "[8, 6, 4, 3, 3, 2, 3, 5, 8, 3, 8, 2, 6] : 10\n",
      "Time elapsed: 0.00134 seconds\n"
     ]
    }
   ],
   "source": [
    "# 3, 0, 421, 6, 3, 10, 15, 10\n",
    "inputs = [\n",
    "    [[1,2,3,0,2]],\n",
    "    [[]],\n",
    "    [[48,12,60,93,97,42,25,64,17,56,85,93,9,48,52,42,58,85,81,84,69,36,1,54,23,15,72,15,11,94]],\n",
    "    [[6,1,3,2,4,7]],\n",
    "    [[1,4,2]],\n",
    "    [[2,1,4,5,2,9,7]],\n",
    "    [[2,6,8,7,8,7,9,4,1,2,4,5,8]],\n",
    "    [[8,6,4,3,3,2,3,5,8,3,8,2,6]]\n",
    "]\n",
    "test(inputs, Solution().maxProfit)"
   ]
  },
  {
   "cell_type": "code",
   "execution_count": 3,
   "metadata": {},
   "outputs": [],
   "source": [
    "# official solution\n",
    "# Runtime: 40 ms, faster than 65.45% of Python3 online submissions for Best Time to Buy and Sell Stock with Cooldown.\n",
    "# Memory Usage: 14.5 MB, less than 71.98% of Python3 online submissions for Best Time to Buy and Sell Stock with Cooldown.\n",
    "\n",
    "class Solution(object):\n",
    "    def maxProfit(self, prices):\n",
    "        \"\"\"\n",
    "        :type prices: List[int]\n",
    "        :rtype: int\n",
    "        \"\"\"\n",
    "        sold, held, reset = float('-inf'), float('-inf'), 0\n",
    "\n",
    "        for price in prices:\n",
    "            # Alternative: the calculation is done in parallel.\n",
    "            # Therefore no need to keep temporary variables\n",
    "            #sold, held, reset = held + price, max(held, reset-price), max(reset, sold)\n",
    "\n",
    "            pre_sold = sold\n",
    "            sold = held + price\n",
    "            held = max(held, reset - price)\n",
    "            reset = max(reset, pre_sold)\n",
    "\n",
    "        return max(sold, reset)"
   ]
  }
 ],
 "metadata": {
  "kernelspec": {
   "display_name": "Python 3",
   "language": "python",
   "name": "python3"
  },
  "language_info": {
   "codemirror_mode": {
    "name": "ipython",
    "version": 3
   },
   "file_extension": ".py",
   "mimetype": "text/x-python",
   "name": "python",
   "nbconvert_exporter": "python",
   "pygments_lexer": "ipython3",
   "version": "3.7.4"
  }
 },
 "nbformat": 4,
 "nbformat_minor": 2
}
