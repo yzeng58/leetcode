{
 "cells": [
  {
   "cell_type": "markdown",
   "metadata": {},
   "source": [
    "https://leetcode.com/problems/search-a-2d-matrix-ii/\n",
    "\n",
    "Write an efficient algorithm that searches for a target value in an m x n integer matrix. The matrix has the following properties:\n",
    "\n",
    "* Integers in each row are sorted in ascending from left to right.\n",
    "* Integers in each column are sorted in ascending from top to bottom."
   ]
  },
  {
   "cell_type": "code",
   "execution_count": 1,
   "metadata": {},
   "outputs": [],
   "source": [
    "from modules import *"
   ]
  },
  {
   "cell_type": "code",
   "execution_count": 2,
   "metadata": {},
   "outputs": [],
   "source": [
    "# my solution\n",
    "# Runtime: 208 ms, faster than 6.19% of Python3 online submissions for Search a 2D Matrix II.\n",
    "# Memory Usage: 20.9 MB, less than 6.45% of Python3 online submissions for Search a 2D Matrix II.\n",
    "\n",
    "class Solution:\n",
    "    def searchHelper(self, i, j):\n",
    "        if i >= self.nrow or j >= self.ncol or self.path[i][j] or i < 0 or j < 0:\n",
    "            return False\n",
    "        \n",
    "        self.path[i][j] = True\n",
    "        \n",
    "        if self.matrix[i][j] == self.target:\n",
    "            return True\n",
    "        elif self.matrix[i][j] < self.target:\n",
    "            if self.searchHelper(i+1,j) or self.searchHelper(i,j+1):\n",
    "                return True\n",
    "        else:\n",
    "            if self.searchHelper(i-1,j) or self.searchHelper(i,j-1):\n",
    "                return True\n",
    "        \n",
    "        return False\n",
    "        \n",
    "    def searchMatrix(self, matrix: List[List[int]], target: int) -> bool:\n",
    "        self.matrix, self.target = matrix, target\n",
    "        self.nrow, self.ncol = len(matrix), len(matrix[0])\n",
    "        self.path = [[False for _ in range(self.ncol)] for _ in range(self.nrow)]\n",
    "        self.path[0][0] = True\n",
    "        \n",
    "        if self.matrix[0][0] == self.target:\n",
    "            return True\n",
    "        elif self.matrix[0][0] > self.target:\n",
    "            return False\n",
    "        else:\n",
    "            return self.searchHelper(0,1) or self.searchHelper(1,0)"
   ]
  },
  {
   "cell_type": "code",
   "execution_count": 3,
   "metadata": {},
   "outputs": [
    {
     "name": "stdout",
     "output_type": "stream",
     "text": [
      "[[1, 4, 7, 11, 15], [2, 5, 8, 12, 19], [3, 6, 9, 16, 22], [10, 13, 14, 17, 24], [18, 21, 23, 26, 30]] 5 : True\n",
      "[[1, 4, 7, 11, 15], [2, 5, 8, 12, 19], [3, 6, 9, 16, 22], [10, 13, 14, 17, 24], [18, 21, 23, 26, 30]] 20 : False\n",
      "Time elapsed: 0.00034 seconds\n"
     ]
    }
   ],
   "source": [
    "inputs = [\n",
    "    [[[1,4,7,11,15],[2,5,8,12,19],[3,6,9,16,22],[10,13,14,17,24],[18,21,23,26,30]], 5],\n",
    "    [[[1,4,7,11,15],[2,5,8,12,19],[3,6,9,16,22],[10,13,14,17,24],[18,21,23,26,30]], 20]\n",
    "]\n",
    "test(inputs, Solution().searchMatrix)"
   ]
  },
  {
   "cell_type": "code",
   "execution_count": 4,
   "metadata": {},
   "outputs": [],
   "source": [
    "# official solution\n",
    "# Runtime: 156 ms, faster than 60.45% of Python3 online submissions for Search a 2D Matrix II.\n",
    "# Memory Usage: 20.7 MB, less than 19.95% of Python3 online submissions for Search a 2D Matrix II.\n",
    "\n",
    "class Solution:\n",
    "    def searchMatrix(self, matrix: List[List[int]], target: int) -> bool:\n",
    "        # an empty matrix obviously does not contain `target` (make this check\n",
    "        # because we want to cache `width` for efficiency's sake)\n",
    "        if len(matrix) == 0 or len(matrix[0]) == 0:\n",
    "            return False\n",
    "\n",
    "        # cache these, as they won't change.\n",
    "        height = len(matrix)\n",
    "        width = len(matrix[0])\n",
    "\n",
    "        # start our \"pointer\" in the bottom-left\n",
    "        row = height - 1\n",
    "        col = 0\n",
    "\n",
    "        while col < width and row >= 0:\n",
    "            if matrix[row][col] > target:\n",
    "                row -= 1\n",
    "            elif matrix[row][col] < target:\n",
    "                col += 1\n",
    "            else: # found it\n",
    "                return True\n",
    "        \n",
    "        return False"
   ]
  }
 ],
 "metadata": {
  "kernelspec": {
   "display_name": "Python 3",
   "language": "python",
   "name": "python3"
  },
  "language_info": {
   "codemirror_mode": {
    "name": "ipython",
    "version": 3
   },
   "file_extension": ".py",
   "mimetype": "text/x-python",
   "name": "python",
   "nbconvert_exporter": "python",
   "pygments_lexer": "ipython3",
   "version": "3.7.4"
  }
 },
 "nbformat": 4,
 "nbformat_minor": 2
}
