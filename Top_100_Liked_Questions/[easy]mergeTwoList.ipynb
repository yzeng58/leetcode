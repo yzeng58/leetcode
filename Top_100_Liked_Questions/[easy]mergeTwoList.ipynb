{
 "cells": [
  {
   "cell_type": "code",
   "execution_count": 1,
   "metadata": {},
   "outputs": [],
   "source": [
    "# Definition for singly-linked list.\n",
    "class ListNode:\n",
    "    def __init__(self, val=0, next=None):\n",
    "        self.val = val\n",
    "        self.next = next"
   ]
  },
  {
   "cell_type": "code",
   "execution_count": 2,
   "metadata": {},
   "outputs": [],
   "source": [
    "class Solution:\n",
    "    def mergeTwoLists(self, l1: ListNode, l2: ListNode) -> ListNode:\n",
    "        head = None\n",
    "        currents = [l1, l2, None]\n",
    "        \n",
    "        while currents[0] != None and currents[1] != None:\n",
    "            if currents[0].val <= currents[1].val:\n",
    "                smaller = currents[0]\n",
    "                currents[0] = currents[0].next\n",
    "            else:\n",
    "                smaller = currents[1]\n",
    "                currents[1] = currents[1].next\n",
    "            if currents[2] == None:\n",
    "                head = smaller\n",
    "                currents[2] = smaller\n",
    "            else:\n",
    "                currents[2].next = smaller\n",
    "                currents[2] = smaller\n",
    "                \n",
    "        if currents[0] != None and head == None: \n",
    "            head = currents[0]\n",
    "        elif currents[1] != None and head == None:\n",
    "            head = currents[1]\n",
    "        elif currents[0] == None and head != None:\n",
    "            currents[2].next = currents[1]\n",
    "        elif currents[1] == None and head != None:\n",
    "            currents[2].next = currents[0]\n",
    "            \n",
    "        return head\n",
    "        "
   ]
  },
  {
   "cell_type": "code",
   "execution_count": null,
   "metadata": {},
   "outputs": [],
   "source": [
    "# better one\n",
    "class Solution:\n",
    "    def mergeTwoLists(self, l1, l2):\n",
    "        # maintain an unchanging reference to node ahead of the return node.\n",
    "        prehead = ListNode(-1)\n",
    "\n",
    "        prev = prehead\n",
    "        while l1 and l2:\n",
    "            if l1.val <= l2.val:\n",
    "                prev.next = l1\n",
    "                l1 = l1.next\n",
    "            else:\n",
    "                prev.next = l2\n",
    "                l2 = l2.next            \n",
    "            prev = prev.next\n",
    "\n",
    "        # exactly one of l1 and l2 can be non-null at this point, so connect\n",
    "        # the non-null list to the end of the merged list.\n",
    "        prev.next = l1 if l1 is not None else l2\n",
    "\n",
    "        return prehead.next"
   ]
  }
 ],
 "metadata": {
  "kernelspec": {
   "display_name": "Python 3",
   "language": "python",
   "name": "python3"
  },
  "language_info": {
   "codemirror_mode": {
    "name": "ipython",
    "version": 3
   },
   "file_extension": ".py",
   "mimetype": "text/x-python",
   "name": "python",
   "nbconvert_exporter": "python",
   "pygments_lexer": "ipython3",
   "version": "3.7.4"
  }
 },
 "nbformat": 4,
 "nbformat_minor": 2
}
