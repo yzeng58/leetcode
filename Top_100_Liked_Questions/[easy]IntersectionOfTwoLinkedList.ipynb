{
 "cells": [
  {
   "cell_type": "markdown",
   "metadata": {},
   "source": [
    "https://leetcode.com/problems/intersection-of-two-linked-lists/\n",
    "\n",
    "Write a program to find the node at which the intersection of two singly linked lists begins."
   ]
  },
  {
   "cell_type": "code",
   "execution_count": 1,
   "metadata": {},
   "outputs": [],
   "source": [
    "from modules import *"
   ]
  },
  {
   "cell_type": "code",
   "execution_count": 2,
   "metadata": {},
   "outputs": [],
   "source": [
    "# my solution\n",
    "# Runtime: 176 ms, faster than 12.86% of Python3 online submissions for Intersection of Two Linked Lists.\n",
    "# Memory Usage: 30.1 MB, less than 6.26% of Python3 online submissions for Intersection of Two Linked Lists.\n",
    "\n",
    "class Solution:\n",
    "    def getIntersectionNode(self, headA: ListNode, headB: ListNode) -> ListNode:\n",
    "        node_list, num_list = [], []\n",
    "        current = headA\n",
    "        \n",
    "        while current != None:\n",
    "            num_list.append(current.val)\n",
    "            node_list.append(current)\n",
    "            current = current.next\n",
    "            \n",
    "        current = headB\n",
    "        num_list = set(num_list)\n",
    "        \n",
    "        while current != None:\n",
    "            if current.val in num_list:\n",
    "                if current in node_list:\n",
    "                    return current\n",
    "            \n",
    "            current = current.next\n",
    "            \n",
    "        return None"
   ]
  }
 ],
 "metadata": {
  "kernelspec": {
   "display_name": "Python 3",
   "language": "python",
   "name": "python3"
  },
  "language_info": {
   "codemirror_mode": {
    "name": "ipython",
    "version": 3
   },
   "file_extension": ".py",
   "mimetype": "text/x-python",
   "name": "python",
   "nbconvert_exporter": "python",
   "pygments_lexer": "ipython3",
   "version": "3.7.4"
  }
 },
 "nbformat": 4,
 "nbformat_minor": 2
}
