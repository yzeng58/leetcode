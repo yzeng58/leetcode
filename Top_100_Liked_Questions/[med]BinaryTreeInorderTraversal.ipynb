{
 "cells": [
  {
   "cell_type": "markdown",
   "metadata": {},
   "source": [
    "https://leetcode.com/problems/binary-tree-inorder-traversal/\n",
    "\n",
    "Given the root of a binary tree, return the inorder traversal of its nodes' values."
   ]
  },
  {
   "cell_type": "code",
   "execution_count": 1,
   "metadata": {},
   "outputs": [],
   "source": [
    "from modules import *"
   ]
  },
  {
   "cell_type": "code",
   "execution_count": 2,
   "metadata": {},
   "outputs": [],
   "source": [
    "# my solution\n",
    "# Runtime: 28 ms, faster than 81.08% of Python3 online submissions for Binary Tree Inorder Traversal.\n",
    "# Memory Usage: 14.1 MB, less than 56.14% of Python3 online submissions for Binary Tree Inorder Traversal.\n",
    "\n",
    "class Solution:\n",
    "    def inorderTraversal(self, root) -> List[int]:      \n",
    "        output = []\n",
    "        \n",
    "        if root != None:\n",
    "            if root.left != None:\n",
    "                output.extend(self.inorderTraversal(root.left))\n",
    "            \n",
    "            output.append(root.val)\n",
    "            \n",
    "            if root.right != None:\n",
    "                output.extend(self.inorderTraversal(root.right))\n",
    "            \n",
    "        return output"
   ]
  },
  {
   "cell_type": "code",
   "execution_count": 3,
   "metadata": {},
   "outputs": [
    {
     "name": "stdout",
     "output_type": "stream",
     "text": [
      "<modules.binaryTreeNode object at 0x10e0d8f90> : [1, 2, 3]\n",
      "None : []\n",
      "<modules.binaryTreeNode object at 0x10e0d7090> : [1, 3, 5, 5, 7, 8]\n",
      "Time elapsed: 0.00078 seconds\n"
     ]
    }
   ],
   "source": [
    "inputs = [\n",
    "    [binaryTreeNode.listToTree([1,2,3])], \n",
    "    [None],\n",
    "    [binaryTreeNode.listToTree([1,7,3,5,5,8])]\n",
    "]\n",
    "test(inputs, Solution().inorderTraversal)"
   ]
  }
 ],
 "metadata": {
  "kernelspec": {
   "display_name": "Python 3",
   "language": "python",
   "name": "python3"
  },
  "language_info": {
   "codemirror_mode": {
    "name": "ipython",
    "version": 3
   },
   "file_extension": ".py",
   "mimetype": "text/x-python",
   "name": "python",
   "nbconvert_exporter": "python",
   "pygments_lexer": "ipython3",
   "version": "3.7.4"
  }
 },
 "nbformat": 4,
 "nbformat_minor": 2
}
