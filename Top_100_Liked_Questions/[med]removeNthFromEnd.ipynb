{
 "cells": [
  {
   "cell_type": "code",
   "execution_count": 1,
   "metadata": {},
   "outputs": [],
   "source": [
    "# Definition for singly-linked list.\n",
    "class ListNode:\n",
    "    def __init__(self, val=0, next=None):\n",
    "        self.val = val\n",
    "        self.next = next"
   ]
  },
  {
   "cell_type": "code",
   "execution_count": 4,
   "metadata": {},
   "outputs": [],
   "source": [
    "class Solution:\n",
    "    def removeNthFromEnd(self, head: ListNode, n: int) -> ListNode:\n",
    "        if head.next == None:\n",
    "            return None\n",
    "        \n",
    "        current = head\n",
    "        nodes = [head]\n",
    "        \n",
    "        while current.next != None:\n",
    "            current = current.next\n",
    "            nodes.append(current)\n",
    "            \n",
    "        if n != len(nodes) and n != 1:\n",
    "            nodes[-n-1].next = nodes[-n+1]\n",
    "        elif n == len(nodes):\n",
    "            head = head.next\n",
    "        elif n == 1:\n",
    "            nodes[-2].next = None\n",
    "            \n",
    "        return head"
   ]
  },
  {
   "cell_type": "code",
   "execution_count": null,
   "metadata": {},
   "outputs": [],
   "source": []
  }
 ],
 "metadata": {
  "kernelspec": {
   "display_name": "Python 3",
   "language": "python",
   "name": "python3"
  },
  "language_info": {
   "codemirror_mode": {
    "name": "ipython",
    "version": 3
   },
   "file_extension": ".py",
   "mimetype": "text/x-python",
   "name": "python",
   "nbconvert_exporter": "python",
   "pygments_lexer": "ipython3",
   "version": "3.7.4"
  }
 },
 "nbformat": 4,
 "nbformat_minor": 2
}
