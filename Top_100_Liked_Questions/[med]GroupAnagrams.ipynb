{
 "cells": [
  {
   "cell_type": "code",
   "execution_count": 1,
   "metadata": {},
   "outputs": [],
   "source": [
    "from modules import *"
   ]
  },
  {
   "cell_type": "code",
   "execution_count": 2,
   "metadata": {},
   "outputs": [],
   "source": [
    "# my solution\n",
    "# Runtime: 116 ms, faster than 27.03% of Python3 online submissions for Group Anagrams.\n",
    "# Memory Usage: 17.1 MB, less than 76.37% of Python3 online submissions for Group Anagrams.\n",
    "\n",
    "class Solution:\n",
    "    def isAnagrams(self, str1, str2):\n",
    "        return sorted(str1) == sorted(str2)\n",
    "    \n",
    "    def groupAnagrams(self, strs: List[str]) -> List[List[str]]:\n",
    "        if len(strs) <= 1:\n",
    "            return [strs]\n",
    "        \n",
    "        strs.sort(key = sorted)\n",
    "        anagrams = []\n",
    "        anagrams_processing = []\n",
    "        \n",
    "        for str_ in strs:\n",
    "            if len(anagrams_processing) == 0 or self.isAnagrams(str_, anagrams_processing[0]):\n",
    "                anagrams_processing.append(str_)\n",
    "            else:\n",
    "                anagrams.append(anagrams_processing)\n",
    "                anagrams_processing = [str_]\n",
    "                \n",
    "        if len(anagrams_processing) != 0:\n",
    "            anagrams.append(anagrams_processing)       \n",
    "        return anagrams"
   ]
  },
  {
   "cell_type": "code",
   "execution_count": 3,
   "metadata": {},
   "outputs": [
    {
     "name": "stdout",
     "output_type": "stream",
     "text": [
      "['eat', 'tea', 'tan', 'ate', 'nat', 'bat'] : [['bat'], ['eat', 'tea', 'ate'], ['tan', 'nat']]\n",
      "[''] : [['']]\n",
      "['a'] : [['a']]\n",
      "Time elapsed: 0.00038 seconds\n"
     ]
    }
   ],
   "source": [
    "inputs = [[[\"eat\",\"tea\",\"tan\",\"ate\",\"nat\",\"bat\"]], \n",
    "         [[\"\"]],\n",
    "         [[\"a\"]]]\n",
    "test(inputs, Solution().groupAnagrams)"
   ]
  },
  {
   "cell_type": "code",
   "execution_count": null,
   "metadata": {},
   "outputs": [],
   "source": [
    "# solution\n",
    "# Runtime: 96 ms, faster than 70.73% of Python3 online submissions for Group Anagrams.\n",
    "# Memory Usage: 18.2 MB, less than 30.26% of Python3 online submissions for Group Anagrams.\n",
    "\n",
    "class Solution(object):\n",
    "    def groupAnagrams(self, strs):\n",
    "        ans = collections.defaultdict(list)\n",
    "        for s in strs:\n",
    "            ans[tuple(sorted(s))].append(s)\n",
    "        return ans.values()"
   ]
  }
 ],
 "metadata": {
  "kernelspec": {
   "display_name": "Python 3",
   "language": "python",
   "name": "python3"
  },
  "language_info": {
   "codemirror_mode": {
    "name": "ipython",
    "version": 3
   },
   "file_extension": ".py",
   "mimetype": "text/x-python",
   "name": "python",
   "nbconvert_exporter": "python",
   "pygments_lexer": "ipython3",
   "version": "3.7.4"
  }
 },
 "nbformat": 4,
 "nbformat_minor": 2
}
