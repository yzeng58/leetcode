{
 "cells": [
  {
   "cell_type": "markdown",
   "metadata": {},
   "source": [
    "https://leetcode.com/problems/find-all-numbers-disappeared-in-an-array/\n",
    "\n",
    "Given an array of integers where 1 ≤ a[i] ≤ n (n = size of array), some elements appear twice and others appear once.\n",
    "\n",
    "Find all the elements of [1, n] inclusive that do not appear in this array.\n",
    "\n",
    "Could you do it without extra space and in O(n) runtime? You may assume the returned list does not count as extra space."
   ]
  },
  {
   "cell_type": "code",
   "execution_count": 1,
   "metadata": {},
   "outputs": [],
   "source": [
    "from modules import *"
   ]
  },
  {
   "cell_type": "code",
   "execution_count": 2,
   "metadata": {},
   "outputs": [],
   "source": [
    "# my solution\n",
    "# Runtime: 312 ms, faster than 98.96% of Python3 online submissions for Find All Numbers Disappeared in an Array.\n",
    "# Memory Usage: 25.3 MB, less than 9.80% of Python3 online submissions for Find All Numbers Disappeared in an Array.\n",
    "\n",
    "class Solution:\n",
    "    def findDisappearedNumbers(self, nums: List[int]) -> List[int]:\n",
    "        return list(set(range(1, len(nums)+1)) - set(nums))"
   ]
  },
  {
   "cell_type": "code",
   "execution_count": 3,
   "metadata": {},
   "outputs": [
    {
     "name": "stdout",
     "output_type": "stream",
     "text": [
      "[4, 3, 2, 7, 8, 2, 3, 1] : [5, 6]\n",
      "Time elapsed: 0.00014 seconds\n"
     ]
    }
   ],
   "source": [
    "inputs = [\n",
    "    [[4,3,2,7,8,2,3,1]]\n",
    "]\n",
    "test(inputs, Solution().findDisappearedNumbers)"
   ]
  },
  {
   "cell_type": "code",
   "execution_count": 4,
   "metadata": {},
   "outputs": [],
   "source": [
    "# official solution: hashmap\n",
    "# Runtime: 376 ms, faster than 39.55% of Python3 online submissions for Find All Numbers Disappeared in an Array.\n",
    "# Memory Usage: 21.9 MB, less than 81.19% of Python3 online submissions for Find All Numbers Disappeared in an Array.\n",
    "\n",
    "class Solution(object):\n",
    "    def findDisappearedNumbers(self, nums):\n",
    "        \"\"\"\n",
    "        :type nums: List[int]\n",
    "        :rtype: List[int]\n",
    "        \"\"\"\n",
    "        \n",
    "        # Iterate over each of the elements in the original array\n",
    "        for i in range(len(nums)):\n",
    "            \n",
    "            # Treat the value as the new index\n",
    "            new_index = abs(nums[i]) - 1\n",
    "            \n",
    "            # Check the magnitude of value at this new index\n",
    "            # If the magnitude is positive, make it negative \n",
    "            # thus indicating that the number nums[i] has \n",
    "            # appeared or has been visited.\n",
    "            if nums[new_index] > 0:\n",
    "                nums[new_index] *= -1\n",
    "        \n",
    "        # Response array that would contain the missing numbers\n",
    "        result = []    \n",
    "        \n",
    "        # Iterate over the numbers from 1 to N and add all those\n",
    "        # that have positive magnitude in the array \n",
    "        for i in range(1, len(nums) + 1):\n",
    "            if nums[i - 1] > 0:\n",
    "                result.append(i)\n",
    "                \n",
    "        return result        "
   ]
  }
 ],
 "metadata": {
  "kernelspec": {
   "display_name": "Python 3",
   "language": "python",
   "name": "python3"
  },
  "language_info": {
   "codemirror_mode": {
    "name": "ipython",
    "version": 3
   },
   "file_extension": ".py",
   "mimetype": "text/x-python",
   "name": "python",
   "nbconvert_exporter": "python",
   "pygments_lexer": "ipython3",
   "version": "3.7.4"
  }
 },
 "nbformat": 4,
 "nbformat_minor": 2
}
