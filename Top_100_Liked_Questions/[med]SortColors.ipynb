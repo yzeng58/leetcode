{
 "cells": [
  {
   "cell_type": "markdown",
   "metadata": {},
   "source": [
    "https://leetcode.com/problems/sort-colors/\n",
    "\n",
    "Given an array nums with n objects colored red, white, or blue, sort them in-place so that objects of the same color are adjacent, with the colors in the order red, white, and blue.\n",
    "\n",
    "Here, we will use the integers 0, 1, and 2 to represent the color red, white, and blue respectively.\n",
    "\n",
    "Follow up:\n",
    "\n",
    "Could you solve this problem without using the library's sort function?\n",
    "Could you come up with a one-pass algorithm using only O(1) constant space?"
   ]
  },
  {
   "cell_type": "code",
   "execution_count": 1,
   "metadata": {},
   "outputs": [],
   "source": [
    "from modules import *"
   ]
  },
  {
   "cell_type": "code",
   "execution_count": 2,
   "metadata": {},
   "outputs": [],
   "source": [
    "# my solution\n",
    "# Runtime: 40 ms, faster than 11.19% of Python3 online submissions for Sort Colors.\n",
    "# Memory Usage: 14.4 MB, less than 7.43% of Python3 online submissions for Sort Colors.\n",
    "\n",
    "class Solution:\n",
    "    def sortColors(self, nums: List[int]) -> None:\n",
    "        \"\"\"\n",
    "        Do not return anything, modify nums in-place instead.\n",
    "        \"\"\"\n",
    "        sorted_nums = binaryTreeNode.listToTree(nums).sort()\n",
    "        nums.clear()\n",
    "        nums.extend(sorted_nums)\n",
    "        \n",
    "        # only for test\n",
    "        return nums"
   ]
  },
  {
   "cell_type": "code",
   "execution_count": 3,
   "metadata": {},
   "outputs": [],
   "source": [
    "# my solutoin\n",
    "# Runtime: 32 ms, faster than 69.77% of Python3 online submissions for Sort Colors.\n",
    "# Memory Usage: 14.3 MB, less than 7.43% of Python3 online submissions for Sort Colors.\n",
    "\n",
    "class Solution:\n",
    "    def sortColors(self, nums: List[int]) -> None:\n",
    "        \"\"\"\n",
    "        Do not return anything, modify nums in-place instead.\n",
    "        \"\"\"\n",
    "        red, white, blue = 0, 0, 0\n",
    "        for i in range(len(nums)):\n",
    "            color = nums.pop(i)\n",
    "            if color == 0:\n",
    "                nums.insert(red, color)\n",
    "                red += 1\n",
    "                white += 1\n",
    "                blue += 1\n",
    "                \n",
    "            elif color == 1:\n",
    "                nums.insert(white, color)\n",
    "                blue += 1\n",
    "                white += 1\n",
    "                \n",
    "            else:\n",
    "                nums.insert(blue, color)\n",
    "                blue += 1\n",
    "                \n",
    "        # return only for tests\n",
    "        return nums"
   ]
  },
  {
   "cell_type": "code",
   "execution_count": 4,
   "metadata": {},
   "outputs": [
    {
     "name": "stdout",
     "output_type": "stream",
     "text": [
      "[2, 0, 2, 1, 1, 0] : [0, 0, 1, 1, 2, 2]\n",
      "[2, 0, 1] : [0, 1, 2]\n",
      "[0] : [0]\n",
      "[1] : [1]\n",
      "Time elapsed: 0.00050 seconds\n"
     ]
    }
   ],
   "source": [
    "inputs = [[[2,0,2,1,1,0]], [[2,0,1]], [[0]], [[1]]]\n",
    "test(inputs, Solution().sortColors)"
   ]
  },
  {
   "cell_type": "code",
   "execution_count": 5,
   "metadata": {},
   "outputs": [],
   "source": [
    "# Official solution\n",
    "# Runtime: 32 ms, faster than 69.77% of Python3 online submissions for Sort Colors.\n",
    "# Memory Usage: 14.1 MB, less than 56.80% of Python3 online submissions for Sort Colors.\n",
    "\n",
    "class Solution:\n",
    "    def sortColors(self, nums: List[int]) -> None:\n",
    "        \"\"\"\n",
    "        Dutch National Flag problem solution.\n",
    "        \"\"\"\n",
    "        # for all idx < p0 : nums[idx < p0] = 0\n",
    "        # curr is an index of element under consideration\n",
    "        p0 = curr = 0\n",
    "        # for all idx > p2 : nums[idx > p2] = 2\n",
    "        p2 = len(nums) - 1\n",
    "\n",
    "        while curr <= p2:\n",
    "            if nums[curr] == 0:\n",
    "                nums[p0], nums[curr] = nums[curr], nums[p0]\n",
    "                p0 += 1\n",
    "                curr += 1\n",
    "            elif nums[curr] == 2:\n",
    "                nums[curr], nums[p2] = nums[p2], nums[curr]\n",
    "                p2 -= 1\n",
    "            else:\n",
    "                curr += 1"
   ]
  }
 ],
 "metadata": {
  "kernelspec": {
   "display_name": "Python 3",
   "language": "python",
   "name": "python3"
  },
  "language_info": {
   "codemirror_mode": {
    "name": "ipython",
    "version": 3
   },
   "file_extension": ".py",
   "mimetype": "text/x-python",
   "name": "python",
   "nbconvert_exporter": "python",
   "pygments_lexer": "ipython3",
   "version": "3.7.4"
  }
 },
 "nbformat": 4,
 "nbformat_minor": 2
}
