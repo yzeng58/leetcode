{
 "cells": [
  {
   "cell_type": "markdown",
   "metadata": {},
   "source": [
    "https://leetcode.com/problems/diameter-of-binary-tree/\n",
    "\n",
    "Given a binary tree, you need to compute the length of the diameter of the tree. The diameter of a binary tree is the length of the longest path between any two nodes in a tree. This path may or may not pass through the root."
   ]
  },
  {
   "cell_type": "code",
   "execution_count": 1,
   "metadata": {},
   "outputs": [],
   "source": [
    "from modules import *"
   ]
  },
  {
   "cell_type": "code",
   "execution_count": 2,
   "metadata": {},
   "outputs": [],
   "source": [
    "# my solution\n",
    "# Runtime: 76 ms, faster than 10.35% of Python3 online submissions for Diameter of Binary Tree.\n",
    "# Memory Usage: 16.2 MB, less than 73.72% of Python3 online submissions for Diameter of Binary Tree.\n",
    "\n",
    "class Solution:\n",
    "    def diameterHelper(self, root: TreeNode) -> int:\n",
    "        if not root:\n",
    "            return [0, 0]\n",
    "        left = self.diameterHelper(root.left)\n",
    "        right = self.diameterHelper(root.right)\n",
    "        return [max(left[0], right[0]) + 1, max([left[0] + right[0], left[1], right[1]])]\n",
    "        \n",
    "    def diameterOfBinaryTree(self, root: TreeNode) -> int:\n",
    "        if root:\n",
    "            left = self.diameterHelper(root.left)\n",
    "            right = self.diameterHelper(root.right)\n",
    "            return max([left[0] + right[0], left[1], right[1]])\n",
    "        else:\n",
    "            return 0"
   ]
  },
  {
   "cell_type": "code",
   "execution_count": 3,
   "metadata": {},
   "outputs": [
    {
     "name": "stdout",
     "output_type": "stream",
     "text": [
      "[1, 2, 3, 4, 5] : 3\n",
      "[2, 3, None, 1] : 2\n",
      "[4, 3, None, 1, 3] : 2\n",
      "Time elapsed: 0.00022 seconds\n"
     ]
    }
   ],
   "source": [
    "inputs = list(map(lambda x: [TreeNode.listToBinaryTree(x)], [\n",
    "    [1,2,3,4,5],\n",
    "    [2,3,None,1],\n",
    "    [4,3,None,1,3]\n",
    "]))\n",
    "test(inputs, Solution().diameterOfBinaryTree)"
   ]
  }
 ],
 "metadata": {
  "kernelspec": {
   "display_name": "Python 3",
   "language": "python",
   "name": "python3"
  },
  "language_info": {
   "codemirror_mode": {
    "name": "ipython",
    "version": 3
   },
   "file_extension": ".py",
   "mimetype": "text/x-python",
   "name": "python",
   "nbconvert_exporter": "python",
   "pygments_lexer": "ipython3",
   "version": "3.7.4"
  }
 },
 "nbformat": 4,
 "nbformat_minor": 2
}
