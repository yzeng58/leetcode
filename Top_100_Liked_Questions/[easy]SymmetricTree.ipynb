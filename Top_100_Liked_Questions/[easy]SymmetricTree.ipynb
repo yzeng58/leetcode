{
 "cells": [
  {
   "cell_type": "markdown",
   "metadata": {},
   "source": [
    "https://leetcode.com/problems/symmetric-tree/\n",
    "\n",
    "Given a binary tree, check whether it is a mirror of itself (ie, symmetric around its center)."
   ]
  },
  {
   "cell_type": "code",
   "execution_count": 1,
   "metadata": {},
   "outputs": [],
   "source": [
    "from modules import *\n",
    "\n",
    "TreeNode = binaryTreeNode"
   ]
  },
  {
   "cell_type": "code",
   "execution_count": 2,
   "metadata": {},
   "outputs": [],
   "source": [
    "# my solution\n",
    "# Runtime: 36 ms, faster than 54.22% of Python3 online submissions for Symmetric Tree.\n",
    "# Memory Usage: 14.5 MB, less than 29.43% of Python3 online submissions for Symmetric Tree.\n",
    "\n",
    "class Solution:\n",
    "    def isMirror(self, root1: TreeNode, root2: TreeNode) -> bool:\n",
    "        if root1.val != root2.val:\n",
    "            return False\n",
    "        \n",
    "        if (root1.left == None and root2.right != None) or (root1.right == None and root2.left != None) \\\n",
    "            or (root2.left == None and root1.right != None) or (root2.right == None and root1.left != None):\n",
    "            return False\n",
    "        \n",
    "        if root1.left == None and root1.right != None:\n",
    "            if root1.right.val != root2.left.val:\n",
    "                return False\n",
    "            else:\n",
    "                return self.isMirror(root1.right, root2.left)\n",
    "        elif root1.left != None and root1.right == None:\n",
    "            if root1.left.val != root2.right.val:\n",
    "                return False\n",
    "            else:\n",
    "                return self.isMirror(root1.left, root2.right)\n",
    "        elif root1.left == None and root1.right == None:\n",
    "            return True\n",
    "        else:\n",
    "            if root1.left.val != root2.right.val or root1.right.val != root2.left.val:\n",
    "                return False\n",
    "            return self.isMirror(root1.left, root2.right) and self.isMirror(root1.right, root2.left)\n",
    "            \n",
    "        \n",
    "    def isSymmetric(self, root: TreeNode) -> bool:\n",
    "        if root == None:\n",
    "            return True\n",
    "        \n",
    "        if root.left == None and root.right == None:\n",
    "            return True\n",
    "        elif root.left == None and root.right != None:\n",
    "            return False\n",
    "        elif root.left != None and root.right == None:\n",
    "            return False\n",
    "        else:\n",
    "            return self.isMirror(root.left, root.right)"
   ]
  },
  {
   "cell_type": "code",
   "execution_count": 3,
   "metadata": {},
   "outputs": [
    {
     "name": "stdout",
     "output_type": "stream",
     "text": [
      "[1, 2, 2, 3, 4, 4, 3] : True\n",
      "[1, 2, 2, None, 3, None, 3] : False\n",
      "Time elapsed: 0.00036 seconds\n"
     ]
    }
   ],
   "source": [
    "inputs = list(map(lambda x: [binaryTreeNode.listToBinaryTree(x)], [\n",
    "    [1,2,2,3,4,4,3],\n",
    "    [1,2,2,None,3,None,3]\n",
    "]))\n",
    "test(inputs, Solution().isSymmetric)"
   ]
  }
 ],
 "metadata": {
  "kernelspec": {
   "display_name": "Python 3",
   "language": "python",
   "name": "python3"
  },
  "language_info": {
   "codemirror_mode": {
    "name": "ipython",
    "version": 3
   },
   "file_extension": ".py",
   "mimetype": "text/x-python",
   "name": "python",
   "nbconvert_exporter": "python",
   "pygments_lexer": "ipython3",
   "version": "3.7.4"
  }
 },
 "nbformat": 4,
 "nbformat_minor": 2
}
