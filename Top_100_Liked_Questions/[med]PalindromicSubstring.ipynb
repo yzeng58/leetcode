{
 "cells": [
  {
   "cell_type": "markdown",
   "metadata": {},
   "source": [
    "https://leetcode.com/problems/palindromic-substrings/\n",
    "\n",
    "Given a string, your task is to count how many palindromic substrings in this string.\n",
    "\n",
    "The substrings with different start indexes or end indexes are counted as different substrings even they consist of same characters."
   ]
  },
  {
   "cell_type": "code",
   "execution_count": 1,
   "metadata": {},
   "outputs": [],
   "source": [
    "from modules import *"
   ]
  },
  {
   "cell_type": "code",
   "execution_count": 2,
   "metadata": {},
   "outputs": [],
   "source": [
    "# my solution\n",
    "# Runtime: 476 ms, faster than 19.58% of Python3 online submissions for Palindromic Substrings.\n",
    "# Memory Usage: 14.2 MB, less than 71.73% of Python3 online submissions for Palindromic Substrings.\n",
    "\n",
    "class Solution:\n",
    "    def countSubstrings(self, s: str) -> int:\n",
    "        if not s:\n",
    "            return 0\n",
    "        \n",
    "        left, right = 0, 0\n",
    "        count = len(s)\n",
    "        while left < len(s):\n",
    "            while True:\n",
    "                try:\n",
    "                    right = s[right+1:].index(s[left]) + right+1\n",
    "                    if s[left:(right+1)] == s[left:(right+1)][::-1]:\n",
    "                        count += 1\n",
    "                except ValueError:\n",
    "                    left += 1\n",
    "                    right = left\n",
    "                    break\n",
    "        return count"
   ]
  },
  {
   "cell_type": "code",
   "execution_count": 3,
   "metadata": {},
   "outputs": [
    {
     "name": "stdout",
     "output_type": "stream",
     "text": [
      "abc : 3\n",
      "aaa : 6\n",
      "Time elapsed: 0.00016 seconds\n"
     ]
    }
   ],
   "source": [
    "inputs = [\n",
    "    [\"abc\"],\n",
    "    [\"aaa\"]\n",
    "]\n",
    "test(inputs, Solution().countSubstrings)"
   ]
  }
 ],
 "metadata": {
  "kernelspec": {
   "display_name": "Python 3",
   "language": "python",
   "name": "python3"
  },
  "language_info": {
   "codemirror_mode": {
    "name": "ipython",
    "version": 3
   },
   "file_extension": ".py",
   "mimetype": "text/x-python",
   "name": "python",
   "nbconvert_exporter": "python",
   "pygments_lexer": "ipython3",
   "version": "3.7.4"
  }
 },
 "nbformat": 4,
 "nbformat_minor": 2
}
