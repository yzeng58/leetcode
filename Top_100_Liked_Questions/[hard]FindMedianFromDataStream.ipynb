{
 "cells": [
  {
   "cell_type": "markdown",
   "metadata": {},
   "source": [
    "https://leetcode.com/problems/find-median-from-data-stream/\n",
    "\n",
    "Median is the middle value in an ordered integer list. If the size of the list is even, there is no middle value. So the median is the mean of the two middle value.\n",
    "\n",
    "For example,\n",
    "[2,3,4], the median is 3\n",
    "\n",
    "[2,3], the median is (2 + 3) / 2 = 2.5\n",
    "\n",
    "Design a data structure that supports the following two operations:\n",
    "\n",
    "* void addNum(int num) - Add a integer number from the data stream to the data structure.\n",
    "* double findMedian() - Return the median of all elements so far."
   ]
  },
  {
   "cell_type": "code",
   "execution_count": 1,
   "metadata": {},
   "outputs": [],
   "source": [
    "from modules import *"
   ]
  },
  {
   "cell_type": "code",
   "execution_count": 2,
   "metadata": {},
   "outputs": [],
   "source": [
    "# time limit exceeded\n",
    "\n",
    "class MedianFinder:\n",
    "\n",
    "    def __init__(self):\n",
    "        \"\"\"\n",
    "        initialize your data structure here.\n",
    "        \"\"\"\n",
    "        self.nums = []\n",
    "\n",
    "    def addNum(self, num: int) -> None:\n",
    "        heapq.heappush(self.nums, num)\n",
    "\n",
    "    def findMedian(self) -> float:\n",
    "        nlargest = heapq.nlargest(len(self.nums)//2+1 , self.nums)\n",
    "        if len(self.nums) % 2 == 1:\n",
    "            return nlargest[-1]\n",
    "        else:\n",
    "            return (nlargest[-1] + nlargest[-2])/2\n",
    "        \n",
    "\n",
    "\n",
    "# Your MedianFinder object will be instantiated and called as such:\n",
    "# obj = MedianFinder()\n",
    "# obj.addNum(num)\n",
    "# param_2 = obj.findMedian()"
   ]
  },
  {
   "cell_type": "code",
   "execution_count": 3,
   "metadata": {},
   "outputs": [],
   "source": [
    "# time limit exceeded\n",
    "\n",
    "class MedianFinder:\n",
    "\n",
    "    def __init__(self):\n",
    "        \"\"\"\n",
    "        initialize your data structure here.\n",
    "        \"\"\"\n",
    "        self.bst = BinaryTree()\n",
    "\n",
    "    def addNum(self, num: int) -> None:\n",
    "        self.bst.add(num)\n",
    "        \n",
    "    def findMedian(self) -> float:\n",
    "        sorted_nums = self.bst.inOrderTraversal()\n",
    "        if len(sorted_nums) % 2 == 0:\n",
    "            return (sorted_nums[len(sorted_nums) // 2] + sorted_nums[len(sorted_nums) // 2 - 1])/2\n",
    "        else:\n",
    "            return sorted_nums[len(sorted_nums) // 2]\n",
    "\n",
    "# Your MedianFinder object will be instantiated and called as such:\n",
    "# obj = MedianFinder()\n",
    "# obj.addNum(num)\n",
    "# param_2 = obj.findMedian()"
   ]
  },
  {
   "cell_type": "code",
   "execution_count": 4,
   "metadata": {},
   "outputs": [],
   "source": [
    "# my solution\n",
    "# Runtime: 8324 ms, faster than 5.02% of Python3 online submissions for Find Median from Data Stream.\n",
    "# Memory Usage: 25.5 MB, less than 51.85% of Python3 online submissions for Find Median from Data Stream.\n",
    "\n",
    "class MedianFinder:\n",
    "\n",
    "    def __init__(self):\n",
    "        \"\"\"\n",
    "        initialize your data structure here.\n",
    "        \"\"\"\n",
    "        self.nums = []\n",
    "\n",
    "    def addNum(self, num: int) -> None:\n",
    "        for i in range(len(self.nums)):\n",
    "            if num < self.nums[i]:\n",
    "                self.nums.insert(i, num)\n",
    "                return\n",
    "        self.nums.append(num)\n",
    "\n",
    "    def findMedian(self) -> float:\n",
    "        if len(self.nums) % 2 == 0:\n",
    "            return (self.nums[len(self.nums) // 2] + self.nums[len(self.nums) // 2 - 1])/2\n",
    "        else:\n",
    "            return self.nums[len(self.nums) // 2]\n",
    "\n",
    "\n",
    "# Your MedianFinder object will be instantiated and called as such:\n",
    "# obj = MedianFinder()\n",
    "# obj.addNum(num)\n",
    "# param_2 = obj.findMedian()"
   ]
  },
  {
   "cell_type": "code",
   "execution_count": 5,
   "metadata": {},
   "outputs": [
    {
     "data": {
      "text/plain": [
       "2"
      ]
     },
     "execution_count": 5,
     "metadata": {},
     "output_type": "execute_result"
    }
   ],
   "source": [
    "# small tester\n",
    "obj = MedianFinder()\n",
    "obj.addNum(1)\n",
    "obj.addNum(2)\n",
    "obj.addNum(3)\n",
    "obj.findMedian()"
   ]
  }
 ],
 "metadata": {
  "kernelspec": {
   "display_name": "Python 3",
   "language": "python",
   "name": "python3"
  },
  "language_info": {
   "codemirror_mode": {
    "name": "ipython",
    "version": 3
   },
   "file_extension": ".py",
   "mimetype": "text/x-python",
   "name": "python",
   "nbconvert_exporter": "python",
   "pygments_lexer": "ipython3",
   "version": "3.7.4"
  }
 },
 "nbformat": 4,
 "nbformat_minor": 2
}
