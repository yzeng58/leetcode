{
 "cells": [
  {
   "cell_type": "markdown",
   "metadata": {},
   "source": [
    "https://leetcode.com/problems/kth-smallest-element-in-a-bst//\n",
    "\n",
    "Given a binary search tree, write a function kthSmallest to find the kth smallest element in it."
   ]
  },
  {
   "cell_type": "code",
   "execution_count": 1,
   "metadata": {},
   "outputs": [],
   "source": [
    "from modules import *"
   ]
  },
  {
   "cell_type": "code",
   "execution_count": 2,
   "metadata": {},
   "outputs": [],
   "source": [
    "# my solution\n",
    "# Runtime: 48 ms, faster than 77.42% of Python3 online submissions for Kth Smallest Element in a BST.\n",
    "# Memory Usage: 18.3 MB, less than 9.85% of Python3 online submissions for Kth Smallest Element in a BST.\n",
    "\n",
    "class Solution:\n",
    "    def inOrderTraversal(self, root):\n",
    "        node_list = []\n",
    "        if root == None:\n",
    "            return node_list\n",
    "        \n",
    "        if root.left != None:\n",
    "            node_list.extend(self.inOrderTraversal(root.left))\n",
    "            \n",
    "        node_list.append(root)\n",
    "        if root.right != None:\n",
    "            node_list.extend(self.inOrderTraversal(root.right))\n",
    "        return node_list\n",
    "        \n",
    "    def kthSmallest(self, root: TreeNode, k: int) -> int:\n",
    "        node_list = self.inOrderTraversal(root)\n",
    "        return node_list[k-1].val"
   ]
  },
  {
   "cell_type": "code",
   "execution_count": 3,
   "metadata": {},
   "outputs": [
    {
     "name": "stdout",
     "output_type": "stream",
     "text": [
      "[3, 1, 4, None, 2] 1 : 1\n",
      "[5, 3, 6, 2, 4, None, None, 1] 3 : 3\n",
      "Time elapsed: 0.00022 seconds\n"
     ]
    }
   ],
   "source": [
    "inputs = list(map(lambda x: [TreeNode.listToBinaryTree(x[0]), x[1]], [\n",
    "    [[3,1,4,None,2], 1],\n",
    "    [[5,3,6,2,4,None,None,1], 3]\n",
    "]))\n",
    "test(inputs, Solution().kthSmallest)"
   ]
  }
 ],
 "metadata": {
  "kernelspec": {
   "display_name": "Python 3",
   "language": "python",
   "name": "python3"
  },
  "language_info": {
   "codemirror_mode": {
    "name": "ipython",
    "version": 3
   },
   "file_extension": ".py",
   "mimetype": "text/x-python",
   "name": "python",
   "nbconvert_exporter": "python",
   "pygments_lexer": "ipython3",
   "version": "3.7.4"
  }
 },
 "nbformat": 4,
 "nbformat_minor": 2
}
