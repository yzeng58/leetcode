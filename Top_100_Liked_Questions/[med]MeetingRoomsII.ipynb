{
 "cells": [
  {
   "cell_type": "markdown",
   "metadata": {},
   "source": [
    "https://leetcode.com/problems/meeting-rooms-ii/\n",
    "\n",
    "\n",
    "Given an array of meeting time intervals consisting of start and end times [[s1,e1],[s2,e2],...] (si < ei), find the minimum number of conference rooms required."
   ]
  },
  {
   "cell_type": "code",
   "execution_count": 1,
   "metadata": {},
   "outputs": [],
   "source": [
    "from modules import *"
   ]
  },
  {
   "cell_type": "code",
   "execution_count": 2,
   "metadata": {},
   "outputs": [],
   "source": [
    "# time limit exceeded\n",
    "\n",
    "class Solution:\n",
    "    def minMeetingRooms(self, intervals: List[List[int]]) -> int:\n",
    "        timesheet = defaultdict(int)\n",
    "        max_room = 0\n",
    "        for left, right in intervals:\n",
    "            for time in range(left, right):\n",
    "                timesheet[time] += 1\n",
    "                max_room = max(max_room, timesheet[time])\n",
    "        return max_room"
   ]
  },
  {
   "cell_type": "code",
   "execution_count": 3,
   "metadata": {},
   "outputs": [],
   "source": [
    "# my solution\n",
    "# Runtime: 6144 ms, faster than 5.25% of Python3 online submissions for Meeting Rooms II.\n",
    "# Memory Usage: 18.2 MB, less than 5.72% of Python3 online submissions for Meeting Rooms II.\n",
    "\n",
    "class Solution:\n",
    "    def minMeetingRooms(self, intervals: List[List[int]]) -> int:\n",
    "        timesheet = {}\n",
    "        max_room = 0\n",
    "        intervals.sort(key = lambda x: x[0])\n",
    "        prehead = ListNode((-1,0), None)\n",
    "        for left, right in intervals:\n",
    "            prev = prehead\n",
    "            current = prev.next\n",
    "            insert = False\n",
    "            while current != None:\n",
    "                if left < current.val[0]:\n",
    "                    if left != prev.val[0]:\n",
    "                        prev.next = ListNode([left, current.val[1]], current)\n",
    "                        prev = prev.next\n",
    "                \n",
    "                    if right < current.val[0]:\n",
    "                        prev.next = ListNode([right, current.val[1]+1], current)\n",
    "                        prev = prev.next\n",
    "                        max_room = max(max_room, prev.val[1])\n",
    "                        insert = True\n",
    "                        break\n",
    "                    elif right == current.val[0]:\n",
    "                        current.val[1] += 1\n",
    "                        max_room = max(max_room, current.val[1])\n",
    "                        insert = True\n",
    "                        break\n",
    "                    else:\n",
    "                        current.val[1] += 1\n",
    "                        max_room = max(max_room, current.val[1])\n",
    "                        left = current.val[0]\n",
    "                        \n",
    "                prev = current\n",
    "                current = current.next\n",
    "                \n",
    "            if not insert:\n",
    "                prev.next = ListNode([right, 1])\n",
    "                max_room = max(1, max_room)\n",
    "                    \n",
    "        return max_room"
   ]
  },
  {
   "cell_type": "code",
   "execution_count": 4,
   "metadata": {},
   "outputs": [
    {
     "name": "stdout",
     "output_type": "stream",
     "text": [
      "[[0, 30], [5, 10], [15, 20]] : 2\n",
      "[[7, 10], [2, 4]] : 1\n",
      "[[13, 15], [1, 13]] : 1\n",
      "[[64738, 614406], [211748, 780229], [208641, 307338], [499908, 869489], [218907, 889449], [177201, 481150], [123679, 384415], [120440, 404695], [191810, 491295], [800783, 826206], [165175, 221995], [420412, 799259], [484168, 617671], [746410, 886281], [765198, 792311], [493853, 971285], [194579, 313372], [119757, 766274], [101315, 917883], [557309, 599256], [167729, 723580], [731216, 988021], [225883, 752657], [588461, 854166], [231328, 285640], [772811, 869625], [892212, 973218], [143535, 306402], [336799, 998119], [65892, 767719], [380440, 518918], [321447, 558462], [54489, 234291], [43934, 44986], [11260, 968186], [248987, 707178], [355162, 798511], [661962, 781083], [149228, 412762], [71084, 953153], [44890, 655659], [708781, 956341], [251847, 707658], [650743, 932826], [561965, 814428], [697026, 932724], [583473, 919161], [463638, 951519], [769086, 785893], [17912, 923570], [423089, 653531], [317269, 395886], [412117, 701471], [465312, 520002], [168739, 770178], [624091, 814316], [143729, 249836], [699196, 879379], [585322, 989087], [501009, 949840], [424092, 580498], [282845, 345477], [453883, 926476], [392148, 878695], [471772, 771547], [339375, 590100], [110499, 619323], [8713, 291093], [268241, 283247], [160815, 621452], [168922, 810532], [355051, 377247], [10461, 488835], [220598, 261326], [403537, 438947], [221492, 640708], [114702, 926457], [166567, 477230], [856127, 882961], [218411, 256327], [184364, 909088], [130802, 828793], [312028, 811716], [294638, 839683], [269329, 343517], [167968, 391811], [25351, 369583], [210660, 454598], [166834, 576380], [296440, 873280], [660142, 822072], [33441, 778393], [456500, 955635], [59220, 954158], [306295, 429913], [110402, 448322], [44523, 88192], [231386, 353197], [120940, 902781], [348758, 597599], [329467, 664450], [208411, 890114], [230238, 516885], [434113, 602358], [349759, 419831], [10689, 308144], [94526, 180723], [435280, 986655], [611999, 690154], [75208, 395348], [403243, 489260], [498884, 611075], [487209, 863242], [13900, 873774], [656706, 782943], [53478, 586952], [226216, 723114], [554799, 922759], [467777, 689913], [80630, 147482], [277803, 506346], [532240, 976029], [206622, 761192], [148277, 985819], [10879, 807349], [952227, 971268], [172074, 919866], [239230, 384499], [607687, 984661], [4405, 264532], [41071, 437502], [432603, 661142], [144398, 907360], [139605, 360037], [943191, 997317], [12894, 171584], [382477, 800157], [452077, 518175], [208007, 398880], [375250, 489928], [384503, 726837], [278181, 628759], [114470, 635575], [382297, 733713], [156559, 874172], [507016, 815520], [164461, 532215], [17332, 536971], [418721, 911117], [11497, 14032]] : 77\n",
      "Time elapsed: 0.00642 seconds\n"
     ]
    }
   ],
   "source": [
    "# expected output: 2,1,1,77\n",
    "inputs = [\n",
    "    [[[0, 30],[5, 10],[15, 20]]],\n",
    "    [[[7,10],[2,4]]],\n",
    "    [[[13,15],[1,13]]],\n",
    "    [[[64738,614406],[211748,780229],[208641,307338],[499908,869489],[218907,889449],[177201,481150],[123679,384415],[120440,404695],[191810,491295],[800783,826206],[165175,221995],[420412,799259],[484168,617671],[746410,886281],[765198,792311],[493853,971285],[194579,313372],[119757,766274],[101315,917883],[557309,599256],[167729,723580],[731216,988021],[225883,752657],[588461,854166],[231328,285640],[772811,869625],[892212,973218],[143535,306402],[336799,998119],[65892,767719],[380440,518918],[321447,558462],[54489,234291],[43934,44986],[11260,968186],[248987,707178],[355162,798511],[661962,781083],[149228,412762],[71084,953153],[44890,655659],[708781,956341],[251847,707658],[650743,932826],[561965,814428],[697026,932724],[583473,919161],[463638,951519],[769086,785893],[17912,923570],[423089,653531],[317269,395886],[412117,701471],[465312,520002],[168739,770178],[624091,814316],[143729,249836],[699196,879379],[585322,989087],[501009,949840],[424092,580498],[282845,345477],[453883,926476],[392148,878695],[471772,771547],[339375,590100],[110499,619323],[8713,291093],[268241,283247],[160815,621452],[168922,810532],[355051,377247],[10461,488835],[220598,261326],[403537,438947],[221492,640708],[114702,926457],[166567,477230],[856127,882961],[218411,256327],[184364,909088],[130802,828793],[312028,811716],[294638,839683],[269329,343517],[167968,391811],[25351,369583],[210660,454598],[166834,576380],[296440,873280],[660142,822072],[33441,778393],[456500,955635],[59220,954158],[306295,429913],[110402,448322],[44523,88192],[231386,353197],[120940,902781],[348758,597599],[329467,664450],[208411,890114],[230238,516885],[434113,602358],[349759,419831],[10689,308144],[94526,180723],[435280,986655],[611999,690154],[75208,395348],[403243,489260],[498884,611075],[487209,863242],[13900,873774],[656706,782943],[53478,586952],[226216,723114],[554799,922759],[467777,689913],[80630,147482],[277803,506346],[532240,976029],[206622,761192],[148277,985819],[10879,807349],[952227,971268],[172074,919866],[239230,384499],[607687,984661],[4405,264532],[41071,437502],[432603,661142],[144398,907360],[139605,360037],[943191,997317],[12894,171584],[382477,800157],[452077,518175],[208007,398880],[375250,489928],[384503,726837],[278181,628759],[114470,635575],[382297,733713],[156559,874172],[507016,815520],[164461,532215],[17332,536971],[418721,911117],[11497,14032]]]\n",
    "]\n",
    "test(inputs, Solution().minMeetingRooms)"
   ]
  },
  {
   "cell_type": "code",
   "execution_count": 5,
   "metadata": {},
   "outputs": [],
   "source": [
    "# official solution: priority queue\n",
    "# Runtime: 76 ms, faster than 70.13% of Python3 online submissions for Meeting Rooms II.\n",
    "# Memory Usage: 17.6 MB, less than 19.16% of Python3 online submissions for Meeting Rooms II.\n",
    "\n",
    "class Solution:\n",
    "    def minMeetingRooms(self, intervals: List[List[int]]) -> int:\n",
    "        \n",
    "        # If there is no meeting to schedule then no room needs to be allocated.\n",
    "        if not intervals:\n",
    "            return 0\n",
    "\n",
    "        # The heap initialization\n",
    "        free_rooms = []\n",
    "\n",
    "        # Sort the meetings in increasing order of their start time.\n",
    "        intervals.sort(key= lambda x: x[0])\n",
    "\n",
    "        # Add the first meeting. We have to give a new room to the first meeting.\n",
    "        heapq.heappush(free_rooms, intervals[0][1])\n",
    "\n",
    "        # For all the remaining meeting rooms\n",
    "        for i in intervals[1:]:\n",
    "\n",
    "            # If the room due to free up the earliest is free, assign that room to this meeting.\n",
    "            if free_rooms[0] <= i[0]:\n",
    "                heapq.heappop(free_rooms)\n",
    "\n",
    "            # If a new room is to be assigned, then also we add to the heap,\n",
    "            # If an old room is allocated, then also we have to add to the heap with updated end time.\n",
    "            heapq.heappush(free_rooms, i[1])\n",
    "\n",
    "        # The size of the heap tells us the minimum rooms required for all the meetings.\n",
    "        return len(free_rooms)"
   ]
  },
  {
   "cell_type": "code",
   "execution_count": 6,
   "metadata": {},
   "outputs": [],
   "source": [
    "# official solution: Chronological Ordering\n",
    "\n",
    "class Solution:\n",
    "    def minMeetingRooms(self, intervals: List[List[int]]) -> int:\n",
    "        \n",
    "        # If there are no meetings, we don't need any rooms.\n",
    "        if not intervals:\n",
    "            return 0\n",
    "\n",
    "        used_rooms = 0\n",
    "\n",
    "        # Separate out the start and the end timings and sort them individually.\n",
    "        start_timings = sorted([i[0] for i in intervals])\n",
    "        end_timings = sorted(i[1] for i in intervals)\n",
    "        L = len(intervals)\n",
    "\n",
    "        # The two pointers in the algorithm: e_ptr and s_ptr.\n",
    "        end_pointer = 0\n",
    "        start_pointer = 0\n",
    "\n",
    "        # Until all the meetings have been processed\n",
    "        while start_pointer < L:\n",
    "            # If there is a meeting that has ended by the time the meeting at `start_pointer` starts\n",
    "            if start_timings[start_pointer] >= end_timings[end_pointer]:\n",
    "                # Free up a room and increment the end_pointer.\n",
    "                used_rooms -= 1\n",
    "                end_pointer += 1\n",
    "\n",
    "            # We do this irrespective of whether a room frees up or not.\n",
    "            # If a room got free, then this used_rooms += 1 wouldn't have any effect. used_rooms would\n",
    "            # remain the same in that case. If no room was free, then this would increase used_rooms\n",
    "            used_rooms += 1    \n",
    "            start_pointer += 1   \n",
    "\n",
    "        return used_rooms"
   ]
  }
 ],
 "metadata": {
  "kernelspec": {
   "display_name": "Python 3",
   "language": "python",
   "name": "python3"
  },
  "language_info": {
   "codemirror_mode": {
    "name": "ipython",
    "version": 3
   },
   "file_extension": ".py",
   "mimetype": "text/x-python",
   "name": "python",
   "nbconvert_exporter": "python",
   "pygments_lexer": "ipython3",
   "version": "3.7.4"
  }
 },
 "nbformat": 4,
 "nbformat_minor": 2
}
