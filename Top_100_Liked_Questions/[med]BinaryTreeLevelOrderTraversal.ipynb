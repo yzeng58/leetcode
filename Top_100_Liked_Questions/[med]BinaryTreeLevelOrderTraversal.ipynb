{
 "cells": [
  {
   "cell_type": "markdown",
   "metadata": {},
   "source": [
    "https://leetcode.com/problems/binary-tree-level-order-traversal/\n",
    "\n",
    "Given a binary tree, return the level order traversal of its nodes' values. (ie, from left to right, level by level)."
   ]
  },
  {
   "cell_type": "code",
   "execution_count": 1,
   "metadata": {},
   "outputs": [],
   "source": [
    "from modules import *\n",
    "\n",
    "TreeNode = binaryTreeNode"
   ]
  },
  {
   "cell_type": "code",
   "execution_count": 2,
   "metadata": {},
   "outputs": [],
   "source": [
    "# my solution\n",
    "# Runtime: 36 ms, faster than 55.44% of Python3 online submissions for Binary Tree Level Order Traversal.\n",
    "# Memory Usage: 14.7 MB, less than 21.40% of Python3 online submissions for Binary Tree Level Order Traversal.\n",
    "\n",
    "class Solution:\n",
    "    def levelOrder(self, root: TreeNode) -> List[List[int]]:\n",
    "        if root == None:\n",
    "            return []\n",
    "        \n",
    "        output = [[root.val]]\n",
    "        queue = [(root, 0)]\n",
    "        children = 0\n",
    "        \n",
    "        while len(queue) > 0:\n",
    "            add = None \n",
    "            \n",
    "            if children == 0:\n",
    "                if queue[0][0].left != None:\n",
    "                    add = (queue[0][0].left, queue[0][1] + 1)\n",
    "                children += 1\n",
    "            else:\n",
    "                children = 0\n",
    "                parent = queue.pop(0)\n",
    "                if parent[0].right != None:\n",
    "                    add = (parent[0].right, parent[1] + 1)\n",
    "                    \n",
    "            if add != None:\n",
    "                queue.append(add)\n",
    "                if add[1] >= len(output):\n",
    "                    output.append([add[0].val])\n",
    "                else:\n",
    "                    output[-1].append(add[0].val)\n",
    "        return output"
   ]
  },
  {
   "cell_type": "code",
   "execution_count": 3,
   "metadata": {},
   "outputs": [
    {
     "name": "stdout",
     "output_type": "stream",
     "text": [
      "[3, 9, 20, None, None, 15, 7] : [[3], [9, 20], [15, 7]]\n",
      "Time elapsed: 0.00108 seconds\n"
     ]
    }
   ],
   "source": [
    "inputs = list(map(lambda x: [binaryTreeNode.listToBinaryTree(x)],[\n",
    "    [3,9,20,None,None,15,7]\n",
    "]))\n",
    "\n",
    "test(inputs, Solution().levelOrder)"
   ]
  }
 ],
 "metadata": {
  "kernelspec": {
   "display_name": "Python 3",
   "language": "python",
   "name": "python3"
  },
  "language_info": {
   "codemirror_mode": {
    "name": "ipython",
    "version": 3
   },
   "file_extension": ".py",
   "mimetype": "text/x-python",
   "name": "python",
   "nbconvert_exporter": "python",
   "pygments_lexer": "ipython3",
   "version": "3.7.4"
  }
 },
 "nbformat": 4,
 "nbformat_minor": 2
}
