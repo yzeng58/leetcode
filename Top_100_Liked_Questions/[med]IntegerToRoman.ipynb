{
 "cells": [
  {
   "cell_type": "code",
   "execution_count": 114,
   "metadata": {},
   "outputs": [],
   "source": [
    "class Solution:\n",
    "    def __init__(self):\n",
    "        self.roman_num = {\"I\": 1, \"V\":5, \"X\": 10, \"L\": 50, \"C\": 100, \"D\": 500, \"M\": 1000}\n",
    "        self.roman_list = list(self.roman_num.keys())\n",
    "        self.num_list = list(self.roman_num.values())\n",
    "        \n",
    "    def before(self, unit):\n",
    "        return [\"I\", \"X\", \"C\"][max(self.roman_list.index(unit)-1, 0) // 2]\n",
    "        \n",
    "    def carry(self, unit: str, num: int) -> str:\n",
    "        if num == 4:\n",
    "            return self.before(unit) + self.roman_list[roman_list.index(unit) + 1]\n",
    "        else:\n",
    "            return unit * num\n",
    "        \n",
    "    def intToRoman(self, num: int) -> str:\n",
    "        \"\"\"\n",
    "        I             1\n",
    "        V             5\n",
    "        X             10\n",
    "        L             50\n",
    "        C             100\n",
    "        D             500\n",
    "        M             1000\n",
    "        \"\"\"\n",
    "        return_str = \"M\" * (num // 1000)\n",
    "        num = num % 1000\n",
    "        \n",
    "        for i in range(len(self.num_list)-1)[::-1]:\n",
    "            digit = num // self.num_list[i]\n",
    "\n",
    "            if num >= self.num_list[i+1] - self.roman_num[self.before(self.roman_list[i+1])]:\n",
    "                return_str += self.before(self.roman_list[i+1]) + self.roman_list[i+1]\n",
    "                num = num - (self.num_list[i+1] - self.roman_num[self.before(self.roman_list[i+1])])\n",
    "            else:\n",
    "                return_str += self.roman_list[i] * digit \n",
    "                num = num % self.num_list[i]\n",
    "        \n",
    "        return return_str"
   ]
  },
  {
   "cell_type": "code",
   "execution_count": 116,
   "metadata": {},
   "outputs": [],
   "source": [
    "# better solution\n",
    "\n",
    "digits = [(1000, \"M\"), (900, \"CM\"), (500, \"D\"), (400, \"CD\"), (100, \"C\"), (90, \"XC\"), \n",
    "          (50, \"L\"), (40, \"XL\"), (10, \"X\"), (9, \"IX\"), (5, \"V\"), (4, \"IV\"), (1, \"I\")]\n",
    "\n",
    "def intToRoman(self, num: int) -> str:\n",
    "    roman_digits = []\n",
    "    # Loop through each symbol.\n",
    "    for value, symbol in digits:\n",
    "        # We don't want to continue looping if we're done.\n",
    "        if num == 0: break\n",
    "        count, num = divmod(num, value)\n",
    "        # Append \"count\" copies of \"symbol\" to roman_digits.\n",
    "        roman_digits.append(symbol * count)\n",
    "    return \"\".join(roman_digits)"
   ]
  },
  {
   "cell_type": "code",
   "execution_count": 115,
   "metadata": {},
   "outputs": [
    {
     "data": {
      "text/plain": [
       "'MCMXCIV'"
      ]
     },
     "execution_count": 115,
     "metadata": {},
     "output_type": "execute_result"
    }
   ],
   "source": [
    "sol = Solution()\n",
    "sol.intToRoman(1994)"
   ]
  },
  {
   "cell_type": "code",
   "execution_count": null,
   "metadata": {},
   "outputs": [],
   "source": []
  }
 ],
 "metadata": {
  "kernelspec": {
   "display_name": "Python 3",
   "language": "python",
   "name": "python3"
  },
  "language_info": {
   "codemirror_mode": {
    "name": "ipython",
    "version": 3
   },
   "file_extension": ".py",
   "mimetype": "text/x-python",
   "name": "python",
   "nbconvert_exporter": "python",
   "pygments_lexer": "ipython3",
   "version": "3.7.4"
  }
 },
 "nbformat": 4,
 "nbformat_minor": 2
}
