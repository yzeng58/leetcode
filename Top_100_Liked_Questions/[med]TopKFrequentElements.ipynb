{
 "cells": [
  {
   "cell_type": "markdown",
   "metadata": {},
   "source": [
    "https://leetcode.com/problems/top-k-frequent-elements/\n",
    "\n",
    "Given a non-empty array of integers, return the k most frequent elements.\n",
    "\n",
    "* You may assume k is always valid, 1 ≤ k ≤ number of unique elements.\n",
    "* Your algorithm's time complexity must be better than O(n log n), where n is the array's size.\n",
    "* It's guaranteed that the answer is unique, in other words the set of the top k frequent elements is unique.\n",
    "* You can return the answer in any order."
   ]
  },
  {
   "cell_type": "code",
   "execution_count": 1,
   "metadata": {},
   "outputs": [],
   "source": [
    "from modules import *"
   ]
  },
  {
   "cell_type": "code",
   "execution_count": 2,
   "metadata": {},
   "outputs": [],
   "source": [
    "# my solution: Counter, < O(nlogn)\n",
    "# Runtime: 96 ms, faster than 84.88% of Python3 online submissions for Top K Frequent Elements.\n",
    "# Memory Usage: 18.7 MB, less than 60.33% of Python3 online submissions for Top K Frequent Elements.\n",
    "    \n",
    "class Solution:\n",
    "    def topKFrequent(self, nums: List[int], k: int) -> List[int]:\n",
    "        counter = Counter(nums)\n",
    "        return sorted(counter.keys(), key = lambda x: counter[x], reverse = True)[:k]"
   ]
  },
  {
   "cell_type": "code",
   "execution_count": 3,
   "metadata": {},
   "outputs": [],
   "source": [
    "# my solution: priority queue, < O(nlogn)\n",
    "# Runtime: 108 ms, faster than 26.58% of Python3 online submissions for Top K Frequent Elements.\n",
    "# Memory Usage: 18.9 MB, less than 12.58% of Python3 online submissions for Top K Frequent Elements.\n",
    "\n",
    "class Solution:\n",
    "    def topKFrequent(self, nums: List[int], k: int) -> List[int]:\n",
    "        if not nums:\n",
    "            return []\n",
    "        \n",
    "        nums.sort()\n",
    "        heap = []\n",
    "        output, current = [nums[0]], 1\n",
    "        for i in range(1, len(nums)):\n",
    "            if nums[i] == nums[i-1]:\n",
    "                current += 1\n",
    "            else:\n",
    "                heapq.heappush(heap, (current, nums[i-1]))\n",
    "                current = 1\n",
    "        heapq.heappush(heap, (current, nums[-1]))\n",
    "        topK = heapq.nlargest(k, heap)\n",
    "        return [x[1] for x in topK]"
   ]
  },
  {
   "cell_type": "code",
   "execution_count": 4,
   "metadata": {},
   "outputs": [
    {
     "name": "stdout",
     "output_type": "stream",
     "text": [
      "[1, 1, 1, 2, 2, 3] 2 : [1, 2]\n",
      "[1] 1 : [1]\n",
      "Time elapsed: 0.00025 seconds\n"
     ]
    }
   ],
   "source": [
    "inputs = [\n",
    "    [[1,1,1,2,2,3], 2],\n",
    "    [[1], 1]\n",
    "]\n",
    "test(inputs, Solution().topKFrequent)"
   ]
  }
 ],
 "metadata": {
  "kernelspec": {
   "display_name": "Python 3",
   "language": "python",
   "name": "python3"
  },
  "language_info": {
   "codemirror_mode": {
    "name": "ipython",
    "version": 3
   },
   "file_extension": ".py",
   "mimetype": "text/x-python",
   "name": "python",
   "nbconvert_exporter": "python",
   "pygments_lexer": "ipython3",
   "version": "3.7.4"
  }
 },
 "nbformat": 4,
 "nbformat_minor": 2
}
