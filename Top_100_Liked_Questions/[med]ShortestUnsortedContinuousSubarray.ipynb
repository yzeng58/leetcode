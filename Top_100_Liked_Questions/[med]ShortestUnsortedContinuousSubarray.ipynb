{
 "cells": [
  {
   "cell_type": "markdown",
   "metadata": {},
   "source": [
    "https://leetcode.com/problems/shortest-unsorted-continuous-subarray/\n",
    "\n",
    "Given an integer array nums, you need to find one continuous subarray that if you only sort this subarray in ascending order, then the whole array will be sorted in ascending order.\n",
    "\n",
    "Return the shortest such subarray and output its length."
   ]
  },
  {
   "cell_type": "code",
   "execution_count": 1,
   "metadata": {},
   "outputs": [],
   "source": [
    "from modules import *"
   ]
  },
  {
   "cell_type": "code",
   "execution_count": 2,
   "metadata": {},
   "outputs": [],
   "source": [
    "# my solution\n",
    "# Runtime: 584 ms, faster than 5.11% of Python3 online submissions for Shortest Unsorted Continuous Subarray.\n",
    "# Memory Usage: 15.4 MB, less than 26.66% of Python3 online submissions for Shortest Unsorted Continuous Subarray.\n",
    "\n",
    "class Solution:\n",
    "    def findUnsortedSubarray(self, nums: List[int]) -> int:\n",
    "        if len(nums) <= 1:\n",
    "            return 0\n",
    "        \n",
    "        left, max_val, right = None, nums[0], None\n",
    "        for i in range(1, len(nums)):\n",
    "            if nums[i] < nums[i-1] or nums[i] < max_val:\n",
    "                if left == None:\n",
    "                    for j in range(len(nums)):\n",
    "                        if nums[j] > nums[i]:\n",
    "                            left = j\n",
    "                            break\n",
    "                else:\n",
    "                    for j in range(left):\n",
    "                        if nums[j] > nums[i]:\n",
    "                            left = j\n",
    "                            break\n",
    "                right = i\n",
    "            max_val = max(max_val, nums[i])        \n",
    "            \n",
    "        if right == None:\n",
    "            return 0\n",
    "        else:\n",
    "            return right - left + 1"
   ]
  },
  {
   "cell_type": "code",
   "execution_count": 3,
   "metadata": {},
   "outputs": [
    {
     "name": "stdout",
     "output_type": "stream",
     "text": [
      "[2, 6, 4, 8, 10, 9, 15] : 5\n",
      "[1, 2, 3, 4] : 0\n",
      "[1] : 0\n",
      "[5, 4, 3, 2, 1] : 5\n",
      "[2, 3, 3, 2, 4] : 3\n",
      "[1, 3, 5, 4, 2] : 4\n",
      "Time elapsed: 0.00062 seconds\n"
     ]
    }
   ],
   "source": [
    "# 5, 0, 0, 5, 3, 4\n",
    "inputs = [\n",
    "    [[2,6,4,8,10,9,15]],\n",
    "    [[1,2,3,4]],\n",
    "    [[1]],\n",
    "    [[5,4,3,2,1]],\n",
    "    [[2,3,3,2,4]],\n",
    "    [[1,3,5,4,2]]\n",
    "]\n",
    "test(inputs, Solution().findUnsortedSubarray)"
   ]
  }
 ],
 "metadata": {
  "kernelspec": {
   "display_name": "Python 3",
   "language": "python",
   "name": "python3"
  },
  "language_info": {
   "codemirror_mode": {
    "name": "ipython",
    "version": 3
   },
   "file_extension": ".py",
   "mimetype": "text/x-python",
   "name": "python",
   "nbconvert_exporter": "python",
   "pygments_lexer": "ipython3",
   "version": "3.7.4"
  }
 },
 "nbformat": 4,
 "nbformat_minor": 2
}
