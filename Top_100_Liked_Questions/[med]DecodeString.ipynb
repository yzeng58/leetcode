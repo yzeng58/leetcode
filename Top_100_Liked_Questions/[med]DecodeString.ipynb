{
 "cells": [
  {
   "cell_type": "markdown",
   "metadata": {},
   "source": [
    "https://leetcode.com/problems/decode-string/\n",
    "\n",
    "Given an encoded string, return its decoded string.\n",
    "\n",
    "The encoding rule is: k[encoded_string], where the encoded_string inside the square brackets is being repeated exactly k times. Note that k is guaranteed to be a positive integer.\n",
    "\n",
    "You may assume that the input string is always valid; No extra white spaces, square brackets are well-formed, etc.\n",
    "\n",
    "Furthermore, you may assume that the original data does not contain any digits and that digits are only for those repeat numbers, k. For example, there won't be input like 3a or 2[4]."
   ]
  },
  {
   "cell_type": "code",
   "execution_count": 1,
   "metadata": {},
   "outputs": [],
   "source": [
    "from modules import *"
   ]
  },
  {
   "cell_type": "code",
   "execution_count": 2,
   "metadata": {},
   "outputs": [],
   "source": [
    "# my solution\n",
    "# Runtime: 24 ms, faster than 92.66% of Python3 online submissions for Decode String.\n",
    "# Memory Usage: 14.3 MB, less than 31.47% of Python3 online submissions for Decode String.\n",
    "\n",
    "class Solution:\n",
    "    def decodeString(self, s: str) -> str:\n",
    "        output = \"\"\n",
    "        left_idx = deque()\n",
    "        i = 0\n",
    "        left = False\n",
    "        while i < len(s):\n",
    "            if not left and s[i].isdigit():\n",
    "                left = True\n",
    "                left_idx.append(i)\n",
    "            elif s[i] == '[':\n",
    "                left = False\n",
    "                left_idx.append(i)\n",
    "            elif s[i] == ']':\n",
    "                left_par = left_idx.pop()\n",
    "                digit_idx = left_idx.pop()\n",
    "                repeat_times = int(s[digit_idx:left_par])\n",
    "                repeat_content = s[left_par+1:i]\n",
    "                replace_length = i+1-digit_idx\n",
    "                s = s.replace(s[digit_idx:i+1], repeat_times*repeat_content)\n",
    "                i = i - replace_length + repeat_times * len(repeat_content)\n",
    "            i += 1\n",
    "        return s"
   ]
  },
  {
   "cell_type": "code",
   "execution_count": 3,
   "metadata": {},
   "outputs": [
    {
     "name": "stdout",
     "output_type": "stream",
     "text": [
      "3[a]2[bc] : aaabcbc\n",
      "3[a2[c]] : accaccacc\n",
      "2[abc]3[cd]ef : abcabccdcdcdef\n",
      "abc3[cd]xyz : abccdcdcdxyz\n",
      "Time elapsed: 0.00034 seconds\n"
     ]
    }
   ],
   "source": [
    "inputs = [\n",
    "    [\"3[a]2[bc]\"],\n",
    "    [\"3[a2[c]]\"],\n",
    "    [\"2[abc]3[cd]ef\"],\n",
    "    [\"abc3[cd]xyz\"]\n",
    "]\n",
    "test(inputs, Solution().decodeString)"
   ]
  }
 ],
 "metadata": {
  "kernelspec": {
   "display_name": "Python 3",
   "language": "python",
   "name": "python3"
  },
  "language_info": {
   "codemirror_mode": {
    "name": "ipython",
    "version": 3
   },
   "file_extension": ".py",
   "mimetype": "text/x-python",
   "name": "python",
   "nbconvert_exporter": "python",
   "pygments_lexer": "ipython3",
   "version": "3.7.4"
  }
 },
 "nbformat": 4,
 "nbformat_minor": 2
}
