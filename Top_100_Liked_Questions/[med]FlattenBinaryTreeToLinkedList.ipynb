{
 "cells": [
  {
   "cell_type": "markdown",
   "metadata": {},
   "source": [
    "https://leetcode.com/problems/flatten-binary-tree-to-linked-list/\n",
    "\n",
    "Given a binary tree, flatten it to a linked list in-place."
   ]
  },
  {
   "cell_type": "code",
   "execution_count": 1,
   "metadata": {},
   "outputs": [],
   "source": [
    "from modules import *"
   ]
  },
  {
   "cell_type": "code",
   "execution_count": 2,
   "metadata": {},
   "outputs": [],
   "source": [
    "# my solution\n",
    "# Runtime: 28 ms, faster than 98.03% of Python3 online submissions for Flatten Binary Tree to Linked List.\n",
    "# Memory Usage: 15.3 MB, less than 8.18% of Python3 online submissions for Flatten Binary Tree to Linked List.\n",
    "\n",
    "class Solution:\n",
    "    def helper(self, root: TreeNode) -> List[TreeNode]:\n",
    "        if root.left == None and root.right == None:\n",
    "            return [root, root]\n",
    "        \n",
    "        left, right = root.left, root.right\n",
    "        \n",
    "        root.left = None\n",
    "        end = root\n",
    "        \n",
    "        if left != None: root.right, end = self.helper(left) \n",
    "        if right != None: end.right, end = self.helper(right)\n",
    "        \n",
    "        return [root, end]\n",
    "        \n",
    "    def flatten(self, root: TreeNode) -> None:\n",
    "        \"\"\"\n",
    "        Do not return anything, modify root in-place instead.\n",
    "        \"\"\"\n",
    "        if root == None: return None\n",
    "        self.helper(root)\n",
    "        \n",
    "        # return for test\n",
    "        return root"
   ]
  },
  {
   "cell_type": "code",
   "execution_count": 3,
   "metadata": {},
   "outputs": [
    {
     "name": "stdout",
     "output_type": "stream",
     "text": [
      "[1, 2, 5, 3, 4, None, 6] : [1, None, 2, None, 3, None, 4, None, 5, None, 6]\n",
      "Time elapsed: 0.00020 seconds\n"
     ]
    }
   ],
   "source": [
    "inputs = list(map(lambda x: [TreeNode.listToBinaryTree(x)], [\n",
    "    [1,2,5,3,4,None,6]\n",
    "]))\n",
    "test(inputs, Solution().flatten)"
   ]
  }
 ],
 "metadata": {
  "kernelspec": {
   "display_name": "Python 3",
   "language": "python",
   "name": "python3"
  },
  "language_info": {
   "codemirror_mode": {
    "name": "ipython",
    "version": 3
   },
   "file_extension": ".py",
   "mimetype": "text/x-python",
   "name": "python",
   "nbconvert_exporter": "python",
   "pygments_lexer": "ipython3",
   "version": "3.7.4"
  }
 },
 "nbformat": 4,
 "nbformat_minor": 2
}
