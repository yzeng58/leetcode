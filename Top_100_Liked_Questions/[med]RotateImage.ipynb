{
 "cells": [
  {
   "cell_type": "code",
   "execution_count": 1,
   "metadata": {},
   "outputs": [],
   "source": [
    "from modules import *"
   ]
  },
  {
   "cell_type": "code",
   "execution_count": 2,
   "metadata": {},
   "outputs": [],
   "source": [
    "# my solution\n",
    "# Runtime: 32 ms, faster than 81.59% of Python3 online submissions for Rotate Image.\n",
    "# Memory Usage: 14.2 MB, less than 37.79% of Python3 online submissions for Rotate Image.\n",
    "\n",
    "class Solution:\n",
    "    def rotate(self, matrix: List[List[int]]) -> None:\n",
    "        \"\"\"\n",
    "        Do not return anything, modify matrix in-place instead.\n",
    "        \"\"\"\n",
    "        size = len(matrix)\n",
    "        for col in range(size):\n",
    "            matrix.append([])\n",
    "            for row in range(size)[::-1]:\n",
    "                matrix[-1].append(matrix[row][col])\n",
    "                \n",
    "        for row in range(size):\n",
    "            matrix.pop(0)\n",
    "            \n",
    "        # return for tests, should be removed\n",
    "        return matrix"
   ]
  },
  {
   "cell_type": "code",
   "execution_count": 3,
   "metadata": {},
   "outputs": [
    {
     "name": "stdout",
     "output_type": "stream",
     "text": [
      "[[1, 2, 3], [4, 5, 6], [7, 8, 9]] : [[7, 4, 1], [8, 5, 2], [9, 6, 3]]\n",
      "[[5, 1, 9, 11], [2, 4, 8, 10], [13, 3, 6, 7], [15, 14, 12, 16]] : [[15, 13, 2, 5], [14, 3, 4, 1], [12, 6, 8, 9], [16, 7, 10, 11]]\n",
      "[[1]] : [[1]]\n",
      "[[1, 2], [3, 4]] : [[3, 1], [4, 2]]\n",
      "Time elapsed: 0.00028 seconds\n"
     ]
    }
   ],
   "source": [
    "inputs = [[[[1,2,3],[4,5,6],[7,8,9]]],\n",
    "         [[[5,1,9,11],[2,4,8,10],[13,3,6,7],[15,14,12,16]]],\n",
    "         [[[1]]], [[[1,2],[3,4]]]]\n",
    "test(inputs, Solution().rotate)"
   ]
  },
  {
   "cell_type": "code",
   "execution_count": null,
   "metadata": {},
   "outputs": [],
   "source": []
  }
 ],
 "metadata": {
  "kernelspec": {
   "display_name": "Python 3",
   "language": "python",
   "name": "python3"
  },
  "language_info": {
   "codemirror_mode": {
    "name": "ipython",
    "version": 3
   },
   "file_extension": ".py",
   "mimetype": "text/x-python",
   "name": "python",
   "nbconvert_exporter": "python",
   "pygments_lexer": "ipython3",
   "version": "3.7.4"
  }
 },
 "nbformat": 4,
 "nbformat_minor": 2
}
