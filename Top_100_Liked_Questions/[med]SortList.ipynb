{
 "cells": [
  {
   "cell_type": "markdown",
   "metadata": {},
   "source": [
    "https://leetcode.com/problems/sort-list/\n",
    "\n",
    "Given the head of a linked list, return the list after sorting it in ascending order.\n",
    "\n",
    "Follow up: Can you sort the linked list in O(n logn) time and O(1) memory (i.e. constant space)?"
   ]
  },
  {
   "cell_type": "code",
   "execution_count": 1,
   "metadata": {},
   "outputs": [],
   "source": [
    "from modules import *"
   ]
  },
  {
   "cell_type": "code",
   "execution_count": 2,
   "metadata": {},
   "outputs": [],
   "source": [
    "# my solution\n",
    "# Runtime: 168 ms, faster than 94.24% of Python3 online submissions for Sort List.\n",
    "# Memory Usage: 30.2 MB, less than 31.56% of Python3 online submissions for Sort List.\n",
    "\n",
    "class Solution:\n",
    "    def sortList(self, head: ListNode) -> ListNode:\n",
    "        if head == None:\n",
    "            return None\n",
    "        current = head\n",
    "        node_list = []\n",
    "        while current != None:\n",
    "            node_list.append(current)\n",
    "            current = current.next\n",
    "        node_list.sort(key = lambda node: node.val)\n",
    "        for i in range(len(node_list) - 1):\n",
    "            node_list[i].next = node_list[i+1]\n",
    "        node_list[-1].next = None\n",
    "        return node_list[0]"
   ]
  },
  {
   "cell_type": "code",
   "execution_count": 3,
   "metadata": {},
   "outputs": [
    {
     "name": "stdout",
     "output_type": "stream",
     "text": [
      "[[4, 2, 1, 3]] : [[4, 2, 1, 3]]\n",
      "[[-1, 5, 3, 4, 0]] : [[-1, 5, 3, 4, 0]]\n",
      "[[]] : [[]]\n",
      "Time elapsed: 0.00020 seconds\n"
     ]
    }
   ],
   "source": [
    "inputs = list(map(lambda x: [linkedList(x)], [\n",
    "    [[4,2,1,3]],\n",
    "    [[-1,5,3,4,0]],\n",
    "    [[]]\n",
    "]))\n",
    "test(inputs, Solution().sortList)"
   ]
  }
 ],
 "metadata": {
  "kernelspec": {
   "display_name": "Python 3",
   "language": "python",
   "name": "python3"
  },
  "language_info": {
   "codemirror_mode": {
    "name": "ipython",
    "version": 3
   },
   "file_extension": ".py",
   "mimetype": "text/x-python",
   "name": "python",
   "nbconvert_exporter": "python",
   "pygments_lexer": "ipython3",
   "version": "3.7.4"
  }
 },
 "nbformat": 4,
 "nbformat_minor": 2
}
