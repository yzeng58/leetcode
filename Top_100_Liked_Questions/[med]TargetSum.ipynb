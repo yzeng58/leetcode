{
 "cells": [
  {
   "cell_type": "markdown",
   "metadata": {},
   "source": [
    "https://leetcode.com/problems/target-sum/\n",
    "\n",
    "You are given a list of non-negative integers, a1, a2, ..., an, and a target, S. Now you have 2 symbols + and -. For each integer, you should choose one from + and - as its new symbol.\n",
    "\n",
    "Find out how many ways to assign symbols to make sum of integers equal to target S."
   ]
  },
  {
   "cell_type": "code",
   "execution_count": 1,
   "metadata": {},
   "outputs": [],
   "source": [
    "from modules import *"
   ]
  },
  {
   "cell_type": "code",
   "execution_count": 2,
   "metadata": {},
   "outputs": [],
   "source": [
    "# time limit exceeded\n",
    "\n",
    "class Solution:\n",
    "    def findTargetSumWays(self, nums: List[int], S: int) -> int:\n",
    "        \n",
    "        def allSums(nums, sums):\n",
    "            if not nums:\n",
    "                return sums\n",
    "            \n",
    "            new_sums = []\n",
    "            for val in sums:\n",
    "                new_sums.extend([val + nums[0], val - nums[0]])\n",
    "            return allSums(nums[1:], new_sums)\n",
    "            \n",
    "        output = allSums(nums, [0])\n",
    "        output_dict = Counter(output)\n",
    "        return output_dict.get(S, 0)"
   ]
  },
  {
   "cell_type": "code",
   "execution_count": 3,
   "metadata": {},
   "outputs": [],
   "source": [
    "# time limit exceeded\n",
    "\n",
    "class Solution:\n",
    "    def findTargetSumWays(self, nums: List[int], S: int) -> int:\n",
    "        sums = [0]\n",
    "        for num in nums:\n",
    "            new_sums = []\n",
    "            for val in sums:\n",
    "                new_sums.extend([val + num, val - num])\n",
    "            sums = new_sums\n",
    "        \n",
    "        output = 0\n",
    "        for val in sums:\n",
    "            if val == S:\n",
    "                output += 1\n",
    "        return output"
   ]
  },
  {
   "cell_type": "code",
   "execution_count": 4,
   "metadata": {},
   "outputs": [],
   "source": [
    "# my solution\n",
    "# Runtime: 284 ms, faster than 62.93% of Python3 online submissions for Target Sum.\n",
    "# Memory Usage: 14.5 MB, less than 62.25% of Python3 online submissions for Target Sum.\n",
    "\n",
    "class Solution:\n",
    "    def findTargetSumWays(self, nums: List[int], S: int) -> int:\n",
    "        sums = {0: 1}\n",
    "        for num in nums:\n",
    "            new_sums = defaultdict(int)\n",
    "            for val in sums:\n",
    "                new_sums[val + num] += sums[val]\n",
    "                new_sums[val - num] += sums[val]\n",
    "            sums = new_sums\n",
    "            \n",
    "        return sums[S]"
   ]
  },
  {
   "cell_type": "code",
   "execution_count": 5,
   "metadata": {},
   "outputs": [
    {
     "name": "stdout",
     "output_type": "stream",
     "text": [
      "[1, 1, 1, 1, 1] 3 : 5\n",
      "[5, 19, 48, 39, 14, 5, 39, 32, 5, 46, 11, 30, 1, 20, 36, 15, 21, 6, 15, 2] 39 : 6792\n",
      "Time elapsed: 0.00172 seconds\n"
     ]
    }
   ],
   "source": [
    "inputs = [\n",
    "    [[1,1,1,1,1], 3],\n",
    "    [[5,19,48,39,14,5,39,32,5,46,11,30,1,20,36,15,21,6,15,2], 39]\n",
    "]\n",
    "test(inputs, Solution().findTargetSumWays)"
   ]
  }
 ],
 "metadata": {
  "kernelspec": {
   "display_name": "Python 3",
   "language": "python",
   "name": "python3"
  },
  "language_info": {
   "codemirror_mode": {
    "name": "ipython",
    "version": 3
   },
   "file_extension": ".py",
   "mimetype": "text/x-python",
   "name": "python",
   "nbconvert_exporter": "python",
   "pygments_lexer": "ipython3",
   "version": "3.7.4"
  }
 },
 "nbformat": 4,
 "nbformat_minor": 2
}
