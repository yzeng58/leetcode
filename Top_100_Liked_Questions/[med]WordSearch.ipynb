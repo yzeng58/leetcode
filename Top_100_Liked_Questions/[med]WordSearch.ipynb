{
 "cells": [
  {
   "cell_type": "markdown",
   "metadata": {},
   "source": [
    "https://leetcode.com/problems/word-search/\n",
    "\n",
    "Given an m x n board and a word, find if the word exists in the grid.\n",
    "\n",
    "The word can be constructed from letters of sequentially adjacent cells, where \"adjacent\" cells are horizontally or vertically neighboring. The same letter cell may not be used more than once."
   ]
  },
  {
   "cell_type": "code",
   "execution_count": 1,
   "metadata": {},
   "outputs": [],
   "source": [
    "from modules import *"
   ]
  },
  {
   "cell_type": "code",
   "execution_count": 2,
   "metadata": {},
   "outputs": [],
   "source": [
    "# my solution\n",
    "# Runtime: 4736 ms, faster than 5.00% of Python3 online submissions for Word Search.\n",
    "# Memory Usage: 24.3 MB, less than 6.45% of Python3 online submissions for Word Search.\n",
    "\n",
    "from functools import reduce\n",
    "from copy import deepcopy\n",
    "\n",
    "class Solution:\n",
    "    def searchTarget(self, target_idx, current_i, current_j, path_matrix):\n",
    "        if current_i == 0:\n",
    "            next_row = [1]\n",
    "        elif current_i == self.nrow - 1:\n",
    "            next_row = [self.nrow - 2]\n",
    "        else:\n",
    "            next_row = [current_i - 1, current_i + 1]\n",
    "\n",
    "        if current_j == 0:\n",
    "            next_col = [1]\n",
    "        elif current_j == self.ncol - 1:\n",
    "            next_col = [self.ncol - 2]\n",
    "        else:\n",
    "            next_col = [current_j - 1, current_j + 1]\n",
    "                \n",
    "        if self.nrow > 1:\n",
    "            for next_i in next_row:\n",
    "                if self.board[next_i][current_j] == self.word[target_idx] and path_matrix[next_i][current_j] == 0:\n",
    "                    if target_idx >= len(self.word) - 1:\n",
    "                        return True\n",
    "\n",
    "                    path_matrix_processing = deepcopy(path_matrix)\n",
    "                    path_matrix_processing[next_i][current_j] = 1\n",
    "                    if self.searchTarget(target_idx+1, next_i, current_j, path_matrix_processing):\n",
    "                        return True\n",
    "        \n",
    "        if self.ncol > 1:\n",
    "            for next_j in next_col:\n",
    "                if self.board[current_i][next_j] == self.word[target_idx] and path_matrix[current_i][next_j] == 0:\n",
    "                    if target_idx >= len(self.word) - 1:\n",
    "                        return True\n",
    "\n",
    "                    path_matrix_processing = deepcopy(path_matrix)\n",
    "                    path_matrix_processing[current_i][next_j] = 1\n",
    "                    if self.searchTarget(target_idx+1, current_i, next_j, path_matrix_processing):\n",
    "                        return True\n",
    "        return False\n",
    "        \n",
    "    def exist(self, board: List[List[str]], word: str) -> bool:\n",
    "        self.nrow, self.ncol = len(board), len(board[0])\n",
    "        \n",
    "        self.board, self.word = board, word\n",
    "        board_letters = list(reduce(lambda x, y: x+y, board))\n",
    "        first_target_idx = [[i//self.ncol, i%self.ncol] for i in range(len(board_letters)) if board_letters[i] == word[0]]\n",
    "        if len(word) == 1 and len(first_target_idx) > 0:\n",
    "            return True\n",
    "        \n",
    "        for i, j in first_target_idx:\n",
    "            target_idx = 0\n",
    "            path_matrix = [[0 for i in range(self.ncol)] for i in range(self.nrow)]\n",
    "            path_matrix[i][j] = 1\n",
    "            if self.searchTarget(target_idx+1, i, j, path_matrix):\n",
    "                return True\n",
    "            \n",
    "        return False\n",
    "            \n",
    "            "
   ]
  },
  {
   "cell_type": "code",
   "execution_count": 3,
   "metadata": {},
   "outputs": [
    {
     "name": "stdout",
     "output_type": "stream",
     "text": [
      "[['A', 'B', 'C', 'E'], ['S', 'F', 'C', 'S'], ['A', 'D', 'E', 'E']] ABCCED : True\n",
      "[['A', 'B', 'C', 'E'], ['S', 'F', 'C', 'S'], ['A', 'D', 'E', 'E']] SEE : True\n",
      "[['A', 'B', 'C', 'E'], ['S', 'F', 'C', 'S'], ['A', 'D', 'E', 'E']] ABCB : False\n",
      "[['a']] a : True\n",
      "Time elapsed: 0.00041 seconds\n"
     ]
    }
   ],
   "source": [
    "inputs = [\n",
    "    [[[\"A\",\"B\",\"C\",\"E\"],[\"S\",\"F\",\"C\",\"S\"],[\"A\",\"D\",\"E\",\"E\"]], \"ABCCED\"],\n",
    "    [[[\"A\",\"B\",\"C\",\"E\"],[\"S\",\"F\",\"C\",\"S\"],[\"A\",\"D\",\"E\",\"E\"]], \"SEE\"],\n",
    "    [[[\"A\",\"B\",\"C\",\"E\"],[\"S\",\"F\",\"C\",\"S\"],[\"A\",\"D\",\"E\",\"E\"]], \"ABCB\"],\n",
    "    [[['a']], 'a']\n",
    "]\n",
    "\n",
    "test(inputs, Solution().exist)"
   ]
  },
  {
   "cell_type": "code",
   "execution_count": 4,
   "metadata": {},
   "outputs": [],
   "source": [
    "# official solution: backtracking\n",
    "# Runtime: 396 ms, faster than 28.66% of Python3 online submissions for Word Search.\n",
    "# Memory Usage: 15.9 MB, less than 29.77% of Python3 online submissions for Word Search.\n",
    "\n",
    "class Solution(object):\n",
    "    def exist(self, board, word):\n",
    "        \"\"\"\n",
    "        :type board: List[List[str]]\n",
    "        :type word: str\n",
    "        :rtype: bool\n",
    "        \"\"\"\n",
    "        self.ROWS = len(board)\n",
    "        self.COLS = len(board[0])\n",
    "        self.board = board\n",
    "\n",
    "        for row in range(self.ROWS):\n",
    "            for col in range(self.COLS):\n",
    "                if self.backtrack(row, col, word):\n",
    "                    return True\n",
    "\n",
    "        # no match found after all exploration\n",
    "        return False\n",
    "\n",
    "\n",
    "    def backtrack(self, row, col, suffix):\n",
    "        # bottom case: we find match for each letter in the word\n",
    "        if len(suffix) == 0:\n",
    "            return True\n",
    "\n",
    "        # Check the current status, before jumping into backtracking\n",
    "        if row < 0 or row == self.ROWS or col < 0 or col == self.COLS \\\n",
    "                or self.board[row][col] != suffix[0]:\n",
    "            return False\n",
    "\n",
    "        ret = False\n",
    "        # mark the choice before exploring further.\n",
    "        self.board[row][col] = '#'\n",
    "        # explore the 4 neighbor directions\n",
    "        for rowOffset, colOffset in [(0, 1), (1, 0), (0, -1), (-1, 0)]:\n",
    "            ret = self.backtrack(row + rowOffset, col + colOffset, suffix[1:])\n",
    "            # break instead of return directly to do some cleanup afterwards\n",
    "            if ret: break\n",
    "\n",
    "        # revert the change, a clean slate and no side-effect\n",
    "        self.board[row][col] = suffix[0]\n",
    "\n",
    "        # Tried all directions, and did not find any match\n",
    "        return ret"
   ]
  },
  {
   "cell_type": "code",
   "execution_count": null,
   "metadata": {},
   "outputs": [],
   "source": []
  }
 ],
 "metadata": {
  "kernelspec": {
   "display_name": "Python 3",
   "language": "python",
   "name": "python3"
  },
  "language_info": {
   "codemirror_mode": {
    "name": "ipython",
    "version": 3
   },
   "file_extension": ".py",
   "mimetype": "text/x-python",
   "name": "python",
   "nbconvert_exporter": "python",
   "pygments_lexer": "ipython3",
   "version": "3.7.4"
  }
 },
 "nbformat": 4,
 "nbformat_minor": 2
}
