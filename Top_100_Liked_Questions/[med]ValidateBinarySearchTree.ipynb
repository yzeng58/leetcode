{
 "cells": [
  {
   "cell_type": "markdown",
   "metadata": {},
   "source": [
    "https://leetcode.com/problems/validate-binary-search-tree/\n",
    "\n",
    "A valid BST is defined as follows:\n",
    "\n",
    "* The left subtree of a node contains only nodes with keys less than the node's key.\n",
    "* The right subtree of a node contains only nodes with keys greater than the node's key.\n",
    "* Both the left and right subtrees must also be binary search trees."
   ]
  },
  {
   "cell_type": "code",
   "execution_count": 1,
   "metadata": {},
   "outputs": [],
   "source": [
    "from modules import *\n",
    "\n",
    "TreeNode = binaryTreeNode"
   ]
  },
  {
   "cell_type": "code",
   "execution_count": 2,
   "metadata": {},
   "outputs": [],
   "source": [
    "# my solution\n",
    "# Runtime: 48 ms, faster than 42.51% of Python3 online submissions for Validate Binary Search Tree.\n",
    "# Memory Usage: 16.5 MB, less than 46.67% of Python3 online submissions for Validate Binary Search Tree.\n",
    "\n",
    "class Solution:\n",
    "    def isValidBST(self, root: TreeNode, bound = [-float('inf'), float('inf')]) -> bool:\n",
    "        current = root\n",
    "        \n",
    "        if current.left != None:\n",
    "            if current.left.val >= current.val or current.left.val >= bound[1] or current.left.val <= bound[0]:\n",
    "                return False\n",
    "            if not self.isValidBST(current.left, [bound[0], current.val]):\n",
    "                return False\n",
    "           \n",
    "        if current.right != None:\n",
    "            if current.right.val <= current.val or current.right.val >= bound[1] or current.right.val <= bound[0]:\n",
    "                return False\n",
    "            if not self.isValidBST(current.right, [current.val, bound[1]]):\n",
    "                return False\n",
    "        return True   "
   ]
  },
  {
   "cell_type": "code",
   "execution_count": 3,
   "metadata": {},
   "outputs": [
    {
     "name": "stdout",
     "output_type": "stream",
     "text": [
      "[2, 1, 4] : True\n",
      "[5, 1, 4, None, None, 3, 6] : False\n",
      "[1, 1] : False\n",
      "[5, 4, 6, None, None, 3, 7] : False\n",
      "Time elapsed: 0.00035 seconds\n"
     ]
    }
   ],
   "source": [
    "inputs = list(map(lambda x: [binaryTreeNode.listToBinaryTree(x)], [\n",
    "    [2,1,4], \n",
    "    [5,1,4,None,None,3,6], \n",
    "    [1,1],\n",
    "    [5,4,6,None,None,3,7]\n",
    "]))\n",
    "test(inputs, Solution().isValidBST)"
   ]
  }
 ],
 "metadata": {
  "kernelspec": {
   "display_name": "Python 3",
   "language": "python",
   "name": "python3"
  },
  "language_info": {
   "codemirror_mode": {
    "name": "ipython",
    "version": 3
   },
   "file_extension": ".py",
   "mimetype": "text/x-python",
   "name": "python",
   "nbconvert_exporter": "python",
   "pygments_lexer": "ipython3",
   "version": "3.7.4"
  }
 },
 "nbformat": 4,
 "nbformat_minor": 2
}
