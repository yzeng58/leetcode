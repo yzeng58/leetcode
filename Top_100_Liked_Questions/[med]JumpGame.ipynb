{
 "cells": [
  {
   "cell_type": "code",
   "execution_count": 1,
   "metadata": {},
   "outputs": [],
   "source": [
    "from modules import *"
   ]
  },
  {
   "cell_type": "code",
   "execution_count": 2,
   "metadata": {},
   "outputs": [],
   "source": [
    "# time limit exceed\n",
    "\n",
    "class Solution:\n",
    "    def canJump(self, nums: List[int]) -> bool:\n",
    "        if len(nums) <= 1:\n",
    "            return True\n",
    "        \n",
    "        if nums[0] == 0:\n",
    "            return False\n",
    "        \n",
    "        can_jump = []\n",
    "        for i in range(1, nums[0]+1):\n",
    "            can_jump.append(self.canJump(nums[i:]))\n",
    "            \n",
    "        return sum(can_jump) > 0"
   ]
  },
  {
   "cell_type": "code",
   "execution_count": 3,
   "metadata": {},
   "outputs": [],
   "source": [
    "# my solution\n",
    "# Runtime: 80 ms, faster than 89.42% of Python3 online submissions for Jump Game.\n",
    "# Memory Usage: 16.4 MB, less than 6.84% of Python3 online submissions for Jump Game.\n",
    "\n",
    "class Solution:\n",
    "    def canJump(self, nums: List[int]) -> bool:\n",
    "        if (len(nums) == 2 and nums[0] != 0) or (not 0 in nums[:-1]) or (len(nums) == 1):\n",
    "            return True\n",
    "        \n",
    "        if len(nums) == 2 and nums[0] == 0:\n",
    "            return False\n",
    "        \n",
    "        if nums[-2] != 0:\n",
    "            last_zero_idx = - nums[:-1][::-1].index(0) - 2\n",
    "            return self.canJump(nums[:last_zero_idx+2])\n",
    "        \n",
    "        jump = list(filter(lambda i: nums[i] - len(nums) + 1 + i >= 0, range(len(nums) - 1)))\n",
    "        \n",
    "        if len(jump) == 0:\n",
    "            return False\n",
    "        else:\n",
    "            return self.canJump(nums[:jump[0]+1])"
   ]
  },
  {
   "cell_type": "code",
   "execution_count": 4,
   "metadata": {},
   "outputs": [
    {
     "name": "stdout",
     "output_type": "stream",
     "text": [
      "[2, 3, 1, 1, 4] : True\n",
      "[3, 2, 1, 0, 4] : False\n",
      "[8, 2, 4, 4, 4, 9, 5, 2, 5, 8, 8, 0, 8, 6, 9, 1, 1, 6, 3, 5, 1, 2, 6, 6, 0, 4, 8, 6, 0, 3, 2, 8, 7, 6, 5, 1, 7, 0, 3, 4, 8, 3, 5, 9, 0, 4, 0, 1, 0, 5, 9, 2, 0, 7, 0, 2, 1, 0, 8, 2, 5, 1, 2, 3, 9, 7, 4, 7, 0, 0, 1, 8, 5, 6, 7, 5, 1, 9, 9, 3, 5, 0, 7, 5] : True\n",
      "[0] : True\n",
      "[1, 1, 1, 0] : True\n",
      "Time elapsed: 0.00055 seconds\n"
     ]
    }
   ],
   "source": [
    "inputs = [[[2,3,1,1,4]], \n",
    "          [[3,2,1,0,4]],\n",
    "         [[8,2,4,4,4,9,5,2,5,8,8,0,8,6,9,1,1,6,3,5,1,2,6,6,0,4,8,6,0,3,2,8,7,6,5,1,7,0,3,4,8,3,5,9,0,4,0,1,0,5,9,2,0,7,0,2,1,0,8,2,5,1,2,3,9,7,4,7,0,0,1,8,5,6,7,5,1,9,9,3,5,0,7,5]],\n",
    "         [[0]], [[1,1,1,0]]]\n",
    "test(inputs, Solution().canJump)"
   ]
  }
 ],
 "metadata": {
  "kernelspec": {
   "display_name": "Python 3",
   "language": "python",
   "name": "python3"
  },
  "language_info": {
   "codemirror_mode": {
    "name": "ipython",
    "version": 3
   },
   "file_extension": ".py",
   "mimetype": "text/x-python",
   "name": "python",
   "nbconvert_exporter": "python",
   "pygments_lexer": "ipython3",
   "version": "3.7.4"
  }
 },
 "nbformat": 4,
 "nbformat_minor": 2
}
