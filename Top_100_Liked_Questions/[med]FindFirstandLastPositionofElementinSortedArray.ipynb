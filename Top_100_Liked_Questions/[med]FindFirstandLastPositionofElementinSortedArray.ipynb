{
 "cells": [
  {
   "cell_type": "code",
   "execution_count": 1,
   "metadata": {},
   "outputs": [],
   "source": [
    "from typing import List\n",
    "from modules import *"
   ]
  },
  {
   "cell_type": "code",
   "execution_count": 20,
   "metadata": {},
   "outputs": [],
   "source": [
    "# my solution: runtime: 13.69%, memory: 6.43%\n",
    "\n",
    "class Solution:\n",
    "    # iterative\n",
    "    def binarySearch(self, nums, target):\n",
    "        start, end = 0, len(nums) - 1\n",
    "        while start <= end:\n",
    "            mid = (start + end) // 2\n",
    "            if nums[mid] == target:\n",
    "                return mid\n",
    "            elif nums[mid] < target:\n",
    "                start = mid + 1\n",
    "            else:\n",
    "                end = mid - 1\n",
    "        return -1\n",
    "    \n",
    "    def searchRange(self, nums: List[int], target: int) -> List[int]:\n",
    "        if len(nums) == 0:\n",
    "            return [-1, -1]\n",
    "        \n",
    "        idx = self.binarySearch(nums, target)\n",
    "        \n",
    "        left, right = idx, idx\n",
    "        \n",
    "        while left > 0 and nums[left-1] == target:\n",
    "            left = left - 1\n",
    "        while right + 1 < len(nums) and nums[right+1] == target:\n",
    "            right = right + 1\n",
    "            \n",
    "        return [left, right]"
   ]
  },
  {
   "cell_type": "code",
   "execution_count": 21,
   "metadata": {},
   "outputs": [
    {
     "name": "stdout",
     "output_type": "stream",
     "text": [
      "[5, 7, 7, 8, 8, 10] 8 : [3, 4]\n",
      "[5, 7, 7, 8, 8, 10] 6 : [-1, -1]\n",
      "[] 0 : [-1, -1]\n",
      "[1] 0 : [-1, -1]\n"
     ]
    }
   ],
   "source": [
    "sol = Solution()\n",
    "inputs = [[[5,7,7,8,8,10], 8], [[5,7,7,8,8,10], 6], [[], 0], [[1], 0]]\n",
    "test(inputs, sol.searchRange)"
   ]
  },
  {
   "cell_type": "code",
   "execution_count": null,
   "metadata": {},
   "outputs": [],
   "source": [
    "# best solution: runtime 84.79%, 28.87%\n",
    "\n",
    "class Solution:\n",
    "    # returns leftmost (or rightmost) index at which `target` should be inserted in sorted\n",
    "    # array `nums` via binary search.\n",
    "    def extreme_insertion_index(self, nums, target, left):\n",
    "        lo = 0\n",
    "        hi = len(nums)\n",
    "\n",
    "        while lo < hi:\n",
    "            mid = (lo + hi) // 2\n",
    "            if nums[mid] > target or (left and target == nums[mid]):\n",
    "                hi = mid\n",
    "            else:\n",
    "                lo = mid+1\n",
    "\n",
    "        return lo\n",
    "\n",
    "\n",
    "    def searchRange(self, nums, target):\n",
    "        left_idx = self.extreme_insertion_index(nums, target, True)\n",
    "\n",
    "        # assert that `left_idx` is within the array bounds and that `target`\n",
    "        # is actually in `nums`.\n",
    "        if left_idx == len(nums) or nums[left_idx] != target:\n",
    "            return [-1, -1]\n",
    "\n",
    "        return [left_idx, self.extreme_insertion_index(nums, target, False)-1]"
   ]
  }
 ],
 "metadata": {
  "kernelspec": {
   "display_name": "Python 3",
   "language": "python",
   "name": "python3"
  },
  "language_info": {
   "codemirror_mode": {
    "name": "ipython",
    "version": 3
   },
   "file_extension": ".py",
   "mimetype": "text/x-python",
   "name": "python",
   "nbconvert_exporter": "python",
   "pygments_lexer": "ipython3",
   "version": "3.7.4"
  }
 },
 "nbformat": 4,
 "nbformat_minor": 2
}
