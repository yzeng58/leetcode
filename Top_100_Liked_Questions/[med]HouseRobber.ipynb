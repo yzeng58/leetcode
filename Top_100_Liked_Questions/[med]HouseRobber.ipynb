{
 "cells": [
  {
   "cell_type": "markdown",
   "metadata": {},
   "source": [
    "https://leetcode.com/problems/house-robber/\n",
    "\n",
    "You are a professional robber planning to rob houses along a street. Each house has a certain amount of money stashed, the only constraint stopping you from robbing each of them is that adjacent houses have security system connected and it will automatically contact the police if two adjacent houses were broken into on the same night.\n",
    "\n",
    "Given a list of non-negative integers representing the amount of money of each house, determine the maximum amount of money you can rob tonight without alerting the police."
   ]
  },
  {
   "cell_type": "code",
   "execution_count": 1,
   "metadata": {},
   "outputs": [],
   "source": [
    "from modules import *"
   ]
  },
  {
   "cell_type": "code",
   "execution_count": 2,
   "metadata": {},
   "outputs": [],
   "source": [
    "# my solution\n",
    "# Runtime: 24 ms, faster than 95.10% of Python3 online submissions for House Robber.\n",
    "# Memory Usage: 14.3 MB, less than 34.72% of Python3 online submissions for House Robber.\n",
    "\n",
    "class Solution:\n",
    "    def rob(self, nums: List[int]) -> int:\n",
    "        if len(nums) == 0:\n",
    "            return 0\n",
    "        \n",
    "        d = [0 for _ in nums]\n",
    "        for i in range(len(nums)):\n",
    "            d[i] = nums[i]\n",
    "            if i >= 2: d[i] += max(d[:i-1])\n",
    "                \n",
    "        return max(d[-1], d[-2]) if len(d) >= 2 else d[0]"
   ]
  },
  {
   "cell_type": "code",
   "execution_count": 3,
   "metadata": {},
   "outputs": [
    {
     "name": "stdout",
     "output_type": "stream",
     "text": [
      "[1, 2, 3, 1] : 4\n",
      "[2, 7, 9, 3, 1] : 12\n",
      "Time elapsed: 0.00021 seconds\n"
     ]
    }
   ],
   "source": [
    "inputs = [\n",
    "    [[1,2,3,1]],\n",
    "    [[2,7,9,3,1]]\n",
    "]\n",
    "test(inputs, Solution().rob)"
   ]
  }
 ],
 "metadata": {
  "kernelspec": {
   "display_name": "Python 3",
   "language": "python",
   "name": "python3"
  },
  "language_info": {
   "codemirror_mode": {
    "name": "ipython",
    "version": 3
   },
   "file_extension": ".py",
   "mimetype": "text/x-python",
   "name": "python",
   "nbconvert_exporter": "python",
   "pygments_lexer": "ipython3",
   "version": "3.7.4"
  }
 },
 "nbformat": 4,
 "nbformat_minor": 2
}
