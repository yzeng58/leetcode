{
 "cells": [
  {
   "cell_type": "markdown",
   "metadata": {},
   "source": [
    "https://leetcode.com/problems/queue-reconstruction-by-height/\n",
    "\n",
    "You are given an array of people, people, which are the attributes of some people in a queue (not necessarily in order). Each people[i] = [hi, ki] represents the ith person of height hi with exactly ki other people in front who have a height greater than or equal to hi.\n",
    "\n",
    "Reconstruct and return the queue that is represented by the input array people. The returned queue should be formatted as an array queue, where queue[j] = [hj, kj] is the attributes of the jth person in the queue (queue[0] is the person at the front of the queue)."
   ]
  },
  {
   "cell_type": "code",
   "execution_count": 1,
   "metadata": {},
   "outputs": [],
   "source": [
    "from modules import *"
   ]
  },
  {
   "cell_type": "code",
   "execution_count": 2,
   "metadata": {},
   "outputs": [],
   "source": [
    "# my solution\n",
    "# Runtime: 1376 ms, faster than 5.09% of Python3 online submissions for Queue Reconstruction by Height.\n",
    "# Memory Usage: 16 MB, less than 5.44% of Python3 online submissions for Queue Reconstruction by Height.\n",
    "\n",
    "class Solution:\n",
    "    def reconstructQueueHelper(self, people):\n",
    "        if len(people) <= 1:\n",
    "            return people\n",
    "        \n",
    "        queue, hold = [], []\n",
    "        \n",
    "        for i in range(len(people)):\n",
    "            if people[i][1] == 0:\n",
    "                heapq.heappush(hold, (people[i][0], i))\n",
    "                \n",
    "        front = people.pop(hold[0][1])\n",
    "        queue.append(front)\n",
    "        \n",
    "        for i in range(len(people)):\n",
    "            if people[i][0] <= front[0]:\n",
    "                people[i][1] -= 1\n",
    "                if len(people[i]) == 2:\n",
    "                    people[i].append(0)\n",
    "                people[i][2] += 1\n",
    "        \n",
    "        queue.extend(self.reconstructQueueHelper(people))\n",
    "        return queue\n",
    "    \n",
    "    def reconstructQueue(self, people: List[List[int]]) -> List[List[int]]:\n",
    "        queue = self.reconstructQueueHelper(people)\n",
    "        for person in queue:\n",
    "            if len(person) == 3:\n",
    "                person[1] += person[2]\n",
    "                person.pop()\n",
    "        return queue"
   ]
  },
  {
   "cell_type": "code",
   "execution_count": 3,
   "metadata": {},
   "outputs": [
    {
     "name": "stdout",
     "output_type": "stream",
     "text": [
      "[[7, 0], [4, 4], [7, 1], [5, 0], [6, 1], [5, 2]] : [[5, 0], [7, 0], [5, 2], [6, 1], [4, 4], [7, 1]]\n",
      "[[6, 0], [5, 0], [4, 0], [3, 2], [2, 2], [1, 4]] : [[4, 0], [5, 0], [2, 2], [3, 2], [1, 4], [6, 0]]\n",
      "Time elapsed: 0.00022 seconds\n"
     ]
    }
   ],
   "source": [
    "inputs = [\n",
    "    [[[7,0],[4,4],[7,1],[5,0],[6,1],[5,2]]],\n",
    "    [[[6,0],[5,0],[4,0],[3,2],[2,2],[1,4]]]\n",
    "]\n",
    "test(inputs, Solution().reconstructQueue)"
   ]
  },
  {
   "cell_type": "code",
   "execution_count": 4,
   "metadata": {},
   "outputs": [],
   "source": [
    "# official solution: greedy\n",
    "# Runtime: 88 ms, faster than 95.39% of Python3 online submissions for Queue Reconstruction by Height.\n",
    "# Memory Usage: 14.6 MB, less than 83.38% of Python3 online submissions for Queue Reconstruction by Height.\n",
    "\n",
    "class Solution:\n",
    "    def reconstructQueue(self, people: List[List[int]]) -> List[List[int]]:\n",
    "        people.sort(key = lambda x: (-x[0], x[1]))\n",
    "        output = []\n",
    "        for p in people:\n",
    "            output.insert(p[1], p)\n",
    "        return output"
   ]
  }
 ],
 "metadata": {
  "kernelspec": {
   "display_name": "Python 3",
   "language": "python",
   "name": "python3"
  },
  "language_info": {
   "codemirror_mode": {
    "name": "ipython",
    "version": 3
   },
   "file_extension": ".py",
   "mimetype": "text/x-python",
   "name": "python",
   "nbconvert_exporter": "python",
   "pygments_lexer": "ipython3",
   "version": "3.7.4"
  }
 },
 "nbformat": 4,
 "nbformat_minor": 2
}
