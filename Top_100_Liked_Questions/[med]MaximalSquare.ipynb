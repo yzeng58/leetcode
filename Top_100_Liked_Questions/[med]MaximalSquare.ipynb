{
 "cells": [
  {
   "cell_type": "markdown",
   "metadata": {},
   "source": [
    "https://leetcode.com/problems/maximal-square/\n",
    "\n",
    "Given an m x n binary matrix filled with 0's and 1's, find the largest square containing only 1's and return its area."
   ]
  },
  {
   "cell_type": "code",
   "execution_count": 1,
   "metadata": {},
   "outputs": [],
   "source": [
    "from modules import *"
   ]
  },
  {
   "cell_type": "code",
   "execution_count": 2,
   "metadata": {},
   "outputs": [],
   "source": [
    "# my solution\n",
    "# Runtime: 288 ms, faster than 14.10% of Python3 online submissions for Maximal Square.\n",
    "# Memory Usage: 15.5 MB, less than 37.24% of Python3 online submissions for Maximal Square.\n",
    "\n",
    "class Solution:\n",
    "    def maximalSquare(self, matrix: List[List[str]]) -> int:\n",
    "        if len(matrix) == 0 or len(matrix[0]) == 0:\n",
    "            return 0\n",
    "        \n",
    "        nrow, ncol = len(matrix), len(matrix[0])\n",
    "        max_square = 0\n",
    "        \n",
    "        for i in range(nrow):\n",
    "            for j in range(ncol):\n",
    "                if matrix[i][j] == '1':\n",
    "                    if i == nrow - 1 or j == ncol - 1:\n",
    "                        max_square = max(max_square, 1)\n",
    "                    should_break = False\n",
    "                    for k in range(1, min(nrow-i, ncol-j)):\n",
    "                        if not matrix[i+k][j] == matrix[i][j+k] == matrix[i+k][j+k] == '1':\n",
    "                            max_square = max(max_square, k**2)\n",
    "                            break\n",
    "                        for l in range(1, k):\n",
    "                            if not matrix[i+k][j+l] == '1' == matrix[i+l][j+k]:\n",
    "                                max_square = max(max_square, k**2)\n",
    "                                should_break = True\n",
    "                                break\n",
    "                        if should_break:\n",
    "                            break\n",
    "                        if k == min(nrow-i, ncol-j)-1:\n",
    "                            max_square = max(max_square, (k+1)**2)\n",
    "        return max_square"
   ]
  },
  {
   "cell_type": "code",
   "execution_count": 3,
   "metadata": {},
   "outputs": [
    {
     "name": "stdout",
     "output_type": "stream",
     "text": [
      "[['1', '0', '1', '0', '0'], ['1', '0', '1', '1', '1'], ['1', '1', '1', '1', '1'], ['1', '0', '0', '1', '0']] : 4\n",
      "[['0', '1'], ['1', '0']] : 1\n",
      "[['0']] : 0\n",
      "[['1', '1'], ['1', '1']] : 4\n",
      "Time elapsed: 0.00021 seconds\n"
     ]
    }
   ],
   "source": [
    "inputs = [\n",
    "    [[[\"1\",\"0\",\"1\",\"0\",\"0\"],[\"1\",\"0\",\"1\",\"1\",\"1\"],[\"1\",\"1\",\"1\",\"1\",\"1\"],[\"1\",\"0\",\"0\",\"1\",\"0\"]]],\n",
    "    [[[\"0\",\"1\"],[\"1\",\"0\"]]],\n",
    "    [[[\"0\"]]],\n",
    "    [[[\"1\",\"1\"],[\"1\",\"1\"]]]\n",
    "]\n",
    "test(inputs, Solution().maximalSquare)"
   ]
  }
 ],
 "metadata": {
  "kernelspec": {
   "display_name": "Python 3",
   "language": "python",
   "name": "python3"
  },
  "language_info": {
   "codemirror_mode": {
    "name": "ipython",
    "version": 3
   },
   "file_extension": ".py",
   "mimetype": "text/x-python",
   "name": "python",
   "nbconvert_exporter": "python",
   "pygments_lexer": "ipython3",
   "version": "3.7.4"
  }
 },
 "nbformat": 4,
 "nbformat_minor": 2
}
