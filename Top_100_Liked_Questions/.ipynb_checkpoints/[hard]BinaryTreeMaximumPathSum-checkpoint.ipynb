{
 "cells": [
  {
   "cell_type": "markdown",
   "metadata": {},
   "source": [
    "https://leetcode.com/problems/binary-tree-maximum-path-sum/\n",
    "\n",
    "Given a non-empty binary tree, find the maximum path sum.\n",
    "\n",
    "For this problem, a path is defined as any node sequence from some starting node to any node in the tree along the parent-child connections. The path must contain at least one node and does not need to go through the root."
   ]
  },
  {
   "cell_type": "code",
   "execution_count": 1,
   "metadata": {},
   "outputs": [],
   "source": [
    "from modules import *"
   ]
  },
  {
   "cell_type": "code",
   "execution_count": 2,
   "metadata": {},
   "outputs": [],
   "source": [
    "# my solution\n",
    "# Runtime: 124 ms, faster than 5.75% of Python3 online submissions for Binary Tree Maximum Path Sum.\n",
    "# Memory Usage: 25.4 MB, less than 6.46% of Python3 online submissions for Binary Tree Maximum Path Sum.\n",
    "\n",
    "class Solution:\n",
    "    def subtreeMaxPathSum(self, root: TreeNode):\n",
    "        if root == None:\n",
    "            return (0, 0)\n",
    "        # left, right\n",
    "        if not root in self.subpath:\n",
    "            self.subpath[root] = (root.val + max(max(self.subtreeMaxPathSum(root.left)), 0), \n",
    "                root.val + max(self.subtreeMaxPathSum(root.right)))\n",
    "            self.path[root] = max(root.val, max(self.subpath[root]), \n",
    "                                  sum(self.subpath[root]) - root.val, self.path[root.left], self.path[root.right])\n",
    "        return self.subpath[root]\n",
    "        \n",
    "    def maxPathSum(self, root: TreeNode) -> int:\n",
    "        self.subpath = {None: (0,0)}\n",
    "        self.path = {None: -float('inf')}\n",
    "        \n",
    "        if root == None:\n",
    "            return -float('inf')\n",
    "        if root.left == None and root.right == None:\n",
    "            return root.val\n",
    "        max_left, max_right = self.subtreeMaxPathSum(root)\n",
    "        return self.path[root]"
   ]
  },
  {
   "cell_type": "code",
   "execution_count": 3,
   "metadata": {},
   "outputs": [
    {
     "name": "stdout",
     "output_type": "stream",
     "text": [
      "[1, 2, 3] : 6\n",
      "[-10, 9, 20, None, None, 15, 7] : 42\n",
      "[-3] : -3\n",
      "[-2, -1] : -1\n",
      "[2, -1] : 2\n",
      "[1, -2, 3] : 4\n",
      "[1, -2, -3, 1, 3, -2, None, -1] : 3\n",
      "[9, 6, -3, None, None, -6, 2, None, None, 2, None, -6, -6, -6] : 16\n",
      "[-100, 1, 1, 2, 3, 2, 3] : 6\n",
      "Time elapsed: 0.00101 seconds\n"
     ]
    }
   ],
   "source": [
    "inputs = list(map(lambda x: [TreeNode.listToBinaryTree(x)], [\n",
    "    [1,2,3],\n",
    "    [-10,9,20,None,None,15,7],\n",
    "    [-3],\n",
    "    [-2,-1],\n",
    "    [2,-1],\n",
    "    [1,-2,3],\n",
    "    [1,-2,-3,1,3,-2,None,-1],\n",
    "    [9,6,-3,None,None,-6,2,None,None,2,None,-6,-6,-6],\n",
    "    [-100, 1, 1, 2, 3, 2, 3]\n",
    "]))\n",
    "test(inputs, Solution().maxPathSum)"
   ]
  },
  {
   "cell_type": "code",
   "execution_count": 4,
   "metadata": {},
   "outputs": [],
   "source": [
    "# official solution\n",
    "# Runtime: 80 ms, faster than 90.21% of Python3 online submissions for Binary Tree Maximum Path Sum.\n",
    "# Memory Usage: 21.8 MB, less than 25.83% of Python3 online submissions for Binary Tree Maximum Path Sum.\n",
    "\n",
    "class Solution:\n",
    "    def maxPathSum(self, root):\n",
    "        \"\"\"\n",
    "        :type root: TreeNode\n",
    "        :rtype: int\n",
    "        \"\"\"\n",
    "        def max_gain(node):\n",
    "            nonlocal max_sum\n",
    "            if not node:\n",
    "                return 0\n",
    "\n",
    "            # max sum on the left and right sub-trees of node\n",
    "            left_gain = max(max_gain(node.left), 0)\n",
    "            right_gain = max(max_gain(node.right), 0)\n",
    "            \n",
    "            # the price to start a new path where `node` is a highest node\n",
    "            price_newpath = node.val + left_gain + right_gain\n",
    "            \n",
    "            # update max_sum if it's better to start a new path\n",
    "            max_sum = max(max_sum, price_newpath)\n",
    "        \n",
    "            # for recursion :\n",
    "            # return the max gain if continue the same path\n",
    "            return node.val + max(left_gain, right_gain)\n",
    "   \n",
    "        max_sum = float('-inf')\n",
    "        max_gain(root)\n",
    "        return max_sum"
   ]
  }
 ],
 "metadata": {
  "kernelspec": {
   "display_name": "Python 3",
   "language": "python",
   "name": "python3"
  },
  "language_info": {
   "codemirror_mode": {
    "name": "ipython",
    "version": 3
   },
   "file_extension": ".py",
   "mimetype": "text/x-python",
   "name": "python",
   "nbconvert_exporter": "python",
   "pygments_lexer": "ipython3",
   "version": "3.7.4"
  }
 },
 "nbformat": 4,
 "nbformat_minor": 2
}
