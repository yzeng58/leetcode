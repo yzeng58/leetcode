{
 "cells": [
  {
   "cell_type": "markdown",
   "metadata": {},
   "source": [
    "https://leetcode.com/problems/coin-change/\n",
    "\n",
    "You are given coins of different denominations and a total amount of money amount. Write a function to compute the fewest number of coins that you need to make up that amount. If that amount of money cannot be made up by any combination of the coins, return -1.\n",
    "\n",
    "You may assume that you have an infinite number of each kind of coin."
   ]
  },
  {
   "cell_type": "code",
   "execution_count": 1,
   "metadata": {},
   "outputs": [],
   "source": [
    "from modules import *"
   ]
  },
  {
   "cell_type": "code",
   "execution_count": 2,
   "metadata": {},
   "outputs": [],
   "source": [
    "# my solution\n",
    "# Runtime: 1240 ms, faster than 65.76% of Python3 online submissions for Coin Change.\n",
    "# Memory Usage: 33 MB, less than 7.26% of Python3 online submissions for Coin Change.\n",
    "\n",
    "from functools import lru_cache\n",
    "\n",
    "class Solution:\n",
    "    def coinChange(self, coins: List[int], amount: int) -> int:\n",
    "        @lru_cache(None)\n",
    "        def dp(amount):\n",
    "            if amount == 0:\n",
    "                return 0\n",
    "            output = []\n",
    "            for num in coins:\n",
    "                if num < amount:\n",
    "                    output.append(dp(amount-num))\n",
    "                elif num == amount:\n",
    "                    return 1 \n",
    "                \n",
    "            output = list(set(output))\n",
    "            if -1 in output: output.remove(-1)\n",
    "                \n",
    "            if output:\n",
    "                return min(output) + 1\n",
    "            else:\n",
    "                return -1\n",
    "            \n",
    "        return dp(amount)"
   ]
  },
  {
   "cell_type": "code",
   "execution_count": 3,
   "metadata": {},
   "outputs": [
    {
     "name": "stdout",
     "output_type": "stream",
     "text": [
      "[1, 2, 5] 11 : 3\n",
      "[2] 3 : -1\n",
      "[1] 0 : 0\n",
      "[186, 419, 83, 408] 6249 : 20\n",
      "Time elapsed: 0.01553 seconds\n"
     ]
    }
   ],
   "source": [
    "inputs = [\n",
    "    [[1,2,5], 11],\n",
    "    [[2], 3],\n",
    "    [[1], 0],\n",
    "    [[186,419,83,408], 6249]\n",
    "]\n",
    "test(inputs, Solution().coinChange)"
   ]
  },
  {
   "cell_type": "code",
   "execution_count": 4,
   "metadata": {},
   "outputs": [],
   "source": [
    "# official solution\n",
    "# Runtime: 1132 ms, faster than 80.10% of Python3 online submissions for Coin Change.\n",
    "# Memory Usage: 14.4 MB, less than 75.25% of Python3 online submissions for Coin Change.\n",
    "\n",
    "class Solution:\n",
    "    def coinChange(self, coins: List[int], amount: int) -> int:\n",
    "        dp = [float('inf')] * (amount + 1)\n",
    "        dp[0] = 0\n",
    "        \n",
    "        for coin in coins:\n",
    "            for x in range(coin, amount + 1):\n",
    "                dp[x] = min(dp[x], dp[x - coin] + 1)\n",
    "        return dp[amount] if dp[amount] != float('inf') else -1 "
   ]
  }
 ],
 "metadata": {
  "kernelspec": {
   "display_name": "Python 3",
   "language": "python",
   "name": "python3"
  },
  "language_info": {
   "codemirror_mode": {
    "name": "ipython",
    "version": 3
   },
   "file_extension": ".py",
   "mimetype": "text/x-python",
   "name": "python",
   "nbconvert_exporter": "python",
   "pygments_lexer": "ipython3",
   "version": "3.7.4"
  }
 },
 "nbformat": 4,
 "nbformat_minor": 2
}
