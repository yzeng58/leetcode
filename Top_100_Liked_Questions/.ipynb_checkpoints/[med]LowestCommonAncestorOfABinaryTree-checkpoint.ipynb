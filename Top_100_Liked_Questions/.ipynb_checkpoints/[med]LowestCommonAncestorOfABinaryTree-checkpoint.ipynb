{
 "cells": [
  {
   "cell_type": "markdown",
   "metadata": {},
   "source": [
    "https://leetcode.com/problems/lowest-common-ancestor-of-a-binary-tree/\n",
    "\n",
    "Given a binary tree, find the lowest common ancestor (LCA) of two given nodes in the tree.\n",
    "\n",
    "According to the definition of LCA on Wikipedia: “The lowest common ancestor is defined between two nodes p and q as the lowest node in T that has both p and q as descendants (where we allow a node to be a descendant of itself).”"
   ]
  },
  {
   "cell_type": "code",
   "execution_count": 1,
   "metadata": {},
   "outputs": [],
   "source": [
    "from modules import *"
   ]
  },
  {
   "cell_type": "code",
   "execution_count": 2,
   "metadata": {},
   "outputs": [],
   "source": [
    "# my solution\n",
    "# Runtime: 1788 ms, faster than 5.03% of Python3 online submissions for Lowest Common Ancestor of a Binary Tree.\n",
    "# Memory Usage: 26.4 MB, less than 43.59% of Python3 online submissions for Lowest Common Ancestor of a Binary Tree.\n",
    "\n",
    "class Solution:\n",
    "    def pathToNode(self, root, node):\n",
    "        if root == None:\n",
    "            return False\n",
    "        \n",
    "        if root == node:\n",
    "            return [root]\n",
    "        \n",
    "        path = [root]\n",
    "        left_path = self.pathToNode(root.left, node)\n",
    "        right_path = self.pathToNode(root.right, node)\n",
    "        \n",
    "        if (not left_path) and (not right_path):\n",
    "            return False\n",
    "        \n",
    "        if left_path:\n",
    "            path.extend(left_path)\n",
    "        if right_path:\n",
    "            path.extend(right_path)\n",
    "            \n",
    "        return path\n",
    "            \n",
    "    def lowestCommonAncestor(self, root: 'TreeNode', p: 'TreeNode', q: 'TreeNode') -> 'TreeNode':\n",
    "        path_p = self.pathToNode(root, p)\n",
    "        path_q = self.pathToNode(root, q)\n",
    "        \n",
    "        ancestors = []\n",
    "        for node in path_p:\n",
    "            if node in path_q:\n",
    "                ancestors.append(node)\n",
    "            elif len(ancestors) > 0:\n",
    "                return ancestors[-1]\n",
    "        return ancestors[-1]"
   ]
  }
 ],
 "metadata": {
  "kernelspec": {
   "display_name": "Python 3",
   "language": "python",
   "name": "python3"
  },
  "language_info": {
   "codemirror_mode": {
    "name": "ipython",
    "version": 3
   },
   "file_extension": ".py",
   "mimetype": "text/x-python",
   "name": "python",
   "nbconvert_exporter": "python",
   "pygments_lexer": "ipython3",
   "version": "3.7.4"
  }
 },
 "nbformat": 4,
 "nbformat_minor": 2
}
