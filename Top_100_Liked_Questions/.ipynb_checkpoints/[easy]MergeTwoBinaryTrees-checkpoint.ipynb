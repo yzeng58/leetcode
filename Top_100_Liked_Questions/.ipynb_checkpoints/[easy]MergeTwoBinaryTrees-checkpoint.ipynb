{
 "cells": [
  {
   "cell_type": "markdown",
   "metadata": {},
   "source": [
    "https://leetcode.com/problems/merge-two-binary-trees/\n",
    "\n",
    "Given two binary trees and imagine that when you put one of them to cover the other, some nodes of the two trees are overlapped while the others are not.\n",
    "\n",
    "You need to merge them into a new binary tree. The merge rule is that if two nodes overlap, then sum node values up as the new value of the merged node. Otherwise, the NOT null node will be used as the node of new tree."
   ]
  },
  {
   "cell_type": "code",
   "execution_count": 1,
   "metadata": {},
   "outputs": [],
   "source": [
    "from modules import *"
   ]
  },
  {
   "cell_type": "code",
   "execution_count": 2,
   "metadata": {},
   "outputs": [],
   "source": [
    "# my solution\n",
    "# Runtime: 92 ms, faster than 44.50% of Python3 online submissions for Merge Two Binary Trees.\n",
    "# Memory Usage: 15.7 MB, less than 32.35% of Python3 online submissions for Merge Two Binary Trees.\n",
    "\n",
    "class Solution:\n",
    "    def mergeTrees(self, t1: TreeNode, t2: TreeNode) -> TreeNode:\n",
    "        def Helper(t1, t2):\n",
    "            if t1 and t2:\n",
    "                return TreeNode(t1.val + t2.val, Helper(t1.left, t2.left), Helper(t1.right, t2.right))\n",
    "            elif not t1 and t2:\n",
    "                return t2\n",
    "            elif t1 and not t2:\n",
    "                return t1\n",
    "            else:\n",
    "                return None\n",
    "        return Helper(t1, t2)"
   ]
  },
  {
   "cell_type": "code",
   "execution_count": 3,
   "metadata": {},
   "outputs": [
    {
     "name": "stdout",
     "output_type": "stream",
     "text": [
      "[1, 3, 2, 5] [2, 1, 3, None, 4, None, 7] : [3, 4, 5, 5, 4, None, 7]\n",
      "Time elapsed: 0.00027 seconds\n"
     ]
    }
   ],
   "source": [
    "inputs = list(map(lambda x: [TreeNode.listToBinaryTree(x[0]), TreeNode.listToBinaryTree(x[1])], [\n",
    "    [[1,3,2,5], [2,1,3,None,4,None,7]]\n",
    "]))\n",
    "test(inputs, Solution().mergeTrees)"
   ]
  }
 ],
 "metadata": {
  "kernelspec": {
   "display_name": "Python 3",
   "language": "python",
   "name": "python3"
  },
  "language_info": {
   "codemirror_mode": {
    "name": "ipython",
    "version": 3
   },
   "file_extension": ".py",
   "mimetype": "text/x-python",
   "name": "python",
   "nbconvert_exporter": "python",
   "pygments_lexer": "ipython3",
   "version": "3.7.4"
  }
 },
 "nbformat": 4,
 "nbformat_minor": 2
}
