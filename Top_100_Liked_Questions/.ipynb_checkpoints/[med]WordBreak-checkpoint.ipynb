{
 "cells": [
  {
   "cell_type": "markdown",
   "metadata": {},
   "source": [
    "https://leetcode.com/problems/word-break/\n",
    "\n",
    "Given a non-empty string s and a dictionary wordDict containing a list of non-empty words, determine if s can be segmented into a space-separated sequence of one or more dictionary words.\n",
    "\n",
    "Note:\n",
    "\n",
    "* The same word in the dictionary may be reused multiple times in the segmentation.\n",
    "* You may assume the dictionary does not contain duplicate words."
   ]
  },
  {
   "cell_type": "code",
   "execution_count": 1,
   "metadata": {},
   "outputs": [],
   "source": [
    "from modules import *"
   ]
  },
  {
   "cell_type": "code",
   "execution_count": 2,
   "metadata": {},
   "outputs": [],
   "source": [
    "# my solution\n",
    "# Runtime: 36 ms, faster than 79.69% of Python3 online submissions for Word Break.\n",
    "# Memory Usage: 14.5 MB, less than 29.97% of Python3 online submissions for Word Break.\n",
    "\n",
    "class Solution:\n",
    "    def __init__(self):\n",
    "        self.result = {}\n",
    "        \n",
    "    def wordBreak(self, s: str, wordDict: List[str]) -> bool:\n",
    "        if s in wordDict:\n",
    "            self.result[s] = True\n",
    "            return True\n",
    "        \n",
    "        if s in self.result:\n",
    "            return self.result[s]\n",
    "        \n",
    "        for i in range(len(s))[::-1]:\n",
    "            if s[:i+1] in wordDict:\n",
    "                if self.wordBreak(s[i+1:], wordDict):\n",
    "                    self.result[s] = True\n",
    "                    return True\n",
    "        \n",
    "        self.result[s] = False\n",
    "        return False"
   ]
  },
  {
   "cell_type": "code",
   "execution_count": 3,
   "metadata": {},
   "outputs": [
    {
     "name": "stdout",
     "output_type": "stream",
     "text": [
      "leetcode ['leet', 'code'] : True\n",
      "applepenapple ['apple', 'pen'] : True\n",
      "catsandog ['cats', 'dog', 'sand', 'and', 'cat'] : False\n",
      "aaaaaaaaaaaaaaaaaaaaaaaaaaaaaaaaaaaaaaaaaaaaaaaaaaaaaaaaaaaaaaaaaaaaaaaaaaaaaaaaaaaaaaaaaaaaaaaaaaaaaaaaaaaaaaaaaaaaaaaaaaaaaaaaaaaaaaaaaaaaaaaaaaaaaab ['a', 'aa', 'aaa', 'aaaa', 'aaaaa', 'aaaaaa', 'aaaaaaa', 'aaaaaaaa', 'aaaaaaaaa', 'aaaaaaaaaa'] : False\n",
      "Time elapsed: 0.02511 seconds\n"
     ]
    }
   ],
   "source": [
    "inputs = [\n",
    "    [\"leetcode\", [\"leet\", \"code\"]],\n",
    "    [\"applepenapple\", [\"apple\", \"pen\"]],\n",
    "    [\"catsandog\", [\"cats\", \"dog\", \"sand\", \"and\", \"cat\"]],\n",
    "    [\"aaaaaaaaaaaaaaaaaaaaaaaaaaaaaaaaaaaaaaaaaaaaaaaaaaaaaaaaaaaaaaaaaaaaaaaaaaaaaaaaaaaaaaaaaaaaaaaaaaaaaaaaaaaaaaaaaaaaaaaaaaaaaaaaaaaaaaaaaaaaaaaaaaaaaab\", [\"a\",\"aa\",\"aaa\",\"aaaa\",\"aaaaa\",\"aaaaaa\",\"aaaaaaa\",\"aaaaaaaa\",\"aaaaaaaaa\",\"aaaaaaaaaa\"]]\n",
    "]\n",
    "test(inputs, Solution().wordBreak)"
   ]
  }
 ],
 "metadata": {
  "kernelspec": {
   "display_name": "Python 3",
   "language": "python",
   "name": "python3"
  },
  "language_info": {
   "codemirror_mode": {
    "name": "ipython",
    "version": 3
   },
   "file_extension": ".py",
   "mimetype": "text/x-python",
   "name": "python",
   "nbconvert_exporter": "python",
   "pygments_lexer": "ipython3",
   "version": "3.7.4"
  }
 },
 "nbformat": 4,
 "nbformat_minor": 2
}
