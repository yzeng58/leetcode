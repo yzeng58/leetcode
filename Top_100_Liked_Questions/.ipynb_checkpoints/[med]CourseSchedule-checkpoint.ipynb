{
 "cells": [
  {
   "cell_type": "markdown",
   "metadata": {},
   "source": [
    "https://leetcode.com/problems/course-schedule/\n",
    "\n",
    "There are a total of numCourses courses you have to take, labeled from 0 to numCourses-1.\n",
    "\n",
    "Some courses may have prerequisites, for example to take course 0 you have to first take course 1, which is expressed as a pair: [0,1]\n",
    "\n",
    "Given the total number of courses and a list of prerequisite pairs, is it possible for you to finish all courses?"
   ]
  },
  {
   "cell_type": "code",
   "execution_count": 1,
   "metadata": {},
   "outputs": [],
   "source": [
    "from modules import *"
   ]
  },
  {
   "cell_type": "code",
   "execution_count": 2,
   "metadata": {},
   "outputs": [],
   "source": [
    "# my solution\n",
    "# Runtime: 560 ms, faster than 14.81% of Python3 online submissions for Course Schedule.\n",
    "# Memory Usage: 17.2 MB, less than 27.11% of Python3 online submissions for Course Schedule.\n",
    "\n",
    "class Solution:\n",
    "    def enrollHelper(self, enroll):\n",
    "        if len(set(self.enrolled).intersection(set(self.pre_course.keys()))) == 0 and len(self.pre_course.keys()) > 0:\n",
    "            return False\n",
    "        elif len(self.pre_course.keys()) == 0:\n",
    "            return True\n",
    "        \n",
    "        i = 0\n",
    "        while enroll in self.pre_course and i < len(self.pre_course[enroll]):\n",
    "            course = self.pre_course[enroll][i]\n",
    "            self.course_pre[course].remove(enroll)\n",
    "            self.pre_course[enroll].remove(course)\n",
    "            if len(self.course_pre[course]) == 0:\n",
    "                del self.course_pre[course]\n",
    "                self.enrolled.append(course)\n",
    "                self.enrollHelper(course)\n",
    "            if len(self.pre_course[enroll]) == 0:\n",
    "                del self.pre_course[enroll]\n",
    "\n",
    "        \n",
    "    def canFinish(self, numCourses: int, prerequisites: List[List[int]]) -> bool:\n",
    "        self.course_pre, self.pre_course = {}, {}\n",
    "        courses = set(range(numCourses))\n",
    "        \n",
    "        for course, pre in prerequisites:\n",
    "            if not course in self.course_pre:\n",
    "                self.course_pre[course] = []\n",
    "            if not pre in self.pre_course:\n",
    "                self.pre_course[pre] = []\n",
    "                \n",
    "            self.course_pre[course].append(pre)\n",
    "            self.pre_course[pre].append(course)\n",
    "            \n",
    "        self.enrolled = list(courses - set(self.course_pre.keys()))\n",
    "        self.processed = []\n",
    "\n",
    "        for enroll in self.enrolled:\n",
    "            self.enrollHelper(enroll)\n",
    "        \n",
    "        if len(self.pre_course.keys()) == 0:\n",
    "            return True\n",
    "        return False\n",
    "                "
   ]
  },
  {
   "cell_type": "code",
   "execution_count": 3,
   "metadata": {},
   "outputs": [
    {
     "name": "stdout",
     "output_type": "stream",
     "text": [
      "2 [[1, 0]] : True\n",
      "2 [[1, 0], [0, 1]] : False\n",
      "1 [] : True\n",
      "3 [[0, 1], [0, 2], [1, 2]] : True\n",
      "3 [[1, 0], [1, 2], [0, 1]] : False\n",
      "Time elapsed: 0.00025 seconds\n"
     ]
    }
   ],
   "source": [
    "inputs = [\n",
    "    [2, [[1,0]]],\n",
    "    [2, [[1,0], [0,1]]],\n",
    "    [1, []],\n",
    "    [3, [[0,1], [0,2], [1,2]]],\n",
    "    [3, [[1,0],[1,2],[0,1]]]\n",
    "]\n",
    "test(inputs, Solution().canFinish)"
   ]
  },
  {
   "cell_type": "code",
   "execution_count": 4,
   "metadata": {},
   "outputs": [],
   "source": [
    "# official solution: backtracking\n",
    "# Runtime: 788 ms, faster than 9.37% of Python3 online submissions for Course Schedule.\n",
    "# Memory Usage: 16.8 MB, less than 35.08% of Python3 online submissions for Course Schedule.\n",
    "\n",
    "class Solution(object):\n",
    "    def canFinish(self, numCourses, prerequisites):\n",
    "        \"\"\"\n",
    "        :type numCourses: int\n",
    "        :type prerequisites: List[List[int]]\n",
    "        :rtype: bool\n",
    "        \"\"\"\n",
    "        from collections import defaultdict\n",
    "        courseDict = defaultdict(list)\n",
    "\n",
    "        for relation in prerequisites:\n",
    "            nextCourse, prevCourse = relation[0], relation[1]\n",
    "            courseDict[prevCourse].append(nextCourse)\n",
    "\n",
    "        path = [False] * numCourses\n",
    "        for currCourse in range(numCourses):\n",
    "            if self.isCyclic(currCourse, courseDict, path):\n",
    "                return False\n",
    "        return True\n",
    "\n",
    "\n",
    "    def isCyclic(self, currCourse, courseDict, path):\n",
    "        \"\"\"\n",
    "        backtracking method to check that no cycle would be formed starting from currCourse\n",
    "        \"\"\"\n",
    "        if path[currCourse]:\n",
    "            # come across a previously visited node, i.e. detect the cycle\n",
    "            return True\n",
    "\n",
    "        # before backtracking, mark the node in the path\n",
    "        path[currCourse] = True\n",
    "\n",
    "        # backtracking\n",
    "        ret = False\n",
    "        for child in courseDict[currCourse]:\n",
    "            ret = self.isCyclic(child, courseDict, path)\n",
    "            if ret: break\n",
    "\n",
    "        # after backtracking, remove the node from the path\n",
    "        path[currCourse] = False\n",
    "        return ret"
   ]
  }
 ],
 "metadata": {
  "kernelspec": {
   "display_name": "Python 3",
   "language": "python",
   "name": "python3"
  },
  "language_info": {
   "codemirror_mode": {
    "name": "ipython",
    "version": 3
   },
   "file_extension": ".py",
   "mimetype": "text/x-python",
   "name": "python",
   "nbconvert_exporter": "python",
   "pygments_lexer": "ipython3",
   "version": "3.7.4"
  }
 },
 "nbformat": 4,
 "nbformat_minor": 2
}
