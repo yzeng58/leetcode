{
 "cells": [
  {
   "cell_type": "markdown",
   "metadata": {},
   "source": [
    "https://leetcode.com/problems/maximal-rectangle/\n",
    "\n",
    "Given a rows x cols binary matrix filled with 0's and 1's, find the largest rectangle containing only 1's and return its area."
   ]
  },
  {
   "cell_type": "code",
   "execution_count": 1,
   "metadata": {},
   "outputs": [],
   "source": [
    "from modules import *"
   ]
  },
  {
   "cell_type": "code",
   "execution_count": 2,
   "metadata": {},
   "outputs": [],
   "source": [
    "# my solution\n",
    "# Runtime: 288 ms, faster than 28.56% of Python3 online submissions for Maximal Rectangle.\n",
    "# Memory Usage: 15.5 MB, less than 49.47% of Python3 online submissions for Maximal Rectangle.\n",
    "\n",
    "class Solution:\n",
    "    def largestRectangleArea(self, heights: List[int]) -> int:\n",
    "        stack = []\n",
    "        stack.append(-1)\n",
    "        max_area = 0\n",
    "        for i in range(len(heights)):\n",
    "            while stack[-1] != -1 and heights[stack[-1]] >= heights[i]:\n",
    "                max_area = max(max_area, heights[stack.pop()] * (i-stack[-1]-1))\n",
    "            stack.append(i)\n",
    "            \n",
    "        while stack[-1] != -1:\n",
    "            max_area = max(max_area, heights[stack.pop()] * (len(heights) - stack[-1] -1))\n",
    "        return max_area\n",
    "    \n",
    "    def maximalRectangle(self, matrix: List[List[str]]) -> int:\n",
    "        if len(matrix) == 0:\n",
    "            return 0\n",
    "        nrow, ncol = len(matrix), len(matrix[0])\n",
    "        max_area = 0\n",
    "        for i in range(nrow):\n",
    "            heights = []\n",
    "            for k in range(ncol):\n",
    "                heights.append(0)\n",
    "                for j in range(i, nrow):\n",
    "                    if matrix[j][k] == \"0\":\n",
    "                        break\n",
    "                    heights[-1] += 1\n",
    "            max_area = max(self.largestRectangleArea(heights), max_area)\n",
    "        return max_area"
   ]
  },
  {
   "cell_type": "code",
   "execution_count": 3,
   "metadata": {},
   "outputs": [
    {
     "name": "stdout",
     "output_type": "stream",
     "text": [
      "[['1', '0', '1', '0', '0'], ['1', '0', '1', '1', '1'], ['1', '1', '1', '1', '1'], ['1', '0', '0', '1', '0']] : 6\n",
      "[] : 0\n",
      "[['0']] : 0\n",
      "[['1']] : 1\n",
      "Time elapsed: 0.00036 seconds\n"
     ]
    }
   ],
   "source": [
    "inputs = [\n",
    "    [[[\"1\",\"0\",\"1\",\"0\",\"0\"],[\"1\",\"0\",\"1\",\"1\",\"1\"],[\"1\",\"1\",\"1\",\"1\",\"1\"],[\"1\",\"0\",\"0\",\"1\",\"0\"]]],\n",
    "    [[]],\n",
    "    [[[\"0\"]]],\n",
    "    [[[\"1\"]]]\n",
    "]\n",
    "test(inputs, Solution().maximalRectangle)"
   ]
  },
  {
   "cell_type": "code",
   "execution_count": 4,
   "metadata": {},
   "outputs": [],
   "source": [
    "# official solution: dynamic programming\n",
    "# Runtime: 2388 ms, faster than 9.67% of Python3 online submissions for Maximal Rectangle.\n",
    "# Memory Usage: 15.5 MB, less than 49.47% of Python3 online submissions for Maximal Rectangle.\n",
    "\n",
    "class Solution:\n",
    "    def maximalRectangle(self, matrix: List[List[str]]) -> int:\n",
    "        maxarea = 0\n",
    "\n",
    "        dp = [[0] * len(matrix[0]) for _ in range(len(matrix))]\n",
    "        for i in range(len(matrix)):\n",
    "            for j in range(len(matrix[0])):\n",
    "                if matrix[i][j] == '0': continue\n",
    "\n",
    "                # compute the maximum width and update dp with it\n",
    "                width = dp[i][j] = dp[i][j-1] + 1 if j else 1\n",
    "\n",
    "                # compute the maximum area rectangle with a lower right corner at [i, j]\n",
    "                for k in range(i, -1, -1):\n",
    "                    width = min(width, dp[k][j])\n",
    "                    maxarea = max(maxarea, width * (i-k+1))\n",
    "        return maxarea"
   ]
  }
 ],
 "metadata": {
  "kernelspec": {
   "display_name": "Python 3",
   "language": "python",
   "name": "python3"
  },
  "language_info": {
   "codemirror_mode": {
    "name": "ipython",
    "version": 3
   },
   "file_extension": ".py",
   "mimetype": "text/x-python",
   "name": "python",
   "nbconvert_exporter": "python",
   "pygments_lexer": "ipython3",
   "version": "3.7.4"
  }
 },
 "nbformat": 4,
 "nbformat_minor": 2
}
