{
 "cells": [
  {
   "cell_type": "markdown",
   "metadata": {},
   "source": [
    "https://leetcode.com/problems/copy-list-with-random-pointer/\n",
    "\n",
    "A linked list is given such that each node contains an additional random pointer which could point to any node in the list or null.\n",
    "\n",
    "Return a deep copy of the list.\n",
    "\n",
    "The Linked List is represented in the input/output as a list of n nodes. Each node is represented as a pair of \\[val, random_index\\] where:\n",
    "\n",
    "* val: an integer representing Node.val\n",
    "* random_index: the index of the node (range from 0 to n-1) where random pointer points to, or null if it does not point to any node."
   ]
  },
  {
   "cell_type": "code",
   "execution_count": 1,
   "metadata": {},
   "outputs": [],
   "source": [
    "from modules import *\n",
    "\n",
    "# Definition for a Node.\n",
    "class Node:\n",
    "    def __init__(self, x: int, next: 'Node' = None, random: 'Node' = None):\n",
    "        self.val = int(x)\n",
    "        self.next = next\n",
    "        self.random = random\n",
    "        \n",
    "    def __repr__(self):\n",
    "        current = self\n",
    "        output = \"[\" + str(current.val)\n",
    "        current = current.next\n",
    "        \n",
    "        while current != None:\n",
    "            output += \",\" + str(current.val)\n",
    "            current = current.next\n",
    "            \n",
    "        output += \"]\"\n",
    "        return output\n",
    "    \n",
    "    def __str__(self):\n",
    "        return self.__repr__()\n",
    "        \n",
    "def linkedList(lists):\n",
    "    \"\"\"\n",
    "    Generate a linked list through a lists.\n",
    "    \"\"\"\n",
    "    prehead = Node(-1)\n",
    "    node_list = []\n",
    "\n",
    "    prev = prehead\n",
    "    for val, random_idx in lists:\n",
    "        prev.next = Node(val, None, random_idx)\n",
    "        node_list.append(prev.next)\n",
    "        prev = prev.next\n",
    "        \n",
    "    for node in node_list:\n",
    "        if node.random != None:\n",
    "            node.random = node_list[node.random]\n",
    "    return prehead.next"
   ]
  },
  {
   "cell_type": "code",
   "execution_count": 2,
   "metadata": {},
   "outputs": [],
   "source": [
    "# my solution\n",
    "# Runtime: 36 ms, faster than 61.67% of Python3 online submissions for Copy List with Random Pointer.\n",
    "# Memory Usage: 15.4 MB, less than 8.56% of Python3 online submissions for Copy List with Random Pointer.\n",
    "\n",
    "class Solution:\n",
    "    def helper(self, head: 'Node') -> 'Node':\n",
    "        if head in self.copy_dict:\n",
    "            return self.copy_dict[head]\n",
    "        \n",
    "        new_node = Node(head.val, self.helper(head.next), head.random)\n",
    "        self.copy_dict[head] = new_node\n",
    "        return new_node\n",
    "            \n",
    "    def copyRandomList(self, head: 'Node') -> 'Node':\n",
    "        self.copy_dict = {None: None}\n",
    "        new_head = self.helper(head)    \n",
    "        for node in self.copy_dict:\n",
    "            if self.copy_dict[node] != None:\n",
    "                self.copy_dict[node].random = self.copy_dict[self.copy_dict[node].random]\n",
    "        return new_head"
   ]
  },
  {
   "cell_type": "code",
   "execution_count": 3,
   "metadata": {},
   "outputs": [
    {
     "name": "stdout",
     "output_type": "stream",
     "text": [
      "[7,13,11,10,1] : [7,13,11,10,1]\n",
      "[1,2] : [1,2]\n",
      "[3,3,3] : [3,3,3]\n",
      "None : None\n",
      "Time elapsed: 0.00233 seconds\n"
     ]
    }
   ],
   "source": [
    "inputs = list(map(lambda x: [linkedList(x)], [\n",
    "    [[7,None],[13,0],[11,4],[10,2],[1,0]],\n",
    "    [[1,1],[2,1]],\n",
    "    [[3,None],[3,0],[3,None]],\n",
    "    []\n",
    "]))\n",
    "test(inputs, Solution().copyRandomList)"
   ]
  }
 ],
 "metadata": {
  "kernelspec": {
   "display_name": "Python 3",
   "language": "python",
   "name": "python3"
  },
  "language_info": {
   "codemirror_mode": {
    "name": "ipython",
    "version": 3
   },
   "file_extension": ".py",
   "mimetype": "text/x-python",
   "name": "python",
   "nbconvert_exporter": "python",
   "pygments_lexer": "ipython3",
   "version": "3.7.4"
  }
 },
 "nbformat": 4,
 "nbformat_minor": 2
}
