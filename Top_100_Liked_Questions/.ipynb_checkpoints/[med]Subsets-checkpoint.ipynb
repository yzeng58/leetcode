{
 "cells": [
  {
   "cell_type": "markdown",
   "metadata": {},
   "source": [
    "https://leetcode.com/problems/subsets/\n",
    "\n",
    "Given an integer array nums, return all possible subsets (the power set).\n",
    "\n",
    "The solution set must not contain duplicate subsets."
   ]
  },
  {
   "cell_type": "code",
   "execution_count": 1,
   "metadata": {},
   "outputs": [],
   "source": [
    "from modules import *"
   ]
  },
  {
   "cell_type": "code",
   "execution_count": 2,
   "metadata": {},
   "outputs": [],
   "source": [
    "# my solution\n",
    "# Runtime: 36 ms, faster than 50.88% of Python3 online submissions for Subsets.\n",
    "# Memory Usage: 14.5 MB, less than 12.40% of Python3 online submissions for Subsets.\n",
    "\n",
    "class Solution:\n",
    "    def subsets(self, nums: List[int]) -> List[List[int]]:\n",
    "        if len(nums) == 1:\n",
    "            return [[], nums]\n",
    "        elif len(nums) == 0:\n",
    "            return [[]]\n",
    "        \n",
    "        nums.sort()\n",
    "        \n",
    "        d = [[[nums[i]]] for i in range(len(nums))] # d[j] indicates the subsets of nums[0:j+1] excluding nums[0:j+1]\n",
    "        for j in range(1,len(nums)):\n",
    "            d[j] = d[j-1] + list(map(lambda x: x+[nums[j]], d[j-1])) + [[nums[j]]]\n",
    "        return  [[]] + d[-1]"
   ]
  },
  {
   "cell_type": "code",
   "execution_count": 3,
   "metadata": {},
   "outputs": [
    {
     "name": "stdout",
     "output_type": "stream",
     "text": [
      "[1, 2, 3] : [[], [1], [1, 2], [2], [1, 3], [1, 2, 3], [2, 3], [3]]\n",
      "[0] : [[], [0]]\n",
      "Time elapsed: 0.00024 seconds\n"
     ]
    }
   ],
   "source": [
    "inputs = [[[1,2,3]], [[0]]]\n",
    "test(inputs, Solution().subsets)"
   ]
  },
  {
   "cell_type": "code",
   "execution_count": null,
   "metadata": {},
   "outputs": [],
   "source": []
  }
 ],
 "metadata": {
  "kernelspec": {
   "display_name": "Python 3",
   "language": "python",
   "name": "python3"
  },
  "language_info": {
   "codemirror_mode": {
    "name": "ipython",
    "version": 3
   },
   "file_extension": ".py",
   "mimetype": "text/x-python",
   "name": "python",
   "nbconvert_exporter": "python",
   "pygments_lexer": "ipython3",
   "version": "3.7.4"
  }
 },
 "nbformat": 4,
 "nbformat_minor": 2
}
