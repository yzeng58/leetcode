{
 "cells": [
  {
   "cell_type": "markdown",
   "metadata": {},
   "source": [
    "https://leetcode.com/problems/path-sum-iii/\n",
    "\n",
    "You are given a binary tree in which each node contains an integer value.\n",
    "\n",
    "Find the number of paths that sum to a given value.\n",
    "\n",
    "The path does not need to start or end at the root or a leaf, but it must go downwards (traveling only from parent nodes to child nodes).\n",
    "\n",
    "The tree has no more than 1,000 nodes and the values are in the range -1,000,000 to 1,000,000."
   ]
  },
  {
   "cell_type": "code",
   "execution_count": 1,
   "metadata": {},
   "outputs": [],
   "source": [
    "from modules import *"
   ]
  },
  {
   "cell_type": "code",
   "execution_count": 2,
   "metadata": {},
   "outputs": [],
   "source": [
    "# my solution\n",
    "# Runtime: 372 ms, faster than 32.65% of Python3 online submissions for Path Sum III.\n",
    "# Memory Usage: 35.1 MB, less than 8.37% of Python3 online submissions for Path Sum III.\n",
    "\n",
    "class Solution:\n",
    "    def pathSum(self, root: TreeNode, sum: int) -> int:\n",
    "        num_path = 0\n",
    "        def getSum(subroot, path):\n",
    "            nonlocal num_path\n",
    "            if subroot == None:\n",
    "                return \n",
    "            \n",
    "            for i in range(len(path)):\n",
    "                path[i] += subroot.val\n",
    "                if path[i] == sum:\n",
    "                    num_path += 1\n",
    "\n",
    "            getSum(subroot.left, path + [0])\n",
    "            getSum(subroot.right, path + [0])\n",
    "    \n",
    "        getSum(root, [0])\n",
    "        return num_path"
   ]
  },
  {
   "cell_type": "code",
   "execution_count": 3,
   "metadata": {},
   "outputs": [
    {
     "name": "stdout",
     "output_type": "stream",
     "text": [
      "[10, 5, -3, 3, 2, None, 11, 3, -2, None, 1] 8 : 3\n",
      "[1, 2] 2 : 1\n",
      "[5, 4, 8, 11, None, 13, 4, 7, 2, None, None, 5, 1] 22 : 3\n",
      "Time elapsed: 0.00409 seconds\n"
     ]
    }
   ],
   "source": [
    "inputs = list(map(lambda x: [TreeNode.listToBinaryTree(x[0]), x[1]], [\n",
    "    [[10,5,-3,3,2,None,11,3,-2,None,1], 8],\n",
    "    [[1,2], 2],\n",
    "    [[5,4,8,11,None,13,4,7,2,None,None,5,1], 22]\n",
    "]))\n",
    "\n",
    "test(inputs, Solution().pathSum)"
   ]
  },
  {
   "cell_type": "code",
   "execution_count": 4,
   "metadata": {},
   "outputs": [],
   "source": [
    "# official solution\n",
    "# Runtime: 48 ms, faster than 82.71% of Python3 online submissions for Path Sum III.\n",
    "# Memory Usage: 15.5 MB, less than 56.66% of Python3 online submissions for Path Sum III.\n",
    "\n",
    "class Solution:\n",
    "    def pathSum(self, root: TreeNode, sum: int) -> int:\n",
    "        def preorder(node: TreeNode, curr_sum) -> None:\n",
    "            nonlocal count\n",
    "            if not node:\n",
    "                return \n",
    "            \n",
    "            # current prefix sum\n",
    "            curr_sum += node.val\n",
    "            \n",
    "            # here is the sum we're looking for\n",
    "            if curr_sum == k:\n",
    "                count += 1\n",
    "            \n",
    "            # number of times the curr_sum − k has occurred already, \n",
    "            # determines the number of times a path with sum k \n",
    "            # has occurred up to the current node\n",
    "            count += h[curr_sum - k]\n",
    "            \n",
    "            # add the current sum into hashmap\n",
    "            # to use it during the child nodes processing\n",
    "            h[curr_sum] += 1\n",
    "            \n",
    "            # process left subtree\n",
    "            preorder(node.left, curr_sum)\n",
    "            # process right subtree\n",
    "            preorder(node.right, curr_sum)\n",
    "            \n",
    "            # remove the current sum from the hashmap\n",
    "            # in order not to use it during \n",
    "            # the parallel subtree processing\n",
    "            h[curr_sum] -= 1\n",
    "            \n",
    "        count, k = 0, sum\n",
    "        h = defaultdict(int)\n",
    "        preorder(root, 0)\n",
    "        return count"
   ]
  }
 ],
 "metadata": {
  "kernelspec": {
   "display_name": "Python 3",
   "language": "python",
   "name": "python3"
  },
  "language_info": {
   "codemirror_mode": {
    "name": "ipython",
    "version": 3
   },
   "file_extension": ".py",
   "mimetype": "text/x-python",
   "name": "python",
   "nbconvert_exporter": "python",
   "pygments_lexer": "ipython3",
   "version": "3.7.4"
  }
 },
 "nbformat": 4,
 "nbformat_minor": 2
}
