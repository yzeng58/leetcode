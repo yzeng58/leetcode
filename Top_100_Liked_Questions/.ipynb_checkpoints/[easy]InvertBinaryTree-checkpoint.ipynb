{
 "cells": [
  {
   "cell_type": "markdown",
   "metadata": {},
   "source": [
    "https://leetcode.com/problems/invert-binary-tree/\n",
    "\n",
    "Invert a binary tree."
   ]
  },
  {
   "cell_type": "code",
   "execution_count": 1,
   "metadata": {},
   "outputs": [],
   "source": [
    "from modules import *"
   ]
  },
  {
   "cell_type": "code",
   "execution_count": 2,
   "metadata": {},
   "outputs": [],
   "source": [
    "# my solution\n",
    "# Runtime: 32 ms, faster than 57.28% of Python3 online submissions for Invert Binary Tree.\n",
    "# Memory Usage: 14.2 MB, less than 31.90% of Python3 online submissions for Invert Binary Tree.\n",
    "\n",
    "class Solution:\n",
    "    def invertTree(self, root: TreeNode) -> TreeNode:\n",
    "        if root == None:\n",
    "            return None\n",
    "        \n",
    "        current = root\n",
    "        \n",
    "        swap = self.invertTree(current.left)\n",
    "        current.left = self.invertTree(current.right)\n",
    "        current.right = swap\n",
    "        \n",
    "        return root"
   ]
  },
  {
   "cell_type": "code",
   "execution_count": 3,
   "metadata": {},
   "outputs": [
    {
     "name": "stdout",
     "output_type": "stream",
     "text": [
      "[4, 2, 7, 1, 3, 6, 9] : [4, 7, 2, 9, 6, 3, 1]\n",
      "Time elapsed: 0.00019 seconds\n"
     ]
    }
   ],
   "source": [
    "inputs = list(map(lambda x: [TreeNode.listToBinaryTree(x)], [\n",
    "    [4,2,7,1,3,6,9]\n",
    "]))\n",
    "test(inputs, Solution().invertTree)"
   ]
  }
 ],
 "metadata": {
  "kernelspec": {
   "display_name": "Python 3",
   "language": "python",
   "name": "python3"
  },
  "language_info": {
   "codemirror_mode": {
    "name": "ipython",
    "version": 3
   },
   "file_extension": ".py",
   "mimetype": "text/x-python",
   "name": "python",
   "nbconvert_exporter": "python",
   "pygments_lexer": "ipython3",
   "version": "3.7.4"
  }
 },
 "nbformat": 4,
 "nbformat_minor": 2
}
