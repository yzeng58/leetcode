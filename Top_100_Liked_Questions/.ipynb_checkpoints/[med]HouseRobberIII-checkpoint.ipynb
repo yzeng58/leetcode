{
 "cells": [
  {
   "cell_type": "markdown",
   "metadata": {},
   "source": [
    "https://leetcode.com/problems/house-robber-iii/\n",
    "\n",
    "The thief has found himself a new place for his thievery again. There is only one entrance to this area, called the \"root.\" Besides the root, each house has one and only one parent house. After a tour, the smart thief realized that \"all houses in this place forms a binary tree\". It will automatically contact the police if two directly-linked houses were broken into on the same night.\n",
    "\n",
    "Determine the maximum amount of money the thief can rob tonight without alerting the police."
   ]
  },
  {
   "cell_type": "code",
   "execution_count": 1,
   "metadata": {},
   "outputs": [],
   "source": [
    "from modules import *"
   ]
  },
  {
   "cell_type": "code",
   "execution_count": 2,
   "metadata": {},
   "outputs": [],
   "source": [
    "# my solution\n",
    "# Runtime: 56 ms, faster than 28.76% of Python3 online submissions for House Robber III.\n",
    "# Memory Usage: 18.3 MB, less than 12.71% of Python3 online submissions for House Robber III.\n",
    "\n",
    "from functools import lru_cache\n",
    "\n",
    "class Solution:\n",
    "    @lru_cache(None)\n",
    "    def rob(self, root: TreeNode) -> int:\n",
    "        if root == None:\n",
    "            return 0\n",
    "        \n",
    "        if root.left == None and root.right == None:\n",
    "            return root.val\n",
    "        elif root.left != None and root.right == None:\n",
    "            return max(root.val + self.rob(root.left.left) + self.rob(root.left.right),\n",
    "                      self.rob(root.left))\n",
    "        elif root.left == None and root.right != None:\n",
    "            return max(root.val + self.rob(root.right.left) + self.rob(root.right.right),\n",
    "                      self.rob(root.right))\n",
    "        else:\n",
    "            return max(root.val + self.rob(root.left.left) + self.rob(root.left.right) + self.rob(root.right.left) + self.rob(root.right.right),\n",
    "                      self.rob(root.left) + self.rob(root.right)) "
   ]
  },
  {
   "cell_type": "code",
   "execution_count": 3,
   "metadata": {},
   "outputs": [
    {
     "name": "stdout",
     "output_type": "stream",
     "text": [
      "[3, 2, 3, None, 3, None, 1] : 7\n",
      "[3, 4, 5, 1, 3, None, 1] : 9\n",
      "[4, 2, None, 1, 3] : 8\n",
      "[3, 5, 1, 4, 2] : 9\n",
      "Time elapsed: 0.00021 seconds\n"
     ]
    }
   ],
   "source": [
    "# 7, 9, 8, 9\n",
    "inputs = list(map(lambda x: [TreeNode.listToBinaryTree(x)], [\n",
    "    [3,2,3,None,3,None,1],\n",
    "    [3,4,5,1,3,None,1],\n",
    "    [4,2,None,1,3],\n",
    "    [3,5,1,4,2]\n",
    "]))\n",
    "test(inputs, Solution().rob)"
   ]
  },
  {
   "cell_type": "code",
   "execution_count": 4,
   "metadata": {},
   "outputs": [],
   "source": [
    "# official solution: recursion\n",
    "# Runtime: 48 ms, faster than 71.22% of Python3 online submissions for House Robber III.\n",
    "# Memory Usage: 16.2 MB, less than 74.23% of Python3 online submissions for House Robber III.\n",
    "\n",
    "class Solution:\n",
    "    def rob(self, root: TreeNode) -> int:\n",
    "        def helper(node):\n",
    "            # return [rob this node, not rob this node]\n",
    "            if not node:\n",
    "                return (0, 0)\n",
    "            left = helper(node.left)\n",
    "            right = helper(node.right)\n",
    "            # if we rob this node, we cannot rob its children\n",
    "            rob = node.val + left[1] + right[1]\n",
    "            # else we could choose to either rob its children or not\n",
    "            not_rob = max(left) + max(right)\n",
    "            return [rob, not_rob]\n",
    "\n",
    "        return max(helper(root))"
   ]
  }
 ],
 "metadata": {
  "kernelspec": {
   "display_name": "Python 3",
   "language": "python",
   "name": "python3"
  },
  "language_info": {
   "codemirror_mode": {
    "name": "ipython",
    "version": 3
   },
   "file_extension": ".py",
   "mimetype": "text/x-python",
   "name": "python",
   "nbconvert_exporter": "python",
   "pygments_lexer": "ipython3",
   "version": "3.7.4"
  }
 },
 "nbformat": 4,
 "nbformat_minor": 2
}
