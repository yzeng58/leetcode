{
 "cells": [
  {
   "cell_type": "markdown",
   "metadata": {},
   "source": [
    "https://leetcode.com/problems/reverse-linked-list/\n",
    "\n",
    "Reverse a singly linked list."
   ]
  },
  {
   "cell_type": "code",
   "execution_count": 1,
   "metadata": {},
   "outputs": [],
   "source": [
    "from modules import *"
   ]
  },
  {
   "cell_type": "code",
   "execution_count": 2,
   "metadata": {},
   "outputs": [],
   "source": [
    "# my solution\n",
    "# Runtime: 36 ms, faster than 64.19% of Python3 online submissions for Reverse Linked List.\n",
    "# Memory Usage: 15.7 MB, less than 43.04% of Python3 online submissions for Reverse Linked List.\n",
    "\n",
    "class Solution:\n",
    "    def reverseList(self, head: ListNode) -> ListNode:\n",
    "        node_list = []\n",
    "        current = head\n",
    "        \n",
    "        while current!= None:\n",
    "            node_list.append(current)\n",
    "            current = current.next\n",
    "            \n",
    "        for i in range(len(node_list)):\n",
    "            if i == 0:\n",
    "                node_list[i].next = None\n",
    "            else:\n",
    "                node_list[i].next = node_list[i-1]\n",
    "                \n",
    "        if len(node_list) > 0:\n",
    "            return node_list[-1]\n",
    "        else:\n",
    "            return None"
   ]
  },
  {
   "cell_type": "code",
   "execution_count": 3,
   "metadata": {},
   "outputs": [
    {
     "name": "stdout",
     "output_type": "stream",
     "text": [
      "[1,2,3,4,5] : [5,4,3,2,1]\n",
      "Time elapsed: 0.00015 seconds\n"
     ]
    }
   ],
   "source": [
    "inputs = list(map(lambda x: [linkedList(x)], [\n",
    "    [1,2,3,4,5]\n",
    "]))\n",
    "test(inputs, Solution().reverseList)"
   ]
  }
 ],
 "metadata": {
  "kernelspec": {
   "display_name": "Python 3",
   "language": "python",
   "name": "python3"
  },
  "language_info": {
   "codemirror_mode": {
    "name": "ipython",
    "version": 3
   },
   "file_extension": ".py",
   "mimetype": "text/x-python",
   "name": "python",
   "nbconvert_exporter": "python",
   "pygments_lexer": "ipython3",
   "version": "3.7.4"
  }
 },
 "nbformat": 4,
 "nbformat_minor": 2
}
