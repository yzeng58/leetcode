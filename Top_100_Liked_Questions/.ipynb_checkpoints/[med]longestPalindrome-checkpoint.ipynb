{
 "cells": [
  {
   "cell_type": "code",
   "execution_count": 1,
   "metadata": {},
   "outputs": [],
   "source": [
    "class Solution:\n",
    "    def longestPalindrome(self, s: str) -> str:\n",
    "        if s == '':\n",
    "            return \"\"\n",
    "        palindrome = s[0]\n",
    "        for i in range(len(s)-1):\n",
    "            for j in range(i+1, len(s)+1):\n",
    "                if s[i:j] == s[i:j][::-1]:\n",
    "                    if j-i > len(palindrome):\n",
    "                        palindrome = s[i:j]\n",
    "        return palindrome"
   ]
  },
  {
   "cell_type": "code",
   "execution_count": 3,
   "metadata": {},
   "outputs": [],
   "source": [
    "class Solution:\n",
    "    def longestPalindrome(self, s: str) -> str:\n",
    "        if s == '':\n",
    "            return \"\"\n",
    "        \n",
    "        palindrome = s[0]\n",
    "        for i in range(len(s)-1):\n",
    "            for j in range(i, (len(s)+i)//2+1):\n",
    "                if s[i:j+1] == s[j+1:2*j+2-i][::-1]:\n",
    "                    if 2*j+2-2*i > len(palindrome):\n",
    "                        palindrome = s[i:2*j+2-i]\n",
    "                elif s[i:j] == s[j+1:2*j+1-i][::-1]:\n",
    "                    if 2*j+1-2*i > len(palindrome):\n",
    "                        palindrome = s[i:2*j+1-i]\n",
    "        return palindrome"
   ]
  },
  {
   "cell_type": "code",
   "execution_count": 9,
   "metadata": {},
   "outputs": [
    {
     "data": {
      "text/plain": [
       "'mozblnzrszxtdjmwvgeovtxoftpcsbnjryogrnibiiqfexljlfikfcxvrzrpfvugtdjrlkgvkmrqgeltifdehsewpdhpjpnuobmuozopmglnocqcozvratjpzrklexqdeuvvzfjkuknkkoynxptrgtzadmpfdkphfjhdulhzncoofmmrwqjxeyhodfavcgpjmohohuztezdxegqzbaaobzrqptuqsvwnfdneyccbkgkjafztytwuppvleukdqqzyeiltsvoqbxupbasiityganofxijucwzqgtdyxljociwwjdrnfnfbwyymmvbuvbrdnvcubzkohknbsneutrcukfiqqhfviqdsbtrldipenqifdcrenpuyaqvkparycksurhbtjppwhezbcgocamurdawimkzzkmiwadrumacogcbzehwppjtbhruskcyrapkvqayupnercdfiqnepidlrtbsdqivfhqqifkucrtuensbnkhokzbucvndrbvubvmmyywbfnfnrdjwwicojlxydtgqzwcujixfonagytiisabpuxbqovstlieyzqqdkuelvppuwtytzfajkgkbccyendfnwvsqutpqrzboaabzqgexdzetzuhohomjpgcvafdohyexjqwrmmfoocnzhludhjfhpkdfpmdaztgrtpxnyokknkukjfzvvuedqxelkrzpjtarvzocqconlgmpozoumbounpjphdpweshedfitlegqrmkvgklrjdtguvfprzrvxcfkifljlxefqiibinrgoyrjnbscptfoxtvoegvwmjdtxzsrznlbzom'"
      ]
     },
     "execution_count": 9,
     "metadata": {},
     "output_type": "execute_result"
    }
   ],
   "source": [
    "s = \"mozblnzrszxtdjmwvgeovtxoftpcsbnjryogrnibiiqfexljlfikfcxvrzrpfvugtdjrlkgvkmrqgeltifdehsewpdhpjpnuobmuozopmglnocqcozvratjpzrklexqdeuvvzfjkuknkkoynxptrgtzadmpfdkphfjhdulhzncoofmmrwqjxeyhodfavcgpjmohohuztezdxegqzbaaobzrqptuqsvwnfdneyccbkgkjafztytwuppvleukdqqzyeiltsvoqbxupbasiityganofxijucwzqgtdyxljociwwjdrnfnfbwyymmvbuvbrdnvcubzkohknbsneutrcukfiqqhfviqdsbtrldipenqifdcrenpuyaqvkparycksurhbtjppwhezbcgocamurdawimkzzkmiwadrumacogcbzehwppjtbhruskcyrapkvqayupnercdfiqnepidlrtbsdqivfhqqifkucrtuensbnkhokzbucvndrbvubvmmyywbfnfnrdjwwicojlxydtgqzwcujixfonagytiisabpuxbqovstlieyzqqdkuelvppuwtytzfajkgkbccyendfnwvsqutpqrzboaabzqgexdzetzuhohomjpgcvafdohyexjqwrmmfoocnzhludhjfhpkdfpmdaztgrtpxnyokknkukjfzvvuedqxelkrzpjtarvzocqconlgmpozoumbounpjphdpweshedfitlegqrmkvgklrjdtguvfprzrvxcfkifljlxefqiibinrgoyrjnbscptfoxtvoegvwmjdtxzsrznlbzom\"\n",
    "sol = Solution()\n",
    "sol.longestPalindrome(s)"
   ]
  },
  {
   "cell_type": "code",
   "execution_count": 8,
   "metadata": {},
   "outputs": [],
   "source": [
    "# official solution\n",
    "# Runtime: 984 ms, faster than 63.15% of Python3 online submissions for Longest Palindromic Substring.\n",
    "# Memory Usage: 14.4 MB, less than 34.45% of Python3 online submissions for Longest Palindromic Substring.\n",
    "\n",
    "class Solution:\n",
    "    def expandAroundCenter(self, s: str, left: int, right: int) -> int:\n",
    "        L, R = left, right\n",
    "        while L >= 0 and R < len(s) and s[L] == s[R]:\n",
    "            L += -1\n",
    "            R += 1\n",
    "        return R - L - 1    \n",
    "        \n",
    "    def longestPalindrome(self, s: str) -> str:\n",
    "        if s == None or len(s) < 1: return \"\"\n",
    "        start, end = 0, 0\n",
    "        for i in range(len(s)):\n",
    "            len1 = self.expandAroundCenter(s, i, i)\n",
    "            len2 = self.expandAroundCenter(s, i, i + 1)\n",
    "            final_len = max(len1, len2)\n",
    "            if final_len > end - start:\n",
    "                start = i - (final_len - 1) // 2\n",
    "                end = i + final_len // 2\n",
    "        return s[start: end + 1]"
   ]
  },
  {
   "cell_type": "code",
   "execution_count": null,
   "metadata": {},
   "outputs": [],
   "source": []
  }
 ],
 "metadata": {
  "kernelspec": {
   "display_name": "Python 3",
   "language": "python",
   "name": "python3"
  },
  "language_info": {
   "codemirror_mode": {
    "name": "ipython",
    "version": 3
   },
   "file_extension": ".py",
   "mimetype": "text/x-python",
   "name": "python",
   "nbconvert_exporter": "python",
   "pygments_lexer": "ipython3",
   "version": "3.7.4"
  }
 },
 "nbformat": 4,
 "nbformat_minor": 2
}
