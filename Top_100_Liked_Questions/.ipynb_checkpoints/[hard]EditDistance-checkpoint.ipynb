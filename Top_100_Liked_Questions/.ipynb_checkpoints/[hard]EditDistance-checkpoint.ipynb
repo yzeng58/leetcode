{
 "cells": [
  {
   "cell_type": "markdown",
   "metadata": {},
   "source": [
    "https://leetcode.com/problems/edit-distance/"
   ]
  },
  {
   "cell_type": "code",
   "execution_count": 1,
   "metadata": {},
   "outputs": [],
   "source": [
    "from modules import *"
   ]
  },
  {
   "cell_type": "code",
   "execution_count": 40,
   "metadata": {},
   "outputs": [],
   "source": [
    "# recursion: slow\n",
    "\n",
    "class Solution:\n",
    "    def minDistance(self, word1: str, word2: str) -> int:\n",
    "        if len(set(word1).intersection(set(word2))) == 0:\n",
    "            return max(len(word1), len(word2))\n",
    "        add = 0 if word1[0] == word2[0] else 1\n",
    "        return min([self.minDistance(word1[1:], word2[1:]), # replace\n",
    "                   self.minDistance(word1[1:], word2), # remove\n",
    "                   self.minDistance(word1, word2[1:])] # insert\n",
    "                  ) + add"
   ]
  },
  {
   "cell_type": "code",
   "execution_count": 53,
   "metadata": {},
   "outputs": [],
   "source": [
    "# my solution:\n",
    "# Runtime: 812 ms, faster than 5.05% of Python3 online submissions for Edit Distance.\n",
    "# Memory Usage: 103.4 MB, less than 5.02% of Python3 online submissions for Edit Distance.\n",
    "\n",
    "class Solution:\n",
    "    def minDistance(self, word1: str, word2: str) -> int:\n",
    "        if \"\" in [word1, word2]:\n",
    "            return max(len(word1), len(word2))\n",
    "        \n",
    "        d = {word1[-1]:{word2[-1]: int(word1[-1] != word2[-1])}}\n",
    "        for i in reversed(range(len(word1))):\n",
    "            d[word1[i:]] = {}\n",
    "            d[word1[i:]][word2[-1]] = len(word1[i:]) - 1 if word2[-1] in word1[i:] else len(word1[i:])\n",
    "            for j in reversed(range(len(word2) - 1)):\n",
    "                add = 0 if word1[i] == word2[j] else 1\n",
    "                if i == len(word1) - 1: \n",
    "                    d[word1[-1]][word2[j:]] = len(word2[j:]) - 1 if word1[-1] in word2[j:] else len(word2[j:])\n",
    "                else:\n",
    "                    d[word1[i:]][word2[j:]] = min(d[word1[i+1:]][word2[j+1:]] + 1, # replace\n",
    "                                               d[word1[i+1:]][word2[j:]] + 1, # remove\n",
    "                                               d[word1[i:]][word2[j+1:]] + 1,  # insert  \n",
    "                                               d[word1[i+1:]][word2[j+1:]] + add) # pass \n",
    "\n",
    "        return d[word1][word2]   "
   ]
  },
  {
   "cell_type": "code",
   "execution_count": 55,
   "metadata": {},
   "outputs": [
    {
     "name": "stdout",
     "output_type": "stream",
     "text": [
      "horse ros : 3\n",
      "intention execution : 5\n",
      "  : 0\n",
      "dinitrophenylhydrazine acetylphenylhydrazine : 6\n",
      "logicoarcha g : 10\n",
      "zoologicoarchaeologist zoogeologist : 10\n",
      "Time elapsed: 0.01020 seconds\n"
     ]
    }
   ],
   "source": [
    "inputs = [[\"horse\", \"ros\"], [\"intention\", \"execution\"], [\"\", \"\"], \n",
    "         [\"dinitrophenylhydrazine\", \"acetylphenylhydrazine\"],\n",
    "         [\"logicoarcha\", \"g\"],\n",
    "         [\"zoologicoarchaeologist\", \"zoogeologist\"]]\n",
    "test(inputs, Solution().minDistance)"
   ]
  },
  {
   "cell_type": "code",
   "execution_count": null,
   "metadata": {},
   "outputs": [],
   "source": [
    "# official solution: same idea\n",
    "# Runtime: 184 ms, faster than 45.49% of Python3 online submissions for Edit Distance.\n",
    "# Memory Usage: 17.9 MB, less than 32.11% of Python3 online submissions for Edit Distance.\n",
    "    \n",
    "class Solution:\n",
    "    def minDistance(self, word1, word2):\n",
    "        \"\"\"\n",
    "        :type word1: str\n",
    "        :type word2: str\n",
    "        :rtype: int\n",
    "        \"\"\"\n",
    "        n = len(word1)\n",
    "        m = len(word2)\n",
    "        \n",
    "        # if one of the strings is empty\n",
    "        if n * m == 0:\n",
    "            return n + m\n",
    "        \n",
    "        # array to store the convertion history\n",
    "        d = [ [0] * (m + 1) for _ in range(n + 1)]\n",
    "        \n",
    "        # init boundaries\n",
    "        for i in range(n + 1):\n",
    "            d[i][0] = i\n",
    "        for j in range(m + 1):\n",
    "            d[0][j] = j\n",
    "        \n",
    "        # DP compute \n",
    "        for i in range(1, n + 1):\n",
    "            for j in range(1, m + 1):\n",
    "                left = d[i - 1][j] + 1\n",
    "                down = d[i][j - 1] + 1\n",
    "                left_down = d[i - 1][j - 1] \n",
    "                if word1[i - 1] != word2[j - 1]:\n",
    "                    left_down += 1\n",
    "                d[i][j] = min(left, down, left_down)\n",
    "        \n",
    "        return d[n][m]"
   ]
  },
  {
   "cell_type": "code",
   "execution_count": null,
   "metadata": {},
   "outputs": [],
   "source": []
  }
 ],
 "metadata": {
  "kernelspec": {
   "display_name": "Python 3",
   "language": "python",
   "name": "python3"
  },
  "language_info": {
   "codemirror_mode": {
    "name": "ipython",
    "version": 3
   },
   "file_extension": ".py",
   "mimetype": "text/x-python",
   "name": "python",
   "nbconvert_exporter": "python",
   "pygments_lexer": "ipython3",
   "version": "3.7.4"
  }
 },
 "nbformat": 4,
 "nbformat_minor": 2
}
