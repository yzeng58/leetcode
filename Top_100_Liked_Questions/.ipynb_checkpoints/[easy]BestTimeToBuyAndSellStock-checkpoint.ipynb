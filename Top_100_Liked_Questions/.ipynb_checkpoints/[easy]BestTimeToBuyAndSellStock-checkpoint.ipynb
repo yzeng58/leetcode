{
 "cells": [
  {
   "cell_type": "markdown",
   "metadata": {},
   "source": [
    "https://leetcode.com/problems/best-time-to-buy-and-sell-stock/\n",
    "\n",
    "Say you have an array for which the ith element is the price of a given stock on day i.\n",
    "\n",
    "If you were only permitted to complete at most one transaction (i.e., buy one and sell one share of the stock), design an algorithm to find the maximum profit.\n",
    "\n",
    "Note that you cannot sell a stock before you buy one."
   ]
  },
  {
   "cell_type": "code",
   "execution_count": 1,
   "metadata": {},
   "outputs": [],
   "source": [
    "from modules import *"
   ]
  },
  {
   "cell_type": "code",
   "execution_count": 2,
   "metadata": {},
   "outputs": [],
   "source": [
    "# my solution\n",
    "# Runtime: 64 ms, faster than 51.67% of Python3 online submissions for Best Time to Buy and Sell Stock.\n",
    "# Memory Usage: 15 MB, less than 67.21% of Python3 online submissions for Best Time to Buy and Sell Stock.\n",
    "\n",
    "class Solution:\n",
    "    def maxProfit(self, prices: List[int]) -> int:\n",
    "        i, j = 0, 1\n",
    "        max_profit = 0\n",
    "        while j < len(prices):\n",
    "            if prices[j] < prices[i]:\n",
    "                i = j\n",
    "                j += 1\n",
    "            else:\n",
    "                max_profit = max(max_profit, prices[j] - prices[i])\n",
    "                j += 1\n",
    "                \n",
    "        return max_profit"
   ]
  },
  {
   "cell_type": "code",
   "execution_count": 3,
   "metadata": {},
   "outputs": [
    {
     "name": "stdout",
     "output_type": "stream",
     "text": [
      "[7, 1, 5, 3, 6, 4] : 5\n",
      "[7, 6, 4, 3, 1] : 0\n",
      "Time elapsed: 0.00019 seconds\n"
     ]
    }
   ],
   "source": [
    "inputs = [\n",
    "    [[7,1,5,3,6,4]],\n",
    "    [[7,6,4,3,1]]\n",
    "]\n",
    "test(inputs, Solution().maxProfit)"
   ]
  }
 ],
 "metadata": {
  "kernelspec": {
   "display_name": "Python 3",
   "language": "python",
   "name": "python3"
  },
  "language_info": {
   "codemirror_mode": {
    "name": "ipython",
    "version": 3
   },
   "file_extension": ".py",
   "mimetype": "text/x-python",
   "name": "python",
   "nbconvert_exporter": "python",
   "pygments_lexer": "ipython3",
   "version": "3.7.4"
  }
 },
 "nbformat": 4,
 "nbformat_minor": 2
}
