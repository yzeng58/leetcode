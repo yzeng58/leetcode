{
 "cells": [
  {
   "cell_type": "markdown",
   "metadata": {},
   "source": [
    "https://leetcode.com/problems/longest-consecutive-sequence/\n",
    "\n",
    "Given an unsorted array of integers nums, return the length of the longest consecutive elements sequence.\n",
    "\n",
    "Follow up: Could you implement the O(n) solution? "
   ]
  },
  {
   "cell_type": "code",
   "execution_count": 1,
   "metadata": {},
   "outputs": [],
   "source": [
    "from modules import *"
   ]
  },
  {
   "cell_type": "code",
   "execution_count": 2,
   "metadata": {},
   "outputs": [],
   "source": [
    "# my solution\n",
    "# Runtime: 48 ms, faster than 93.82% of Python3 online submissions for Longest Consecutive Sequence.\n",
    "# Memory Usage: 15.3 MB, less than 53.71% of Python3 online submissions for Longest Consecutive Sequence.\n",
    "\n",
    "class Solution:\n",
    "    def longestConsecutive(self, nums: List[int]) -> int:\n",
    "        if len(nums) == 0:\n",
    "            return 0\n",
    "        nums = sorted(set(nums))\n",
    "        max_length = 1\n",
    "        left, right = 0, 1\n",
    "        while right < len(nums):\n",
    "            if nums[right] == nums[right-1] + 1:\n",
    "                right += 1\n",
    "            else:\n",
    "                max_length = max(right - left, max_length)\n",
    "                left = right\n",
    "                right += 1\n",
    "                \n",
    "        max_length = max(right - left, max_length)\n",
    "        return max_length"
   ]
  },
  {
   "cell_type": "code",
   "execution_count": 3,
   "metadata": {},
   "outputs": [
    {
     "name": "stdout",
     "output_type": "stream",
     "text": [
      "[100, 4, 200, 1, 3, 2] : 4\n",
      "[0, 3, 7, 2, 5, 8, 4, 6, 0, 1] : 9\n",
      "[] : 0\n",
      "[1, 2, 0, 1] : 3\n",
      "Time elapsed: 0.03848 seconds\n"
     ]
    }
   ],
   "source": [
    "inputs = [\n",
    "    [[100,4,200,1,3,2]], \n",
    "    [[0,3,7,2,5,8,4,6,0,1]],\n",
    "    [[]],\n",
    "    [[1,2,0,1]]\n",
    "]\n",
    "test(inputs, Solution().longestConsecutive)"
   ]
  }
 ],
 "metadata": {
  "kernelspec": {
   "display_name": "Python 3",
   "language": "python",
   "name": "python3"
  },
  "language_info": {
   "codemirror_mode": {
    "name": "ipython",
    "version": 3
   },
   "file_extension": ".py",
   "mimetype": "text/x-python",
   "name": "python",
   "nbconvert_exporter": "python",
   "pygments_lexer": "ipython3",
   "version": "3.7.4"
  }
 },
 "nbformat": 4,
 "nbformat_minor": 2
}
