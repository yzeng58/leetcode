{
 "cells": [
  {
   "cell_type": "markdown",
   "metadata": {},
   "source": [
    "https://leetcode.com/problems/kth-largest-element-in-an-array/\n",
    "\n",
    "Find the kth largest element in an unsorted array. Note that it is the kth largest element in the sorted order, not the kth distinct element."
   ]
  },
  {
   "cell_type": "code",
   "execution_count": 1,
   "metadata": {},
   "outputs": [],
   "source": [
    "from modules import *"
   ]
  },
  {
   "cell_type": "code",
   "execution_count": 2,
   "metadata": {},
   "outputs": [],
   "source": [
    "# my solution\n",
    "# Runtime: 60 ms, faster than 86.78% of Python3 online submissions for Kth Largest Element in an Array.\n",
    "# Memory Usage: 14.9 MB, less than 67.32% of Python3 online submissions for Kth Largest Element in an Array.\n",
    "\n",
    "class Solution:\n",
    "    def findKthLargest(self, nums: List[int], k: int) -> int:\n",
    "        nums.sort()\n",
    "        return nums[-k]"
   ]
  },
  {
   "cell_type": "code",
   "execution_count": 3,
   "metadata": {},
   "outputs": [],
   "source": [
    "# my solution: max heap\n",
    "# Runtime: 248 ms, faster than 16.31% of Python3 online submissions for Kth Largest Element in an Array.\n",
    "# Memory Usage: 15.2 MB, less than 36.66% of Python3 online submissions for Kth Largest Element in an Array.\n",
    "\n",
    "class Solution:\n",
    "    def findKthLargest(self, nums: List[int], k: int) -> int:\n",
    "        maxheap = maxHeap()\n",
    "        for num in nums:\n",
    "            maxheap.insert(num)\n",
    "            \n",
    "        for _ in range(k):\n",
    "            output = maxheap.pop()\n",
    "        \n",
    "        return output"
   ]
  },
  {
   "cell_type": "code",
   "execution_count": 4,
   "metadata": {},
   "outputs": [
    {
     "name": "stdout",
     "output_type": "stream",
     "text": [
      "[3, 2, 1, 5, 6, 4] 2 : 5\n",
      "[3, 2, 3, 1, 2, 4, 5, 5, 6] 4 : 4\n",
      "Time elapsed: 0.00291 seconds\n"
     ]
    }
   ],
   "source": [
    "inputs = [\n",
    "    [[3,2,1,5,6,4], 2],\n",
    "    [[3,2,3,1,2,4,5,5,6], 4]\n",
    "]\n",
    "test(inputs, Solution().findKthLargest)"
   ]
  }
 ],
 "metadata": {
  "kernelspec": {
   "display_name": "Python 3",
   "language": "python",
   "name": "python3"
  },
  "language_info": {
   "codemirror_mode": {
    "name": "ipython",
    "version": 3
   },
   "file_extension": ".py",
   "mimetype": "text/x-python",
   "name": "python",
   "nbconvert_exporter": "python",
   "pygments_lexer": "ipython3",
   "version": "3.7.4"
  }
 },
 "nbformat": 4,
 "nbformat_minor": 2
}
