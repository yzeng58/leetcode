{
 "cells": [
  {
   "cell_type": "markdown",
   "metadata": {},
   "source": [
    "https://leetcode.com/problems/partition-labels/\n",
    "\n",
    "A string S of lowercase English letters is given. We want to partition this string into as many parts as possible so that each letter appears in at most one part, and return a list of integers representing the size of these parts."
   ]
  },
  {
   "cell_type": "code",
   "execution_count": 1,
   "metadata": {},
   "outputs": [],
   "source": [
    "from modules import *"
   ]
  },
  {
   "cell_type": "code",
   "execution_count": 2,
   "metadata": {},
   "outputs": [],
   "source": [
    "# my solution\n",
    "# Runtime: 44 ms, faster than 39.11% of Python3 online submissions for Partition Labels.\n",
    "# Memory Usage: 14.3 MB, less than 52.27% of Python3 online submissions for Partition Labels.\n",
    "\n",
    "class Solution:\n",
    "    def partitionLabels(self, S: str) -> List[int]:\n",
    "        left, right = 0, 0\n",
    "        partitions = []\n",
    "\n",
    "        while right < len(S):\n",
    "            if S[right] in S[right + 1:]:\n",
    "                right = S[right+1:].index(S[right]) + right + 1\n",
    "                process = S[left: right+1]\n",
    "                i = left\n",
    "                while i-left < len(process):\n",
    "                    try:\n",
    "                        right = S[right+1:].index(S[i]) + right + 1\n",
    "                        process = S[left: right+1]\n",
    "                        i += 1\n",
    "                    except ValueError:\n",
    "                        i += 1\n",
    "                partitions.append(right-left+1)\n",
    "                left = right + 1\n",
    "                right = left\n",
    "            else:\n",
    "                left += 1\n",
    "                right += 1\n",
    "                partitions.append(1)\n",
    "        return partitions\n"
   ]
  },
  {
   "cell_type": "code",
   "execution_count": 3,
   "metadata": {},
   "outputs": [
    {
     "name": "stdout",
     "output_type": "stream",
     "text": [
      "ababcbacadefegdehijhklij : [9, 7, 8]\n",
      "Time elapsed: 0.00018 seconds\n"
     ]
    }
   ],
   "source": [
    "inputs = [\n",
    "    [\"ababcbacadefegdehijhklij\"] # [9,7,8]\n",
    "]\n",
    "test(inputs, Solution().partitionLabels)"
   ]
  }
 ],
 "metadata": {
  "kernelspec": {
   "display_name": "Python 3",
   "language": "python",
   "name": "python3"
  },
  "language_info": {
   "codemirror_mode": {
    "name": "ipython",
    "version": 3
   },
   "file_extension": ".py",
   "mimetype": "text/x-python",
   "name": "python",
   "nbconvert_exporter": "python",
   "pygments_lexer": "ipython3",
   "version": "3.7.4"
  }
 },
 "nbformat": 4,
 "nbformat_minor": 2
}
