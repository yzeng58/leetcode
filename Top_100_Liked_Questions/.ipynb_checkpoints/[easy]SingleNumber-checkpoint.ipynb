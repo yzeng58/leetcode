{
 "cells": [
  {
   "cell_type": "markdown",
   "metadata": {},
   "source": [
    "https://leetcode.com/problems/single-number/\n",
    "\n",
    "Given a non-empty array of integers nums, every element appears twice except for one. Find that single one.\n",
    "\n",
    "Follow up: Could you implement a solution with a linear runtime complexity and without using extra memory?\n",
    "\n"
   ]
  },
  {
   "cell_type": "code",
   "execution_count": 1,
   "metadata": {},
   "outputs": [],
   "source": [
    "from modules import *"
   ]
  },
  {
   "cell_type": "code",
   "execution_count": 2,
   "metadata": {},
   "outputs": [],
   "source": [
    "# my solution\n",
    "# Runtime: 132 ms, faster than 61.14% of Python3 online submissions for Single Number.\n",
    "# Memory Usage: 16.6 MB, less than 74.08% of Python3 online submissions for Single Number.\n",
    "\n",
    "class Solution:\n",
    "    def singleNumber(self, nums: List[int]) -> int:\n",
    "        count = 0\n",
    "        nums.sort()\n",
    "        for i in range(len(nums)):\n",
    "            if count == 1:\n",
    "                if nums[i] != nums[i-1]:\n",
    "                    return nums[i-1]\n",
    "                count = 0\n",
    "            else:\n",
    "                count += 1\n",
    "        return nums[-1]"
   ]
  },
  {
   "cell_type": "code",
   "execution_count": 3,
   "metadata": {},
   "outputs": [
    {
     "name": "stdout",
     "output_type": "stream",
     "text": [
      "[2, 2, 1] : 1\n",
      "[4, 1, 2, 1, 2] : 4\n",
      "[1] : 1\n",
      "Time elapsed: 0.00016 seconds\n"
     ]
    }
   ],
   "source": [
    "inputs = [\n",
    "    [[2,2,1]],\n",
    "    [[4,1,2,1,2]],\n",
    "    [[1]]\n",
    "]\n",
    "test(inputs, Solution().singleNumber)"
   ]
  },
  {
   "cell_type": "code",
   "execution_count": 4,
   "metadata": {},
   "outputs": [],
   "source": [
    "# official solution\n",
    "# Runtime: 124 ms, faster than 90.11% of Python3 online submissions for Single Number.\n",
    "# Memory Usage: 16.6 MB, less than 44.74% of Python3 online submissions for Single Number.\n",
    "\n",
    "class Solution(object):\n",
    "    def singleNumber(self, nums):\n",
    "        \"\"\"\n",
    "        :type nums: List[int]\n",
    "        :rtype: int\n",
    "        \"\"\"\n",
    "        return 2 * sum(set(nums)) - sum(nums)"
   ]
  }
 ],
 "metadata": {
  "kernelspec": {
   "display_name": "Python 3",
   "language": "python",
   "name": "python3"
  },
  "language_info": {
   "codemirror_mode": {
    "name": "ipython",
    "version": 3
   },
   "file_extension": ".py",
   "mimetype": "text/x-python",
   "name": "python",
   "nbconvert_exporter": "python",
   "pygments_lexer": "ipython3",
   "version": "3.7.4"
  }
 },
 "nbformat": 4,
 "nbformat_minor": 2
}
