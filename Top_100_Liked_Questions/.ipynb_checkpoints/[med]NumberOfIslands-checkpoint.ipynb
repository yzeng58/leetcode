{
 "cells": [
  {
   "cell_type": "markdown",
   "metadata": {},
   "source": [
    "https://leetcode.com/problems/number-of-islands/\n",
    "\n",
    "Given an m x n 2d grid map of '1's (land) and '0's (water), return the number of islands.\n",
    "\n",
    "An island is surrounded by water and is formed by connecting adjacent lands horizontally or vertically. You may assume all four edges of the grid are all surrounded by water."
   ]
  },
  {
   "cell_type": "code",
   "execution_count": 1,
   "metadata": {},
   "outputs": [],
   "source": [
    "from modules import *"
   ]
  },
  {
   "cell_type": "code",
   "execution_count": 2,
   "metadata": {},
   "outputs": [],
   "source": [
    "# my solution\n",
    "# Runtime: 124 ms, faster than 94.57% of Python3 online submissions for Number of Islands.\n",
    "# Memory Usage: 17.2 MB, less than 18.36% of Python3 online submissions for Number of Islands.\n",
    "\n",
    "from functools import reduce\n",
    "\n",
    "class Solution:\n",
    "    def numIslands(self, grid: List[List[str]]) -> int:\n",
    "        nrow, ncol = len(grid) + 2, len(grid[0]) + 2\n",
    "        grid = [[0 for _ in range(ncol)]] + grid + [[0 for _ in range(ncol)]]\n",
    "        num_islands = 0 # label the islands\n",
    "        island_idx = {}\n",
    "        \n",
    "        for i in range(1, nrow-1):\n",
    "            grid[i] = [0] + grid[i] + [0]\n",
    "            for j in range(1, ncol-1):\n",
    "                grid[i][j] = int(grid[i][j])\n",
    "                if grid[i][j] == 1:\n",
    "                    if grid[i][j-1] >= 1 and grid[i-1][j] >= 1:\n",
    "                        if grid[i][j-1] != grid[i-1][j]:\n",
    "                            label = min(grid[i-1][j], grid[i][j-1])\n",
    "                            island_idx[label].append((i,j))\n",
    "                            remove_label = max(grid[i-1][j], grid[i][j-1])\n",
    "                            grid[i][j] = label\n",
    "                            for idx_i, idx_j in island_idx[remove_label]:\n",
    "                                grid[idx_i][idx_j] = label\n",
    "                                island_idx[label].append((idx_i,idx_j))\n",
    "\n",
    "                            del island_idx[remove_label]\n",
    "                        else:\n",
    "                            grid[i][j] = grid[i][j-1]\n",
    "                            island_idx[grid[i][j-1]].append((i,j))\n",
    "                        \n",
    "                    elif grid[i][j-1] >= 1 and grid[i-1][j] < 1:\n",
    "                        grid[i][j] = grid[i][j-1]\n",
    "                        island_idx[grid[i][j-1]].append((i,j))\n",
    "                    elif grid[i][j-1] < 1 and grid[i-1][j] >= 1:\n",
    "                        grid[i][j] = grid[i-1][j]\n",
    "                        island_idx[grid[i-1][j]].append((i,j))\n",
    "                    else:\n",
    "                        num_islands += 1\n",
    "                        grid[i][j] = num_islands + 2\n",
    "                        island_idx[num_islands + 2] = [(i,j)]\n",
    "        return len(island_idx)"
   ]
  },
  {
   "cell_type": "code",
   "execution_count": 3,
   "metadata": {},
   "outputs": [
    {
     "name": "stdout",
     "output_type": "stream",
     "text": [
      "[['1', '1', '1', '1', '0'], ['1', '1', '0', '1', '0'], ['1', '1', '0', '0', '0'], ['0', '0', '0', '0', '0']] : 1\n",
      "[['1', '1', '0', '0', '0'], ['1', '1', '0', '0', '0'], ['0', '0', '1', '0', '0'], ['0', '0', '0', '1', '1']] : 3\n",
      "[['1', '0', '1', '1', '1'], ['1', '0', '1', '0', '1'], ['1', '1', '1', '0', '1']] : 1\n",
      "Time elapsed: 0.00117 seconds\n"
     ]
    }
   ],
   "source": [
    "inputs = [\n",
    "    [[\n",
    "  [\"1\",\"1\",\"1\",\"1\",\"0\"],\n",
    "  [\"1\",\"1\",\"0\",\"1\",\"0\"],\n",
    "  [\"1\",\"1\",\"0\",\"0\",\"0\"],\n",
    "  [\"0\",\"0\",\"0\",\"0\",\"0\"]\n",
    "]],\n",
    "    [[\n",
    "  [\"1\",\"1\",\"0\",\"0\",\"0\"],\n",
    "  [\"1\",\"1\",\"0\",\"0\",\"0\"],\n",
    "  [\"0\",\"0\",\"1\",\"0\",\"0\"],\n",
    "  [\"0\",\"0\",\"0\",\"1\",\"1\"]\n",
    "]],\n",
    "    [[[\"1\",\"0\",\"1\",\"1\",\"1\"],[\"1\",\"0\",\"1\",\"0\",\"1\"],[\"1\",\"1\",\"1\",\"0\",\"1\"]]]\n",
    "]\n",
    "test(inputs, Solution().numIslands)"
   ]
  }
 ],
 "metadata": {
  "kernelspec": {
   "display_name": "Python 3",
   "language": "python",
   "name": "python3"
  },
  "language_info": {
   "codemirror_mode": {
    "name": "ipython",
    "version": 3
   },
   "file_extension": ".py",
   "mimetype": "text/x-python",
   "name": "python",
   "nbconvert_exporter": "python",
   "pygments_lexer": "ipython3",
   "version": "3.7.4"
  }
 },
 "nbformat": 4,
 "nbformat_minor": 2
}
