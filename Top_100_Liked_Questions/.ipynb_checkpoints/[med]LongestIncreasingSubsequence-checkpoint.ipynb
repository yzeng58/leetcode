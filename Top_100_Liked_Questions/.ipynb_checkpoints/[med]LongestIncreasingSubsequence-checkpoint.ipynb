{
 "cells": [
  {
   "cell_type": "markdown",
   "metadata": {},
   "source": [
    "https://leetcode.com/problems/longest-increasing-subsequence/\n",
    "\n",
    "Given an integer array nums, return the length of the longest strictly increasing subsequence.\n",
    "\n",
    "A subsequence is a sequence that can be derived from an array by deleting some or no elements without changing the order of the remaining elements. For example, [3,6,2,7] is a subsequence of the array [0,3,1,6,2,2,7]."
   ]
  },
  {
   "cell_type": "code",
   "execution_count": 1,
   "metadata": {},
   "outputs": [],
   "source": [
    "from modules import *"
   ]
  },
  {
   "cell_type": "code",
   "execution_count": 2,
   "metadata": {},
   "outputs": [],
   "source": [
    "# my solution\n",
    "# Runtime: 3976 ms, faster than 20.35% of Python3 online submissions for Longest Increasing Subsequence.\n",
    "# Memory Usage: 14.8 MB, less than 16.03% of Python3 online submissions for Longest Increasing Subsequence.\n",
    "\n",
    "class Solution:\n",
    "    def lengthOfLIS(self, nums: List[int]) -> int:\n",
    "        d = [1]\n",
    "        for i in range(1,len(nums)):\n",
    "            d.append(1)\n",
    "            for j in range(i):\n",
    "                if nums[j] < nums[i]:\n",
    "                    d[i] = max(d[j]+1, d[i])\n",
    "        return max(d)"
   ]
  },
  {
   "cell_type": "code",
   "execution_count": 3,
   "metadata": {},
   "outputs": [
    {
     "name": "stdout",
     "output_type": "stream",
     "text": [
      "[10, 9, 2, 5, 3, 7, 101, 18] : 4\n",
      "[0, 1, 0, 3, 2, 3] : 4\n",
      "[7, 7, 7, 7, 7, 7, 7] : 1\n",
      "[1, 3, 6, 7, 9, 4, 10, 5, 6] : 6\n",
      "Time elapsed: 0.00083 seconds\n"
     ]
    }
   ],
   "source": [
    "inputs = [\n",
    "    [[10,9,2,5,3,7,101,18]],\n",
    "    [[0,1,0,3,2,3]],\n",
    "    [[7,7,7,7,7,7,7]],\n",
    "    [[1,3,6,7,9,4,10,5,6]]\n",
    "]\n",
    "test(inputs, Solution().lengthOfLIS)"
   ]
  }
 ],
 "metadata": {
  "kernelspec": {
   "display_name": "Python 3",
   "language": "python",
   "name": "python3"
  },
  "language_info": {
   "codemirror_mode": {
    "name": "ipython",
    "version": 3
   },
   "file_extension": ".py",
   "mimetype": "text/x-python",
   "name": "python",
   "nbconvert_exporter": "python",
   "pygments_lexer": "ipython3",
   "version": "3.7.4"
  }
 },
 "nbformat": 4,
 "nbformat_minor": 2
}
