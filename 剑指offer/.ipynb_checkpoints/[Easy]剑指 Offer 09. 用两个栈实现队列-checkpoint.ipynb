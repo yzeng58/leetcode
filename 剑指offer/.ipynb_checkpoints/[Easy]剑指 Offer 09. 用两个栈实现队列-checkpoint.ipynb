{
 "cells": [
  {
   "cell_type": "markdown",
   "id": "24c7e0c1",
   "metadata": {},
   "source": [
    "https://leetcode.cn/problems/yong-liang-ge-zhan-shi-xian-dui-lie-lcof/?favorite=xb9nqhhg"
   ]
  },
  {
   "cell_type": "code",
   "execution_count": 13,
   "id": "e76d5702",
   "metadata": {},
   "outputs": [],
   "source": [
    "class CQueue:\n",
    "\n",
    "    def __init__(self):\n",
    "        self.queue = []\n",
    "\n",
    "    def appendTail(self, value: int) -> None:\n",
    "        self.queue.append(value)\n",
    "\n",
    "    def deleteHead(self) -> int:\n",
    "        if len(self.queue) > 0:\n",
    "            return self.queue.pop(0)\n",
    "        else:\n",
    "            return -1\n",
    "        "
   ]
  },
  {
   "cell_type": "code",
   "execution_count": 12,
   "id": "e001e423",
   "metadata": {},
   "outputs": [
    {
     "data": {
      "text/plain": [
       "-1"
      ]
     },
     "execution_count": 12,
     "metadata": {},
     "output_type": "execute_result"
    }
   ],
   "source": [
    "obj = CQueue()\n",
    "obj.appendTail(3)\n",
    "obj.deleteHead()\n",
    "obj.deleteHead()\n",
    "obj.deleteHead()"
   ]
  },
  {
   "cell_type": "code",
   "execution_count": null,
   "id": "2c9309de",
   "metadata": {},
   "outputs": [],
   "source": []
  }
 ],
 "metadata": {
  "kernelspec": {
   "display_name": "Python 3",
   "language": "python",
   "name": "python3"
  },
  "language_info": {
   "codemirror_mode": {
    "name": "ipython",
    "version": 3
   },
   "file_extension": ".py",
   "mimetype": "text/x-python",
   "name": "python",
   "nbconvert_exporter": "python",
   "pygments_lexer": "ipython3",
   "version": "3.8.8"
  }
 },
 "nbformat": 4,
 "nbformat_minor": 5
}
