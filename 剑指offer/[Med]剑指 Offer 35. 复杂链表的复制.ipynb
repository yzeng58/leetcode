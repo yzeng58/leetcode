{
 "cells": [
  {
   "cell_type": "markdown",
   "id": "a375c88a",
   "metadata": {},
   "source": [
    "https://leetcode.cn/problems/fu-za-lian-biao-de-fu-zhi-lcof/?favorite=xb9nqhhg"
   ]
  },
  {
   "cell_type": "code",
   "execution_count": 1,
   "id": "2de32286",
   "metadata": {},
   "outputs": [],
   "source": [
    "import os\n",
    "os.chdir('../useful_modules')\n",
    "from modules import *"
   ]
  },
  {
   "cell_type": "code",
   "execution_count": 3,
   "id": "90d82896",
   "metadata": {},
   "outputs": [],
   "source": [
    "class Node:\n",
    "    def __init__(self, x: int, next: 'Node' = None, random: 'Node' = None):\n",
    "        self.val = int(x)\n",
    "        self.next = next\n",
    "        self.random = random"
   ]
  },
  {
   "cell_type": "code",
   "execution_count": 85,
   "id": "e148685e",
   "metadata": {},
   "outputs": [],
   "source": [
    "class Solution:    \n",
    "    def __init__(self):\n",
    "        self.list = []\n",
    "        self.cp_head = None\n",
    "        \n",
    "    def copyNext(self, head):\n",
    "        next_node = self.copyNext(head.next) if head.next else None \n",
    "        cp_head = Node(head.val, next_node, None)\n",
    "        self.list.append(cp_head)\n",
    "        return cp_head\n",
    "    \n",
    "    def linkRandom(self, node):\n",
    "        if node:\n",
    "            i = 0\n",
    "            current = node\n",
    "            while current.next:\n",
    "                current = current.next\n",
    "                i += 1\n",
    "            return self.list[i]\n",
    "        else:\n",
    "            return None\n",
    "        \n",
    "    def copyRandomList(self, head: 'Node') -> 'Node':\n",
    "        if head:\n",
    "            self.cp_head = self.copyNext(head)\n",
    "            current = head\n",
    "            cp_current = self.cp_head\n",
    "            while current:\n",
    "                cp_current.random = self.linkRandom(current.random)\n",
    "                current = current.next\n",
    "                cp_current = cp_current.next\n",
    "        return self.cp_head"
   ]
  },
  {
   "cell_type": "code",
   "execution_count": null,
   "id": "ac95b6f8",
   "metadata": {},
   "outputs": [],
   "source": []
  }
 ],
 "metadata": {
  "kernelspec": {
   "display_name": "Python 3",
   "language": "python",
   "name": "python3"
  },
  "language_info": {
   "codemirror_mode": {
    "name": "ipython",
    "version": 3
   },
   "file_extension": ".py",
   "mimetype": "text/x-python",
   "name": "python",
   "nbconvert_exporter": "python",
   "pygments_lexer": "ipython3",
   "version": "3.8.8"
  }
 },
 "nbformat": 4,
 "nbformat_minor": 5
}
