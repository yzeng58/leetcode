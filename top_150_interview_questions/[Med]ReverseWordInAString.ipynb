{
 "cells": [
  {
   "cell_type": "markdown",
   "metadata": {},
   "source": [
    "https://leetcode.com/problems/reverse-words-in-a-string/description/?envType=study-plan-v2&envId=top-interview-150"
   ]
  },
  {
   "cell_type": "markdown",
   "metadata": {},
   "source": [
    "# 151. Reverse Words in a String\n",
    "\n",
    "Given an input string s, reverse the order of the words.\n",
    "\n",
    "A word is defined as a sequence of non-space characters. The words in s will be separated by at least one space.\n",
    "\n",
    "Return a string of the words in reverse order concatenated by a single space.\n",
    "\n",
    "Note that s may contain leading or trailing spaces or multiple spaces between two words. The returned string should only have a single space separating the words. Do not include any extra spaces.\n",
    "\n",
    " \n",
    "Example 1:\n",
    "\n",
    "> Input: s = \"the sky is blue\"\n",
    ">\n",
    "> Output: \"blue is sky the\"\n",
    "\n",
    "Example 2:\n",
    "\n",
    "> Input: s = \"  hello world  \"\n",
    ">\n",
    "> Output: \"world hello\"\n",
    ">\n",
    "> Explanation: Your reversed string should not contain leading or trailing spaces.\n",
    "\n",
    "Example 3:\n",
    "\n",
    "> Input: s = \"a good   example\"\n",
    ">\n",
    "> Output: \"example good a\"\n",
    ">\n",
    "> Explanation: You need to reduce multiple spaces between two words to a single space in the reversed string.\n"
   ]
  },
  {
   "cell_type": "code",
   "execution_count": 3,
   "metadata": {},
   "outputs": [],
   "source": [
    "import os, sys\n",
    "module_path = f\"{os.path.dirname(os.getcwd())}/useful_modules\"\n",
    "sys.path.append(module_path)\n",
    "from modules import *"
   ]
  },
  {
   "cell_type": "code",
   "execution_count": 6,
   "metadata": {},
   "outputs": [],
   "source": [
    "class Solution:\n",
    "    def remove_redundant_space(self, s: str) -> str:\n",
    "        while \"  \" in s:\n",
    "            s = s.replace(\"  \", \" \")\n",
    "        return s\n",
    "    \n",
    "    def reverseWords(self, s: str) -> str:\n",
    "        s = self.remove_redundant_space(s).strip()\n",
    "        words = s.split(\" \")\n",
    "        new_words = words[::-1]\n",
    "        return \" \".join(new_words)"
   ]
  },
  {
   "cell_type": "code",
   "execution_count": 7,
   "metadata": {},
   "outputs": [
    {
     "name": "stdout",
     "output_type": "stream",
     "text": [
      "the sky is blue : blue is sky the\n",
      "  hello world   : world hello\n",
      "a good   example : example good a\n",
      "Time elapsed: 0.00008 seconds\n"
     ]
    }
   ],
   "source": [
    "inputs = [\n",
    "    [\"the sky is blue\"],\n",
    "    [\"  hello world  \"],\n",
    "    [\"a good   example\"]\n",
    "]\n",
    "\n",
    "test(inputs, Solution().reverseWords)"
   ]
  },
  {
   "cell_type": "code",
   "execution_count": null,
   "metadata": {},
   "outputs": [],
   "source": []
  }
 ],
 "metadata": {
  "kernelspec": {
   "display_name": "leetcode",
   "language": "python",
   "name": "python3"
  },
  "language_info": {
   "codemirror_mode": {
    "name": "ipython",
    "version": 3
   },
   "file_extension": ".py",
   "mimetype": "text/x-python",
   "name": "python",
   "nbconvert_exporter": "python",
   "pygments_lexer": "ipython3",
   "version": "undefined.undefined.undefined"
  }
 },
 "nbformat": 4,
 "nbformat_minor": 2
}
