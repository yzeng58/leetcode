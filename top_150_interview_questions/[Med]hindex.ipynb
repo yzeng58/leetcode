{
 "cells": [
  {
   "cell_type": "markdown",
   "metadata": {},
   "source": [
    "https://leetcode.com/problems/h-index/description/?envType=study-plan-v2&envId=top-interview-150"
   ]
  },
  {
   "cell_type": "markdown",
   "metadata": {},
   "source": [
    "# 274. H-Index\n",
    "\n",
    "Given an array of integers citations where citations[i] is the number of citations a researcher received for their ith paper, return the researcher's h-index.\n",
    "\n",
    "According to the definition of h-index on Wikipedia: The h-index is defined as the maximum value of h such that the given researcher has published at least h papers that have each been cited at least h times.\n",
    "\n",
    "\n",
    "Example 1:\n",
    "\n",
    "> Input: citations = [3,0,6,1,5]\n",
    "\n",
    "> Output: 3\n",
    "\n",
    "> Explanation: [3,0,6,1,5] means the researcher has 5 papers in total and each of them had received 3, 0, 6, 1, 5 citations respectively.\n",
    "\n",
    "> Since the researcher has 3 papers with at least 3 citations each and the remaining two with no more than 3 citations each, their h-index is 3.\n",
    "\n",
    "Example 2:\n",
    "\n",
    "> Input: citations = [1,3,1]\n",
    "\n",
    "> Output: 1\n",
    " "
   ]
  },
  {
   "cell_type": "code",
   "execution_count": 1,
   "metadata": {},
   "outputs": [],
   "source": [
    "import os, sys\n",
    "module_path = f\"{os.path.dirname(os.getcwd())}/useful_modules\"\n",
    "sys.path.append(module_path)\n",
    "from modules import *"
   ]
  },
  {
   "cell_type": "code",
   "execution_count": 31,
   "metadata": {},
   "outputs": [],
   "source": [
    "class Solution:\n",
    "    def hIndex(self, citations: List[int]) -> int:\n",
    "        if len(citations) == 0:\n",
    "            return 0\n",
    "        elif len(citations) == 1:\n",
    "            return min(1, citations[0])\n",
    "        \n",
    "        citations.sort(reverse=True)\n",
    "        \n",
    "        h_index = 0\n",
    "        for i, citation in enumerate(citations): \n",
    "            h_index = max(h_index, min(citation, i+1))\n",
    "            if h_index >= citation: break\n",
    "            \n",
    "        return h_index"
   ]
  },
  {
   "cell_type": "code",
   "execution_count": 32,
   "metadata": {},
   "outputs": [
    {
     "name": "stdout",
     "output_type": "stream",
     "text": [
      "[3, 0, 6, 1, 5] : 3\n",
      "[1, 3, 1] : 1\n",
      "Time elapsed: 0.00052 seconds\n"
     ]
    }
   ],
   "source": [
    "inputs = [\n",
    "    [[3,0,6,1,5]],\n",
    "    [[1,3,1]]\n",
    "]\n",
    "test(inputs, Solution().hIndex)\n",
    "\n"
   ]
  },
  {
   "cell_type": "code",
   "execution_count": null,
   "metadata": {},
   "outputs": [],
   "source": []
  }
 ],
 "metadata": {
  "kernelspec": {
   "display_name": "leetcode",
   "language": "python",
   "name": "python3"
  },
  "language_info": {
   "codemirror_mode": {
    "name": "ipython",
    "version": 3
   },
   "file_extension": ".py",
   "mimetype": "text/x-python",
   "name": "python",
   "nbconvert_exporter": "python",
   "pygments_lexer": "ipython3",
   "version": "3.10.15"
  }
 },
 "nbformat": 4,
 "nbformat_minor": 2
}
