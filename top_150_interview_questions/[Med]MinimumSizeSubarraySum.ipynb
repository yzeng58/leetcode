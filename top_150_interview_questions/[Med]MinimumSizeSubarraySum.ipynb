{
 "cells": [
  {
   "cell_type": "markdown",
   "metadata": {},
   "source": [
    "https://leetcode.com/problems/minimum-size-subarray-sum/description/?envType=study-plan-v2&envId=top-interview-150"
   ]
  },
  {
   "cell_type": "markdown",
   "metadata": {},
   "source": [
    "# 209. Minimum Size Subarray Sum\n",
    "\n",
    "Given an array of positive integers nums and a positive integer target, return the minimal length of a subarray whose sum is greater than or equal to target. If there is no such subarray, return 0 instead.\n",
    "\n",
    " \n",
    "\n",
    "Example 1:\n",
    "\n",
    "> Input: target = 7, nums = [2,3,1,2,4,3]\n",
    "\n",
    "> Output: 2\n",
    "\n",
    "> Explanation: The subarray [4,3] has the minimal length under the problem constraint.\n",
    "\n",
    "Example 2:\n",
    "\n",
    "> Input: target = 4, nums = [1,4,4]\n",
    "\n",
    "> Output: 1\n",
    "\n",
    "Example 3:\n",
    "\n",
    "> Input: target = 11, nums = [1,1,1,1,1,1,1,1]\n",
    "\n",
    "> Output: 0\n",
    "\n",
    "Constraints:\n",
    "\n",
    "> 1 <= target <= 109\n",
    "\n",
    "> 1 <= nums.length <= 105\n",
    "\n",
    "> 1 <= nums[i] <= 104\n",
    " "
   ]
  },
  {
   "cell_type": "code",
   "execution_count": 1,
   "metadata": {},
   "outputs": [],
   "source": [
    "import os, sys\n",
    "module_path = f\"{os.path.dirname(os.getcwd())}/useful_modules\"\n",
    "sys.path.append(module_path)\n",
    "from modules import *"
   ]
  },
  {
   "cell_type": "code",
   "execution_count": 23,
   "metadata": {},
   "outputs": [],
   "source": [
    "# ArrayMemoryError\n",
    "\n",
    "import numpy as np\n",
    "\n",
    "class Solution:\n",
    "    def minSubArrayLen(self, target: int, nums: List[int]) -> int:\n",
    "        sum_nums = sum(nums)\n",
    "        if sum_nums < target: return 0\n",
    "        \n",
    "        lens, sums = np.zeros((len(nums), len(nums)), dtype=int), np.zeros((len(nums), len(nums)), dtype=int)\n",
    "\n",
    "        for right_pointer in range(0, len(nums)):\n",
    "            if right_pointer > 0:\n",
    "                lens[:(right_pointer+1), right_pointer] = lens[:(right_pointer+1), right_pointer-1] + 1\n",
    "                sums[:(right_pointer+1), right_pointer] = sums[:(right_pointer+1), right_pointer-1] + nums[right_pointer]\n",
    "            else:\n",
    "                lens[right_pointer, right_pointer] = 1\n",
    "                sums[right_pointer, right_pointer] = nums[right_pointer]\n",
    "                    \n",
    "        return int(lens[sums >= target].min())\n",
    "                    \n",
    "            "
   ]
  },
  {
   "cell_type": "code",
   "execution_count": 66,
   "metadata": {},
   "outputs": [],
   "source": [
    "import numpy as np\n",
    "\n",
    "class Solution:\n",
    "    def minSubArrayLen(self, target: int, nums: List[int]) -> int:\n",
    "        sum_nums = sum(nums)\n",
    "        if sum_nums < target: \n",
    "            return 0\n",
    "        elif len(nums) == 1:\n",
    "            return 1\n",
    "        elif nums[0] >= target:\n",
    "            return 1\n",
    "        \n",
    "        left_pointers, sums, least_len = np.array([0]), np.array([nums[0]]), len(nums)\n",
    "        for right_pointer in range(1, len(nums)):\n",
    "            \n",
    "            new_sums = np.concatenate([[0], sums]) + nums[right_pointer]\n",
    "            new_left_pointers = np.concatenate([[right_pointer], left_pointers])\n",
    "            \n",
    "            # maximum_idx = right_pointer # new_sums.argmax()\n",
    "            satisifed = new_sums >= target\n",
    "            if satisifed.sum() > 0:\n",
    "                highest_left_pointer = new_left_pointers[satisifed][0]\n",
    "                least_len = min(least_len, right_pointer - highest_left_pointer + 1)\n",
    "                highest_index = right_pointer - highest_left_pointer + 1\n",
    "                new_left_pointers = new_left_pointers[:highest_index]\n",
    "                new_sums = new_sums[:highest_index]\n",
    "                \n",
    "            left_pointers = new_left_pointers\n",
    "            sums = new_sums\n",
    "            \n",
    "        return int(least_len)"
   ]
  },
  {
   "cell_type": "code",
   "execution_count": 64,
   "metadata": {},
   "outputs": [],
   "source": [
    "class Solution:\n",
    "    def minSubArrayLen(self, target: int, nums: List[int]) -> int:\n",
    "        min_len = float(\"inf\")\n",
    "        left = 0\n",
    "        cur_sum = 0\n",
    "\n",
    "        for right in range(len(nums)):\n",
    "            cur_sum += nums[right]\n",
    "\n",
    "            while cur_sum >= target:\n",
    "                if right - left + 1 < min_len:\n",
    "                    min_len = right - left + 1\n",
    "                cur_sum -= nums[left]\n",
    "                left += 1\n",
    "        \n",
    "        return min_len if min_len != float(\"inf\") else 0"
   ]
  },
  {
   "cell_type": "code",
   "execution_count": 67,
   "metadata": {},
   "outputs": [
    {
     "name": "stdout",
     "output_type": "stream",
     "text": [
      "7 [2, 3, 1, 2, 4, 3] : 2\n",
      "4 [1, 4, 4] : 1\n",
      "11 [1, 1, 1, 1, 1, 1, 1, 1] : 0\n",
      "8 [5, 1, 4, 4] : 2\n",
      "Time elapsed: 0.00717 seconds\n"
     ]
    }
   ],
   "source": [
    "inputs = [\n",
    "    (7, [2,3,1,2,4,3]),\n",
    "    (4, [1,4,4]),\n",
    "    (11, [1,1,1,1,1,1,1,1]),\n",
    "    (8, [5,1,4,4]),\n",
    "]\n",
    "\n",
    "test(inputs, Solution().minSubArrayLen)"
   ]
  },
  {
   "cell_type": "code",
   "execution_count": null,
   "metadata": {},
   "outputs": [],
   "source": []
  }
 ],
 "metadata": {
  "kernelspec": {
   "display_name": "leetcode",
   "language": "python",
   "name": "python3"
  },
  "language_info": {
   "codemirror_mode": {
    "name": "ipython",
    "version": 3
   },
   "file_extension": ".py",
   "mimetype": "text/x-python",
   "name": "python",
   "nbconvert_exporter": "python",
   "pygments_lexer": "ipython3",
   "version": "3.10.15"
  }
 },
 "nbformat": 4,
 "nbformat_minor": 2
}
