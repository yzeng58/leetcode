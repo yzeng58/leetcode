{
 "cells": [
  {
   "cell_type": "markdown",
   "metadata": {
    "vscode": {
     "languageId": "plaintext"
    }
   },
   "source": [
    "https://leetcode.com/problems/product-of-array-except-self/description/?envType=study-plan-v2&envId=top-interview-150"
   ]
  },
  {
   "cell_type": "markdown",
   "metadata": {},
   "source": [
    "# 238. Product of Array Except Self\n",
    "\n",
    "Given an integer array nums, return an array answer such that answer[i] is equal to the product of all the elements of nums except nums[i].\n",
    "\n",
    "The product of any prefix or suffix of nums is guaranteed to fit in a 32-bit integer.\n",
    "\n",
    "You must write an algorithm that runs in O(n) time and without using the division operation.\n",
    "\n",
    " \n",
    "> Example 1:\n",
    "\n",
    "> Input: nums = [1,2,3,4]\n",
    "\n",
    "> Output: [24,12,8,6]\n",
    "\n",
    "> Example 2:\n",
    "\n",
    "> Input: nums = [-1,1,0,-3,3]\n",
    "\n",
    "> Output: [0,0,9,0,0]"
   ]
  },
  {
   "cell_type": "code",
   "execution_count": 1,
   "metadata": {},
   "outputs": [],
   "source": [
    "import os, sys\n",
    "module_path = f\"{os.path.dirname(os.getcwd())}/useful_modules\"\n",
    "sys.path.append(module_path)\n",
    "from modules import *"
   ]
  },
  {
   "cell_type": "code",
   "execution_count": 10,
   "metadata": {},
   "outputs": [],
   "source": [
    "class Solution1:\n",
    "    def productExceptSelf(self, nums: List[int]) -> List[int]:\n",
    "        if len(nums) == 0: return []\n",
    "        \n",
    "        product = {'left': [nums[0]], 'right': [nums[-1]]}\n",
    "        \n",
    "        for key in product:\n",
    "            if key == 'left':\n",
    "                iteration_obj = range(1, len(nums))\n",
    "            else:\n",
    "                iteration_obj = range(len(nums)-1)[::-1]\n",
    "                \n",
    "            for i in iteration_obj:\n",
    "                product[key].append(product[key][-1] * nums[i])\n",
    "                    \n",
    "        return_products = [product['right'][-2]]\n",
    "        for i in range(1, len(nums)-1):\n",
    "            return_products.append(product['left'][i-1] * product['right'][len(nums) - i - 2])\n",
    "            \n",
    "        return_products.append(product['left'][-2])\n",
    "        return return_products"
   ]
  },
  {
   "cell_type": "code",
   "execution_count": 20,
   "metadata": {},
   "outputs": [],
   "source": [
    "import numpy as np\n",
    "\n",
    "class Solution2:\n",
    "    def productExceptSelf(self, nums: List[int]) -> List[int]:\n",
    "        if len(nums) == 0: return []\n",
    "        \n",
    "        return_products = np.ones(len(nums), dtype=int)\n",
    "        for i in range(len(nums)):\n",
    "            return_products[:i] *= nums[i]\n",
    "            return_products[(i+1):] *= nums[i]\n",
    "            \n",
    "        return return_products.tolist()"
   ]
  },
  {
   "cell_type": "code",
   "execution_count": null,
   "metadata": {},
   "outputs": [],
   "source": [
    "class Solution3:\n",
    "    def productExceptSelf(self, nums: List[int]) -> List[int]:\n",
    "        n=len(nums)\n",
    "        res=[1]*n # initialzing the res array with 1s as 1 is multiplicative identity\n",
    "\n",
    "        left=1\n",
    "        for i in range(n):\n",
    "            res[i]=res[i]*left # mul the current values from left\n",
    "            left=left*nums[i]   # updating the left \n",
    "\n",
    "        right=1\n",
    "        for i in range(n-1,-1,-1):\n",
    "            res[i]=res[i]*right# mul the current values from right\n",
    "            right=right*nums[i]# updating the right\n",
    "\n",
    "        return res"
   ]
  },
  {
   "cell_type": "code",
   "execution_count": 14,
   "metadata": {},
   "outputs": [
    {
     "name": "stdout",
     "output_type": "stream",
     "text": [
      "[1, 2, 3, 4] : [24, 12, 8, 6]\n",
      "[-1, 1, 0, -3, 3] : [0, 0, 9, 0, 0]\n",
      "Time elapsed: 0.00007 seconds\n"
     ]
    }
   ],
   "source": [
    "inputs = [\n",
    "    [[1,2,3,4]],\n",
    "    [[-1,1,0,-3,3]]\n",
    "]\n",
    "\n",
    "test(inputs, Solution1().productExceptSelf)"
   ]
  },
  {
   "cell_type": "code",
   "execution_count": 21,
   "metadata": {},
   "outputs": [
    {
     "name": "stdout",
     "output_type": "stream",
     "text": [
      "[1, 2, 3, 4] : [24, 12, 8, 6]\n",
      "[-1, 1, 0, -3, 3] : [0, 0, 9, 0, 0]\n",
      "Time elapsed: 0.00104 seconds\n"
     ]
    }
   ],
   "source": [
    "inputs = [\n",
    "    [[1,2,3,4]],\n",
    "    [[-1,1,0,-3,3]]\n",
    "]\n",
    "\n",
    "test(inputs, Solution2().productExceptSelf)"
   ]
  },
  {
   "cell_type": "code",
   "execution_count": null,
   "metadata": {},
   "outputs": [],
   "source": []
  },
  {
   "cell_type": "code",
   "execution_count": null,
   "metadata": {},
   "outputs": [],
   "source": []
  }
 ],
 "metadata": {
  "kernelspec": {
   "display_name": "leetcode",
   "language": "python",
   "name": "python3"
  },
  "language_info": {
   "codemirror_mode": {
    "name": "ipython",
    "version": 3
   },
   "file_extension": ".py",
   "mimetype": "text/x-python",
   "name": "python",
   "nbconvert_exporter": "python",
   "pygments_lexer": "ipython3",
   "version": "3.10.15"
  }
 },
 "nbformat": 4,
 "nbformat_minor": 2
}
