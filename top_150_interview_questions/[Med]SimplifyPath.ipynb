{
 "cells": [
  {
   "cell_type": "markdown",
   "metadata": {},
   "source": [
    "https://leetcode.com/problems/simplify-path/description/?envType=study-plan-v2&envId=top-interview-150"
   ]
  },
  {
   "cell_type": "markdown",
   "metadata": {},
   "source": [
    "# 71. Simplify Path\n",
    "\n",
    "You are given an absolute path for a Unix-style file system, which always begins with a slash '/'. Your task is to transform this absolute path into its simplified canonical path.\n",
    "\n",
    "The rules of a Unix-style file system are as follows:\n",
    "\n",
    "* A single period '.' represents the current directory.\n",
    "* A double period '..' represents the previous/parent directory.\n",
    "* Multiple consecutive slashes such as '//' and '///' are treated as a single slash '/'.\n",
    "Any sequence of periods that does not match the rules above should be treated as a valid directory or file name. For example, '...' and '....' are valid directory or file names.\n",
    "The simplified canonical path should follow these rules:\n",
    "\n",
    "* The path must start with a single slash '/'.\n",
    "* Directories within the path must be separated by exactly one slash '/'.\n",
    "* The path must not end with a slash '/', unless it is the root directory.\n",
    "The path must not have any single or double periods ('.' and '..') used to denote current or parent directories.\n",
    "Return the simplified canonical path."
   ]
  },
  {
   "cell_type": "markdown",
   "metadata": {},
   "source": [
    "Example 1:\n",
    "\n",
    "> Input: path = \"/home/\"\n",
    "\n",
    "> Output: \"/home\"\n",
    "\n",
    "Explanation:\n",
    "\n",
    "The trailing slash should be removed.\n",
    "\n",
    "Example 2:\n",
    "\n",
    "> Input: path = \"/home//foo/\"\n",
    "\n",
    "> Output: \"/home/foo\"\n",
    "\n",
    "Explanation:\n",
    "\n",
    "Multiple consecutive slashes are replaced by a single one.\n",
    "\n",
    "Example 3:\n",
    "\n",
    "> Input: path = \"/home/user/Documents/../Pictures\"\n",
    "\n",
    "> Output: \"/home/user/Pictures\"\n",
    "\n",
    "Explanation:\n",
    "\n",
    "A double period \"..\" refers to the directory up a level (the parent directory).\n",
    "\n",
    "Example 4:\n",
    "\n",
    "> Input: path = \"/../\"\n",
    "\n",
    "> Output: \"/\"\n",
    "\n",
    "Explanation:\n",
    "\n",
    "Going one level up from the root directory is not possible.\n",
    "\n",
    "Example 5:\n",
    "\n",
    "> Input: path = \"/.../a/../b/c/../d/./\"\n",
    "\n",
    "> Output: \"/.../b/d\"\n",
    "\n",
    "Explanation:\n",
    "\n",
    "* \"...\" is a valid name for a directory in this problem."
   ]
  },
  {
   "cell_type": "code",
   "execution_count": 1,
   "metadata": {},
   "outputs": [],
   "source": [
    "import os, sys\n",
    "module_path = f\"{os.path.dirname(os.getcwd())}/useful_modules\"\n",
    "sys.path.append(module_path)\n",
    "from modules import *"
   ]
  },
  {
   "cell_type": "code",
   "execution_count": 27,
   "metadata": {},
   "outputs": [],
   "source": [
    "class Solution:\n",
    "    def simplifyPath(self, path: str) -> str:\n",
    "        while '//' in path:\n",
    "            path = path.replace('//', '/')\n",
    "        \n",
    "        items = path.split('/')\n",
    "        simplified_items = []\n",
    "        for item in items:\n",
    "            if item == \".\":\n",
    "                continue\n",
    "            elif item == \"..\":\n",
    "                simplified_items.pop()\n",
    "                if len(simplified_items) == 0: simplified_items.append(\"\")\n",
    "            else:\n",
    "                simplified_items.append(item)\n",
    "        print(simplified_items)\n",
    "        if len(simplified_items) <= 1:\n",
    "            simplified_path = \"/\"\n",
    "        else:\n",
    "            simplified_path = \"/\".join(simplified_items)\n",
    "            \n",
    "            if simplified_path.endswith(\"/\") and len(simplified_path)!=1:\n",
    "                simplified_path = simplified_path[:-1]\n",
    "        return simplified_path\n",
    "            \n",
    "                "
   ]
  },
  {
   "cell_type": "code",
   "execution_count": 28,
   "metadata": {},
   "outputs": [
    {
     "name": "stdout",
     "output_type": "stream",
     "text": [
      "['', 'home', '']\n",
      "/home/ : /home\n",
      "['', 'home', 'foo', '']\n",
      "/home//foo/ : /home/foo\n",
      "['', 'home', 'user', 'Pictures']\n",
      "/home/user/Documents/../Pictures : /home/user/Pictures\n",
      "['']\n",
      "/.. : /\n",
      "['', '...', 'b', 'd', '']\n",
      "/.../a/../b/c/../d/./ : /.../b/d\n",
      "['', 'c', '']\n",
      "/a/../../b/../c//.// : /c\n",
      "['', '']\n",
      "/../ : /\n",
      "Time elapsed: 0.00428 seconds\n"
     ]
    }
   ],
   "source": [
    "inputs = [\n",
    "    [\"/home/\"],\n",
    "    [\"/home//foo/\"],\n",
    "    [\"/home/user/Documents/../Pictures\"],\n",
    "    [\"/..\"],\n",
    "    [\"/.../a/../b/c/../d/./\"],\n",
    "    [\"/a/../../b/../c//.//\"],\n",
    "    [\"/../\"]\n",
    "]\n",
    "test(inputs, Solution().simplifyPath)"
   ]
  },
  {
   "cell_type": "code",
   "execution_count": null,
   "metadata": {},
   "outputs": [],
   "source": []
  }
 ],
 "metadata": {
  "kernelspec": {
   "display_name": "leetcode",
   "language": "python",
   "name": "python3"
  },
  "language_info": {
   "codemirror_mode": {
    "name": "ipython",
    "version": 3
   },
   "file_extension": ".py",
   "mimetype": "text/x-python",
   "name": "python",
   "nbconvert_exporter": "python",
   "pygments_lexer": "ipython3",
   "version": "3.10.15"
  }
 },
 "nbformat": 4,
 "nbformat_minor": 2
}
