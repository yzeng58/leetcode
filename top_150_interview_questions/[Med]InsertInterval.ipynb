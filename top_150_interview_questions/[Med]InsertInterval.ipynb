{
 "cells": [
  {
   "cell_type": "markdown",
   "metadata": {},
   "source": [
    "https://leetcode.com/problems/insert-interval/?envType=study-plan-v2&envId=top-interview-150"
   ]
  },
  {
   "cell_type": "markdown",
   "metadata": {
    "vscode": {
     "languageId": "plaintext"
    }
   },
   "source": [
    "# 57. Insert Interval\n",
    "\n",
    "You are given an array of non-overlapping intervals intervals where intervals[i] = [starti, endi] represent the start and the end of the ith interval and intervals is sorted in ascending order by starti. You are also given an interval newInterval = [start, end] that represents the start and end of another interval.\n",
    "\n",
    "Insert newInterval into intervals such that intervals is still sorted in ascending order by starti and intervals still does not have any overlapping intervals (merge overlapping intervals if necessary).\n",
    "\n",
    "Return intervals after the insertion.\n",
    "\n",
    "Note that you don't need to modify intervals in-place. You can make a new array and return it.\n",
    "\n",
    " \n",
    "\n",
    "> Example 1:\n",
    "\n",
    "> Input: intervals = [[1,3],[6,9]], newInterval = [2,5]\n",
    "\n",
    "> Output: [[1,5],[6,9]]\n",
    "\n",
    "> Example 2:\n",
    "\n",
    "> Input: intervals = [[1,2],[3,5],[6,7],[8,10],[12,16]], newInterval = [4,8]\n",
    "\n",
    "> Output: [[1,2],[3,10],[12,16]]\n",
    "\n",
    "> Explanation: Because the new interval [4,8] overlaps with [3,5],[6,7],[8,10]."
   ]
  },
  {
   "cell_type": "code",
   "execution_count": 1,
   "metadata": {},
   "outputs": [],
   "source": [
    "import os, sys\n",
    "module_path = f\"{os.path.dirname(os.getcwd())}/useful_modules\"\n",
    "sys.path.append(module_path)\n",
    "from modules import *"
   ]
  },
  {
   "cell_type": "code",
   "execution_count": 26,
   "metadata": {},
   "outputs": [],
   "source": [
    "class Solution1:\n",
    "    \n",
    "    def insert(self, intervals: List[List[int]], newInterval: List[int]) -> List[List[int]]:\n",
    "        if len(intervals) == 0: return [newInterval]\n",
    "        \n",
    "        pointer, merge = 0, 0\n",
    "        while pointer < len(intervals):\n",
    "            left, right = intervals[pointer]\n",
    "            \n",
    "            if merge: \n",
    "                if intervals[pointer - 1][1] >= left:\n",
    "                    intervals[pointer - 1] = [min(left, intervals[pointer-1][0]), max(right, intervals[pointer - 1][1])]\n",
    "                    intervals.pop(pointer)\n",
    "                    continue\n",
    "                else:\n",
    "                    return intervals\n",
    "                \n",
    "            if merge == 0:\n",
    "                if left <= newInterval[0] <= right:\n",
    "                    intervals[pointer] = [min(left, newInterval[0]), max(right, newInterval[1])]\n",
    "                    merge = 1\n",
    "                elif left > newInterval[1]: \n",
    "                    intervals.insert(pointer, newInterval)\n",
    "                    return intervals\n",
    "                elif newInterval[0] < left:\n",
    "                    intervals[pointer] = [min(left, newInterval[0]), max(right, newInterval[1])]\n",
    "                    merge = 1\n",
    "\n",
    "                pointer += 1\n",
    "            \n",
    "        # no overlap\n",
    "        if merge == 0: intervals.append(newInterval)\n",
    "        return intervals\n",
    "            \n",
    "                \n",
    "                \n",
    "            "
   ]
  },
  {
   "cell_type": "code",
   "execution_count": 27,
   "metadata": {},
   "outputs": [],
   "source": [
    "class Solution2:\n",
    "    def insert(self, intervals: List[List[int]], newInterval: List[int]) -> List[List[int]]:\n",
    "        merged = []\n",
    "        i = 0\n",
    "\n",
    "        while i < len(intervals) and intervals[i][1] < newInterval[0]:\n",
    "            merged.append(intervals[i])\n",
    "            i += 1\n",
    "        \n",
    "        while i < len(intervals) and intervals[i][0] <= newInterval[1]:\n",
    "            newInterval = [min(newInterval[0], intervals[i][0]), max(newInterval[1], intervals[i][1])]\n",
    "            i += 1\n",
    "        merged.append(newInterval)\n",
    "        \n",
    "        while i < len(intervals):\n",
    "            merged.append(intervals[i])\n",
    "            i += 1\n",
    "        \n",
    "        return merged"
   ]
  },
  {
   "cell_type": "code",
   "execution_count": 29,
   "metadata": {},
   "outputs": [
    {
     "name": "stdout",
     "output_type": "stream",
     "text": [
      "[[1, 3], [6, 9]] [2, 5] : [[1, 5], [6, 9]]\n",
      "[[1, 2], [3, 5], [6, 7], [8, 10], [12, 16]] [4, 8] : [[1, 2], [3, 10], [12, 16]]\n",
      "[[1, 5]] [0, 3] : [[0, 5]]\n",
      "Time elapsed: 0.00006 seconds\n",
      "[[1, 5], [6, 9]] [2, 5] : [[1, 5], [6, 9]]\n",
      "[[1, 2], [3, 10], [12, 16]] [4, 8] : [[1, 2], [3, 10], [12, 16]]\n",
      "[[0, 5]] [0, 3] : [[0, 5]]\n",
      "Time elapsed: 0.00003 seconds\n"
     ]
    }
   ],
   "source": [
    "inputs = [\n",
    "    ([[1,3],[6,9]], [2,5]),\n",
    "    ([[1,2],[3,5],[6,7],[8,10],[12,16]], [4,8]),\n",
    "    ([[1,5]], [0,3])\n",
    "]\n",
    "\n",
    "test(inputs, Solution1().insert)\n",
    "test(inputs, Solution2().insert)"
   ]
  },
  {
   "cell_type": "code",
   "execution_count": null,
   "metadata": {},
   "outputs": [],
   "source": []
  }
 ],
 "metadata": {
  "kernelspec": {
   "display_name": "leetcode",
   "language": "python",
   "name": "python3"
  },
  "language_info": {
   "codemirror_mode": {
    "name": "ipython",
    "version": 3
   },
   "file_extension": ".py",
   "mimetype": "text/x-python",
   "name": "python",
   "nbconvert_exporter": "python",
   "pygments_lexer": "ipython3",
   "version": "3.10.15"
  }
 },
 "nbformat": 4,
 "nbformat_minor": 2
}
