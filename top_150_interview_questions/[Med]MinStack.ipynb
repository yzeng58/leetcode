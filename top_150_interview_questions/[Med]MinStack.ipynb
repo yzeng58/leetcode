{
 "cells": [
  {
   "cell_type": "markdown",
   "metadata": {},
   "source": [
    "https://leetcode.com/problems/min-stack/description/?envType=study-plan-v2&envId=top-interview-150"
   ]
  },
  {
   "cell_type": "markdown",
   "metadata": {},
   "source": [
    "# 155. Min Stack\n",
    "\n",
    "Design a stack that supports push, pop, top, and retrieving the minimum element in constant time.\n",
    "\n",
    "Implement the MinStack class:\n",
    "\n",
    "* `MinStack()` initializes the stack object.\n",
    "* `void push(int val)` pushes the element val onto the stack.\n",
    "* `void pop()` removes the element on the top of the stack.\n",
    "* `int top()` gets the top element of the stack.\n",
    "* `int getMin()` retrieves the minimum element in the stack.\n",
    "\n",
    "You must implement a solution with O(1) time complexity for each function.\n",
    "\n",
    "Example 1:\n",
    "\n",
    "> Input\n",
    "> `[\"MinStack\",\"push\",\"push\",\"push\",\"getMin\",\"pop\",\"top\",\"getMin\"]`\n",
    ">\n",
    "> `[[],[-2],[0],[-3],[],[],[],[]]`\n",
    ">\n",
    "> Output\n",
    "> `[null,null,null,null,-3,null,0,-2]`\n",
    ">\n",
    "> Explanation\n",
    "> `MinStack minStack = new MinStack();`\n",
    ">\n",
    "> `minStack.push(-2);`\n",
    ">\n",
    "> `minStack.push(0);`\n",
    ">\n",
    "> `minStack.push(-3);`\n",
    ">\n",
    "> `minStack.getMin(); // return -3`\n",
    ">\n",
    "> `minStack.pop();`\n",
    ">\n",
    "> `minStack.top();    // return 0`\n",
    ">\n",
    "> `minStack.getMin(); // return -2`\n",
    "\n",
    "Constraints:\n",
    "\n",
    "* -2^31 <= val <= 2^31 - 1\n",
    "* Methods pop, top and getMin operations will always be called on non-empty stacks.\n",
    "* At most 3 * 10^4 calls will be made to push, pop, top, and getMin."
   ]
  },
  {
   "cell_type": "code",
   "execution_count": 1,
   "metadata": {},
   "outputs": [],
   "source": [
    "import os, sys\n",
    "module_path = f\"{os.path.dirname(os.getcwd())}/useful_modules\"\n",
    "sys.path.append(module_path)\n",
    "from modules import *"
   ]
  },
  {
   "cell_type": "code",
   "execution_count": 2,
   "metadata": {},
   "outputs": [],
   "source": [
    "import numpy as np\n",
    "\n",
    "class MinStack:\n",
    "\n",
    "    def __init__(self):\n",
    "        self.stack = []\n",
    "        self.minstack = []\n",
    "\n",
    "    def push(self, val: int) -> None:\n",
    "        self.stack.append(val)\n",
    "        \n",
    "        if self.minstack:\n",
    "            self.minstack.append(min(val, self.minstack[-1]))\n",
    "        else:\n",
    "            self.minstack.append(val)\n",
    "        \n",
    "    def pop(self) -> None:\n",
    "        self.minstack.pop()\n",
    "        return self.stack.pop()\n",
    "\n",
    "    def top(self) -> int:\n",
    "        return self.stack[-1]\n",
    "\n",
    "    def getMin(self) -> int:\n",
    "        return self.minstack[-1]\n",
    "\n",
    "\n",
    "# Your MinStack object will be instantiated and called as such:\n",
    "# obj = MinStack()\n",
    "# obj.push(val)\n",
    "# obj.pop()\n",
    "# param_3 = obj.top()\n",
    "# param_4 = obj.getMin()"
   ]
  },
  {
   "cell_type": "code",
   "execution_count": null,
   "metadata": {},
   "outputs": [],
   "source": []
  }
 ],
 "metadata": {
  "kernelspec": {
   "display_name": "leetcode",
   "language": "python",
   "name": "python3"
  },
  "language_info": {
   "codemirror_mode": {
    "name": "ipython",
    "version": 3
   },
   "file_extension": ".py",
   "mimetype": "text/x-python",
   "name": "python",
   "nbconvert_exporter": "python",
   "pygments_lexer": "ipython3",
   "version": "3.10.15"
  }
 },
 "nbformat": 4,
 "nbformat_minor": 2
}
