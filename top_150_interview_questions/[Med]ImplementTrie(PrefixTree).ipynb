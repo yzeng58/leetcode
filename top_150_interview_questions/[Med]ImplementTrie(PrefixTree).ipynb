{
 "cells": [
  {
   "cell_type": "markdown",
   "metadata": {
    "vscode": {
     "languageId": "plaintext"
    }
   },
   "source": [
    "https://leetcode.com/problems/implement-trie-prefix-tree/?envType=study-plan-v2&envId=top-interview-150"
   ]
  },
  {
   "cell_type": "markdown",
   "metadata": {},
   "source": [
    "# 208. Implement Trie (Prefix Tree)\n",
    "\n",
    "A trie (pronounced as \"try\") or prefix tree is a tree data structure used to efficiently store and retrieve keys in a dataset of strings. There are various applications of this data structure, such as autocomplete and spellchecker.\n",
    "\n",
    "Implement the Trie class:\n",
    "\n",
    "* Trie() Initializes the trie object.\n",
    "* void insert(String word) Inserts the string word into the trie.\n",
    "* boolean search(String word) Returns true if the string word is in the trie (i.e., was inserted before), and false otherwise.\n",
    "* boolean startsWith(String prefix) Returns true if there is a previously inserted string word that has the prefix prefix, and false otherwise.\n",
    "\n",
    "Example 1:\n",
    "\n",
    "> Input\n",
    "\n",
    "> [\"Trie\", \"insert\", \"search\", \"search\", \"startsWith\", \"insert\", \"search\"]\n",
    "\n",
    "> [[], [\"apple\"], [\"apple\"], [\"app\"], [\"app\"], [\"app\"], [\"app\"]]\n",
    "\n",
    "> Output\n",
    "\n",
    "> [null, null, true, false, true, null, true]\n",
    "\n",
    "Explanation\n",
    "\n",
    "> Trie trie = new Trie();\n",
    "\n",
    "> trie.insert(\"apple\");\n",
    "\n",
    "> trie.search(\"apple\");   // return True\n",
    "\n",
    "> trie.search(\"app\");     // return False\n",
    "\n",
    "> trie.startsWith(\"app\"); // return True\n",
    "\n",
    "> trie.insert(\"app\");\n",
    "\n",
    "> trie.search(\"app\");     // return True\n",
    " "
   ]
  },
  {
   "cell_type": "code",
   "execution_count": 1,
   "metadata": {},
   "outputs": [],
   "source": [
    "import os, sys\n",
    "module_path = f\"{os.path.dirname(os.getcwd())}/useful_modules\"\n",
    "sys.path.append(module_path)\n",
    "from modules import *"
   ]
  },
  {
   "cell_type": "code",
   "execution_count": null,
   "metadata": {},
   "outputs": [],
   "source": [
    "class Node:\n",
    "    def __init__(self, value):\n",
    "        super().__init__()\n",
    "        self.value = value\n",
    "        self.children = {}\n",
    "        self.parent = None\n",
    "\n",
    "class Trie:\n",
    "\n",
    "    def __init__(self):\n",
    "        super().__init__()\n",
    "        self.root = Node(\"\")\n",
    "\n",
    "    def insert(self, word: str) -> None:\n",
    "        current_node = self.root\n",
    "        processed_word = word + \"\\n\"\n",
    "        for c in processed_word: \n",
    "            if not c in current_node.children:\n",
    "                current_node.children[c] = Node(c)\n",
    "            current_node = current_node.children[c]\n",
    "        \n",
    "\n",
    "    def search(self, word: str) -> bool:\n",
    "        current_node = self.root\n",
    "        processed_word = word + \"\\n\"\n",
    "        for c in processed_word:\n",
    "            if not c in current_node.children:\n",
    "                return False\n",
    "            current_node = current_node.children[c]\n",
    "        return True\n",
    "\n",
    "    def startsWith(self, prefix: str) -> bool:\n",
    "        current_node = self.root\n",
    "        for c in prefix:\n",
    "            if not c in current_node.children:\n",
    "                return False\n",
    "            current_node = current_node.children[c]\n",
    "        return True\n",
    "\n",
    "\n",
    "# Your Trie object will be instantiated and called as such:\n",
    "# obj = Trie()\n",
    "# obj.insert(word)\n",
    "# param_2 = obj.search(word)\n",
    "# param_3 = obj.startsWith(prefix)\n",
    "\n",
    "# Your Trie object will be instantiated and called as such:\n",
    "# obj = Trie()\n",
    "# obj.insert(word)\n",
    "# param_2 = obj.search(word)\n",
    "# param_3 = obj.startsWith(prefix)"
   ]
  },
  {
   "cell_type": "code",
   "execution_count": null,
   "metadata": {},
   "outputs": [],
   "source": []
  }
 ],
 "metadata": {
  "kernelspec": {
   "display_name": "leetcode",
   "language": "python",
   "name": "python3"
  },
  "language_info": {
   "codemirror_mode": {
    "name": "ipython",
    "version": 3
   },
   "file_extension": ".py",
   "mimetype": "text/x-python",
   "name": "python",
   "nbconvert_exporter": "python",
   "pygments_lexer": "ipython3",
   "version": "3.10.15"
  }
 },
 "nbformat": 4,
 "nbformat_minor": 2
}
