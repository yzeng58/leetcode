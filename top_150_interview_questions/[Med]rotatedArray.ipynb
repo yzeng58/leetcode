{
 "cells": [
  {
   "cell_type": "markdown",
   "metadata": {
    "vscode": {
     "languageId": "plaintext"
    }
   },
   "source": [
    "https://leetcode.com/problems/rotate-array/?envType=study-plan-v2&envId=top-interview-150"
   ]
  },
  {
   "cell_type": "markdown",
   "metadata": {},
   "source": [
    "# 189. Rotate Array\n",
    "\n",
    "Given an integer array nums, rotate the array to the right by k steps, where k is non-negative.\n",
    "\n",
    " \n",
    "\n",
    "Example 1:\n",
    "\n",
    "* Input: nums = [1,2,3,4,5,6,7], k = 3\n",
    "* Output: [5,6,7,1,2,3,4]\n",
    "* Explanation:\n",
    "* rotate 1 steps to the right: [7,1,2,3,4,5,6]\n",
    "* rotate 2 steps to the right: [6,7,1,2,3,4,5]\n",
    "* rotate 3 steps to the right: [5,6,7,1,2,3,4]\n",
    "\n",
    "Example 2:\n",
    "\n",
    "* Input: nums = [-1,-100,3,99], k = 2\n",
    "* Output: [3,99,-1,-100]\n",
    "* Explanation: \n",
    "* rotate 1 steps to the right: [99,-1,-100,3]\n",
    "* rotate 2 steps to the right: [3,99,-1,-100]\n"
   ]
  },
  {
   "cell_type": "code",
   "execution_count": 1,
   "metadata": {},
   "outputs": [],
   "source": [
    "import os, sys\n",
    "root_dir = os.path.dirname(os.getcwd())\n",
    "sys.path.append(root_dir)\n",
    "\n",
    "from useful_modules.testFunc import test\n",
    "from typing import List\n",
    "from copy import deepcopy"
   ]
  },
  {
   "cell_type": "code",
   "execution_count": 3,
   "metadata": {},
   "outputs": [],
   "source": [
    "class Solution:\n",
    "    def rotate(self, nums: List[int], k: int) -> None:\n",
    "        \"\"\"\n",
    "        Do not return anything, modify nums in-place instead.\n",
    "        \"\"\"\n",
    "        for _ in range(k):\n",
    "            nums.insert(0, nums.pop())\n",
    "\n",
    "        return nums"
   ]
  },
  {
   "cell_type": "code",
   "execution_count": 4,
   "metadata": {},
   "outputs": [
    {
     "name": "stdout",
     "output_type": "stream",
     "text": [
      "[1, 2, 3, 4, 5, 6, 7] 3 : [5, 6, 7, 1, 2, 3, 4]\n",
      "[-1, -100, 3, 99] 2 : [3, 99, -1, -100]\n",
      "Time elapsed: 0.00006 seconds\n"
     ]
    }
   ],
   "source": [
    "inputs = [\n",
    "    [[1,2,3,4,5,6,7], 3],\n",
    "    [[-1,-100,3,99], 2],\n",
    "]\n",
    "test(inputs, Solution().rotate)"
   ]
  },
  {
   "cell_type": "code",
   "execution_count": null,
   "metadata": {},
   "outputs": [],
   "source": []
  }
 ],
 "metadata": {
  "kernelspec": {
   "display_name": "leetcode",
   "language": "python",
   "name": "python3"
  },
  "language_info": {
   "codemirror_mode": {
    "name": "ipython",
    "version": 3
   },
   "file_extension": ".py",
   "mimetype": "text/x-python",
   "name": "python",
   "nbconvert_exporter": "python",
   "pygments_lexer": "ipython3",
   "version": "3.10.15"
  }
 },
 "nbformat": 4,
 "nbformat_minor": 2
}
