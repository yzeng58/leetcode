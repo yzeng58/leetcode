{
 "cells": [
  {
   "cell_type": "markdown",
   "metadata": {},
   "source": [
    "https://leetcode.com/problems/container-with-most-water/description/?envType=study-plan-v2&envId=top-interview-150"
   ]
  },
  {
   "cell_type": "code",
   "execution_count": 2,
   "metadata": {},
   "outputs": [],
   "source": [
    "import os, sys\n",
    "module_path = f\"{os.path.dirname(os.getcwd())}/useful_modules\"\n",
    "sys.path.append(module_path)\n",
    "from modules import *"
   ]
  },
  {
   "cell_type": "code",
   "execution_count": 5,
   "metadata": {},
   "outputs": [],
   "source": [
    "class Solution:\n",
    "    def maxArea(self, height: List[int]) -> int:\n",
    "        left_idx, right_idx = 0, len(height) - 1\n",
    "        water_volume = 0\n",
    "        while left_idx < right_idx:\n",
    "            water_volume = max(min(height[left_idx], height[right_idx]) * (right_idx - left_idx), water_volume)\n",
    "            if height[left_idx] <= height[right_idx]: \n",
    "                left_idx += 1\n",
    "            else:\n",
    "                right_idx -= 1\n",
    "        return water_volume\n",
    "                "
   ]
  },
  {
   "cell_type": "code",
   "execution_count": 6,
   "metadata": {},
   "outputs": [
    {
     "name": "stdout",
     "output_type": "stream",
     "text": [
      "[1, 8, 6, 2, 5, 4, 8, 3, 7] : 49\n",
      "[1, 1] : 1\n",
      "Time elapsed: 0.00008 seconds\n"
     ]
    }
   ],
   "source": [
    "inputs = [\n",
    "    [[1,8,6,2,5,4,8,3,7]],\n",
    "    [[1,1]]\n",
    "]\n",
    "test(inputs, Solution().maxArea)"
   ]
  },
  {
   "cell_type": "code",
   "execution_count": null,
   "metadata": {},
   "outputs": [],
   "source": []
  }
 ],
 "metadata": {
  "kernelspec": {
   "display_name": "leetcode",
   "language": "python",
   "name": "python3"
  },
  "language_info": {
   "codemirror_mode": {
    "name": "ipython",
    "version": 3
   },
   "file_extension": ".py",
   "mimetype": "text/x-python",
   "name": "python",
   "nbconvert_exporter": "python",
   "pygments_lexer": "ipython3",
   "version": "3.10.15"
  }
 },
 "nbformat": 4,
 "nbformat_minor": 2
}
