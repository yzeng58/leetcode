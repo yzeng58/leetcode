{
 "cells": [
  {
   "cell_type": "markdown",
   "metadata": {},
   "source": [
    "https://leetcode.com/problems/remove-duplicates-from-sorted-array-ii/?envType=study-plan-v2&envId=top-interview-150"
   ]
  },
  {
   "cell_type": "markdown",
   "metadata": {},
   "source": [
    "# 80. Remove Duplicates from Sorted Array II\n",
    "\n",
    "Given an integer array nums sorted in non-decreasing order, remove some duplicates in-place such that each unique element appears at most twice. The relative order of the elements should be kept the same.\n",
    "\n",
    "Since it is impossible to change the length of the array in some languages, you must instead have the result be placed in the first part of the array nums. More formally, if there are k elements after removing the duplicates, then the first k elements of nums should hold the final result. It does not matter what you leave beyond the first k elements.\n",
    "\n",
    "Return k after placing the final result in the first k slots of nums.\n",
    "\n",
    "Do not allocate extra space for another array. You must do this by modifying the input array in-place with O(1) extra memory.\n",
    "\n",
    "Custom Judge:\n",
    "\n",
    "The judge will test your solution with the following code:\n",
    "\n",
    "```\n",
    "int[] nums = [...]; // Input array\n",
    "int[] expectedNums = [...]; // The expected answer with correct length\n",
    "\n",
    "int k = removeDuplicates(nums); // Calls your implementation\n",
    "\n",
    "assert k == expectedNums.length;\n",
    "for (int i = 0; i < k; i++) {\n",
    "    assert nums[i] == expectedNums[i];\n",
    "}\n",
    "If all assertions pass, then your solution will be accepted.\n",
    "```\n",
    "\n",
    " \n",
    "\n",
    "Example 1:\n",
    "\n",
    "* Input: nums = [1,1,1,2,2,3]\n",
    "* Output: 5, nums = [1,1,2,2,3,_]\n",
    "* Explanation: Your function should return k = 5, with the first five elements of nums being 1, 1, 2, 2 and 3 respectively.\n",
    "It does not matter what you leave beyond the returned k (hence they are underscores).\n",
    "Example 2:\n",
    "\n",
    "* Input: nums = [0,0,1,1,1,1,2,3,3]\n",
    "* Output: 7, nums = [0,0,1,1,2,3,3,_,_]\n",
    "* Explanation: Your function should return k = 7, with the first seven elements of nums being 0, 0, 1, 1, 2, 3 and 3 respectively.\n",
    "It does not matter what you leave beyond the returned k (hence they are underscores).\n",
    " "
   ]
  },
  {
   "cell_type": "code",
   "execution_count": 1,
   "metadata": {},
   "outputs": [],
   "source": [
    "import os, sys\n",
    "module_path = f\"{os.path.dirname(os.getcwd())}/useful_modules\"\n",
    "sys.path.append(module_path)\n",
    "from modules import *"
   ]
  },
  {
   "cell_type": "code",
   "execution_count": 3,
   "metadata": {},
   "outputs": [],
   "source": [
    "class Solution:\n",
    "    def removeDuplicates(self, nums: List[int]) -> int:\n",
    "        if len(nums) <= 1: \n",
    "            return len(nums)\n",
    "\n",
    "        \n",
    "        count, i, last_num = 1, 1, nums[0]\n",
    "        while i < len(nums):\n",
    "            if nums[i] == last_num:\n",
    "                count += 1\n",
    "            else:\n",
    "                last_num = nums[i]\n",
    "                count = 1\n",
    "            \n",
    "            if count > 2:\n",
    "                nums.pop(i)\n",
    "            else:\n",
    "                i += 1\n",
    "        return len(nums)"
   ]
  },
  {
   "cell_type": "code",
   "execution_count": 5,
   "metadata": {},
   "outputs": [
    {
     "name": "stdout",
     "output_type": "stream",
     "text": [
      "[1, 1, 1, 2, 2, 3] : (5, [1, 1, 2, 2, 3])\n",
      "[0, 0, 1, 1, 1, 1, 2, 3, 3] : (7, [0, 0, 1, 1, 2, 3, 3])\n",
      "Time elapsed: 0.00005 seconds\n"
     ]
    }
   ],
   "source": [
    "inputs = [\n",
    "    [[1,1,1,2,2,3]],\n",
    "    [[0,0,1,1,1,1,2,3,3]]\n",
    "]\n",
    "test(inputs, Solution().removeDuplicates)"
   ]
  },
  {
   "cell_type": "code",
   "execution_count": null,
   "metadata": {},
   "outputs": [],
   "source": []
  }
 ],
 "metadata": {
  "kernelspec": {
   "display_name": "leetcode",
   "language": "python",
   "name": "python3"
  },
  "language_info": {
   "codemirror_mode": {
    "name": "ipython",
    "version": 3
   },
   "file_extension": ".py",
   "mimetype": "text/x-python",
   "name": "python",
   "nbconvert_exporter": "python",
   "pygments_lexer": "ipython3",
   "version": "3.10.15"
  }
 },
 "nbformat": 4,
 "nbformat_minor": 2
}
