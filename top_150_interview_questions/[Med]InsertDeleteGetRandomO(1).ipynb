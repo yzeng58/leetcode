{
 "cells": [
  {
   "cell_type": "markdown",
   "metadata": {
    "vscode": {
     "languageId": "plaintext"
    }
   },
   "source": [
    "https://leetcode.com/problems/insert-delete-getrandom-o1/description/?envType=study-plan-v2&envId=top-interview-150"
   ]
  },
  {
   "cell_type": "markdown",
   "metadata": {},
   "source": [
    "# 380. Insert Delete GetRandom O(1)\n",
    "\n",
    "Implement the RandomizedSet class:\n",
    "\n",
    "- RandomizedSet() Initializes the RandomizedSet object.\n",
    "\n",
    "> bool insert(int val) Inserts an item val into the set if not present. Returns true if the item was not present, false otherwise.\n",
    "\n",
    "> bool remove(int val) Removes an item val from the set if present. Returns true if the item was present, false otherwise.\n",
    "\n",
    "> int getRandom() Returns a random element from the current set of elements (it's guaranteed that at least one element exists when this method is called). Each element must have the same probability of being returned.\n",
    "\n",
    "You must implement the functions of the class such that each function works in average O(1) time complexity.\n",
    "\n",
    "Example 1:\n",
    "\n",
    "Input\n",
    "\n",
    "> [\"RandomizedSet\", \"insert\", \"remove\", \"insert\", \"getRandom\", \"remove\", \"insert\", \"getRandom\"]\n",
    "\n",
    "> [[], [1], [2], [2], [], [1], [2], []]\n",
    "\n",
    "Output\n",
    "> [null, true, false, true, 2, true, false, 2]\n",
    "\n",
    "Explanation\n",
    "\n",
    "> RandomizedSet randomizedSet = new RandomizedSet();\n",
    "\n",
    "> randomizedSet.insert(1); // Inserts 1 to the set. Returns true as 1 was inserted successfully.\n",
    "\n",
    "> randomizedSet.remove(2); // Returns false as 2 does not exist in the set.\n",
    "\n",
    "> randomizedSet.insert(2); // Inserts 2 to the set, returns true. Set now contains [1,2].\n",
    "\n",
    "> randomizedSet.getRandom(); // getRandom() should return either 1 or 2 randomly.\n",
    "\n",
    "> randomizedSet.remove(1); // Removes 1 from the set, returns true. Set now contains [2].\n",
    "\n",
    "> randomizedSet.insert(2); // 2 was already in the set, so return false.\n",
    "\n",
    "> randomizedSet.getRandom(); // Since 2 is the only number in the set, getRandom() will always return 2."
   ]
  },
  {
   "cell_type": "code",
   "execution_count": 1,
   "metadata": {},
   "outputs": [],
   "source": [
    "import os, sys\n",
    "module_path = f\"{os.path.dirname(os.getcwd())}/useful_modules\"\n",
    "sys.path.append(module_path)\n",
    "from modules import *"
   ]
  },
  {
   "cell_type": "code",
   "execution_count": 2,
   "metadata": {},
   "outputs": [],
   "source": [
    "import random\n",
    "\n",
    "class RandomizedSet:\n",
    "\n",
    "    def __init__(self):\n",
    "        self.set = set()\n",
    "\n",
    "    def insert(self, val: int) -> bool:\n",
    "        if val in self.set:\n",
    "            return False\n",
    "        self.set.add(val)\n",
    "        return True\n",
    "\n",
    "    def remove(self, val: int) -> bool:\n",
    "        if val not in self.set:\n",
    "            return False\n",
    "        self.set.remove(val)\n",
    "        return True\n",
    "\n",
    "    def getRandom(self) -> int:\n",
    "        return random.choice(list(self.set))\n",
    "\n",
    "\n",
    "# Your RandomizedSet object will be instantiated and called as such:\n",
    "# obj = RandomizedSet()\n",
    "# param_1 = obj.insert(val)\n",
    "# param_2 = obj.remove(val)\n",
    "# param_3 = obj.getRandom()"
   ]
  },
  {
   "cell_type": "code",
   "execution_count": null,
   "metadata": {},
   "outputs": [],
   "source": []
  }
 ],
 "metadata": {
  "kernelspec": {
   "display_name": "leetcode",
   "language": "python",
   "name": "python3"
  },
  "language_info": {
   "codemirror_mode": {
    "name": "ipython",
    "version": 3
   },
   "file_extension": ".py",
   "mimetype": "text/x-python",
   "name": "python",
   "nbconvert_exporter": "python",
   "pygments_lexer": "ipython3",
   "version": "3.10.15"
  }
 },
 "nbformat": 4,
 "nbformat_minor": 2
}
