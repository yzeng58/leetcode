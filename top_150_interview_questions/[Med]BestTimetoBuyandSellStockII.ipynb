{
 "cells": [
  {
   "cell_type": "markdown",
   "metadata": {},
   "source": [
    "https://leetcode.com/problems/best-time-to-buy-and-sell-stock-ii/description/?envType=study-plan-v2&envId=top-interview-150"
   ]
  },
  {
   "cell_type": "markdown",
   "metadata": {},
   "source": [
    "# 122. Best Time to Buy and Sell Stock II\n",
    "\n",
    "You are given an integer array prices where prices[i] is the price of a given stock on the ith day.\n",
    "\n",
    "On each day, you may decide to buy and/or sell the stock. You can only hold at most one share of the stock at any time. However, you can buy it then immediately sell it on the same day.\n",
    "\n",
    "Find and return the maximum profit you can achieve.\n",
    "\n",
    " \n",
    "\n",
    "Example 1:\n",
    "\n",
    "\n",
    "> Input: prices = [7,1,5,3,6,4]\n",
    "\n",
    "> Output: 7\n",
    "\n",
    "> Explanation: Buy on day 2 (price = 1) and sell on day 3 (price = 5), profit = 5-1 = 4.\n",
    "\n",
    "> Then buy on day 4 (price = 3) and sell on day 5 (price = 6), profit = 6-3 = 3.\n",
    "\n",
    "> Total profit is 4 + 3 = 7.\n",
    "\n",
    "Example 2:\n",
    "\n",
    "> Input: prices = [1,2,3,4,5]\n",
    "\n",
    "> Output: 4 \n",
    "\n",
    "> Explanation: Buy on day 1 (price = 1) and sell on day 5 (price = 5), profit = 5-1 = 4.\n",
    "\n",
    "> Total profit is 4.\n",
    "\n",
    "Example 3:\n",
    "\n",
    "> Input: prices = [7,6,4,3,1]\n",
    "\n",
    "> Output: 0\n",
    "\n",
    "> Explanation: There is no way to make a positive profit, so we never buy the stock to achieve the maximum profit of 0."
   ]
  },
  {
   "cell_type": "code",
   "execution_count": 1,
   "metadata": {},
   "outputs": [],
   "source": [
    "import os, sys\n",
    "module_path = f\"{os.path.dirname(os.getcwd())}/useful_modules\"\n",
    "sys.path.append(module_path)\n",
    "from modules import *"
   ]
  },
  {
   "cell_type": "code",
   "execution_count": 6,
   "metadata": {},
   "outputs": [],
   "source": [
    "class Solution:\n",
    "    def maxProfit(self, prices: List[int]) -> int:\n",
    "        if len(prices) <= 1: return 0\n",
    "        \n",
    "        profit, buy_idx = 0, None\n",
    "        for i in range(1, len(prices)):\n",
    "            if prices[i] > prices[i-1]:\n",
    "                if buy_idx is None:\n",
    "                    buy_idx = i-1\n",
    "            elif prices[i] < prices[i-1]:\n",
    "                if buy_idx is not None:\n",
    "                    profit += prices[i-1] - prices[buy_idx]\n",
    "                    buy_idx = None\n",
    "\n",
    "        if buy_idx is not None:\n",
    "            profit += prices[-1] - prices[buy_idx]\n",
    "        return profit\n",
    "\n"
   ]
  },
  {
   "cell_type": "code",
   "execution_count": 7,
   "metadata": {},
   "outputs": [
    {
     "name": "stdout",
     "output_type": "stream",
     "text": [
      "[7, 1, 5, 3, 6, 4] : 7\n",
      "[1, 2, 3, 4, 5] : 4\n",
      "[7, 6, 4, 3, 1] : 0\n",
      "Time elapsed: 0.00020 seconds\n"
     ]
    }
   ],
   "source": [
    "inputs = [\n",
    "    [[7,1,5,3,6,4]],\n",
    "    [[1,2,3,4,5]],\n",
    "    [[7,6,4,3,1]],\n",
    "]\n",
    "\n",
    "test(inputs, Solution().maxProfit)"
   ]
  },
  {
   "cell_type": "code",
   "execution_count": null,
   "metadata": {},
   "outputs": [],
   "source": []
  }
 ],
 "metadata": {
  "kernelspec": {
   "display_name": "leetcode",
   "language": "python",
   "name": "python3"
  },
  "language_info": {
   "codemirror_mode": {
    "name": "ipython",
    "version": 3
   },
   "file_extension": ".py",
   "mimetype": "text/x-python",
   "name": "python",
   "nbconvert_exporter": "python",
   "pygments_lexer": "ipython3",
   "version": "3.10.15"
  }
 },
 "nbformat": 4,
 "nbformat_minor": 2
}
